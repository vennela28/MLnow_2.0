{
  "nbformat": 4,
  "nbformat_minor": 0,
  "metadata": {
    "colab": {
      "name": "EDA_OnlineRetail.ipynb",
      "provenance": [],
      "collapsed_sections": [],
      "authorship_tag": "ABX9TyPwHupQGXoNju0ZC5u6NMPB",
      "include_colab_link": true
    },
    "kernelspec": {
      "name": "python3",
      "display_name": "Python 3"
    },
    "language_info": {
      "name": "python"
    }
  },
  "cells": [
    {
      "cell_type": "markdown",
      "metadata": {
        "id": "view-in-github",
        "colab_type": "text"
      },
      "source": [
        "<a href=\"https://colab.research.google.com/github/vennela28/MLnow_2.0/blob/main/EDA_OnlineRetail.ipynb\" target=\"_parent\"><img src=\"https://colab.research.google.com/assets/colab-badge.svg\" alt=\"Open In Colab\"/></a>"
      ]
    },
    {
      "cell_type": "code",
      "metadata": {
        "id": "YOty1tP0lhaU"
      },
      "source": [
        "import numpy as np                                                 # Implements multi-dimensional array and matrices\n",
        "import pandas as pd                                                # For data manipulation and analysis\n",
        "import pandas_profiling                                            # For simple Exploratory data analysis\n",
        "import matplotlib.pyplot as plt                                    # Plotting library for Python programming language and it's numerical mathematics extension NumPy\n",
        "import seaborn as sns                                              # Provides a high level interface for drawing attractive and informative statistical graphics\n",
        "%matplotlib inline\n",
        "sns.set()\n",
        "\n",
        "from subprocess import check_output"
      ],
      "execution_count": 23,
      "outputs": []
    },
    {
      "cell_type": "markdown",
      "metadata": {
        "id": "_iYXqBrMqYwI"
      },
      "source": [
        "Mounting the Drive to perform EDA on the dataset"
      ]
    },
    {
      "cell_type": "code",
      "metadata": {
        "colab": {
          "base_uri": "https://localhost:8080/"
        },
        "id": "Yl876Hrnn79S",
        "outputId": "b4291164-445f-4679-d7f1-d21149c6d2e7"
      },
      "source": [
        "from google.colab import drive\n",
        "drive.mount('/content/drive')"
      ],
      "execution_count": 24,
      "outputs": [
        {
          "output_type": "stream",
          "text": [
            "Drive already mounted at /content/drive; to attempt to forcibly remount, call drive.mount(\"/content/drive\", force_remount=True).\n"
          ],
          "name": "stdout"
        }
      ]
    },
    {
      "cell_type": "code",
      "metadata": {
        "colab": {
          "base_uri": "https://localhost:8080/"
        },
        "id": "2TylgBGyn8JA",
        "outputId": "05094cb5-1e42-4c52-c0ed-ba0e2c62208f"
      },
      "source": [
        "cd '/content/drive/MyDrive/EDA_OnlineRetail'"
      ],
      "execution_count": 25,
      "outputs": [
        {
          "output_type": "stream",
          "text": [
            "/content/drive/MyDrive/EDA_OnlineRetail\n"
          ],
          "name": "stdout"
        }
      ]
    },
    {
      "cell_type": "markdown",
      "metadata": {
        "id": "l9XzuWTo5PIC"
      },
      "source": [
        "***Agenda***\n",
        "\n",
        "Analyze the sales performance of this Online Retail, and provide your insights regarding the same.\n",
        "\n",
        "Based on your analysis of the data, what are potential areas of improvement for the business?"
      ]
    },
    {
      "cell_type": "markdown",
      "metadata": {
        "id": "SE-0iLjtqg6G"
      },
      "source": [
        "# Data Loading\n",
        "\n",
        "1. Importing the dataset"
      ]
    },
    {
      "cell_type": "code",
      "metadata": {
        "colab": {
          "base_uri": "https://localhost:8080/",
          "height": 204
        },
        "id": "EK03jNvSn8LS",
        "outputId": "3abb8756-1fda-4806-9d99-98a47d333805"
      },
      "source": [
        "retail = pd.read_excel('Online Retail.xlsx')\n",
        "retail.head()"
      ],
      "execution_count": 26,
      "outputs": [
        {
          "output_type": "execute_result",
          "data": {
            "text/html": [
              "<div>\n",
              "<style scoped>\n",
              "    .dataframe tbody tr th:only-of-type {\n",
              "        vertical-align: middle;\n",
              "    }\n",
              "\n",
              "    .dataframe tbody tr th {\n",
              "        vertical-align: top;\n",
              "    }\n",
              "\n",
              "    .dataframe thead th {\n",
              "        text-align: right;\n",
              "    }\n",
              "</style>\n",
              "<table border=\"1\" class=\"dataframe\">\n",
              "  <thead>\n",
              "    <tr style=\"text-align: right;\">\n",
              "      <th></th>\n",
              "      <th>InvoiceNo</th>\n",
              "      <th>StockCode</th>\n",
              "      <th>Description</th>\n",
              "      <th>Quantity</th>\n",
              "      <th>InvoiceDate</th>\n",
              "      <th>UnitPrice</th>\n",
              "      <th>CustomerID</th>\n",
              "      <th>Country</th>\n",
              "    </tr>\n",
              "  </thead>\n",
              "  <tbody>\n",
              "    <tr>\n",
              "      <th>0</th>\n",
              "      <td>536365</td>\n",
              "      <td>85123A</td>\n",
              "      <td>WHITE HANGING HEART T-LIGHT HOLDER</td>\n",
              "      <td>6</td>\n",
              "      <td>2010-12-01 08:26:00</td>\n",
              "      <td>2.55</td>\n",
              "      <td>17850.0</td>\n",
              "      <td>United Kingdom</td>\n",
              "    </tr>\n",
              "    <tr>\n",
              "      <th>1</th>\n",
              "      <td>536365</td>\n",
              "      <td>71053</td>\n",
              "      <td>WHITE METAL LANTERN</td>\n",
              "      <td>6</td>\n",
              "      <td>2010-12-01 08:26:00</td>\n",
              "      <td>3.39</td>\n",
              "      <td>17850.0</td>\n",
              "      <td>United Kingdom</td>\n",
              "    </tr>\n",
              "    <tr>\n",
              "      <th>2</th>\n",
              "      <td>536365</td>\n",
              "      <td>84406B</td>\n",
              "      <td>CREAM CUPID HEARTS COAT HANGER</td>\n",
              "      <td>8</td>\n",
              "      <td>2010-12-01 08:26:00</td>\n",
              "      <td>2.75</td>\n",
              "      <td>17850.0</td>\n",
              "      <td>United Kingdom</td>\n",
              "    </tr>\n",
              "    <tr>\n",
              "      <th>3</th>\n",
              "      <td>536365</td>\n",
              "      <td>84029G</td>\n",
              "      <td>KNITTED UNION FLAG HOT WATER BOTTLE</td>\n",
              "      <td>6</td>\n",
              "      <td>2010-12-01 08:26:00</td>\n",
              "      <td>3.39</td>\n",
              "      <td>17850.0</td>\n",
              "      <td>United Kingdom</td>\n",
              "    </tr>\n",
              "    <tr>\n",
              "      <th>4</th>\n",
              "      <td>536365</td>\n",
              "      <td>84029E</td>\n",
              "      <td>RED WOOLLY HOTTIE WHITE HEART.</td>\n",
              "      <td>6</td>\n",
              "      <td>2010-12-01 08:26:00</td>\n",
              "      <td>3.39</td>\n",
              "      <td>17850.0</td>\n",
              "      <td>United Kingdom</td>\n",
              "    </tr>\n",
              "  </tbody>\n",
              "</table>\n",
              "</div>"
            ],
            "text/plain": [
              "  InvoiceNo StockCode  ... CustomerID         Country\n",
              "0    536365    85123A  ...    17850.0  United Kingdom\n",
              "1    536365     71053  ...    17850.0  United Kingdom\n",
              "2    536365    84406B  ...    17850.0  United Kingdom\n",
              "3    536365    84029G  ...    17850.0  United Kingdom\n",
              "4    536365    84029E  ...    17850.0  United Kingdom\n",
              "\n",
              "[5 rows x 8 columns]"
            ]
          },
          "metadata": {
            "tags": []
          },
          "execution_count": 26
        }
      ]
    },
    {
      "cell_type": "markdown",
      "metadata": {
        "id": "aOJfkmUdrWjW"
      },
      "source": [
        "# Data Profiling"
      ]
    },
    {
      "cell_type": "markdown",
      "metadata": {
        "id": "SKd04W05rDwZ"
      },
      "source": [
        "1. Understanding the dataset"
      ]
    },
    {
      "cell_type": "code",
      "metadata": {
        "colab": {
          "base_uri": "https://localhost:8080/"
        },
        "id": "Hxzbfx0pn8N7",
        "outputId": "619554d3-4c46-495c-c384-78c11a12e71d"
      },
      "source": [
        "retail.shape"
      ],
      "execution_count": 27,
      "outputs": [
        {
          "output_type": "execute_result",
          "data": {
            "text/plain": [
              "(541909, 8)"
            ]
          },
          "metadata": {
            "tags": []
          },
          "execution_count": 27
        }
      ]
    },
    {
      "cell_type": "markdown",
      "metadata": {
        "id": "1WNRVuhDrOgh"
      },
      "source": [
        "There are 541909 rows & 8 columns in the dataset."
      ]
    },
    {
      "cell_type": "code",
      "metadata": {
        "colab": {
          "base_uri": "https://localhost:8080/"
        },
        "id": "QxV4CMbMn8Q3",
        "outputId": "dde7adb6-daa2-428a-ecad-b96e3928b648"
      },
      "source": [
        "retail.columns    # Print the column names"
      ],
      "execution_count": 28,
      "outputs": [
        {
          "output_type": "execute_result",
          "data": {
            "text/plain": [
              "Index(['InvoiceNo', 'StockCode', 'Description', 'Quantity', 'InvoiceDate',\n",
              "       'UnitPrice', 'CustomerID', 'Country'],\n",
              "      dtype='object')"
            ]
          },
          "metadata": {
            "tags": []
          },
          "execution_count": 28
        }
      ]
    },
    {
      "cell_type": "code",
      "metadata": {
        "colab": {
          "base_uri": "https://localhost:8080/"
        },
        "id": "-QgULwe2n8UI",
        "outputId": "8ee603d5-ade0-413a-f060-3b774fee9417"
      },
      "source": [
        "retail.info()   # This will give information about the dataset"
      ],
      "execution_count": 29,
      "outputs": [
        {
          "output_type": "stream",
          "text": [
            "<class 'pandas.core.frame.DataFrame'>\n",
            "RangeIndex: 541909 entries, 0 to 541908\n",
            "Data columns (total 8 columns):\n",
            "InvoiceNo      541909 non-null object\n",
            "StockCode      541909 non-null object\n",
            "Description    540455 non-null object\n",
            "Quantity       541909 non-null int64\n",
            "InvoiceDate    541909 non-null datetime64[ns]\n",
            "UnitPrice      541909 non-null float64\n",
            "CustomerID     406829 non-null float64\n",
            "Country        541909 non-null object\n",
            "dtypes: datetime64[ns](1), float64(2), int64(1), object(4)\n",
            "memory usage: 33.1+ MB\n"
          ],
          "name": "stdout"
        }
      ]
    },
    {
      "cell_type": "markdown",
      "metadata": {
        "id": "04WDtk4Pr7wu"
      },
      "source": [
        "***Observations***:\n",
        "\n",
        "* We can see that there are missing data as all features do not contain equal number of records.\n",
        "* All the variables are present in appropriate data types.\n",
        "\n",
        "\n"
      ]
    },
    {
      "cell_type": "code",
      "metadata": {
        "colab": {
          "base_uri": "https://localhost:8080/",
          "height": 297
        },
        "id": "xM7hwGAKn8XZ",
        "outputId": "f6d4a703-aedb-41b3-a198-cc4ef529f6b9"
      },
      "source": [
        "retail.describe()  # Get the statistics about the dataset"
      ],
      "execution_count": 30,
      "outputs": [
        {
          "output_type": "execute_result",
          "data": {
            "text/html": [
              "<div>\n",
              "<style scoped>\n",
              "    .dataframe tbody tr th:only-of-type {\n",
              "        vertical-align: middle;\n",
              "    }\n",
              "\n",
              "    .dataframe tbody tr th {\n",
              "        vertical-align: top;\n",
              "    }\n",
              "\n",
              "    .dataframe thead th {\n",
              "        text-align: right;\n",
              "    }\n",
              "</style>\n",
              "<table border=\"1\" class=\"dataframe\">\n",
              "  <thead>\n",
              "    <tr style=\"text-align: right;\">\n",
              "      <th></th>\n",
              "      <th>Quantity</th>\n",
              "      <th>UnitPrice</th>\n",
              "      <th>CustomerID</th>\n",
              "    </tr>\n",
              "  </thead>\n",
              "  <tbody>\n",
              "    <tr>\n",
              "      <th>count</th>\n",
              "      <td>541909.000000</td>\n",
              "      <td>541909.000000</td>\n",
              "      <td>406829.000000</td>\n",
              "    </tr>\n",
              "    <tr>\n",
              "      <th>mean</th>\n",
              "      <td>9.552250</td>\n",
              "      <td>4.611114</td>\n",
              "      <td>15287.690570</td>\n",
              "    </tr>\n",
              "    <tr>\n",
              "      <th>std</th>\n",
              "      <td>218.081158</td>\n",
              "      <td>96.759853</td>\n",
              "      <td>1713.600303</td>\n",
              "    </tr>\n",
              "    <tr>\n",
              "      <th>min</th>\n",
              "      <td>-80995.000000</td>\n",
              "      <td>-11062.060000</td>\n",
              "      <td>12346.000000</td>\n",
              "    </tr>\n",
              "    <tr>\n",
              "      <th>25%</th>\n",
              "      <td>1.000000</td>\n",
              "      <td>1.250000</td>\n",
              "      <td>13953.000000</td>\n",
              "    </tr>\n",
              "    <tr>\n",
              "      <th>50%</th>\n",
              "      <td>3.000000</td>\n",
              "      <td>2.080000</td>\n",
              "      <td>15152.000000</td>\n",
              "    </tr>\n",
              "    <tr>\n",
              "      <th>75%</th>\n",
              "      <td>10.000000</td>\n",
              "      <td>4.130000</td>\n",
              "      <td>16791.000000</td>\n",
              "    </tr>\n",
              "    <tr>\n",
              "      <th>max</th>\n",
              "      <td>80995.000000</td>\n",
              "      <td>38970.000000</td>\n",
              "      <td>18287.000000</td>\n",
              "    </tr>\n",
              "  </tbody>\n",
              "</table>\n",
              "</div>"
            ],
            "text/plain": [
              "            Quantity      UnitPrice     CustomerID\n",
              "count  541909.000000  541909.000000  406829.000000\n",
              "mean        9.552250       4.611114   15287.690570\n",
              "std       218.081158      96.759853    1713.600303\n",
              "min    -80995.000000  -11062.060000   12346.000000\n",
              "25%         1.000000       1.250000   13953.000000\n",
              "50%         3.000000       2.080000   15152.000000\n",
              "75%        10.000000       4.130000   16791.000000\n",
              "max     80995.000000   38970.000000   18287.000000"
            ]
          },
          "metadata": {
            "tags": []
          },
          "execution_count": 30
        }
      ]
    },
    {
      "cell_type": "markdown",
      "metadata": {
        "id": "EvM9BvtktMd3"
      },
      "source": [
        "2. Pre Profiling"
      ]
    },
    {
      "cell_type": "code",
      "metadata": {
        "colab": {
          "base_uri": "https://localhost:8080/"
        },
        "id": "HmJpJJE_qTBh",
        "outputId": "7737e8b5-48b3-4bba-cdcd-60541b66d9e0"
      },
      "source": [
        "!pip install pandas==0.25   "
      ],
      "execution_count": 32,
      "outputs": [
        {
          "output_type": "stream",
          "text": [
            "Requirement already satisfied: pandas==0.25 in /usr/local/lib/python3.7/dist-packages (0.25.0)\n",
            "Requirement already satisfied: numpy>=1.13.3 in /usr/local/lib/python3.7/dist-packages (from pandas==0.25) (1.19.5)\n",
            "Requirement already satisfied: pytz>=2017.2 in /usr/local/lib/python3.7/dist-packages (from pandas==0.25) (2018.9)\n",
            "Requirement already satisfied: python-dateutil>=2.6.1 in /usr/local/lib/python3.7/dist-packages (from pandas==0.25) (2.8.1)\n",
            "Requirement already satisfied: six>=1.5 in /usr/local/lib/python3.7/dist-packages (from python-dateutil>=2.6.1->pandas==0.25) (1.15.0)\n"
          ],
          "name": "stdout"
        }
      ]
    },
    {
      "cell_type": "code",
      "metadata": {
        "colab": {
          "base_uri": "https://localhost:8080/"
        },
        "id": "3xsSoLejqTFV",
        "outputId": "00d42a8b-1141-49b7-e90f-1d9687dcfa78"
      },
      "source": [
        "profile = pandas_profiling.ProfileReport(retail)\n",
        "profile.to_file(outputfile=\"online_retail.html\")"
      ],
      "execution_count": 33,
      "outputs": [
        {
          "output_type": "stream",
          "text": [
            "/usr/local/lib/python3.7/dist-packages/pandas_profiling/describe.py:392: FutureWarning: The join_axes-keyword is deprecated. Use .reindex or .reindex_like on the result to achieve the same functionality.\n",
            "  variable_stats = pd.concat(ldesc, join_axes=pd.Index([names]), axis=1)\n"
          ],
          "name": "stderr"
        }
      ]
    },
    {
      "cell_type": "markdown",
      "metadata": {
        "id": "j7M9QKoGvGd9"
      },
      "source": [
        "![overview.JPG](data:image/jpeg;base64,/9j/4AAQSkZJRgABAQEAYABgAAD/4RD4RXhpZgAATU0AKgAAAAgABAE7AAIAAAAPAAAISodpAAQAAAABAAAIWpydAAEAAAAeAAAQ0uocAAcAAAgMAAAAPgAAAAAc6gAAAAgAAAAAAAAAAAAAAAAAAAAAAAAAAAAAAAAAAAAAAAAAAAAAAAAAAAAAAAAAAAAAAAAAAAAAAAAAAAAAAAAAAAAAAAAAAAAAAAAAAAAAAAAAAAAAAAAAAAAAAAAAAAAAAAAAAAAAAAAAAAAAAAAAAAAAAAAAAAAAAAAAAAAAAAAAAAAAAAAAAAAAAAAAAAAAAAAAAAAAAAAAAAAAAAAAAAAAAAAAAAAAAAAAAAAAAAAAAAAAAAAAAAAAAAAAAAAAAAAAAAAAAAAAAAAAAAAAAAAAAAAAAAAAAAAAAAAAAAAAAAAAAAAAAAAAAAAAAAAAAAAAAAAAAAAAAAAAAAAAAAAAAAAAAAAAAAAAAAAAAAAAAAAAAAAAAAAAAAAAAAAAAAAAAAAAAAAAAAAAAAAAAAAAAAAAAAAAAAAAAAAAAAAAAAAAAAAAAAAAAAAAAAAAAAAAAAAAAAAAAAAAAAAAAAAAAAAAAAAAAAAAAAAAAAAAAAAAAAAAAAAAAAAAAAAAAAAAAAAAAAAAAAAAAAAAAAAAAAAAAAAAAAAAAAAAAAAAAAAAAAAAAAAAAAAAAAAAAAAAAAAAAAAAAAAAAAAAAAAAAAAAAAAAAAAAAAAAAAAAAAAAAAAAAAAAAAAAAAAAAAAAAAAAAAAAAAAAAAAAAAAAAAAAAAAAAAAAAAAAAAAAAAAAAAAAAAAAAAAAAAAAAAAAAAAAAAAAAAAAAAAAAAAAAAAAAAAAAAAAAAAAAAAAAAAAAAAAAAAAAAAAAAAAAAAAAAAAAAAAAAAAAAAAAAAAAAAAAAAAAAAAAAAAAAAAAAAAAAAAAAAAAAAAAAAAAAAAAAAAAAAAAAAAAAAAAAAAAAAAAAAAAAAAAAAAAAAAAAAAAAAAAAAAAAAAAAAAAAAAAAAAAAAAAAAAAAAAAAAAAAAAAAAAAAAAAAAAAAAAAAAAAAAAAAAAAAAAAAAAAAAAAAAAAAAAAAAAAAAAAAAAAAAAAAAAAAAAAAAAAAAAAAAAAAAAAAAAAAAAAAAAAAAAAAAAAAAAAAAAAAAAAAAAAAAAAAAAAAAAAAAAAAAAAAAAAAAAAAAAAAAAAAAAAAAAAAAAAAAAAAAAAAAAAAAAAAAAAAAAAAAAAAAAAAAAAAAAAAAAAAAAAAAAAAAAAAAAAAAAAAAAAAAAAAAAAAAAAAAAAAAAAAAAAAAAAAAAAAAAAAAAAAAAAAAAAAAAAAAAAAAAAAAAAAAAAAAAAAAAAAAAAAAAAAAAAAAAAAAAAAAAAAAAAAAAAAAAAAAAAAAAAAAAAAAAAAAAAAAAAAAAAAAAAAAAAAAAAAAAAAAAAAAAAAAAAAAAAAAAAAAAAAAAAAAAAAAAAAAAAAAAAAAAAAAAAAAAAAAAAAAAAAAAAAAAAAAAAAAAAAAAAAAAAAAAAAAAAAAAAAAAAAAAAAAAAAAAAAAAAAAAAAAAAAAAAAAAAAAAAAAAAAAAAAAAAAAAAAAAAAAAAAAAAAAAAAAAAAAAAAAAAAAAAAAAAAAAAAAAAAAAAAAAAAAAAAAAAAAAAAAAAAAAAAAAAAAAAAAAAAAAAAAAAAAAAAAAAAAAAAAAAAAAAAAAAAAAAAAAAAAAAAAAAAAAAAAAAAAAAAAAAAAAAAAAAAAAAAAAAAAAAAAAAAAAAAAAAAAAAAAAAAAAAAAAAAAAAAAAAAAAAAAAAAAAAAAAAAAAAAAAAAAAAAAAAAAAAAAAAAAAAAAAAAAAAAAAAAAAAAAAAAAAAAAAAAAAAAAAAAAAAAAAAAAAAAAAAAAAAAAAAAAAAAAAAAAAAAAAAAAAAAAAAAAAAAAAAAAAAAAAAAAAAAAAAAAAAAAAAAAAAAAAAAAAAAAAAAAAAAAAAAAAAAAAAAAAAAAAAAAAAAAAAAAAAAAAAAAAAAAAAAAAAAAAAAAAAAAAAAAAAAAAAAAAAAAAAAAAAAAAAAAAAAAAAAAAAAAAAAAAAAAAAAAAAAAAAAAAAAAAAAAAAAAAAAAAAAAAAAAAAAAAAAAAAAAAAAAAAAAAAAAAAAAAAAAAAAAAAAAAAAAAAAAAAAAAAAAAAAAAAAAAAAAAAAAAAAAAAAAAAAAAAAAAAAAAAAAAAAAAAAAAAAAAAAAAAAAAAAAAAAAAAAAAAAAAAAAAAAAAAAAAAAAAAAAAAAAAAAAAAAAAAAAAAAAAAAAAAAAAAAAAAAAAAAAAAAAAAAAAAAAAAAAAAAAAAAAAAAAAAAAAAAAAAAAAAAAAAAAAAAAAAAAAAAAAAAAAAAAAAAAAAAAAAAAAAAAAAAAAAAAAAAAAAAAAAAAAAAAAAAAAAAAAAAAAAAAAAAAAAAAAAAAAAAAAAAAAAAAAAAAAAAAAAAAAAAAAAAAAAAAAAAAAAAAAAAAAAAAAAAAAAAAAAAAAAAAAAAAAAAAAAAAAAAAAAAAAAAAAAAAAAAAAAAAAAAAAAAAAAAAAAAAAAAAAAAAAAAAAAAAAAAAAAAAAAAAAAAAAAAAAAAAAAAAAAAAAAAAAAAAAAAAAAAAAAAAAAAAAAAAAAAAAAAAAAAAAAAAAAAAAAAAAAAAAAAAAAAAAAAAAAAAAAAAAAAAAAAAAAAAAAAAAAAAAAAAAAAAAAAAAAAAAAAAAAAAAAAAAAAAAAAAAAAAAAAAAAAAAAAAAAAAAAAAAAAAAAAAAAAAAAAAAAAAAAAAAAAAAAAAAAAAAAAAAAAAAAAAAAAAAAAAAAAAAAAAAAAAAAAAAAAAAAAAAAAAAAFZlbm5lbGEgU3VubmFtAAAABZADAAIAAAAUAAAQqJAEAAIAAAAUAAAQvJKRAAIAAAADOTQAAJKSAAIAAAADOTQAAOocAAcAAAgMAAAInAAAAAAc6gAAAAgAAAAAAAAAAAAAAAAAAAAAAAAAAAAAAAAAAAAAAAAAAAAAAAAAAAAAAAAAAAAAAAAAAAAAAAAAAAAAAAAAAAAAAAAAAAAAAAAAAAAAAAAAAAAAAAAAAAAAAAAAAAAAAAAAAAAAAAAAAAAAAAAAAAAAAAAAAAAAAAAAAAAAAAAAAAAAAAAAAAAAAAAAAAAAAAAAAAAAAAAAAAAAAAAAAAAAAAAAAAAAAAAAAAAAAAAAAAAAAAAAAAAAAAAAAAAAAAAAAAAAAAAAAAAAAAAAAAAAAAAAAAAAAAAAAAAAAAAAAAAAAAAAAAAAAAAAAAAAAAAAAAAAAAAAAAAAAAAAAAAAAAAAAAAAAAAAAAAAAAAAAAAAAAAAAAAAAAAAAAAAAAAAAAAAAAAAAAAAAAAAAAAAAAAAAAAAAAAAAAAAAAAAAAAAAAAAAAAAAAAAAAAAAAAAAAAAAAAAAAAAAAAAAAAAAAAAAAAAAAAAAAAAAAAAAAAAAAAAAAAAAAAAAAAAAAAAAAAAAAAAAAAAAAAAAAAAAAAAAAAAAAAAAAAAAAAAAAAAAAAAAAAAAAAAAAAAAAAAAAAAAAAAAAAAAAAAAAAAAAAAAAAAAAAAAAAAAAAAAAAAAAAAAAAAAAAAAAAAAAAAAAAAAAAAAAAAAAAAAAAAAAAAAAAAAAAAAAAAAAAAAAAAAAAAAAAAAAAAAAAAAAAAAAAAAAAAAAAAAAAAAAAAAAAAAAAAAAAAAAAAAAAAAAAAAAAAAAAAAAAAAAAAAAAAAAAAAAAAAAAAAAAAAAAAAAAAAAAAAAAAAAAAAAAAAAAAAAAAAAAAAAAAAAAAAAAAAAAAAAAAAAAAAAAAAAAAAAAAAAAAAAAAAAAAAAAAAAAAAAAAAAAAAAAAAAAAAAAAAAAAAAAAAAAAAAAAAAAAAAAAAAAAAAAAAAAAAAAAAAAAAAAAAAAAAAAAAAAAAAAAAAAAAAAAAAAAAAAAAAAAAAAAAAAAAAAAAAAAAAAAAAAAAAAAAAAAAAAAAAAAAAAAAAAAAAAAAAAAAAAAAAAAAAAAAAAAAAAAAAAAAAAAAAAAAAAAAAAAAAAAAAAAAAAAAAAAAAAAAAAAAAAAAAAAAAAAAAAAAAAAAAAAAAAAAAAAAAAAAAAAAAAAAAAAAAAAAAAAAAAAAAAAAAAAAAAAAAAAAAAAAAAAAAAAAAAAAAAAAAAAAAAAAAAAAAAAAAAAAAAAAAAAAAAAAAAAAAAAAAAAAAAAAAAAAAAAAAAAAAAAAAAAAAAAAAAAAAAAAAAAAAAAAAAAAAAAAAAAAAAAAAAAAAAAAAAAAAAAAAAAAAAAAAAAAAAAAAAAAAAAAAAAAAAAAAAAAAAAAAAAAAAAAAAAAAAAAAAAAAAAAAAAAAAAAAAAAAAAAAAAAAAAAAAAAAAAAAAAAAAAAAAAAAAAAAAAAAAAAAAAAAAAAAAAAAAAAAAAAAAAAAAAAAAAAAAAAAAAAAAAAAAAAAAAAAAAAAAAAAAAAAAAAAAAAAAAAAAAAAAAAAAAAAAAAAAAAAAAAAAAAAAAAAAAAAAAAAAAAAAAAAAAAAAAAAAAAAAAAAAAAAAAAAAAAAAAAAAAAAAAAAAAAAAAAAAAAAAAAAAAAAAAAAAAAAAAAAAAAAAAAAAAAAAAAAAAAAAAAAAAAAAAAAAAAAAAAAAAAAAAAAAAAAAAAAAAAAAAAAAAAAAAAAAAAAAAAAAAAAAAAAAAAAAAAAAAAAAAAAAAAAAAAAAAAAAAAAAAAAAAAAAAAAAAAAAAAAAAAAAAAAAAAAAAAAAAAAAAAAAAAAAAAAAAAAAAAAAAAAAAAAAAAAAAAAAAAAAAAAAAAAAAAAAAAAAAAAAAAAAAAAAAAAAAAAAAAAAAAAAAAAAAAAAAAAAAAAAAAAAAAAAAAAAAAAAAAAAAAAAAAAAAAAAAAAAAAAAAAAAAAAAAAAAAAAAAAAAAAAAAAAAAAAAAAAAAAAAAAAAAAAAAAAAAAAAAAAAAAAAAAAAAAAAAAAAAAAAAAAAAAAAAAAAAAAAAAAAAAAAAAAAAAAAAAAAAAAAAAAAAAAAAAAAAAAAAAAAAAAAAAAAAAAAAAAAAAAAAAAAAAAAAAAAAAAAAAAAAAAAAAAAAAAAAAAAAAAAAAAAAAAAAAAAAAAAAAAAAAAAAAAAAAAAAAAAAAAAAAAAAAAAAAAAAAAAAAAAAAAAAAAAAAAAAAAAAAAAAAAAAAAAAAAAAAAAAAAAAAAAAAAAAAAAAAAAAAAAAAAAAAAAAAAAAAAAAAAAAAAAAAAAAAAAAAAAAAAAAAAAAAAAAAAAAAAAAAAAAAAAAAAAAAAAAAAAAAAAAAAAAAAAAAAAAAAAAAAAAAAAAAAAAAAAAAAAAAAAAAAAAAAAAAAAAAAAAAAAAAAAAAAAAAAAAAAAAAAAAAAAAAAAAAAAAAAAAAAAAAAAAAAAAAAAAAAAAAAAAAAAAAAAAAAAAAAAAAAAAAAAAAAAAAAAAAAAAAAAAAAAAAAAAAAAAAAAAAAAAAAAAAAAAAAAAAAAAAAAAAAAAAAAAAAAAAAAAAAAAAAAAAAAAAAAAAAAAAAAAAAAAAAAAAAAAAAAAAAAAAAAAAAAAAAAAAAAAAAAAAAAAAAAAAAAAAAAAAAAAAAAAAAAAAAAAAAAAAAAAAAAAAAAAAAAAAAAAAAAAAAAAAAAAAAAAAAAAAAAAAAAAAAAAAAAAAAAAAAAAAAAAAAAAAAAAAAAAAAAAADIwMjE6MDc6MDIgMjA6MzA6MTAAMjAyMTowNzowMiAyMDozMDoxMAAAAFYAZQBuAG4AZQBsAGEAIABTAHUAbgBuAGEAbQAAAP/hCyFodHRwOi8vbnMuYWRvYmUuY29tL3hhcC8xLjAvADw/eHBhY2tldCBiZWdpbj0n77u/JyBpZD0nVzVNME1wQ2VoaUh6cmVTek5UY3prYzlkJz8+DQo8eDp4bXBtZXRhIHhtbG5zOng9ImFkb2JlOm5zOm1ldGEvIj48cmRmOlJERiB4bWxuczpyZGY9Imh0dHA6Ly93d3cudzMub3JnLzE5OTkvMDIvMjItcmRmLXN5bnRheC1ucyMiPjxyZGY6RGVzY3JpcHRpb24gcmRmOmFib3V0PSJ1dWlkOmZhZjViZGQ1LWJhM2QtMTFkYS1hZDMxLWQzM2Q3NTE4MmYxYiIgeG1sbnM6ZGM9Imh0dHA6Ly9wdXJsLm9yZy9kYy9lbGVtZW50cy8xLjEvIi8+PHJkZjpEZXNjcmlwdGlvbiByZGY6YWJvdXQ9InV1aWQ6ZmFmNWJkZDUtYmEzZC0xMWRhLWFkMzEtZDMzZDc1MTgyZjFiIiB4bWxuczp4bXA9Imh0dHA6Ly9ucy5hZG9iZS5jb20veGFwLzEuMC8iPjx4bXA6Q3JlYXRlRGF0ZT4yMDIxLTA3LTAyVDIwOjMwOjEwLjkzODwveG1wOkNyZWF0ZURhdGU+PC9yZGY6RGVzY3JpcHRpb24+PHJkZjpEZXNjcmlwdGlvbiByZGY6YWJvdXQ9InV1aWQ6ZmFmNWJkZDUtYmEzZC0xMWRhLWFkMzEtZDMzZDc1MTgyZjFiIiB4bWxuczpkYz0iaHR0cDovL3B1cmwub3JnL2RjL2VsZW1lbnRzLzEuMS8iPjxkYzpjcmVhdG9yPjxyZGY6U2VxIHhtbG5zOnJkZj0iaHR0cDovL3d3dy53My5vcmcvMTk5OS8wMi8yMi1yZGYtc3ludGF4LW5zIyI+PHJkZjpsaT5WZW5uZWxhIFN1bm5hbTwvcmRmOmxpPjwvcmRmOlNlcT4NCgkJCTwvZGM6Y3JlYXRvcj48L3JkZjpEZXNjcmlwdGlvbj48L3JkZjpSREY+PC94OnhtcG1ldGE+DQogICAgICAgICAgICAgICAgICAgICAgICAgICAgICAgICAgICAgICAgICAgICAgICAgICAgICAgICAgICAgICAgICAgICAgICAgICAgICAgICAgICAgICAgICAgICAgICAgICAgCiAgICAgICAgICAgICAgICAgICAgICAgICAgICAgICAgICAgICAgICAgICAgICAgICAgICAgICAgICAgICAgICAgICAgICAgICAgICAgICAgICAgICAgICAgICAgICAgICAgICAKICAgICAgICAgICAgICAgICAgICAgICAgICAgICAgICAgICAgICAgICAgICAgICAgICAgICAgICAgICAgICAgICAgICAgICAgICAgICAgICAgICAgICAgICAgICAgICAgICAgIAogICAgICAgICAgICAgICAgICAgICAgICAgICAgICAgICAgICAgICAgICAgICAgICAgICAgICAgICAgICAgICAgICAgICAgICAgICAgICAgICAgICAgICAgICAgICAgICAgICAgCiAgICAgICAgICAgICAgICAgICAgICAgICAgICAgICAgICAgICAgICAgICAgICAgICAgICAgICAgICAgICAgICAgICAgICAgICAgICAgICAgICAgICAgICAgICAgICAgICAgICAKICAgICAgICAgICAgICAgICAgICAgICAgICAgICAgICAgICAgICAgICAgICAgICAgICAgICAgICAgICAgICAgICAgICAgICAgICAgICAgICAgICAgICAgICAgICAgICAgICAgIAogICAgICAgICAgICAgICAgICAgICAgICAgICAgICAgICAgICAgICAgICAgICAgICAgICAgICAgICAgICAgICAgICAgICAgICAgICAgICAgICAgICAgICAgICAgICAgICAgICAgCiAgICAgICAgICAgICAgICAgICAgICAgICAgICAgICAgICAgICAgICAgICAgICAgICAgICAgICAgICAgICAgICAgICAgICAgICAgICAgICAgICAgICAgICAgICAgICAgICAgICAKICAgICAgICAgICAgICAgICAgICAgICAgICAgICAgICAgICAgICAgICAgICAgICAgICAgICAgICAgICAgICAgICAgICAgICAgICAgICAgICAgICAgICAgICAgICAgICAgICAgIAogICAgICAgICAgICAgICAgICAgICAgICAgICAgICAgICAgICAgICAgICAgICAgICAgICAgICAgICAgICAgICAgICAgICAgICAgICAgICAgICAgICAgICAgICAgICAgICAgICAgCiAgICAgICAgICAgICAgICAgICAgICAgICAgICAgICAgICAgICAgICAgICAgICAgICAgICAgICAgICAgICAgICAgICAgICAgICAgICAgICAgICAgICAgICAgICAgICAgICAgICAKICAgICAgICAgICAgICAgICAgICAgICAgICAgICAgICAgICAgICAgICAgICAgICAgICAgICAgICAgICAgICAgICAgICAgICAgICAgICAgICAgICAgICAgICAgICAgICAgICAgIAogICAgICAgICAgICAgICAgICAgICAgICAgICAgICAgICAgICAgICAgICAgICAgICAgICAgICAgICAgICAgICAgICAgICAgICAgICAgICAgICAgICAgICAgICAgICAgICAgICAgCiAgICAgICAgICAgICAgICAgICAgICAgICAgICAgICAgICAgICAgICAgICAgICAgICAgICAgICAgICAgICAgICAgICAgICAgICAgICAgICAgICAgICAgICAgICAgICAgICAgICAKICAgICAgICAgICAgICAgICAgICAgICAgICAgICAgICAgICAgICAgICAgICAgICAgICAgICAgICAgICAgICAgICAgICAgICAgICAgICAgICAgICAgICAgICAgICAgICAgICAgIAogICAgICAgICAgICAgICAgICAgICAgICAgICAgICAgICAgICAgICAgICAgICAgICAgICAgICAgICAgICAgICAgICAgICAgICAgICAgICAgICAgICAgICAgICAgICAgICAgICAgCiAgICAgICAgICAgICAgICAgICAgICAgICAgICAgICAgICAgICAgICAgICAgICAgICAgICAgICAgICAgICAgICAgICAgICAgICAgICAgICAgICAgICAgICAgICAgICAgICAgICAKICAgICAgICAgICAgICAgICAgICAgICAgICAgICAgICAgICAgICAgICAgICAgICAgICAgICAgICAgICAgICAgICAgICAgICAgICAgICAgICAgICAgICAgICAgICAgICAgICAgIAogICAgICAgICAgICAgICAgICAgICAgICAgICAgICAgICAgICAgICAgICAgICAgICAgICAgICAgICAgICAgICAgICAgICAgICAgICAgICAgICAgICAgICAgICAgICAgICAgICAgCiAgICAgICAgICAgICAgICAgICAgICAgICAgICAgICAgICAgICAgICAgICAgICAgICAgICAgICAgICAgICAgICAgICAgICAgICAgICAgICAgICAgICAgICAgICAgICAgICAgICAKICAgICAgICAgICAgICAgICAgICAgICAgICAgIDw/eHBhY2tldCBlbmQ9J3cnPz7/2wBDAAcFBQYFBAcGBQYIBwcIChELCgkJChUPEAwRGBUaGRgVGBcbHichGx0lHRcYIi4iJSgpKywrGiAvMy8qMicqKyr/2wBDAQcICAoJChQLCxQqHBgcKioqKioqKioqKioqKioqKioqKioqKioqKioqKioqKioqKioqKioqKioqKioqKioqKir/wAARCAHwAv8DASIAAhEBAxEB/8QAHwAAAQUBAQEBAQEAAAAAAAAAAAECAwQFBgcICQoL/8QAtRAAAgEDAwIEAwUFBAQAAAF9AQIDAAQRBRIhMUEGE1FhByJxFDKBkaEII0KxwRVS0fAkM2JyggkKFhcYGRolJicoKSo0NTY3ODk6Q0RFRkdISUpTVFVWV1hZWmNkZWZnaGlqc3R1dnd4eXqDhIWGh4iJipKTlJWWl5iZmqKjpKWmp6ipqrKztLW2t7i5usLDxMXGx8jJytLT1NXW19jZ2uHi4+Tl5ufo6erx8vP09fb3+Pn6/8QAHwEAAwEBAQEBAQEBAQAAAAAAAAECAwQFBgcICQoL/8QAtREAAgECBAQDBAcFBAQAAQJ3AAECAxEEBSExBhJBUQdhcRMiMoEIFEKRobHBCSMzUvAVYnLRChYkNOEl8RcYGRomJygpKjU2Nzg5OkNERUZHSElKU1RVVldYWVpjZGVmZ2hpanN0dXZ3eHl6goOEhYaHiImKkpOUlZaXmJmaoqOkpaanqKmqsrO0tba3uLm6wsPExcbHyMnK0tPU1dbX2Nna4uPk5ebn6Onq8vP09fb3+Pn6/9oADAMBAAIRAxEAPwD6GooooAKKKKACiiigAooooAKKKKACiiigAooooAKKKKACiiigAooooAKKKKACiiigAooooAKKKKACiiigAooooAKKKKACiiigAooooAKKKKACiiigAooooAKKKKACiiigAooooAKKKKACiiigAooooAKKKKACiiigAooooAKKKKACiiigAooooAKKKKACiiigAooooAKKKKACiiigAooooAKKKKACiiigAooooAKKKKACiiigAooooAKKKKACiiigAooooAKKKKACiiigAooooAKKKKACiiigAooooAKKKKACiiigAooooAKKKKACiiigAooooAKKKKACiiigAooooAKKKKACiiigAooooAKKKKACiiigAooooAKKKKACiiigAooooAKKKKACiiigAooooAKKKKACiiigAooooAKKKKACiiigAooooAKKKKACiiigAooooAKKKKACiiigAooooAKKKKACiiigAooooAKKKKACiiigAooooAKKKKACiiigAooooAKKK4H4oeLr/RLWw0Xw8QNZ1iXyYW7xLkDd9SSAD9T2peSGdfqGuaTpLKNV1Sysi3Ki5uEjz/30RU1lqFlqVv5+nXcF3CePMglDr+YNcPofwd8OWdsJdehfWtTk+ae6upXIZj1wM9Pc5PvWV4t+G6eGbSXxL8PJJtLv7JTLJbxyM0c6Dlhg57duhx0pu0dxK72PVqK5HQPiDpuo/D6LxPqcn2SFBsu9kbOIpAQp4UE4yQR7EV01hfW2p6fBfWMomtriMSRSAEblIyDzzTas7CTurliism68TaRZ+IrXQri726ndpvhtxG7Fl55yBgfdPUjpTtb8SaP4btRca5qENnG33fMb5n9dqjk/gKXS4+tjUornND8f+F/Elz9m0bWIZ5z0iZWjdvorgE/hWlrmv6b4b006hrVz9mtQ4QyeWz8noMKCaNg32NGiuam+IXhWDW10iTWYftzMEESo7fMei7gMA9sZzWhoHiXSfE9nLdaHd/aoopDFIfLZCrAA4IYA96ANWqk+qafa30Flc31tDdXH+pgkmVXl/wB1Scn8Kra/4k0nwvp63uu3Ytbd5BGrbGfLEEgYUE9jXPeILbwxc/ELw5dapqN1BrCKTYW6IdkoOfvfIcfiRR1S8weibO1oqC9vrXTrOS71C4itreMZeWZwqr9Sa5i1+Kfgq8vRaw6/biUnAMiPGn/fbKF/Wjd2Dpc66is3W9f03w7pTalrFz5FmrKplEbSAE8DhQT+NXoZ47m3jngcPFIgdGHRlIyDQBJRWJoHjDQvFE11FoV+Lt7QgTARuu3OcfeAz0PTNTXviTSdP12z0a7u9moXwJt4BG7FwM5OQCB0PUjpR+od/I1aKKKACiiigAooooAKKKKACiiigAooooAKKKKACiiigAooooAKKKKACiiigAooooAKKKKACiiigAooooAKKKKACiiigAooooAKKKKACiiigAooooAKKKKACiiigAooooAKKKKACiiigAooooAKKKKACiiigAooooAKKKKACiiigAooooAKKKKACiiigAooooAKKKKACiiigAryLxduP7RXhbz/APVfZxsz0zmT9c4r12uC+KHhC/120sdY8PcazpEvnQLnHmLkEqPfIBH4jvSvaUZPox7xce6O9qK62fY5vNxs8tt2emMc1wmh/GDw7d24h1+V9E1OL5bi1uonG1h1wcdPY4PtWV4s+JKeJbSXw38PIptV1C9QxSXEcbLHAh4Y5OOcd+gznNKSbVl1CLV7vQofBXTI9Z+Guv6bdAm1urp4h7ZjUZHuODW58GdRmXw7feHb84vNDu3gZSf4CSR/48GH0Arp/A/hePwf4StNKVhJKoLzyL0eRuWI9uw9gK8z+JF5c+AfHN9q1grCHxDpskB2/wAM4AG78PlP4mrk7Sduqt81t+q+YormXzv9+/8AXkbfw/H/AAlXxL8R+L3+a2gb7BYnORtHUj8AD/wM1xlp4w8M3XxI1rWfHaSXnkymDTrcw+bHGisRkqeM4A/Ek9a9f+Hvh/8A4RnwLp2nuu2fy/Nn9fMfk/lnH4V59pGpr8KPiJrNn4hjki0bWJfPtr1ULKpyTg45/iwe4wDjBzRblmo9k18/6uK/NFy7v8P6sYvj3xh4B13RTN4ft5LLW7Z0ktbiG0EJyCOCw7Y6ehAroviJqsut/ALT9SuP9dc/Z3kIGMt3P55rX8S/F7TYYIbTwWya3rFzIqQwJG5QDPJJ4zxngH3PFQ/GNrt/hCjamkSXhmgM6wklFfuBntms5/B80XH4l6M6bwj4S0fSvDGlKmnWj3CQxzNO0Kl2lIBL7iM5yetcn4aX/hD/AI3axoZ+Sy1yL7ZajtvGSQP/ACJ+Qr0fR/8AkB2H/XtH/wCgiuE+L9nJY2ukeLbJSbjQ7tHkx1aJmAI/PA/4Ea1m7VL9L2+/+kZwV6dutvyKni7/AIq74xaF4bX57TSV+33gB43cEAj/AL5H/AzS+OP+S3eC/o/8zU/witpNUbW/GV4hE2s3bCHd1WFTwPz4/wCACoPHH/JbvBf0f+ZqUrSpp97/AHr+kVJ3jNrtb7jE+K3iDT5fiVpWj+JJJv7BsoxcXEMIJMshDYyB24UewLetT6l47+FGp6O+nS6X5cJQqhi09UaI+qkdDV34hxXnhL4jaX47t7WS609Ivs98sQyUHIz+IbjtlcZ5revvjH4NtdIe8t9TF1JsJjto4nEjt/dII+X6nipXwa+f9fcU78/3HK/DszeNPg5rXh+5kM5ti8Fq79QNoaMfgw/LArU8NeLzD8AptQkfbdabbSWZz2kX5Yx+TJXW+BdX13XfDSaj4ksYbGedi0MMSsp8vAwWDEkEnP4Yrx3xBZ3Vl411LwFBGws9b1e3u0I6LG2S/wCuP++KqScpOD+1b7/+GbJi0lzdm38v6saPwysJPB3xG0/T7hmA1vRkn2sekh+fH4bWH410vh4f8JL8dNc1c4e20SAWUBx0c8HH4+Z+YqD4ws/h3UPDHimzjydOuTCyjjcpGQv5Kw/Gtn4OaXJZeA0v7vJutWne8lY9TuOB+gz+NUnd83a/47fg2S1ZW72/Df8AFI76iiipKCiiigAooooAKKKKACiiigAooooAKKKKACiiigAooooAKKKKACiiigAooooAKKKKACiiigAooooAKKKKACiiigAooooAKKKKACiiigAooooAKKKKACiiigAooooAKKKKACiiigAooooAKKKKACiiigAooooAKKKKACiiigAooooAKKKKACiiigAooooAKKKKACiiigAooooAoahoek6sVOq6XZXpX7pubdJMf99A1PZafZ6bbiDTrSC0hHIjgiCL+QFWKKACql/pWn6osa6nYW14Im3xi4hWTY3qMg4PvVuigAqG6tLa+t2gvbeK4hb70cyB1P1B4qaigChp+haTpLM2laXZWJb7xtrdI8/XaBU19p1lqlqbbU7O3vICQxiuIlkXI6HBBFWaKNwGoixxqkahEUAKqjAA9BTLm1gvbaS2vII7iCQbXilQMrj0IPBqWijcCG0tLawtUtrG3itreMYSKFAiqPYDgVFPpen3V9Be3NjbTXVv/qZ5IVZ4v91iMj8Kt0UeYCEBlIYAgjBB71mQeGNBtbwXVtomnQ3IORNHaRq+f94DNalFABVOXSdOn1KPUZtPtZL6IbY7p4VMqDngNjI6n8zVyigCtf6bY6rbfZ9Tsre9g3BvKuIlkXI6HBBGalggitbeOC2iSGGNQiRxqFVFHAAA4AqSigAooooAKKKKACiiigAooooAKKKKACiiigAooooAKKKKACiiigAooooAKKKKACiiigAooooAKKKKACiiigAooooAKKKKACiiigAooooAKKKKACiiigAooooAKKKKACiiigAooooAKKKKACiiigAooooAKKKKACiiigAooooAKKKKACiiigAooooAKKKKACiiigAooooAKKKKACiiigAooooAKKKKACiiigAooooAKKKKACiiigAooooAKKKKACiiigAooooAKKKKACiiigAooooAKKKKACiiigAooooAKKKKACiiigAooooAKKKKACiiigAooooAKKKKACiiigAooooAKKKKACiiigAooooAKKKKACiiigAooooAKKKKACiiigAooooAKKKKACiiigAooooAKKKKACiiigAooooAKKKKACiiigAooooAKKKKACiiigAooooAKKbu/wBiT/vg/wCFG7/Yk/74P+FADqKbu/2JP++D/hRu/wBiT/vg/wCFADqKbu/2JP8Avg/4Ubv9iT/vg/4UAOopu7/Yk/74P+FG7/Yk/wC+D/hQA6im7v8AYk/74P8AhRu/2JP++D/hQA6im7v9iT/vg/4Ubv8AYk/74P8AhQA6im7v9iT/AL4P+FG7/Yk/74P+FADqKbu/2JP++D/hRu/2JP8Avg/4UAOopu7/AGJP++D/AIUbv9iT/vg/4UAOopu7/Yk/74P+FG7/AGJP++D/AIUAOopu7/Yk/wC+D/hRu/2JP++D/hQA6im7v9iT/vg/4Ubv9iT/AL4P+FADqKbu/wBiT/vg/wCFG7/Yk/74P+FADqKbu/2JP++D/hRu/wBiT/vg/wCFADqKbu/2JP8Avg/4Ubv9iT/vg/4UAOopu7/Yk/74P+FG7/Yk/wC+D/hQA6im7v8AYk/74P8AhRu/2JP++D/hQA6im7v9iT/vg/4Ubv8AYk/74P8AhQA6im7v9iT/AL4P+FG7/Yk/74P+FADqKbu/2JP++D/hRu/2JP8Avg/4UAOopu7/AGJP++D/AIUbv9iT/vg/4UAOopu7/Yk/74P+FG7/AGJP++D/AIUAOopu7/Yk/wC+D/hRu/2JP++D/hQA6im7v9iT/vg/4Ubv9iT/AL4P+FADqKbu/wBiT/vg/wCFG7/Yk/74P+FADqKbu/2JP++D/hRu/wBiT/vg/wCFADqKbu/2JP8Avg/4Ubv9iT/vg/4UAOopu7/Yk/74P+FG7/Yk/wC+D/hQA6im7v8AYk/74P8AhRu/2JP++D/hQA6im7v9iT/vg/4Ubv8AYk/74P8AhQA6im7v9iT/AL4P+FG7/Yk/74P+FADqKbu/2JP++D/hRu/2JP8Avg/4UAOopu7/AGJP++D/AIUbv9iT/vg/4UAOopu7/Yk/74P+FG7/AGJP++D/AIUAOopu7/Yk/wC+D/hRu/2JP++D/hQA6im7v9iT/vg/4Ubv9iT/AL4P+FADqKbu/wBiT/vg/wCFG7/Yk/74P+FADqKbu/2JP++D/hRu/wBiT/vg/wCFADqKbu/2JP8Avg/4Ubv9iT/vg/4UAOopu7/Yk/74P+FG7/Yk/wC+D/hQA6im7v8AYk/74P8AhRu/2JP++D/hQA6im7v9iT/vg/4Ubv8AYk/74P8AhQA6im7v9iT/AL4P+FG7/Yk/74P+FADqKbu/2JP++D/hRu/2JP8Avg/4UAOopu7/AGJP++D/AIUbv9iT/vg/4UAOopu7/Yk/74P+FG7/AGJP++D/AIUAOopu7/Yk/wC+D/hRu/2JP++D/hQA6im7v9iT/vg/4Ubv9iT/AL4P+FAF2iiigAooooAKKKKACiiigAooooAKKKKACiiigAooooAKKKKACiiigAooooAKKKKACiiigAooooAKKKKACiiigAooooAKKKKACiiigAooooAKKKKACiiigAooooAKKKKACiiigAooooAKKKKACiiigAooooAKKKKACiiigAooooAKKKKACiiigAooooAKKKKACiiigAooooAKKKKACiiigAooooAKKKKACiiigAooooAKKKKACiiigAooooAKKKKACiiigAoorhfEdnNrHxN07Sm1XU7K0OlyzslhePBucSKATtPPBNLql/W1/wBA6NndUVxVrHe+EvGWmaZ/at9qWmausqKl/L50lvMi78rIeSpUEYOcEVLeeNNVsLf+0rrwxNDo4mEbzyXIW4RS+wSGAr93JBxuzjnFP0DY7CiuOtNb1pfiJrttcWgk0y0s4JFEU5d1B80grGE+ZnIwRnjaOueJY/F2rQXmm/2z4bawstSmWCGYXYkkidgSolj2jbnHZmwetC1B6XOsorkf+E0vp7q8k03QJL7TrK7NpPLDcg3AZW2sVgCkkA+rAkcgVPqXi25j1i503RNMj1CWzVTdPPerbKhYZCLkEs2OegAyOaOlw62Onorgr/xdqWpX3hS48O2yva31zMk8U1z5TF0jkDRthW+6VJyCQSoHfNb3ji8/s/wXf3O65Ty1Tm1n8mQZdRw+Djr6dKA62N+iuVuvFeqN4g1LSNF8P/b5tPSKR5JLwQowdSQMlT83GAMY9SO/PeI/EeqeIrXwsdBgmhtNWnbzVXUGtJSyI5MRdFJUArkkHnGMc5o32A9LorkH8XX4W7fRdAm1LTdMdoJ7prsLJIycP5akHzNuCCSVyQcZrp9Pv7fVNNtr+yfzLe5iWWNvVWGRRvqg9SxRRRQAUUUUAFFFFABRRRQAUUUUAFFFFABRRRQAUUUUAFFFFABRRRQAUUUUAFFFFABRRRQAUUUUAFFFFABRRRQAUUUUAFFFFABRRRQAUUUUAFFFFABRRRQAUUUUAFFcxrFzc6R470e6a4lOnakj2EsJkPlxzfficL0BOGXPuKr6vq1y3jTZa/bJbTQ7Fru6t7PJa5lkysUW0fe4Dtg8ZKmj+v6/rqH9f18zr6K5e18UapHrthp2v6ANPXUt4tporwT4dVLlHG1dp2g9Nw461jX/AIx1DVPBmuX/APZE9lYWsdzH9qg1ERzM8blcx4Q7c4+8ehyMHqQFqeg0Vz17resR3K2uiaA+oGO3WWSe5ufs8Zz0RW2tvbjngAZGTzXPap4uvL+Hwlqek2d5vur+aGbT1mCF3WORSjnO0qHXOT2GcdqBLa/9bXPQqK4LxD4qvpPCPiW0urWTRtZsLHzwIbneCjZCyRyAKeqkdAQa19S8V3EGrPpejadHf3VvEkty094tvHGGztUMQxZjgnGMAYyRmgf9fl/mdNRXIt49S407TX0vTzNf6hcSWyWs9wsSxSR58wNJ8w4xxtBzxitzQ9Tu9Stpv7R0ubTbmCUxPE7b0bgEMj4G9SD1wOcgjigDSori59b8Qw/ELVLS30+K6srbTEmiiN5sLHMmDjyzyzKFxngAHnOK018Ww3Gl6Dd2Nv5763JGsURk27FKl3YnB+6qnjucDjNC1V/63a/QHo7f1tc6GiuHi+IN/Lplzqw8NS/2VZTyxXVwLpd4WN2VnRNvzqAMnkHqBnFaOo+L5V1RtP0Gwi1GaGFJ53mvFt40VwSgDEMWYgZxjAGMkZoDrY6eiuRbx6lxp2mvpenma/1C4ktktZ7hYlikjz5gaT5hxjjaDnjFbmh6nd6lbTf2jpc2m3MEpieJ23o3AIZHwN6kHrgc5BHFAGlRRRQAUUUUAFFFFABRRRQAUUUUAFFFFABRRRQAUUUUAFFFFABRRRQAVxfiG31yz+IFhrekaHJq1vHp0trIsdzFEVZpFYffYZ4XtXaUUuqf9bWDpY4+zsNc1/xRaa1runR6RDpkUq2doZ1nkeWQbTI5X5QAvAAJ6muP1Lwf4k1Pw1LaXuhT3msqQz6hd6v5kUpDg5hjLYUkcAFUAz19fYKKa0dwOOv9N16LxNrc2k2+3+1NLjht77zE2200YlxvUnccl1wQD71zf/CKaxdXWhXP/COXMNzY38E13dX+r/apXCn5jHlyMdz908YCmvVaKFo7/wBaO4PVW/rax5r4h8NapqmoXbQ+GLeDV2lYWniCxvBbhFP3XkAbzGYDgrhgcdh0n1DwnJZ+KNR1CbwlY+KodREcgeUQCWCVUCEHzeNjbQeDkHPBr0OiklZA9Xc4ebRNVsbTwzc2mi2Pm6deSTXFhpeyCNFkjkT5N5AJG8ZPGeSB2rZ8caZd6x4Lv7HTofOuZlQJHuC5w6k8kgdAa36KoDntI0u8tfGfiC+nh2214lsIH3A79iENwDkYJ71gaP4Z1e1sfCEc9psfTb+5muh5qHy0dZQp4POd69M9a9AopB0scPDa+JfD9vqWk6Xo8eoQ3VzNPaXpukjSLzWLESqfm+VmP3Q2RjpXTeHdJGg+GtO0oSeb9jt0hL4xuKjBP51pUULRW9PwB6u/9ahRRRQAUUUUAFFFFABRRRQAUUUUAFFFFABRRRQAUUUUAFFFFABRRRQAUUUUAFFFFABRRRQAUUUUAFFFFABRRRQAUUUUAFFFFABRRRQAUUUUAFFFFABRRRQAUUUUAY/ivSJNb8NXVpakLdqBNaueNsyEPGc9vmA/DNYMGi+Ij4H1ieLbY+JNWla4dRKP3XIVYw4yARGoAYdCc121FLv/AF/XT7h32PNLTwvqL+LdA1SLw5PYR2c7m6mvdU+1XBDRMuQS7DZkjo2SSPlGKvf8I3q3/Cp9Z0b7J/xMLp7www+YnzeZM7J82cDIIPJ+td7RT6WEtGn/AF1/zOB1fRdZuPEUxvNKutY06S3iS0ig1U20NuwXDiVAw3ZPO4B+OMVnaX4Z8SaNofhxbbSYHudL1O7nmt0uFWPynEoGxie4cAZGRkZA5x6fRQHS39bWPPdX0DXfEOn+JNRuNNFpd3umiwsrAzoz7QzMWdwdgJLdATgDrTtY8KNB4vvdXfwpZeJrfUIYgyTCHzbaWNdvHm8bGG3ODkEdDXoFFA/6/L/I4W50G9TwxZ2s3hDQry3aZ5LvSbRFj8sH7hjZsIXA4Y/LntitDwNo19o9rfC6gksbOacNZadLdG4a0QKARvyRyQTtBIHrXVUU+5Jzhs9QtviM1/HYtPYXlhHbvcJKg8h0eRvmUkEg7wPlz71heEdIlj8datE+1tP0OSSKwwchWuCszj/gIIUexrvpY1mheKQZR1KsM4yDVPR9F0/QdPWy0m3FvAGL7dxYsx6ksxJJPqSaUdH9/wCI3r+H4HnWhHxDqfgjUdDsNJia3vbu9gTUWuVCQo88gcun3iwycBQQeMkVevvBa6X4jmvY/Cln4nsrq1hiCTiHzrZ4k2DHm8FWULnByCOhrutN0y00i0Ntp8PkwmR5Su4t8zsWY5JJ5JJq3QPd/f8AmcLc6Dep4Ys7WbwhoV5btM8l3pNoix+WD9wxs2ELgcMflz2xWh4G0a+0e1vhdQSWNnNOGstOlujcNaIFAI35I5IJ2gkD1rqqKfckKKKKQwooooAKKKKACiiigAooooAKKKKACiiigAooooAKKKKACiiigAooooAKKK8zsvHeqRaz4jsdTlAhWW6j0u5KKNskQz5RwOeCpGevPXsrjSuemUVyHh3xdcXjabYXkPnXE2irqMlzuC7myFK7QuB65/Sq7/EC7ktdDbTvD73tzrFvJOkC3Sr5ezHBYrjGO/H0NU1Z2/rr/kyf6/L/ADR29FcTpHxEfVb3SVbQ57az1QMkV08ynEyAlkCjkqCMbjjPpWf4V8e6s9hpB8QaZK9tf3DWy6r5kahpS7bV8pRnGABu46Gi13YeyuejUVw1r8TrW58TJp32NEs5bo2kV19tjMjSZwMwD51UkYDfT1rT8M+Kb7xHfXQ/sQ2thbySQ/bGuQ2+RGxgJgHpznp25pLXYHpudNRXIat45ubLUr6PTdBn1Ky0vH9oXcc6p5PG5gqn75C8kAj+tVLLxJrWrfEpbK2ikTRktUnyksWHRgSsjBlLcnC7VIIxk0LXYHod1RXPar4ti0bUtQtr632Ja6f9uik8z/XgEhlxjgg4HU/eFZuveONT0LSLPUZvDqmCaBZZml1GKLynIz5ahhudgM8AD2zSv/X3/wCQf1/X3nZ0Vyf/AAmV3c+JYdK0nRGu45LeG6kuWuVjEUUncgjkjjgEk8+lULbxtqMfgay1qDSmv1kaQTy3eoQQCILIVGXKqCT0ACj656vZXYLXY7uivPpvHGrXmoaBcaBp0t5FqNjLM2n70TLqwGTIw4A5578cc1YPjWfUG8NXNtusYru7mhvrdwrFTGhyucdiM5GP6UPTf+tbBvt/WlzuaK4bQPibb63rUVk1gsEV0rm0kS8jmkk2jOHiXmMkA9e/FW/CPjefxXeSKukpb2qoXWZdQilcc8B4gdyE++f60BsddRRRQAUUUUAFFFFABRRRQAUUUUAFFFFABRWN4ovrmw0lHs5vIaS4jjeRVVpFQt8xjU53PjouCT2B6Unhm+nvbW7E9w9ysFyY4pZkWOZl2qf3iALsbJIwVU4wcc5Itb/1/W4PQ2qKKKACiiigAooooAKKKKACiiigAooooAKKKKACiiigAooooAKKKKACiiigAooooAKKKKACiiigAorzy28a6ja+P9W0zVHH9mNN9nspiqgQzbNwQkDJ3c4z3FXvCPi+7v7Xw/aain2i51KzmuJLrITBRsY2Bcc/hQtVf+ur/QTdnb+u36na0VxLfEG5fTdInsdCa6uNVmnhjtlugpVoyQPmK4wcc9MD1plh8R5ry403zvD9xbWt3dGyluGuFIiuOfkCgZYcfe47+lG7sN6bnc0Vw2lfE611TxFDYCzSO0upmgt7kXsbyM4zjdCPmQHBwT7etVrvx/qU+i6lfRaLNaWdnP5AvI7yPc7iZU2qrRtxg5JI9R15oWtvMHpoehUVyN542u49ZurbS/D13qdnYSJFeXUEg3Ru2CQkWNz4BGcY79ua67rR0uAUUUUAFFFFABRRRQAUVFdfaPsc32IRG52HyhMSE3Y43Y5xn0rC0S8vk8QXGm3l9NeLHbrIZLmBYW8zcQwjAVd8fTnnGR8xzwdbB0udFRRRQAUUUUAFFFFABRRRQAUUUUAFFFFABRRRQAUUUUAFFFFABRRRQAVx918Pba90PWdPubvc2o38l/DMIsG2dsYx83OMeoyCeldhRSsO7RxM3w+uB/Zjafr8tlLaaeNOuJEtlYzxZycbj8h6889vTm7pfgr+zbjQJPt/m/2NbS2+PJx528Dn73y4x05rqaKf9fn/AJsm39fd/kjkdN8Cf2fZ6BB/aPmf2PcSzbvIx53mbuPvfLjd79KpaT8OLmwbTYLzxDLeabp1x9qjsvsqoPNyxB3ZJwN3Q579O3d0UbO43rv/AFv/AJs4iy+G8Vh4l+3xXtu1l9oNwLWTTIHkDE7seeQWwG6dwOM966Hw5oX/AAj+nzWv2j7R5t1Lcbtm3G9s4xk9PWtaihaKyB6u5yGr+B7q+1K+l07X59OstU2/2haJAr+dxtJVjyhK8cA/0rT07wzFpniKXUrebETWUVmlvs+4secHdnn8q3KKFoD1Od8U+D7bxTPp0s87QmzmDvtXPnR5BaM8jglV556dKo+IPAs+ta1d3tvrktlDe2YtLmBbdJC6jOAGPKjJBIA555547CilbSw7nP6N4XbStYN+94JmOnw2RQQ7R+7/AI87j19O3qaxIPhvc2dvpKWPiGS3l09JonkW0RvMSV9zBQxIRsHG7ntXd0U3rv8A1v8A5sS0VkcMnw8vbSDSP7L8RNZ3OlQSwRTrZq+8O+eVZiOnH1546VbtPAUVrbaNEb9pjp1xLcTu8XN08gIbv8vX3/rXXUUPXf8ArW/5h/X6HE+HfhyugastwuoQT20IYW8f9lwLNGTwCZtpZiATzxn6cVPpfge5tvFy69qutDUJog4jCWMVu53Db+8dOZMLxyPy6V19FO+twCiiikAUUUUAFFFFABRRRQAUUUUAFFFFAGfrGltqcNuYZ/s9zazrcQSFN6hwCPmXIyCGIxkHnqKbpGly2El3c3lyt1eXkgeWSOLy0AChVVVycAAdySST9BpUUAFFFFABRRRQAUUUUAFFFFABRRRQAUUUUAFFFFABRRRQAUUUUAFFFFABRRRQAUUUUAFFFFABRRRQBy114Gtr631+G7uPMXV5lmQiPBtnVQFIOeSCM9vSqKfD25tbLRE03X5LO60qKSA3CWqt5sbnJG1iQp9+a7eilbS39dvyA5HSvAg0uHw/GNRMo0WWeQEw4M3mbuPvcY3dec+1EXgXy7Kyt/7Rz9l1c6nu8j72STs+9x16/pXXUU+t/wCv60B6/wBev+bOJ0f4bw6Pr63kV5byWUUjSxWz6ZAZVJOR+/ILnBPHQ9BnirMngbzPB97oX9o4+1XjXXn+R93Mgfbt3c9MZzXW0ULT+v67Bu7nI3vgm8fWrq60nxFdaZaX7pJe2sMYLSMvBKSZzHkAdP8A61dcBhQB29TmiijpYAooooAKKKKACiiigCG7txd2c1uZZYRKhTzIXKOmR1Ujofes2w0e8TVI9Q1e/jvJ4IDBD5NuYVUMQWLAs2WO1e4Ax0rYooAKKKKACiiigAooooAKKKKACiiigAooooAKKKKACiiigAooooAKKKKACvF47+80G88WX0rNJpF/f3dlMoH+omxmOT6NuKn8PavaKyz4a0g2GoWTWYa31KVprpC7HzHbGTnOR0HTGO1Jq9/T/IpO33nG+Ftcu7WbSNPa5EdgnhhbsoVXiQNjdnGenbOKig13xNq8PhS2sdYSzn1SynlubhrVJMsmCCFwBnt2HPeusvPA3hvUI7CO80uOZdPjEdsGd/lUdFPPzDjo2e/qatWvhrSbKTT3trTY2nRPFanzHPlo33hyec++aqTu2/X9f819xGyVv62/yf3nD+H/ABP4lupvDV7qGoQS2mqvLayWqWwXmMMPML9dxK9BgD0rO8IajrWiaD4cuo9Uhm0y91A2R04W43LvkfL+Z94kHnHAxivR7bwto1pDYRW9nsTTpHktR5rny2bO48nnOT1zVTTvAPhjSdShv7DSY4rmDPlyGR2xnPOCSCeTyefyoT97+v67jezS/rf/AIBx2l+M/E994qSVLbUZ9Okvmtnt00sfZ4owxXf54JYsMAkEY6+1dF4Hutd1ea91HVNXE1nHcz20Nmtsi42vwxcDJ4yMfjWongrw7H4g/ttNLiXUN/meaGbG7+9sztz3zjrz1rS03S7PSLd4NPh8mOSVpmXcWy7HLHknvSjolft/l/wQlq9P63/4BxGsa34in1DxBdaXq9tp1r4fxmzlt1kN1hN5LsTlQ3QY/Q1X0WC71r4rLql1dRmOPTYblLeS1RjGsgOEVzypDEncOT0PFddqvgvw9reqR6jqmlxXF1HjDszANjpuUHDfiDxx0rQi0qyh1aXUooNt3LEsLyBjyinIGM4HX0ojpb+uj/ryCWui/rY5rXb7XNR8XnQtE1aLRlt7IXbzvbrM02WK4AbgKMcnrXMpqWq+Kdc8MXdpf2+lahcWN0rXCw+auVcAlFY4OdueexNd/rvhPQ/ExiOt2CXLQ52NvZGAPbKkEj2qLU/BXh3WIreLUNLikjtovKhRWZBGmQcAKRjoOaS/r8f8xvX+vQ45/EHjDUPCNjd6fLKTBPPDfXWn2UdxLJsbajLEzAEHvt6YzwOKbrXjTV5LPRLbQr67uHubeSWa8sdJE0zsjbSvks2F5zu564xwa7C88CeGr/SrTTrrSYmtbPPkIrspTPX5gQxz1OTyeTzTr3wR4c1HSbTTbvSontLMYgRWZSnr8wIbnqcnk8nmn/X9f5C/r+v8zlY9b8V61eeHrGO7fQrm8tJnuxNZKzBo2A3BHHGR74w3ep4vEmsya7F4ZF5/xM49VbzpjEmTZBfMBxjAJDBc46111t4d0qynsprWzWJ7GFoLfazARo3UYzg5x1OTUw0awGuHWBbL9vaHyDNk52ZzjGcde+M09L/f+d1/l94tbf12scJN4j1qPxZYS2etm+0m/wBQaz2CwjiijPzAqrFvMYqQDnG0+vasjT5tWtfDd3cX2prqJfxHHBi4tY2wyybWcbgeo24H8O3g130PgLwzb6k2oQaVHHdGcXHmrI4KuCTkc8DJ6DAPcU8eCPDwuLmddOCyXVwlzMVlcBpFYsrY3YHJJwOKUdLX/rVP9GOWt7f1v/wDldT8R+Iyuu65Zara2llot0bf+zJbdW88KQCWkzuUtu4A9qh1rxB4oe98SXWl6vHaWmjpBOls9qjmQNGGZCxGQOvPJ+ldje+CvDuo64ur3ulQzXqkHzGLYYjoWXO1j7kHoPSrM3hvSrj+0vOtd39qKq3n7xx5oUYHfjj0xS15fP8AUelzkPE2teJrDWIb37ZcafoZiibzbbTUu4+mXM3zB0A6ZHUdOa9BikWWJJI2DI6hlYdCD3rA1HwJ4a1bUI73UNKjmuI1VQ+9xuC9NwBAb05zxx0roQAqgKMAcADtVaE66BRRRSGFFFFABRRRQAUUUUAY3ii0fUNLiso5bOMz3MYK3o3JIAdxXbxvyF+7kZAPIrEj1a28N2N3pki6TpVyLlYUuII1trdi6BvMKk8FVHIJOSF55wOrv9PttTtfs97HvTcGGGKsrDkMrAgqR6gg0mn6dbaZbmGzRlVnLu0kjSO7HqWZiWY9skngAdqO/wDXYDlfCkcWpeB5LbTtXkVY7u6WSe2lV5GXzZCAXOcFgVO7rg5BGc1DZadLfeDfC7vp7arZw26m4sQ6DzCY/lYhyFfaexI656iuytLC2sbVre1j8uJndyu4n5nYsxyfUkmqr+H9NfTrWxEMkcNmALcxTyRvFgY4dWDDjjrz3ofX5B/wTk9OQaleWWlalAg04X12EspMSJiMLsjbqCELN8vIBUAcKDT00yS4CxDTm1XSdO1C5hGnhkAKkAodshCMEJdQpOBkY+7XUt4f01tMgsBbtHBbndD5Uro6Nz8wdSGBOTk5ycnOcmkfw7pj2MFqIZI47di0TxTyRyKTncfMVgxJycnPOec0f1+Wv9feH9fnp+JU8ISyyaROsieWkV5NFDGG3eWgcgJnp8vK4HAxgcAVvVBZ2dvp9nFaWcQigiXaiDsP6n3PWp6YgooopDCiiigAooooAKKKKACiiigAooooAKKKKACiiigAooooAKKKKACiiigDzgaDpPjDXfEsviqSR5NOn8mCMzsi2kOwESAAj73Jycj5adqWq3ieH9Pg8MeLJbieHTzdFlso5pbmNTgyM8jBUAPGD83XqRXT634I8OeIrxbrV9MjnuFG3zFd42Ye5UjP407UPBfh3VZrSW/0m3lNkgjgUAqqqOi7QQCPYgjr60rPlt/XqO6vc4k6jrWq+IfB2onVGhW4sHupLZIAVLIuX4J6uDtz/D260zwt428UXmow3l9bajd6fdRSyOp0sRQW+FLL5cwJLjI2/Njr613Mng3QJodNilsAy6Wc2eZXzFyD13ZIyBwcjim6f4J8PaTqsmp6ZpkVteyBh5qsxCbuu1Sdq/gBxx0pvrbz/X+vKxKWmvl/X9b/ACOS0bxB4kluPDV3fa1a3Ftrlw7NaRW6KYVCsdgbqwBxk8EEAZOaIfE/iM2cPid9TtjYTaiLT+xjbruVTJ5f+sB3F/4sdPw4pfDXw41TSvEVtd3z6SILa4kuPPtY3E9wxDBQwPyIoDdF4GO/WutTwV4dTxAdbXSoRqBfzPNy2N397ZnbnvnGc89aate/9dP+D+YPZr+uv/A/I4271LX77R/F99carG9jp09zbQ2T2UThtuNpYkcgZ6EHPc1Z/tnxBqeoXcOk6zY6PDo1pbyOlzApS4LxhyXb/lmg6ZWuy/4RvSfsGoWX2X/R9SleW7TzH/eO2NxznIzgdMVV1LwR4c1e5tp9R0uOeW1RUjYuw+VegbB+Yf72alafh+pT1f3/AKHJ+KvFGs2c0mo6JriTW1m8CXNnBZI0KF9pw0zsGbcG42A4GM461t+GTn4geLj/ALdr/wCiqvX3gPwzqWozX97pMUlzOoV5N7r0xyADgHgcjB961bTSbKxv7u9tYdlxebPPcux37RheCcDA9KpOy/ry/wAiWXKKKKQwooooAr399Bpunz3t4+yC3jMjt6ACuR8JalbXvjPVpBqdrd3FzZ28hWC4WRUw0uUXB6KCoOO5z3rtqgjsbeLUJr1I8XE6JHI+4/Mqliox043N+dC3B7WJ6KKKACiiigAooooAKKKKACiiigAooooAKKKKACiiigAooooAKKKKACuWv/iT4T0zUJ7K+1XyriBykifZpTtYdRkLg11Ncj4p/wCR58If9fFx/wCiqXVD6M6izu4L+xgvLR/MguI1kjfBG5SMg4PI4ptrqFrey3EdpOkr2snlTBDnY+AdpPrgivHrf7N/akW37cfHv9p/v8CX/VeZzn+DyvLx+GO1Oibw74f/AOEutbrTpZpPtwjlgE00YW1ZlwzMuflyc+pyB0NO9/69P8xPS6/rr/l+R65qWqWekWoudRm8mJpFjDbS3zMcAYAPc1FrWvab4d0/7brFz9mt94Tf5bP8x6DCgntXj1n5EHh3WLSwk3WK6rYS2yiKSJSrkfOqSMzAHHUk5xXf/EuCO60XS7edQ8UurWyOp7gkgih3tp3X42/zBb69v8/8jbvvFWi6bJpyXl6I21MgWgEbN5ucY6A4+8OuOtaNvdR3Pm+Wsq+VIY28yF48kem4DcP9oZB9a8Rjgu7iaxbUYsHQ9StNJhYjrtlYsf8AvkJWlqMFlP4d8RHUr0WsEfiWd9ssM0kMx2jCSeV8ygkg59R3o0tf+ulvwY7Pb+uv6o9iqKa5SCSFHWUmZti7IWcA/wC0VBCj3OBXkkz6dqHwntftRXSrG1vWEYK3c9pd4Bx0PmJGWPGehHc1Po91Hdad4O+z2QtYItYeOMxySvHKAh+ePzPnCk5wD0wadtbea/G3+ZLel/X8D1mivGdH0i1trbQtdg81dQk8RNbGXzWx5ReQFAucAH6dz61WuRZfa7g34vv+En/tyMXZO/Z5PnDZn+DZjbt75xjilH3ref8AwP8AMctL+X/B/wAj2e/v7bS7Ca9v5RDbwrudyCcD6Dkn2FVY/EGmS6v/AGYlyftePuGNgM7Q23cRt3bSDtznHOKxPiHuOmaShz5EmsWq3Hps39/xxUPiHQbePV4msbi4TUNTnbyogy7ISYwktwBjORGMDJxkjjJoX9fh/mP+vz/yOkbW9PXSJtUNx/oUO7fMI2IAUlWOMZIBB5HHfpV5WDqGQhlYZBHcVwWha22o6bqmj3FvaxWNpp7r5MYKtagNJH5UpLHLFUDZwvfjoa3/AAK0z+AtFa4zv+yJ164xx+mKO/y/X/IT0dv66f5m/RRRQAUUUUAFFFFABRRRQAUUUUAFFFFABRRRQBXvr+2021NxeyeXGCFGFLFmJwFVRksSeAACTSWGoW2p2xns3ZkDFGDoyMjDqGVgCp9iBVfWruzsbWKfUY/3KzKPPKKRbE5AkJb7oHTd2zzxmsnwtdW8Z1EpeJdW096PI1CRlBvJCg3YIwrYI2jYAMLjqCaFrcGbz6jaR6lFp7zoLuaNpUh6sVHBb2HPeq9tr2m3d7Naw3H72EMW3xsikKdrFWIAYKeDtJwetZdzY2tp8QNLltreOKW4t7t5pFUBpD+65Y9T/SqGr6PBaXsy2RuLt1t5rh7VmUrFEzb2jXAz+9dQPmJ4DgY6Ur6XfmO19jsIJkubeOeLcY5FDruUqcEZHB5H0NSVheFtZn1i2uWnmtbpIZFWO6s0KxSgorEAFm5UkqcMenbpW7VPRkp3QUUUUhhRRRQAUUUUAFFFFABRRRQAUUUUAFFFFABRRRQAUUUUAFFFFABRRRQAUUUUAcxqXxF8K6RqU1hqOqeTcwNtkj+zyttOM9QpHeuitbqC+tIrq0lWaCZA8ciHIYHoa8d1PWV07xj4mgfxf/YKzXIzB/Zn2nzh5YGd2Pl9KFFiui+GB45tZrTw8LGQLEglCfaN52s+07ssnzD6ntmlHWKfp+TYPe3qez1Uv9Vs9Ma1W+m8o3c628Pylt8jdBwOOnU8V5ZPu/4RPQf+Eo+3f8Ix9rn87zN+/wAnn7N5m35tv/2PtSW3/HjpH2L7R/Y//CTxf2X9o3Z8nafu7udmc4zVLV29P0/HUTel/X9f8j1+ivD/AAkuoH4g25mubOHWFupDeowuzcyx5O5Xypi24wR06LzVnR73TLn4g6TqWlW8mn3Mt9LBfwuZ3dWIcASSu2wlsZCAZGOpxSWtvMctL+X/AAf8j2eivGdH0i1trbQtdg81dQk8RNbGXzWx5ReQFAucAH6dz617NQtYqX9bJ/qD0lb+t2v0CiiigAooooAKKKKAGu6xRs8jBEUEszHAAHc1R03XLDVZGSykkLqgk2ywPEWQ9GUOBuX3GRUXii2mvPCeqW9tGZZpbWRUjU8udp4H1rOstQs9a8VWNxpE8dxDa2EqzvE2RGXaPajY6N8jHB5GKFq7f11B7HTUUUUAFFFFABRRRQAUUUUAFFFFABRRRQAUUUUAFFFFABRRRQAUUUUAFFFcXrPjPX9K16LTY/CP2gXUrx2cv9pRp5+0ZJxtO3jnk0dbAdpRXOWPjrQ7nUodJub2G21dgFltNxcRyY5j8wDYxB44PXiqun/Enw/fDVZGufs8Gmvh5JVb514G4DHdsgDqcdOaAOtorlbjx/pUnh86rojrqUS3Uds6gtEVLsBk7lz3z05rc1jWtP0DTmvtXuVtrZSFLsCck9AAAST9BQG7si9RXPDxppN1p1lfaXdwXNvd3qWYZzImHbtgITu9AwUH1FNt/H3hq61waRBqW6+Mph8ryJB84JBGSuOx5zQHS50dFYml+MvD+tarLpul6nFcXcIJZFVgCAcEqxGG/AmrGoa3Dp2sWVjM0S/aklfLM+7CLk7QEIPvll9s0B5GnXJj4daSutNfi61ERPd/bGsPtP8AozTddxTGSc89f04q7pPjnw3rmpLYaVqiT3Lp5ix+W65GM9SAM47devpVjXPFOjeG2hGt3q2pmVmj3IzbguM9AfUcd6NncN1YtavpVvrWlTWF2XWOUD5ozhkIIIYH1BANXAMKBknA6nvWFZeOPDeo6lbWFlq0M1zdR+ZFGobkYJwTjAOB904PtT7Txl4fv9ek0a01OKW/jLAxBWwSOoDY2kj0BPQ+ho8gNHVNPj1XSrmwnkkjiuYzG7REBtp4OCQe3FTQQR21vHBAgjiiUIiKOFAGAK5yP4j+EpJ2hXWoVdUZ2Do64C5yMkdeDx1PYc1bHjLw+3h3+3Rqcf8AZ27Z5xVgd2cbduN2fbGcc9KOlw62NyisFfG/h19CGsJqkZsDKITKEb5XJ4DLjK/iBxz0pbHxpoGpWd3dWd/uhs4fPmZ4ZE2x8/MAygkfKemaAN2iorW5ivbOG6t2LQzIJI2KlSVIyDg8jj1qWjYAooooAKKKKACiiigAooooAKKKKACiqep3k9laq1pZveTySLHHGpwoJ/idsHao6k4P0J4rNi8QXc9m6w6WZb+O8Nm8SSkwqwG4sZdvCbT125zxjNAG9RWfo2pnVLOSSSEQzQzvBKivvUOhwdrYG4e+B6EAjFV08RRS+KE0aG1nOYpJGuXQom5GUFVyPn+9yRwPUnOADYorJ1rXV0a606OS3aVLyYxs6tjygFJ3Y7jjnkYGTz0pt/4hSy8Sado627SyXu4vIGwsICOy59SdjAD2P0IBsUVzsfiO9vnsU0iys7k3VobovJePEgAYLgHyiT17ha09H1GTU7J5Z7b7PLFNJBIiyb1LIxUlWwMjj0B6jHFAF+iiigAooooAKKKKACiiigAooooAKKKKACiiigAooooAKKKKACiiigAooooAKK4u68a63/bGqWmkeFG1GDTZNks6X6IT8obhCuScdhmrsvxE8NW2kWGo3uofZor9C8KPEzPwcEFVBxg8enHBNHS4dbHT0VzF54/0W01/StLExkbUkV45lUlArcJ0HJY8e3JJHe5pfjLw/rWqy6bpepxXF3CCWRVYAgHBKsRhvwJoA26KKKACiiigAooooAKKKKACiiigAopskixRNJIcIilmOM4ArL0TXk1ue/SO1nt1tJVjBnQo0gKBt2wgFRz0PP0oA1qKKKACiiigAooooAKKKKACiiigAooooAKKKKACiiigAooooAKKKKACud1/Sry98V+HLy2h329lNM1w+8DYGjwOCcnn0zXRUUAeaQ+GPES2cPhhtLthp8Ooi7GsG5BZkEnmf6v72/8Ahz/TmrDWHjHSpvEKaLpyf6VqAvILkXMYMyEqGjCsDtOAfmb3x2r0Oijb+vT/ACQPX+vX/Nnlq+E/EEtlq3maW0Ml7fWVzHG1+LgqqH5wZHbJK47/AIZrtfF9jLf6CY7bS/7TmSVZI4lvDaurA8OkmOGB55x3+h3aKHqrf10/yBaO/wDX9anm1v4f8V3WiaXHqkc0r22uQXKRXN3HNNDbrncXlGA5ycjHOD+Adaaf4oufHVzqGt+HjNFIzW9pdfbogljAcgssfJLEck8HtxXo9FG/9eSX6fmHT+vU8u8G+Cta03xDYf2vBqAh0wP5Nw2rJJbnIK/u4dm5QQehI/pXUeJNGv7/AMVaPeWkHmQW0F2kr71G0vGAowTk5PpXU0UPVWf9XBaO6OC0bwxqVnH4K82yWNtLWcXmHT91vQgdDzkntmtnWdIu7zxx4e1CKASWtktx50hZfkLIAvBOTz6V0lFNu7v/AFqJKyt8jznSfCWq2mm+GopLFY5LHVJri4AkT5I2L4PB54K8DJqh4e8C61YeI7SHUItReysblp4rkashtyckgrAULAnODyOp5r1WiktH/Xl/kN638/8Ag/5nnOl+EdUg07w1HcWCiSy1Wa5uQXQ7EJYq3Xn+Hpk9PSm/8IrrdtbSXlvYRT3Npr82oQ2ckyqtxEwwCDkhW5yM9MV6RRRt/Xp/kger1/rf/M81ufC2u6pbXmoXemQ29zqOqWs76ek6OIoouGZm4ViRzx/PipviDpc934p0i3spFUa2psbxO7Qo6yFh7gbhn3r0Sq/9n2f9ofb/ALJB9s2bPtHlDzNv93djOPajqv66WDv/AF5k6qqIFQBVUYAHYUtFFABRRRQAUUUUAFFFFABRRRQAUUUUAUtVe8jtFewtkuyHHnW7YDSRnhgpJChu/wA3BwRxnIwbGy1LT7O5e10eNLCe4GNGJj3JDs2ttw3lqS3zFclcZ5ya6uigDC8P2t1p0Ewexe2t7i6JgskZCLOPaBzhtoBKk7Uzgv8AU1PdWVxJ4u0+9SPNvDaTxyPuHDM0ZUY687T+Va1FHW/9bWAxdd0qTU9S0r915ltG8wuDuA2q8LL+PJxxWRZ6LrD32l32pxK11HesbhldfliW3eJG/wCBMd2ByPMPpXY0UAcFbeHpre30Uav4a/tdbbTTA8WLeTypNyn/AJaOB0B5Ga6Pwvpr6ZY3Km1+wwzXTzQWQKn7OhAG35SVGSC2ASBuxW1RT/r8bg9Xf+trBRRRSAKKKKACiiigAooooAKKKKACiiigAooooAKKKKACiiigAooooAKKKKAOAVfFmh+Itfk0vwyuoQajcCWG4a/iiC4QLkqeTz9Kqv4a8U6To+n6Fp8K32ntZPHcmK8+zCO4dyxcsBvZBu+6OvOR2r0milbS39dh31uecQ+HdftI/CMkWmea1jaS2d4n2lFaDeAu/OSGwMnA5PtVXwb4K1rTfENh/a8GoCHTA/k3Dasklucgr+7h2blBB6Ej+leo0VV9b/1/WpNlawUUUUhhRRRQAUUUUAFFFFABRRRQAVk6VZXFtrmt3E0e2K6njeFtwO4CFFJ9uQRzWtRQAUUUUAFFFFABRRRQAUUUUAFFFFABRRRQAUUUUAFFFFABRRRQAUUUUAFef+JPFuq2Pix2sJVTRtIe3TU1KKd/nN2JGRtBB4PevQK4V/hRot7Dey6yWvtTu5JJDe7nj8st93CB8fL79aXVPsPS1jT1XxnHpE+sxXVn8+n28dxABL/x9BztAHHy/P8AL361ma78S10TURZyaZHJJBDHLfBr+OJodwztjVsGUgdhjt61cuPAUd7L4fmvb9pZtIVUlcRY+1qpBUMN3GGUHv3qLxD8PV1nxA+q2t9BavOqLcJcabDdb9vAKmQHYccHrnj0p/1/XqIsN4yvJ/FH9k6PojahEsMNxJdLdLGFicZztYcnpgZ59sVX03x+8uuXmma5pS6ZJa2z3LFL6O5IVOoYJ9w4OcGtFfCMSalqlwl0Y4tQsUshFFGEMKqpXcCOO/TAAxWRpvw+udPMUl9q51UW9hLYrbG2WBWiZRhQVPByDljuzntilqr/AD/W36DXT5fpf9STTPH91eX2mR33h+awttU8x7e4kuFYNEqF92AOCcfdOOuQTTPDvxLt9e12GwaxS2iuw/2SUXscrvt5w8a8xkgE8/SuZ8Iabrl5r+iQapaawtvpazqy39usUMMRjKKiOOZTz94446DGa6nw38O08PawlyL63ubaAN9niOmQJKuehacDexAJ54z9OKvS/l/X9dienmaPiXxRd6Jqmm6dpujtqlzqAlMaLcCLBQA8kjGMHr7Vj2/xPgm8Rpp8thHHbPdfZPtAvo2kEudv+p+/s3cbvTB9q6W/0L7d4m0rV/tHl/2csw8ry8+Z5igdc8Yx6Guft/hvFa+J21GK9tzZNcm5NrLpkEkm4ndgTMCwG7p3A4B71Md1f+tf8hvbQtWXja71DWAlp4eu5tHN2bQalHIG+ccFjEBkJkH5s4x+VQS/EKSO6luV0Od9AhufssmqideGztJEXUruIGc/4VNZ+CLvT9XLWfiK7h0f7Ubv+zY4wp3nkr5oO7Zn+HGMfnUM3w+llu5rca7cJoM919ql0sQr8zltxAl6hdwBxj/GiPS/z/D/AIP4A+tv63/4A5/Hk8WpausmiuNN0h3W5vhcr2XKhUxkljxjOBkHNRaN4q1vVPGGn2uo6XLpFvcWMs/kPIkol5Xa24DIIycqcdq1I/B9u1r4gtru4aaHWpmkZVTaYsqBgHJyRjOf0qpoXgzUNN1221PVfEUuqPa2zWsaPbLGFQ4x0J54OSck8elKPS/b8bO/42CWzt3/AFX6C+J/G8ug69b6VaaXHeTSxCUtPfx2q4LbQFL/AH2yDwPb8JrnX76PxVPYWdlPcTJpQu0tGnjRWcvjbnaSG995X270eLvCl94nVIYdaS0tNuHt5tPiuVLcgMpbBVsEjOfpjvBceBW8yRtP1aW1zpC6XGxj3ugDZ37twyccY4+tHT7/AMnb9B9fu/Nf8EzrX4nTNpeqXuoaF9lWwlS3QpfJIk0zHGzzMBQBwScnArc8I+L4/FMd2jW8dtdWjqJYorpLhMMMqRInB6H6EVjWnw4u08MS6Ff6+t1ZqFNqi6dHGIJFbcGPJ8zPcN1yea3PCfhc+GrecTXFtdTzMMy2+nw2gCjoMRjnqeST+FUutyX/AF/X9a+Rk3vjeXSpNZc2c979k1GG0SHzUGd6j7mEB/BicnuK1vDPiS51u41Gz1LSn0u+0+RFlgMwlBDLuUhgAPX/ABqleeBvtc1/J/aOz7ZqUF/jyM7PLA+T73Ocde3pWxp+ifYfEOrap9o8z+0jD+62Y8vy029c8569BSjtr/Wi/wCCN76f1q/0sc3q/wARZ9K1TU4RoEtxZaVNEl3dpcqNiyAYIQjJPPQfiRmph8Q/s0GstrOjz6fJpiRyrE0yOZkkOEORwpJxkZOPXiptU8C/2lb+Iov7R8v+25IXz5GfJ8vHH3vmzt9sVJqngeDV7vWJbu7by9TtoYNixjMRjOQ2SeeccYpa2X9dP8x6X/rv/kZMXxSQ6HqV5NpcYu7DymNtb38c6yI7BQRIgIyDnK49PXguPiTqNrHqCz+E7hLjTtsl1H9sjKxwMMh92OW/2QD354p8Xw1YaBfWFxqdq0900eLi30mG32KjhsYjwWyR3b04rU1HwZ9vn8QSfb/L/tm1jt8eTnydgIz975s56cU3toJeZFqXja5j1BrXw/oU2sG3t0ubtlnWLyFcZUYOdzEZOB7de0T+PJ7vVtPsvD+itqQvrFb1ZHuVh8tC+07gQensTzwBT7/wTevdC40TxBNpUk1qlrebLdZBOqDCkZPyNgnkZ/xuaX4Pt9H160v7O4YQWumDT0gZMkgPu3ls9fbFPS/9ef8AwBa2+X+X/BK2n+NzqH9jRJppS71G4mhmgM2fswhzvJO3noMDjOa6yuG8K6H/AMV/r+ui3uYbR2EdotxE0eWYK0zqjAEAso5xzzXc0uiY+rCiiigDD8U6rJptpaRwTm2e8uRB54j8xoxtZiVXB3MQpCjB5I4PSmWGrrDo9xN9vm1R0m8qOOe38icOcbY3XauCScg7V+Ug89To6rpx1COBoZvs9zayiaCUpvCtgryuRkEMQRkdeCDzWdH4VhnkluNYuZLm8lmExltZJLUIQmwBQj7gNuerHOT9Ad/67A+n9dyXwne3uoaAs2qSpLdC4njdkXavyTOoAHpgAevrWZFqmp/Z4NbkvHNvNqAtjYeXH5axGXyVYNjfuzhjlsdRjpWpoWgtoGni0tbtpVa5kmkaffISrMzbVy52kZHPOcEkZOagj8MyJMkBvUOlRXZvEtfI/eB9xcAybsFQ53AbQeAM8cv7SYdH/XcPFV/PZyaXHDeXlpHcXLJK9lbCeUgRuwAXY/cDotJ4Y1Ka8u9St5L25u47Z4/La9tfs843Lk7l2J8ueh2jv1xV7WNMur+axnsLuG2ns5jIpmgMqtlGQggOp/i9aNM0u4tr65v9Ruorm8uESMtDAYkVEyQApZjnLMSSfTpikgZp0UUUAFFFFABRRRQAUUUUAFFFFABRRRQAUUUUAFFFFABRRRQAUUUUAFFFFABRRRQBwXjA+KbDXLA6b4n+zWuqXqWscH9nxP8AZwVJzuPLcg8cdai0r4j+Vq8GkagEu0Fz9ibUvtESSSy527vsyncqluM9Mc+1dXrmhf2zdaVN9o8n+zrxbrGzd5mARt6jHXrzXP2/w3itfE7ajFe25smuTcm1l0yCSTcTuwJmBYDd07gcA96I9n/W3/BFLuv63/4BZj8a3UniZvD6aIx1KOY718/92tuACJt+3vkALjrxmneBPEWseIYdTk1mwS1EF20URSVWAxw0eBz8uB8x67uOlMh8Cyw+JB4gGrudUa5Z5ZDCdjwEY8gJv4AAGGyTnmtHw54cn8P3epn+0zc2l5ctcRW7QBTCzElvmBy2ePTpRHbXt+On9evkOXl/W/8AXp5nN654q1VdN8TX+nXXkRadeQ2VuBGjYYMvmMcg5J34x2x61va3q17Z+MvDVjbzbLa+Nz9oj2Kd+yMMvJGRg+mKzoPCwvD4q0K+S4jtL+6W9huUXHLgE4bplXTp6Y9as6V4P1CLXLbVPEPiGXWJbKNktE+ypAse4YYnaTuOKFsv66f5je7t5/8AAKOifEW61W60s3Ph6W0sdSleCK8+1K48xd3G3AOPl6nHfriiHx1cpp0K2mnT6pqN3qFxbW9s9xGmRGTuO8IoAA9QT6k9avad4H+waToVj/aHmf2ReNdb/Ix5ud/y43fL9/rz0qu3w/ljsrf7BrTWmoWt9PdwXi2wbYJfvIUJweOM5/Cjr/Xl/wAET30/rf8A4A6Dx/JLYQzzaO0EkmsrpLwvcAmMnq5IXBx6D86k1Xx9DpK6t51luexu4rSEG4VBO8iBhlmACAc5Jz0zWRpXg291Hw/qNjcXl1Z3lvrz3ltezQZZ2UjEm04DA89OP5Vcb4bm40vUINQ1hru6vLqO8FzJaodkqLjJT7rKefl4GDj3oe33fp/wR6X+/wDX/gEcnj2e/wDB97q9jEltdaTcxm7to547hJI8jIWReCCpPI5BBH17uN1kjV0OVYAg+orgr/wjc6X4FvNJtjFfXuqTRwtLbadHbKqlhkssY4Cjcckn+ld5FGIYUiT7qKFGfQU/6/DX+vUn+v8AL9R9FFFIZR1zUH0rQb6/ijEklvA8ioTgMQOAaz7GXUNP122sL+/k1Bby1eYPJHGhjdCgYLsUfKd/Q5Ix1rW1Cxh1PTbixugTDcRtE4BwcEYOKz9O0e7h1BL3Vb6O9mhgNvAY7fygqkgsW+Zssdq8jA46ULf+vMHsbFFFFABRRRQAUUUUAFFFFABRRRQAUUUUAFFFFABRRRQAUUUUAFFFFABRRRQAUUUUAFFFFABRRRQAUUUUAFFFFABRRRQAUUUUAFFFFABRRRQAUUUUAFFFFABRRRQAUUUUAFFFFABRRRQAUUUUAFFFFABRRRQAUUUUAFFFFABRRRQAUUUUAFFFFABRRRQAUUUUAFFFFABRRRQAUUUUAFFFFABRXh/iO1tV8S+KNQ1Dwq2sW8F0qvdi/aH7PlF6ovLDvnFbOpa54j0W00PQdNvbu4mXTRcyXmnWAvWm+bCgByPkAx83Xp60k7pP0/K4dbf1vY9Xorze48T6lHeaRqV7p6wXa6Ld3E1vNbBXEiAcAsN6qSM4B6HvWfovjjxRb2l5falbahe2xsHuY5LrSxbRRSAbgqupO9CCeTg8DHWm9L+V/wAL/wCQLX+vT/M9YorziafxOnhm+kufFljO11pTXsBiiWOeEgbiIwv3kK5G/qCQRWKfEHiXTNG8P6Rp15fSvJpa3hmsdKS5k2nhYyhIAVRwW6k49aNtP66/5Bur/wBdP8z2GivO08ReJdb1LS9OiuY/D9x/ZpvrwXNruMjByhTY+Cq8E5znBrZ+GRJ+HWlk4JxJ06f6xqdt/wCu/wDkK51dFFFIYUUUUAFFFFABRWV4ouZrPwnqlxbSGKaK1kZJFHKHaeR9KzrLT7PRfFVjb6RBHbw3VhK06RLgSFGj2u2OrfOwyeTmhauwM6aiiigAooooAKKKKACiiigAooooAKKKKACiiigAooooAKKKKACiiigAooooAKKKKACiiigAooooAKKKKACiiigAooooAKKKKACiiigAooooAKKKKACiiigAooooAKKKKACiiigAooooAKKKKACiiigAooooAKKKKACiiigAooooAKKKKACiiigAooooAKKKKACiiigAooooAKKKKACiiigChFomnQvfslsp/tFt12GYsJTt28gnA44wKzLrwD4ZvdMtdPutMEtvZ5EAaeTdGD1Abdux7ZxWtbavZXdxew28++SxfZcDYw2NjOORzx6Zp2malaaxpsN/p0vnW043RybSu4Zx0IB7Uf8AA/4H/AD+v8zn4fC90PGUN3JHp8ei2Nk1rZ20QYuQwXIcH5ccHp2q5pPgnw5olxcTaZpUUUlyhjlLMzgqeq4YkAH0Fb1FAGDpfgnw7oouxpulxxfbIzFPl2fch6r8xOAc9Bjt6Cq8vw58KTabBYSaQjW9u7PEPOk3KW6/Nu3YPpnFdNRQBh6j4M8Parb2cF/pcMkViNtuoLLsHpwRkcdDkVo6Zplno2mxWGmw+RbQ52R7i23JJPJJPU1booAKKrzahawX1vZzTotzc7vJiz8zhRknHoB3+lWKACiqt5qdpYTWsV3L5b3kvkwDaTvfBOOBxwD1q1QAUUUUANdFljZJFDowIZWGQQexqjpuh2GkyM9lHIHZBHulneUqg6KpcnavsMCrzusUbPIwRFBLMxwAB3NUdN1yw1WRkspJC6oJNssDxFkPRlDgbl9xkUdQNCiiigAooooAKKKKACiiigAooooAKKKKACiiigAooooAKKKKACiiigAooooAKKKKACiiigAooooAKKKKACiiigAooooAKKKKACiiigAooooAKKKKACiiigAooooAKKKKACiiigAooooAKKKKACiiigAooooAKKKKACiiigAooooAKKKKACiiigAooooAKKKKACiiigAooooAKKKKACiiigDzdvEum+EPE3imHX3mtnvZVntP3DMJ18vHykDHUY5wM9+tZOneGYr+48H6P4gt5VT+y7hpbcu0ZPzhgGxg9wceor16iklp/XRNfqD30/rVP9Dxm9ispvhXoR1fURHHbTzpFFeRTyQTlXdVV2h+ZSAOD7HjGatxaza2Fv4H1m9tZNO0y1e6iLgyzIAUwjLuy+1sEqDyB7CvW6Kq7vcen5/ieKXE1jceHtLn1aO4Sxk8Q3b3CIGWRYzuLAhfmGB1A5xmo7j7B/wi6/Yvth8Of8JJD9jxv3+XsO/y8/NjdnHfOe+a9e1PRbfVbzTrm4eVX0+fz4ghADNgjDZB457Yo1nQ7bW1shdvKn2O7ju4/KIGXTOAcg8c/wD16UdPw/C3+Qv+D+N/8zymPyP+Ef13/hGPtn/CJ/brbzNgkz5OP9I2bvmx93PtntT3/s//AIRXxb/wif2j/hG/scfleZ5nl+fu+fZv56Yz7/hXslFJq6a/ra39eY1o0/63PJL3w14c8PeMvCc72zRR3KMzTO8r+Zc/KYySCedxz6evFY/g9dTPjWIpc2cWth5ftsbi7NxKOciTKmLH3SMYHC817nRVN3f3/wBf15EpWVvQ8Q8PtpP9s+HVj+2/8JD/AGmTq/n+ZjzMSfez8u7rjHON2a9vooovoHW4UUUUhmV4otprzwnqlvbRmWaW1kVI1PLnaeB9azrLULPWvFVjcaRPHcQ2thKs7xNkRl2j2o2OjfIxweRiumooWjuDCiiigAooooAKKKKACiiigAooooAKKKKACiiigAooooAKKKKACiiuYs9duLLWvE9vrFxvg05UvYCVVdtu0ZJHAGcNG/JyaTaW40m9jp6K4Lwp4p1aHw/rMvi2dZLyxt01AYjVNsEkW9VwAM7WV1z3xVzTvFl1Y6TYWeoWWpa3rQso7m+Wxt0/dbxkbslFz1AA546VT00f9f1bUX9f1952NFcxN4+0pNK0q/ggvrpNVlaG3iggzJ5ihiUZSRg5Ur6A9SBzSS+OoI799PTRNYmv47eO5e0igRnVH3dTv2gjbyM9xjPOEB1FFcs3imDUpPDVzpl5PFbalcyRmI2ykyFY3JR9xBj2sp5GTlcdDmoP+Fk6Z9mku/7N1X7DBO8FzefZh5VuyuUJY7skZGcqDgEZweKOtg/r+vuOworB1TxZa6bqn9nwWN/qV0sQmmSwhEnkRnOGckjrg4AyxxwKqw+PtMu9HtL+wtb68N9PLDa20MI82YxkhmALABflzliOCM4PFAHUUVm6HrtvrttNJBDcW8tvKYZ7e5j2SQuADgjJHQg5BIIPWtKgAooooAKKKKACiiigAooooAKKKKACiiigAooooAKKKKACiiigAooooAKKKKACiiigAooooAKKKKACiiigAooooAKKKKACiiigAooooAKKKKACiiigAooooAKKKKACiiigAooooAKKKKACiiigAooooAKKKKACiiigAooooAKKKKACiiigAooooAKKKKACiiigAooooAKKKKACiiigAooooAKKKKACiiigArgvHukX93rliNNtZZodWi/s2/eNSRFF5qPuYjoNnmrk92HrXe0UdUw6WOB8caJe3XiDT1021klttUiXTr9o0JWKJZUk3N6DaJVyf7wFP1671j/hKrq0ujr0GmeVH9hGi2qOJ2IO8SSlSUOeBkoMc5ru6KOlv61D+v6/I8t8NaTqkFj4RjutOvYpLXWb151mVnaJWE2GZu4O4fNnBz15rrNOtLhPiXrl08Eq28thaJHMUIR2DS5APQkZGfqK6ainf+vlYP6/G55po+lahF/wjHm2Fynka7fyy7oWHlo3n7WbjgHcME8HI9ak/su//wCFMa9Y/Ybn7XK98Y7fyW8x907lcLjJyCCPXNej0Uulv66f5Dvrf+uv+ZxEU914X8Valc3Gk6he22qxQSQy2VuZSkiR7DE4HK9AQTheTkiuf0qKO98D2E+p6DqEyf2neyNNpkrfadPczSYKiP5mHJU7SenQ13Op+E4b/U5L+21PUtLuJ4xHcGxmVRMo6bgysARkjcuD71p6Xplro+mQWGnx+VbwLtRSxJ9SSTySTkknqTRvv/X9f15ztZL+tLGB4G/tb7LfDUJNRlsBOBp76qgW6Me0bt4ABxuzjcN2Ovauqoopt3GFFFFIAooooAKKKKACiiigAooooAKKKKACiiigAooooAKKKKACiiigAooooAKKKKACiiigAooooAKKKKACiiigAooooAKKKKACiiigAooooAKKKKACiiigAooooAKKKKACiiigAooooAKKKKACiiigAooooAKKKKACiiigAooooAKKKKACiiigAooooAKKKKACiiigAooooAKKKKACiiigAooooAKKKKACmmRVOCeadWdevcJDI1lFFNMD8qSymNTzzlgrEcexo2Kiruxe85P736Uecn979K5my8TI2g2WpavElkL4r9njhZ5y+5NwHCA7sA8AHpwSTir9prFjevGlvOS0kbSKrIynarbW6gYIbgg8juKNjWVGcd0a/nJ/e/Sjzk/vfpWA/ibSY4opDcO0ckSzb0gkZUjbo7kKQinnlsDg+hpzaox8Sw6dGyCM27yuHhkDMQVwUfGwgbuec8igPYz6o3fOT+9+lHnJ/e/SsiPWLKW+ktInld4yVd1gcxKQMkGTGwEemc1RvPE9vHp88+nwyXM0ezZDLG8Al3OFBVnXDDJHIyOnqKV0CoTbtb+mdL5yf3v0pRIrHAPNc2niazM8gkDJCtvBMjgF2kMpcBAigkkbOgyeenFaenX9vqMYmtHYqHKMrxsjIwPIZWAIPsRTJlSnFXa/rc06K53xHqmq2OuaJbaPFHObt5lkhmkEaOFj3Al9rFQOvAOelQHxbdNoEeox6faQbJZYrt7/AFFYLe2aOQxkebtJbLD5fkAI67TgFXMjqaK4pPiF9psNJks7SxWfUo5GRb3UhDEzI4QxxyBG8xix4GBkc8dK617iZdNNwlnK8wi3i1DIHLYzszu257Zzj3p9LgWKK5nQfFz6r4iutFu4bBLm3gEzGw1EXSod5Vkf5EKODjjB69eKqar4m1fS9e1wwWUV7p+m2cN1Ir3AiaNcSF9mEYuxC9GKjjrzRsrh1sdjRXKzeK5Y9YurSzt3u55Hto7SGSZY4y0kbuSSELKAqMSTv6cAdKoXni7WpJ4Le206O2vYdZSwmgNyGjnBtmkz5hTKrkqchd2F6ZO2jrb+ui/UN1f+uv8AkdzRWXoOry6tb3Iu7VbS6s7lraeKOXzU3AAgq+1SQVZTyAeoxVXTte1DU7gT2ukpJpLzSRJcrdjzTsJXeYioAQspAw5PIO3rgA3qK5CPxxNH4hXSdQsLKGeSCWUQwams08OxQ4WaMKNmV7qzjI6kc1LbeK9TvLbThBo9v9r1SI3NrC98QqwBVJaVxGdrfOo2qG5PXrR/X9fcB1VFcBaeM9RtrAXWqQyvMkeqzPbiSNVAt5AFjJCEkgHAYEdyQ2eN2w8SX8189rfaMIpZLI3tqlvdiVpVBAKNuVAj/Mvcryfm4o/r+vuG1bf+tbHRUVwd746uza69ZBNPt9SsdMmukexv1u/JdOCkgKLtYEjggg8+lTT+I9XbVEt9PVJAurRWs32iYKCjWyyEKFiJAySeSTkdcHAP6/G35iei+/8ABXO2orBsvEr3psIksdtxcXM8M8Rl/wBQISwds7fm+YKB0zvBrWDXjaeWMUCXnlkiMSlow+OBu2gkZ77fwpdLh1sWKK5Ozu9V07XhZXWpyaxJ9ge5vIlhjAtXBXYE2KG2ud4CtuY7evBzm2Ot63aabcS3ray+rNpr3FrZajb2whnkVQTsEK+ZwSPkchsN0JBIf9fn/kH9f19531Feex+M/wCzref7Fri+J8aZPeebiICOaPZ+7zGqgA787Wyy45PNXdR1fV/ColW5vn1eSbTZrmL7RHHGI5oyg2jy1X5D5g4OSNvU5p2f9fP/ACA7Wiud06TUdM8SRaVqGpTaml1ZvcLLNFGjRvGyKyjy1UbT5ikAgkYPJzxR8U+J9Ut9P14eH7FJDpVufOunnCtHIY942IUIfaCpO4r1wM9KQ0m3Y7CiuO1Dxk2k3V6syq/ltaxq93crBbxmRGYs7hCUX5cZO7LFQMZqxJrety6p4eWOztYYb2WVblRdiRXUISGjYIdykDcD8pPAIGTg6k30TOpori9P8X6neRW1vpumLe3MltLdM93eiIBUmaPblIjk8DHygep4yblv4uutXjgbw7pSXbNZRXs6XN15BjWQHYikIwZztbglQMDnmhaq6/rf/Jj/AK/r7zqKKwdE1HVLzxDrVvfwxR2ttJGLcCXc67o1YggKB3z9488Djmkk8T+WL2I2ZN3bX8dmkHmf63zNpV844G1iTwcbW9KFqBv0Vyl54yn07xJZ6bf2NnCl7ciCJDqSm72nIWUwBcbCy9Q5IByRnIDvDniS5vHsLO9XzprsXshnyF2iGcIq7QOeGHPt3zQtdg2djqaK4ib4kWy29oFGm2t1cRyTMmpamtrGqLI0Yw5QlmJUnAXAAOSOMyn4gJdPp6aTa2sr3tv58aXd+sBmO4qYoTtZZXBU8ZVeVO7ByBa7f1/Vg2/r+u52VFYPiyVxoke3dHvlUMuecbScHH0rmbDSjqFuzxS4dZUQptzwxxuzXmYjHSpVvYwhzP1O2jhVUp+0lKy9D0SiuGuPDcsSzmOYSCMrsJAUOCMkkk4UAetUzo18qsWhVQpCktKoBJGRg5569qwlmVaLs6L+/wD4BrHB05bVPw/4J6LRXnyaFeCYJNEVBYodjIxDBc4xuGOPWojpF8IRL5GVKqwCupbDdDgHNJ5nWSv7F/f/AMAf1Kn/AM/F/XzPRqK82udMurOLzLiNVQPsJEithuuOD1rrPCEjPozh2JCzFVyegwDj9a2w2YSrVfZShyv+vJGVbCKnT54yubtFFFeqcIUUUUAFFFFABRRRQAUUUUAFFFFABRRRQAUUUUAFFFFABRRRQAUUUUAFFFFABRRRQAUUUUAFFFFABRRRQAUUUUAFFFFABRRRQAUUUUAFFFFABRRRQAVn3yXDwyLZyxQzk/K8sRkUc85UMpPHuK0KrySEueBxx0o3Ki7O5zun+Hri10/SLW5vopv7LlDRtHblN6CJowpBc8/NnPtjHelbw2TZGGO72ObmeUyiPnZMzF06+jcH1UHHat7efb/vkUbz7f8AfIoeu5u69Ru9/wCtf82Yd/oNxcPcJZXyW1reQrDcRNb722gFco24bTtOOQw4HHXLptIv3161voL61jgtY2hSBrRmYo2wtl/MHPyDBxxnkGtrefb/AL5FMS5jkeRI5I3aJtsirglDgHB9Dgg/QijrcFWnbT8l6GRBotxALm0F3E2mXDSsYTAfNXzCSwEm/GNzEj5enHvVGz8Hra2b2+dNQkxYntdNEMjBHVvnIfDZ29gBnnHauo3n2/75FG8+3/fIpWQ/rFRX13Ocbws8eqXV/aX4ikkkjkt0eDcsRXzNwI3DcG81/QjPWtXSNOex85p5hPc3U/nTSKmxS2AowuTgBVA6np1q2twjyvGrxtJHjeoxlc9MjtU0chDjgc8dKa0JnVqSVpf1/X/BK17pP2zWtM1Dztn2BpT5ezPmb029c8Y696wj4JmhurW7s7+1NzbT3UqG7sPOVPPl8wlBvUq6/dDZ5BPHNdNPf21te2tpNJtnuywhTaTv2jc3PQcetWKOtzn6WOTTwjqNv4fj0mHVrS5gzN56ajpizxzh5C4JUOvzDOOu0/3RxjSbw1B/whP/AAjcVxIsAsxaLK2GbAXbkjofccDtxW1RR0sGxzmjeGbrTtaj1C5vrV1jsjZpaWdj9nhjXeGBUb2I6HIyR0xjHM2oeGvtza8ftfl/2xZLaf6vPk4V13dfm+/046da3arxX9tNqFxZRybri3VHlTaflD52nPQ52np6UPVWYL3XdHJ6zoLaXIdWhuLprgTWxie2sWuPIMcbxlnjVtzowcgheRuB7EiPQPD15fzPqmoXEisdZGoIZbRoTMq2whx5THdGMlsBsnAGeua7RJ0eeSFRIGixuLRsFOemGIw34E471Fd6hbWMlrHdSbGu5vIhG0ne+0tjgccKTk8cU7637/5r9UHSy2t/n/mQaXpX9mT6jJ53m/brs3ONmNmUVdvXn7uc8dazrPw9qFgxtLXV0i0jzJJFt0tf36hyxKeaWI2hmJGEBwAM9z0NFTbS3yA4yw8CXNmNOjOp2i22nJLHFBa6cIQ4kjKF3+c5fJBLDAPPy85GkfDM9vY6P/Zt/HDf6VbfZknmtzJHKhVQwaMOp5KKRhuCO4znoaKf9f194rHGt4Bkk08wTauZZGg1CJpmtwCxumDFsBsfLjp39q0dT8Jrqe4PetEraVJpx2RjOHK/Pyf9npjnPWtS01azvmAtHklBeWPcIX2ho22uC2MA54GeuDjOKu0f1+f+bKbfX+tb/mjjX8DXdxDPHcapaRpJpc2mxwWeneTDCrkEMq+YTkYORnB4xtwc3X8JzLPPcWuoIk76hFeoZLcuqlIViKkBwTkAnORgkdcc719e2+m6fPe3snl29vG0sr7SdqgZJwOTx6VE2rWiSRpI8iGWZYIy0LgO5XeACRgjHccZBGc8U7/187/mK2n3/lZ/gY+h6aP+Eq1nVkW4SGZ1jhjniMeHAAldQwBwxROeh2ZHBydsx3h01ozcwi8MZUTrCdgfHDbCxOM843fjVmil0sHW5zGh+GNU0yxmsrzV7W4iuEfz7i3s5IbqWRhjzTKZm+b6LxgAYAAqxa6BqRuVn1XWVuZLe3eC0kgtRE0ZYAGR9zOHfAHYL1+XnjUGq2R1WXTRcIbuGETyRd0QkgMT0HINUrPxVpN+szWktxJ5UXngCzmBmj/vxApmVenKbhyPUZNwKf8Awi0+om6bxNfx6g09m9kotrY26xxvy5wXclmIXnOPlGAOctPhKbUUnXxJqCX5eyayia3t/IKI+NzH5my52ryMD5eBV2y8WaTfX72Ub3cNxHAbhlu7Ce3xGDgtmRFGM1PpXiDTtZkdLCWUuiCTbNbyQlkPR13qNynH3hke9H9fn/wQ/r8v+AV9L0W9h1T+0da1CG+uo7f7NC0Nr5CohIZiQXYlmKrk5A+UYA5zS1rwnd6h/a0emaqlhBrEWy7VrXzW3bNm5G3gLlQoIIOccbSc10N7eQafYz3l4/l29vG0sr4J2qoyTgcngdqILuK5ZhD5h2qrbmiZVIYZGCRg/h070DWjuv6sYsnh2+ivb280zVY7ea68gFZrQSxlY1ZSrLuBIO7PBUggckZBrad4MOlR6ebG6toZbW9kupEis9kDB1KskcYf92MYwctzkkHNdFPe29tcW0E8m2S6cxwrtJ3MFLEe3Ck8+lPt50uYVljEgVs4EkbI3Bx91gCKNncmytbsYGi+Ev7HuoZvtvneVaS22PK253zGTd1PTOMfjVex8I3+jW1suh6vDbzLYxWdzJPZmUSiPOx1USLsYbm67geOOK6uoIr23mvZ7SOTM9uqNKm0/KGzt56HOD0oWisv63/zY/6/r7ilp+kz2Gr3l0b0Tw3axl0eHEnmKoXduBC4IHQKOe+OKq3PhdLjxpa6+LtkWCLa9qEBWWQB1SQnPBVZHHTnI9K3qKA6WOOi8DXMM8Yh1O2ito9SGo7Y9PAlnfeWIlk3/OcEgEBSMDOQMGxF4Ru7H+z5tM1SKK6s2uQXntDIkkc8m9l2h1IIIXB3djxzx0Nlf22owvNZyeYiSvCx2kYdGKsOfQgirFC0Vv6/qwdbnKWPg+90aO0fRtXiS7hheCaW7s/NSeMyNIuVV0IZSx5BxyeOmLGs+HNS1fT1sZdVtbi2khEdzHf6ak4dgciRAGQK313DheMg56OqOramulWXnvGZCWCKoOMnk9fwqKkowg5T2RUIylK0d2ZHiW1Sy8M2drCXaOB0jUu25iAhAye5rB0nVX0p5isfmCVNuCcYPY1ry+L454yk2mLIh6q8oIP4bar/APCQ6f8A9AG2/Nf/AImvm8TWo1cR7enVs/R/5Hs0KdSnR9lKndeq/wAyKLxEVtLeCS1DiFCu4Nhs9FYcHBH40l54g+1xbPsxX94kmTLuztGPSpv+Eh0//oA235r/APE0f8JDp/8A0Abb81/+JrF1E1Z11/4C+nyNOTW/svxX+ZEniLZPJJ9lzvnM2PM6ZQrjp75psOveXIp8jbiGOHduzjac7sd/p+tT/wDCQ6f/ANAG2/Nf/iaP+Eh0/wD6ANt+a/8AxNNVUkl7dW/wv07Byf8ATr8V/mR6veWMlk8VlJvaS6Mx+93GO4GPpz9a2fB3/IHl/wCu5/8AQVp2jS6brEcpGl28TREZHlq3XOOce1bUUMcEYSGNY0HRUUAD8K9PB4ZuqsTzJq3RW8jhxFZKDo2afmPooor2TzgooooAKKKKACiiigAooooAKKKKACiiigAooooAKKKKACiiigAooooAKKKKACiiigAooooAKKKKACiiigAooooAKKKKACiiigAooooAKKKKACiiigArB8Sx282jXEd5fQ2ELMu6acjy+GB2uCRlWxtIyMgkd63qryKA5+YUnqaU5cslLscDN5V14PuRp5t7CCzuo2ebSkj+zzqGRmkGUIAHJOCcFSCWwav3WrQxraofFPk2TxSOupZgPnuGxs37PL4BPAXccdeDnrNo/vD9aNo/vD9aVjq+sRe8et+n6pnILrNzJLYprWqjQxJZRzA7Y4zcSsTvX96GxtAX5Rz8/WmJez23irU0kuDZWMl/GGulCtl/s8WI23DCBv73OTxlTjPZbR/eH60bR/eH61XUXt4q/u9Lf1p+dzjNOm0uFLmaaOzk8URtOwinw1yXG4qq5+fbtxjbxt6U0a/cQxTy6frA1aFbUSzzMkZWzfeo/gA/hZ2Ktkjy+TXa7R/eH60bR/eH61NhvERbu439f+G27fjc4I6pNZrqtzp2pm9WSW2jOoTlEVFIYFg6RlNoPG7aQCeehrp/DFzcXWmLJdXtrfHzSFntp1mDLnoWVEBI5HCjtWttH94frTkChgWccegNNKxNWtGcbKNn3+VuxzvirT7PVPFXhq11G2jurdpLktDMu5HxFkZU8EZ5wa5NpdOj0qx0u/g0lbdLy/S3m1p2a1t1juNqosOQsj7ThVLKVAODjIr1Tzk/vfpTldW+6c0WOTWx4/EmnP4R0WTUr/Rj9nS6hSy12B0t5FWfGEZjmGRVG0Ah2AOMcGu/m1A/8K4N/caddR504SPZtcSLKvycqZR84I7t97vjNdFRTeqaEtGjzXwP9hi8eTDS5NFWC40vcYtEiK2+5ZRgF87ZnUPgsFU/NyBkVJ4p0qxvdQ8ZXd3axTXFnpEUltK65aBwkxDof4WyByOeK9Gooesbf11COkrvy/T/ACPMb94ZNeun1gq2lNNYHUjL/qynkS7fM7bPM8vOePXjNU7ey0e/1A21lDFPpEviiMRxqMwun2Hoo6GP0A+UjjpXp2p6e2o2yxxX13YSI4dJ7R1DAjsQwZWBBPDAjv1AIbpWlRaVBKqTTXM08hlnuJyC8z4AydoCjhVGAAMAcU18Tf8AW6f6CWkVHyt+f+ZkeDYIrIa3ZWkaw2ttqkiQQRjCRKURiqjoBuZjgccmsXQn8Px3W/VBC3i1bq4MqRk/bGO58A7fnMWzbjPyY2+1d/RUvW3pYff1PHdMm09/EGl3emjR7Zrm1ukmg07fLMuYd+25uCR5khK7trKGBBOTgmte30/RbLSfC0ms21lDotxZGW9e5VRDNdGOPY8xbhmI8zBbPPvivS6Kf/A/X/P7xf8AB/T/ACPGmFsvh8iwDC2Fj4g8kNnIXzBjrz09a6GS2sfDt9LLp2nlUm8Oyz3MNozRPdOjJhmZfm3/ADN8/LfMTzXolFH9fn/n+BTd/vv+Kf6HjDGxiGujS30RYbjw5dM0WiRkQ5UjAaXO2Z1DcsFUjdyBkVs3Fvpr6vPc6vDatDB4gtyZbpVKxg2cY6twMtt/HHtXp1FO+39db/8AAF0a9fxSRxOiWhPiY6LLG/2fQp5bqIsPlImyYcf7oeZfbaPauohkt4dDEmhQQ3ECQlrWG1ZFSTA+VVP3QD0z0p1jpy2UtzKZ5bia5k3vJNtyB0VRtAAUDgcZ7kkkmrlT0sHW55ekOp3Oq6xZPo99BqN9oMvmSzPAN8rM+D8krELnCKOSAADwM1v6ZqlhrfiHQzo0sc32Gyl+1CNsm23BAIpB/CxKn5WwfkPHFdjRTWit/XX/ADB6u/8AXT/I4X7HNrXgbxLqcEJnvNYSdYlBwzRIGjijB9CATj1c+tX7DU7HXvGNhdaJcxXMFpp0yXLwvkRtI0WyNsdG+RjtPIx0rq6KFo/67WB6nmfjRdGM3ij/AISoRG4+xA6T5vMmzyTu8j/a8zdu28427uMUl/DaTzauNRvrayt1Gmsz3sBltnPlthZlyo2E+pAzt+h9Noqbfp+A3q0/X8bf5HmOnf2Vcjw1cXum6VbQ2urSQQTwSCW1kYwswaBnA2qZMAKOAy8ZwDSeHNJsNYvNIt9Vs4byAabeN5M6B0z9qAztPBIzwe1en0VT1t/XS3/BJt/XzueV6RLpNxpujP48ktJNNbRIhaPqbKYzNuYSYL/8tNvl474zjvXSeHYdIh8cam9pFFFc3FhayxGVCtxJFhgWO/5zyEBLc5xnmuwop3G0mzgdTR4PGkvhsI/2bXriK/BAyoWMf6Qp9AfLiH/bU1g311YTeKLa9gTSbK9i1yOORQHm1EjzjGXllJBhjYEAIQykFQDyBXrlFKOjT7f8D9FYJaprueaaZfWulaxpd/qdzFZ2YvdYha4ncJGrtcAqpY8AkI2PXFZi7J7HSP7VutLtNHf7aVOt2ZltzP8AaWwGUyRhX2Z27ufvgDrXr1FHbyG3dv8ArqeU6pa6dbaXpkl/q+jaiY7ZxbwaxbSQRTRebn/RnZmMbhcKCPMYgIehBPW67M9z4Q06eW3ltZJDG7QTMWeImMkqxPJI6E11NZuu6ZJqunrDC6o6yBxv6Hgj+tc2LjKeHnCKu2a4eSjWjJ9DmvDSx3LXNpNjawSXkf3Gyf51skQalbC4Cq327aGjZiCQm4npye3A647dayf+EO1D/ntbf99N/wDE0f8ACHah/wA9rb/vpv8A4mvCpLEwpqm6V7f1+Ta+Z6tR0ZzclUt/X/DfcT6hpljZ6c1wtp858vCyM427hzxu/Qk1Yg0yyGoSLDAYTBMEDJK4JBjJ5OfX0xVD/hDtQ/57W3/fTf8AxNH/AAh2of8APa2/76b/AOJo5KvNdUOq7f5C5qbjb2v5/wCY+PTbCSJInh8smzSdpxIcgkgHgnGPwqHV9PhtrCWRLP7Oy3Xlo25jvTaSDye9SL4Q1FGDLPbhgcgh24/8dqzdaBrV4my4urVlLbyFG3LYxk4UZNTKhUlTa9jZ+i7lKrBTT9pp8w8Ff8vv/bP/ANmrqqxvD2jTaSk/2iSN2lK4CEkADPqPetmvbwFOVPDRhNWev5s8zFTjOs5R2/4AUUUV2nMFFFFABRRRQAUUUUAFFFFABRRRQAUUUUAFFFFABRRRQAUUUUAFFFFABRRRQAUUUUAFFFFABRRRQAUUUUAFFFFABRRRQAUUUUAFFFFABRRRQAUUUUAFY2tX8unWwlt4EnlknSFEklMa5ZguSwVsdfQ1s1ja1YS6hbCK3nS3ljnSZHkiMi5Vg2CoZc9PUUma0uXnXNsVYdeWOO4XVYDbXNvIsbRQbrjfuGVKbV3Nxn+EEbW7DNSvr1gltDNuncTFgiRWsryfLw2UVSy4PByBg8Gs698KHULcve3FvcXrXCzs09mHgOFKBPKJztwT/FnJzntTp/Dcr6XbWtudKtmgLnfFp7IELHrFslUxnHUhiT7UanVy4d2bfr93p3NK61mztJooZWmaaVd6xQ28krhemWVVJUZ4ycUybX9Ot742ksziVXWN9sLssZbG3cwGFzuGCSAfwNQtpF5Bepdadfosht0gnN3AZvNCElWyHXDfM2TznI44q5aWP2a+vrjzN32uRX27cbMIq49/u5pmVqSXfT8fu/ryKsGr+ZrWoW7ui29nCjlWglSQEl8tlgFZfl4K56GkXxNpsttNNbPPMIoxKAlrKfMUnAZPl+cZ7rkDvVa50nUhqOoagb22kjntTB9nSzYPsXeUAbzD82X5O3nHQU/RNLultLabVZ0kkWzWCOOOAxeWpALBssxLcDnjp0qdbf15mso0fiv2/JX6f15j4PEUd54dfUoIbiJxCG2SWcxAZhxgBMuoJ5Kg8c1LHrUMGk2NxqEgee5iVttnBJJvO0ElEAL7eepHGRmmWumana6H/Z66hau0caxQytZtwgGPmAk+Y47gqPaoINC1G3t7Axalbfa7GJrdJDZsY3iIXIKeZndlFOQ3rxVdWLlobX6+e1vT+uxYm8UaRAsTPdMwli85fKhkkPl8gsQqnABGCTjHfFbdswZsqcgrkEd65+Hw0IYZkF0WM1m1szMnJZmZmfr6seP1rc0+H7PBHDnd5cYTdjGcACkr9f63/wCAY1VTS9w5e68VavpuseIZGsorzS9Mnh3s1wI3ijaKNm2KEO8gszfMy9gD6WfE/jKbwzKZLmyslswVCtcaksM9x03eTFtO/aGHBZST2xgm1e+Fftlv4hi+2bP7aZDnys+TtjVPX5vuZ7daoat4HuL+fWTa6nb2qauB50hsBJcDCKoQSbxmP5Qdu3PLYYZBDXS5zsuQ+K5bnxVPpFraWsgtpAkyNfBLoKVU+aICvMfzr828HrgHgHR1zUrnS7IT2ttbyqMmWa7uxbQQIBks74Yj04U++BzWbqvhW61nUrd9Qv7Wayt7mO5hRrAfaIWQq22Obd8qllGflLYJG7oRa8QaBJrFxp91bTWsc9hKZIxe2n2mLJHDbN6kOCAQwPHPrS+yg6j/AAv4gTxLoY1BI44/30kLCGYTRko5XKOANynGQcDg9KwvDnivVprfSxrNlG0Go3E1vFeJOPMLoZGG6IIAq7YyAQxPAyBk43/DuiyaFYT2814bxprqW5MrRhDmRixBA46k8jH0qnaeFPstjo1v9t3f2XdyXO7ysebvEg24zxjzevPT3ofkHf5/8Ao6V4tv7/S7D+zdO+3TtYJe3RubpYyiMSFAKx4dzsfjai8ckZqnb+Mdbv71LrTNNhntpdDg1FrSe6EQiZmkyA4jYsxCgAEAcHkd4ptMuPCq2Vpp9zfeaNNW0lnh0iS6S4CM20L5bfupBubBfK4bvg41vDnhObTtNtjdT7JzokGnSRbQ2xk3EtuB55fGPbrzT6Nr+vi/4BXu3t6fmv8Agmrc+IbaDwqmuiOR4ZYY5YohgO5kwETrgElgOuOai/tPXorOdrrQrdbhCvl+VqAaBlOclpGRWXbjJ+Q8EY3cgObw5FL4Ph0GadiIbeKJbhFAYPHjbIAcjIZQcHPSqGo+GNU1rT2g1nVbG6dZY5Iojpn+i/LnIeJpCz5z/fAG1SAMHLla7tsRG/Kr7lSz8fm90u5mt7K0uriDUIrFRZ6gJreRpAu1ll2DgFwD8uRg9aj17xXrsei6tJpemQI2mqIrm4W73GObarN5atHiRVDLkttPXCnHN2LwfcmW5mvdVWeW5v7a+cpa7ArRBRsUbjhSEAGckdy1LrHhG8vl1S307V0sbLVTvuY2tfNfzNoUlG3gKpCrkFT3wRngXn/W3/BDX+vn/wAAjufFd1aajc2ttZtezNqiWEKS3Cxopa2Eu7ITIXPXO48kjPC1Yj8T38mkXU39l28d3ZXT290st+EtoAq7jIZimdm0jomcnBAGTT38J79YN/8Abcf8TRNQ2eV/dt/J2Zz/AMCz+GO9V77wY1zM88V3bNN/aR1CNLyz8+JWMQTBTepJGNwYEYPakttf62/4I30t/W//AAChb+Np9WTTp7XyoUN3d21wLWdLiOXyoXdWjl28g4U5wPQimQeMNXgmkvJ7WOfTItGs71g1wPNUOzeY5AiAJADEgED5BgDcQNC28FTRyCS51b7RJ9snu2b7MFyZYfLK8N0BJI9sA8/MZI/Dy6NCs09wbmzj0mPT7mBLN5JJlj3YZAhJGd7ZXa3bkYovbXyX5O/42Ba/15q34XNWHVLi71G+trO1jeOzkijaWSYruLAM+AFP3UZSPUnHy4zVrUL6LTdPlu59xWMcIoyzsThVUd2JIAHckVleGdKvdK8K2Vs8/wDpvyyXMlwnmMxJyynBHzbflB6DAOD0rR1TSLTWbeOG+E+2KQSoYLmSBlYAgHdGynue9N6aAvMwNIufEWsaNcI15BbXa6pLBNNGgJghUniMFSGYcAFhjqT6Ummz61q9lPb2Gr77aHUGh/tZo4/OlhVMtsATyywkzHu24wp4yKYfA1xbaJeafpGtTQfbb03Ez3JmuN0ZOfK5lDDPQsGBI61PfeGtavvD8Wlf2tpttCkiho7bTHjikgC48koJ8hemcMMgbcYJzK2+79P689R9fv8A1/r+tHaRr83/AAj9xcyTNqYW7a2sLghVN9yAp+QBcbtwLAAYQtjFW/B9/e6j4YhudVlSa7MsySOibVO2V1GB2GAKQeG/t1jbw69Okslo5Ns2l+fYCJdu3GEmJ6ZHXGDjFTeGfD8fhrR/sEVxNcgzSSl5pHc/MxOBuZsYBA4PJyepNUSYbeKdXv7zQriysUt9I1C/8tbjzw8ksYSTG5CmEDFQwKsTgDOM4qG18dTslhbQ2sM11cxvIq39+kDz4ldBHDiMLI/y/d+QDK5PJNaFv4RvLefTYU1dRpel3RntrUWuHK7XARpN/IXfxhRwBnceahm8F3raAmjJqdnLYlHWaG90wTqSZGcOg3jaw3Y+bcPlBAHOZ1/H9EU9/l+v+RFqfiLV7K88RNNGqWdlb27weVOvmqXJB4MRXnnOS2MDHXIsyeMLyO7nc6RH/Z1tqS6dLcfa/wB5vZlUMsezBXLrnLA9cA45deeDGngvbW31ARWl3ZQWxWSEySK0R+Vt+8ZBGQRjOec9qnl8KeZY3tt9sx9q1RNR3eV93bIj7MZ5/wBXjPv0qtOfy/4K/S5Kvb+uz/Ww6017U9SmebTdIhm03zpII7hrzZIWQlSxjKYCb1IyGLY52npT/CuoanqHg61vdSjhe9kiLYjlysh7ZOwbc+w496Sx0HUdNuvKstVji0n7Q9wLb7Jmb52LMnmlyNm5ifuZA4B71d0HTJtH0iKwmuUuFgJWJ0iMZCdg3zHJ9SMA+gqeg+pn2fiv+0LbTJLKwkmlvbOS7eBZFDRbAAU5wC29gvJUcE9qxL3x1dm116yCafb6lY6ZNdI9jfrd+S6cFJAUXawJHBBB59K0YfAscSeIo/7Ql8rWUeONBGB9kRy7MF/vZeR27dcdqgfwNd3EM8dxqlpGkmlzabHBZ6d5MMKuQQyr5hORg5GcHjG3By93/Xn/AMAasn8/w0/4Jdm8Wm20rWbprPzG0mSOIjzcedujjfPT5f8AWYxz096oX3xI0+z1aeDzdN+z2tx9mmEmpIl0WBAYpBtJZQT3YMcNhTxun1HwZd3n9pQW2rpb2Wp+W88bWm+QSIqrlX3gBSEXIKk9cEZ4vRaDqNlf3H9l6tHbafdXBuZIGs98qOxy4SQttAY8/MjEbmwemH9pPp/w3/BI15fMi07xXLqXiO5063s7Yx207wygXy/aogvHmPAVGIyRwQxJDKccnFHxjI39qQx7jsEIYLnjO48/pV668L3Ooa9a3upX1rcQWdybi2/0ALcxd/LEwbGzOMgICQACTyTn+Mf+QxF/1wH/AKE1eTmv+6ed0ehgf948iGy8Pm9W3dbkLHNEXLbM7WDAbevqaik8P3awwGPDySj5kJC7TzgAk8k4PApINakt9KWzWMErKJFkJ6AEHGMeoq7/AMJQDdGc2eG3DbskwdoH3SdvIzz2rxUsDKKTdnpff5/cem/rKbtqvl/X/DGami38ioVhH7xSygyKCQOpwTmlXRroq+6M78IU2srKwc4B3bv5Z/CrJ17M8Ugtv9XC8WPM67u/SiLX/KjjT7NnYkKZ8zr5bFs9O+axhHCNrmk/6+RfNiOy/p+vYqnRb8Oq+QDu3ciRSBt65OcDHvVe5tZ7KRFnXYzKHUhgcjscitiz1qB/Mguk8qKQzFmyT9/twOPrg/SqOsXEFxPALVtyQwLHnnqM+oBP5CpqU6Cp88Ja6dfv0sVCdVz5Zo7rTnaTS7V3JZmhQknudoqzVXS+NHs/+uCf+girVfZ0v4cfRHzk/iYUUUVoQFFFFABRRRQAUUUUAFFFFABRRRQAUUUUAFFFFABRRRQAUUUUAFFFFABRRRQAUUUUAFFFFABRRRQAUUUUAFFFFABRRRQAUUUUAFFFFABRRRQAVXkkJc8DjjpViud8UOIrCOaQ7YobyGSRz0RRIMsfQAck9hzQaU488lE1959v++RUc93FbRh7mWKFCwUNIQoJJwBz3JOK5B76a61gy6LqAjt9Q1GOD7VCqyB1W2ctsJBU4KgZGQCMc4IqLUtXCeH7aTU9VhSaHUzCFuFhxcpHdBCxVl6qo3ZTbg88UrnWsLK8V3t69f8AJncbz7f98ijefb/vkVyGtPEPEml6k3iB7GxltZljuFeARgkxEBWdCDuAJ5J+7xjnMEejSal4n1SaG2s42i1KJzqO4/aECxRMUUBejDg/MOGPB7tav+u4lh1y80pW0v8Ajby/C/odtvPt/wB8io4buG4MggmilMTmOQIQdjDqpx0PI4rE0w6heTTXcuqOsMN3PEbfyY9hjVmA5xu3DjnOMDp1NZml6zDHpeu/2Tf22pXcMryoyCJnkGxfnZYgu/nPIGTjGanm6+VyVh27pa2t37+h2W8+3/fIpyNlwCFIJ9K5C71g23h159L1+PVCZ0jkvJJYQtsD1JMcZC9uWU4zk8Vr+GLm4utMWS6vbW+PmkLPbTrMGXPQsqICRyOFHaq3ZM6EoQ53textvJFHNFEyMWlztKxMyjAzywGF/HGe1TAAdBiuR8ZIsus6PG881urRXoM1upMkY+zn5lC5JYdRjnNUfh/LZR6nd2mlpotzAIEc3+hkxwvzgLLDkqkvLHIYkgc44FC1bRyvRXO0hv7a4vrmzik3XFqEMybSNu4Erz0OQD0qSOdJZpY1EgaJgrFo2UHIB+UkYYc9RnnjqK858T6XY3d543vrm1ilurLT4ZLWZ1y1u4idgyH+FsgcjB4FJeNA+r6o2rlTpJ1e1OomT/V+X9iXb5nbZ5nl5zx68ZpIdtPv/A9Cu9QtrGS1jupNjXc3kQjaTvfaWxwOOFJyeOKW5v7azmtYbmTY93L5MI2k732lscdOFJ59K8tt7LR7/UDbWUMU+kS+KIxHGozC6fYeijoY/QD5SOOlaEVhbJqFvpUcKR2EfiSeGO2QYSNGs3Yqo6AZZjgccmmtV/X93/MHZf1/i/yPSqK43wdHLd3ub1ZGl0KA6WryDlnDZdx67kWE59yPWsrxybC08RPezSaVfXaQRmLTNQDxXLYLkGzmGSHLbRhFJJA5GRR1XmJX1O/tr+2u7i6gt5N8lpIIp12kbGKhgOevysDx61YrzKRWXxpqd7rCrJoKapEs9sy8RTNbw+XLLzhkU4GMYUsGP3RiDSrVLjXY21DV9It9eXUm86Eac76iy+YfkL+bkxNHgZ2bAhB7ZoWtv67f5gz1SivK4rqfSpo7hEkK+F3OlKgVsSeaWVFx9Pshz7nnvTNU0uG11i5sNd1TR7QQ20K6fJqdk80rDZ8727CZMSGTcTsBfOz/AGaL9V/X9Kz+Y7a2PUb28g0+xnvLx/Lt7eNpZXwTtVRknA5PA7U77RF9l+0GRVh2b97HAC4zk56cV5h4mj0pbXxAvjCWO4vRpqf2XLOmyV1EHzNCp5V/MDFgvIG3dxiuu8Qs48CRBfuP9ljl5x+7aSMP/wCOk0d/l+ou3n/wP8zoLa4ju7WK4g3eXKgdN6FDg8jIIBH0IqG71Wxsb2ztLq5SO4vnZLaI/ekKqWOB6ADk9OnqK5XxG0um+Jjb2wcDxJbraKyD7kyHBb2PlMxz/wBMhVjXdKsLTxL4bura0hjuJNQEbTKg3lFtpgq564GOnSmtQ7+l/wADraKzNfs7m+0zybOHzpN4O3+0ZrLj/rpEC34Ywar+G9OvNPjuBfW/kFyu3/ic3N/nr3mUbPw6/hSQGhcapZWuo2lhcXKJd3hbyIc/NJtGWOPQDv06DuKqN4n0lNWOmm4fzxKIWYW8hiWQjIRpduwMQR8pbPI45FZesadZ2/jnQL2C1hjurq6l8+dUAeTbbOAC3UgAcCucubmKPVLyM3ax6i+to6eHyR/pO2RNs+P9ZkqofcpEY28qcNkXxJf1ugezf9bM7c+J9JXVTpxuJPOEogLi3kMKyEZCGXb5YbkfKWzkgdTVvUtTttJtRcXpkCFwirDC8rsx6AIgLE/Qe9cHpt/daM8FnDrO/VP7TdJND8uPLxyTsWlIx5n3G3+Zu24A4rofFFzotzbWL6nf3ENlFelXu7S58qOGRVdcSyqQYxkleCDuwCecUuif9dA6v+u5sRaxZSaVJqTvLa2sQZpHvIHtygXqSsgUge+KdDq1lPFYyRz5TUF3WzFSBINu7uODtycHnAPoa5mwtbbWPDOo/bNuq6dbXMkmlT3X74six8OGbJfDmQK5ySADk9THcHb8KNFkQkTRx6e0JUZPmb4to/E8fQmq/wCB+NxdUvX8Df1/X00KOEtAZ3mJ2qG2jAxnnB9RWH/wsH/qGf8Akx/9jR8Qf+Yf/wBtf/Zay/CzThrlYIZiJCitNbsvmRfNwdp6qTjPtXo0qNN0eeSu/XzPCxGKrrFOlCVl6X6XNT/hYP8A1DP/ACY/+xo/4WD/ANQz/wAmP/samudNtrjS4ormVbm5jM5QqCqkeYN7gL3A7fzqvPomlpepaG0kiaZnihlZsKx25DcuS3OOcAfN0oUcO/s9+45Sxsf+Xi6dF1+THf8ACwf+oZ/5Mf8A2NH/AAsH/qGf+TH/ANjUv9gaH5oKpu84skMe9jlk3bv4uckDv+VQQaTZRzCa1sJGuEmgDwyMQYQeS+1WJHrhicd6LYZ/Zf8AXzE5Y5fbX4evYkj+ICNKol04ohPzMJskD6bRXY15Rrv/ACH77/ru3869XrHE04RUXFWudeBrVak6kKjvyv8AzCiiiuM9MKimtLe5INxBFLt6eYgbH51LRSaTVmNNp3RV/svT/wDnxtv+/K/4Uf2Xp/8Az423/flf8KtUVHsqf8q+4r2k+5V/svT/APnxtv8Avyv+FH9l6f8A8+Nt/wB+V/wq1RR7Kn/KvuD2k+5V/svT/wDnxtv+/K/4Uf2Xp/8Az423/flf8KtUUeyp/wAq+4PaT7gBgYHAooorQgKKKKACiiigAooooAKKKKACiiigAooooAKKKKACiiigAooooAKKKKACiiigAooooAKKKKACiiigAooooAKKKKACiiigAooooAKKKKACiiigAooooAKryKA5+YVYrJ1fUBptq8/lNO5kWOOJCAXdmCqMnoMkZPYUFwi5OyLe0f3h+tG0f3h+tZ0N/PF5KaxFb2s1xN5UCQTNMHO0tySi4OFbtjjrTZde0+KNX8yaXdJJEFgtpJWLRttf5VUnAIxnGOnPIoNPZzvZL+v6Rp7R/eH60bR/eH61iXvia3sdZt7CS2vH86F5TJHaTPtwUwAFQ5+9yR93AB6irMuu6fDffZJJnEm9Y2YQuY0c4wrSAbVY5HBIPI9RQP2NSydnrqaW0f3h+tG0f3h+tYtv4s0W6uUggvd0kjbV/dOAevcjGPlYZ6ZBHUYqZPEOmvDcSmaSOO3jMrvLbyRgoOrLuUbx7rkcj1FK6B0ai3i/uNTaP7w/WnIFDAs449AaxZNdSazupNJRbie1UO8Vz5lvlefmBKEkHBwQCDjrVZdd1SU6dFDplobi+gkuNrXrBERdmPm8okk+YOMDGOpouNUKj/pLpfr5HVK6t905p1ZejX66laRXSRtEWLK8bEEo6kqynHHBBFZer6xrVr4wSx0i1gvIv7Na4aGefyFDCQDO8IzZxwBjHqRQ3Z2/ra/6GEouLafT/Ox1FU9T09tRtljivruwkRw6T2jqGBHYhgysCCeGBHfqARzuo+Nprbw/aa1bWNnHZXNqs4l1PUltAWZdwiT5X3PgHrtHTBPOFPjhrjUrO006yt5HubWG7WG6vlgnlSQE4hQqRIVCnOWUZ796qzvb+v60J2N/StKi0qCVUmmuZp5DLPcTkF5nwBk7QFHCqMAAYA4q6RlSASCR1HaobyS5js5HsII7i4AGyOWXy1Jz3YA4HfofpXNaLd+IdX8JOXvLePUft88E1wkXEUaTsrGNcHLBRhd2ecE56FBsrnQ6bp6abaeSsss7s5kkmm275XJyWO0AfkAB2FW64eLW9Xm8OXqWcuoXlxHqCW8Mq2saXnlNsYs8ToqRtgsAXVRjaxGDkvh1e+lhtdJg1DUo7+51A29zJfxW32izURNL8ojXym3BRhsMPnPpgP8Ar8v8w2O1orhr7XNUtLaTTn1CbzLbVVtJr6KCN7l4Wh80FIgpDvyFIVDwCQvo+x1fVdUh0/TotSkia4ublXv1iiFwIYjxuQqVSQllDAoCBn5VPRf1+X+YPTf+t/8AI7aisjw5e3V1Z3UF/J51xY3clq0xUKZQuCrEDgEqy5wAM5wAOKk0e8nv4725L7ojdSR26EYCrGdh5xzl1Y554Io/4cP+GNOoru1hvrOa1u4xLBOhjkRujKRgj8q5mxuNYsfEenWWo6t/aF1dwyTXtnHHGIrRQOHjIUPt3/IN5Ytknsaksddvb/xyLaNlXSWspXhG35pXSVFMmf7vJAxwQM85GC13bvf8AvbXsasmiRTSaVJcXFxLLpchkjkYrmRjG0ZL4GDw5PGOfyrSrlfEurPa69bWd1rw8P2L27SLdbYgZ5dwHlhpVZBgHO3G4544BrJk8R+INQsdKvrFbqIzRDEUFnuinmWbY6yllYwptBIyykZPJIxRe4PT+v67noFFYmi69baneTIdQtzPJ+9gsRKnmpAOFkK/ew33snsyj6t1fXb6z1iPTNL02K8nktHut0115KAIyqRkIxyd3HH1x1pXA3aK5G28Y3d5ZxXE2l/Y7a+06W9s5BchpcIqnDrs2qSGyCC445A6U2z8Zz3F/ZafbWlvNM9rBM8dxfrFcyh13Foo9gWQKM5OUGQwA4p9bf11/wAhX/r7v8zsKK5uy8VTX/ia50u2tLVktZjFMv24C6jAH+sMBX/VkkYO4kgg47VSsfFmpXZtrTTdNW9uZo7mbfd3giVVin8vBKRHrkY+X6nuVfRPv/w4zsarXVjHd3FtLMzkW0nmLGD8rNggE+uMnHbPPUDHP2/jC41S3tJND0oXJksUvrhZ7nyvKRyQqLhW3OSr8fKPl5YZq5F4kkn8Bp4khsGd2shefYxJ82Nu4qGxycZ7c03pe/T+v0Hrt3G+KNAuNbS2+yyxo0JbIkJAIOPQH0rnv+ED1T/nvaf99t/8TXSyeIJJrmaHR7H+0GjtIrhWEwjVjIxCDJGAMKWJ5IGMKSQK58+Op9R0+8WzaxjubO+somm0+8W8hdJplUgOUXDY3AgrxwQa6aeIqQSgv61OCrgaFabqS3f+RF/wgeqf897T/vtv/iaP+ED1T/nvaf8Afbf/ABNbyeK99hb3P2PHnas2m7fN6YlaPfnH+znHv1rNh+JOnzaxHbpLpptpbv7GgXUlN3v3bAxtwvClv9rOCCQOcUsZVe39bf5oyeV4ddH9/r/kU/8AhA9U/wCe9p/323/xNH/CB6p/z3tP++2/+Jrc8O+KpvEF5KsVpai2jZ1Yw3wkmt2DYCzxbQY2ODwC3T8a8y+JM8snjq9jkkZkiEaopPCgxqePxJo+uVQ/svD+f3nZJ4C1EuvmXFqFz8xVmJA/75rv68Wj+Hk00ejSRX2Y9STfI/k8W/yb+fm+bjPp0qnqngi+s7z7PZ7rnAlZpZPLhTZGQC2S5wOed2PbNZVas6jtLodWHwtPDp+z62PdaK+fj4Q11Y53awZRbsyuDIgYlRubaM5bjn5c1M/gzVXKG0t2dCkZLTSRRfM4+UD5znPbufQVidF1se90V8/ReENcmUlLIAgyDa80asdhw5ClskA8ZHFaHw2nlj8dWUcbsqSiRXUHhgI2Iz+IFAz3GiiigAooooAKKKKACiiigAooooAKKKKACiiigAooooAKKKKACiiigAooooAKKKKACiiigAooooAKKKKACiiigAooooAKKKKACiiigAooooAKKKKACiiigAooooAKKKKACiiigArI1jThqVq0PmNDIsiyxSqM7HVtynHcZHI7jIrXrGvfFGl2d/NaTJfTTQY80W2m3FwqZGQC0cbDODnGaTsVGTi7opXOlaneQ2zz6jaC7tLnz4ZEs2Ef3GQhkMhJ4c8hh2qq/hi4/s6O2jvLV5FmmmNxcWjGRWkcsSjJIhjPJGQefauptZ7W+tIrqzeOeCZQ8ciEFWB6EGkkurWK9gtJCBPcK7RptPzBcbucYGNwoa6M2WJqK1vyXn/mzFutJuWlsbixvVS5s4mh8y6hMwkVtucgMvzZRTnPrxUU+hXE1xIn29BYTXK3MkHkZk3KVbAk3YCllB5Unk89MdNsX+6Pyo2L/dH5U+txKvNK3+Rxi+DE2qkt6WQRxRsBFgkJ5uec8Z838NvfPBbeDlg0i+sc6bGbq1NsLi100QyYIxlyHw3rgBRmurvbq106ylu7xhHBCu532k4H0AzSX95aaXYy3l8wit4gC77C2OcdACeppJJbF/W6vft26FLUba4utOkt7OeKCSRdheWIyAAjB4DLz+NZS6Fqkf8AZ0sOp2i3FjbyW+9rJiro2zHy+aCCPLHOSDnoK6vYv90flRsX+6Pyp9bmcK0oKy/Jehm6RYJp1tHbRM0gUszO+NzsxLMxxgZJJPA70smkb/En9q+fj/QmtPK2erht2c+2MYrRAA6AD6VmQeItPutSaxtxeSSLI0RkWwn8kMuQw83Z5fBBH3uox1pWu/69DOUnK7f9dTAg8BT2YtfseqW6yR6bHp0k8tgJJVRdwLQsXxGW3cghxwOPV994KvL/AMPW2h3Gp2c2npaRW8qT6aJGBRdpkibf+7cg8Fg+CAR6HatvE+k3mpCxt7l2lZ2jRzBIIpXXO5UlK7HYYbIViRtb0OC38UaTdan9hguJGlMjRK5t5BE7rnciyldjMMHKhiflPoaq9/nr/X3k7O/9f1oaqKEjVBnCgAZOT+dYUPhy4tdGktLLU3guPt0t7HOqHaC8rSbHQN86/NtIyM9Rg4Isaf4m0rVL42tlcSPId+xmt5Ejl2nDeW7KFkwf7pNa1LzDpY5tPDN8FuLw6yU1eeeOZriGApAQilVjMW8lkwTkF8knORgAI3hW5lUXkuoxnWluxdJdrakRKwQxhPK352bCQRvzkk5HAG7YX9tqdkl3YyebA5YK+0rnBKng89QasUAcyfCdwFjvI9SjGsreNeNdG1zC7MnllTFvzt2YAG/OQDk8gtj8I3MG2+h1OMa19re6e7e1JhcugjKeUHB27FQD585UEk8525tXs4b6SzZ5GuY40laKOF3IR3KKflB4yDn0AycDmrtH9f19wf1/X3mbpGlNpWmyQm4E11PI881x5e0PK5ySFzwBwAMk4AGT1qbTrD+zNGtrCCTcbeFY1kcZ3EDG4jPOTyeauVBZXkGoWUV3ZyeZBMu5H2kZH0PNHkBz2heGdW0t5hf6rY3yXZY3sy6fJFcXBIIBMnnkDGcABcADAAp9j4IsdM8QW2p2Fzeottavbx2817PMoyRg/PIRtAGNuMdD1ArpaKOtw3Mm/stcmgg/s/Wba1nERScvYeZG7HHzqvmBlIOcAswweQetJ/YEcfhqHRLWd0t1RYpHf5nljz84JyMFhkE+54rXooA56Hwu0Xib+0TeIbVbhrqO2EGHWVohEcybuU2g4XaDnHOBir82keb4ij1Tz8bLOS18rZ13Mrbs57bemO9aVcvJ40USMI7IsoPBMuM/hiueviaVBL2rt2+635M1pUJ1b8i/rclTwns0vTLP7bn7Bp0ljv8AK/1m5FTfjPGNucc9etVNR8F3OpaXbaTdalazaZFDFGY5tPDzRsi7S8Mm8eWxHcqxBJwak/4TX/pw/wDI3/2NH/Ca/wDTh/5G/wDsa5/7Twl2+ffyf+Xmb/UsQ/s/iia/8LXOqa3a3Oo31tPa2d0Lm2BsQLmIgg7BOG4XIGcJkjgk9afo3hX+yb+C5+2ed5MNxFt8rbnzZvNznJ6dPfrx0qt/wmv/AE4f+Rv/ALGj/hNf+nD/AMjf/Y0v7Twlrc/4PtbsJ4Gu/s/ijIm0y48KrZWmn3N95o01bSWeHSJLpLgIzbQvlt+6kG5sF8rhu+Djq/DGmy6X4P0rTrxf31vZxRSqSG+YIAwz35zWX/wmv/Th/wCRv/sau6V4nXUr5bVrUxM4O0h93QZ9B6VcMww03yKV2/J+fl5inhK8Vztben9dDKtvh8lt4TutFOoC4E10kyPc24kQRxlPLhdM/OgWNVIyM8njNS/8IXdzSXUt7q0TvcvZuVhsvLSL7PJvCou8kKRgckkHJyRhR1tFd6djlOVHg+7FyiLqyDT4tT/tKKD7J+8Dly7I0m/BXLNjCgjjJOObenaDqWlz/Z7PV400lZ2mS3+x5mUMxYx+aW27NxP8G7HGc81v0Ulorf10/wAgerv/AF/Wpzdv4WuX8S2ur6rfWt3LZB1t5IrEQzsrAgLLIGIdQGPAVRnnFeX/ABGH/Ffaj/2y/wDRSV7pVK70bTL+bzb7TrS5kxjfNArnHpkijyDrc8ltviLNa6fHapYAiO2hgBM3TYTuYfL/ABA49veln+IZm1KC7XT5YTCJwPKuyGzIwbP3cHGOjBgfSvU/+EZ0H/oCad/4CR/4Uf8ACM6D/wBATTv/AAEj/wAKd3e4dLHlY+IeDfEaUoW8Zi0Pn5ibK4+dCpBOfmJXYT3qCfxz51vDF/Z2PLktnz5/Xye33e/6e9et/wDCM6D/ANATTv8AwEj/AMKP+EZ0H/oCad/4CR/4VNv69Aerv/Wp59b+L9GuI4dRv5fLvYkuwIBvyokJKqMJtY89Sy4z0Nc/8OQT4+07Hbzc/wDfp69h/wCEZ0H/AKAmnf8AgJH/AIVNaaNplhN5tjp1pbSYxvhgVDj0yBRZXuBdooopgFFFFABRRRQAUUUUAFFFFABRRRQAUUUUAFFFFABRRRQAUUUUAFFFFABRRRQAUUUUAFFFFABRRRQAUUUUAFFFFABRRRQAUUUUAFFFFABRRRQAUUUUAFFFFABRRRQAUUUUAFclB4i0XRvFevxavq9jYyPLCypc3KRsw8leQGIJrraKQHl961mllY2+q2Wm20N7dXt3bya9u+zwq0+V/cHAeVlcsFJVlBbHcUzw4mnJb+Fbu/it5JYVvraCSSLY4dZMRxIH+ZWABCpnI5HrXqdFFtLBu7nj2kyadN4j0q50+TTbA3dtdRzppAkmuYsw7sT3Gcyy5XdtZNwKn72CaktJfs+i6tZ+FxpFyfscbvqehB0Hlh0DLNAjcTFTKQVfeQp+7xXrtFP+vz/zA8nm03SJvDGvNY3+g6hZCyDyW2kad5Vsjq2RIx8x0EgGfRsYJ4Ax13jMWkvwzvRYGI2bW8fkm3YBPL3LjaV4xjpiuqooeqsK2tzzjVYNM8O6lr1ra6ZbppslpYtLaLKba33PNIjSSMgO1cAbzggquGyKydPh01rfxBanVNHtLAtYzmSysWGnklmDbo9+HjbaFZwwU45xgivXaKBvVnK+ALiObRbmK2s7GCCC5KJLpkrPZznapZ4QQAq7iQVXIDBuScmsjTp9Ph1Wyj8P6nqB1SS/k+3add3TO0cRZmkMkGdkQHBVwBk7eW3nd6DRTvrcOjRwOn+INC8Sa5a22nanpdpY6fO4s7OO5jWa6nAZdwjBysY3NgYyx5wABuq+GtRutNg0PTbfV/tuoKBb3+iGOMG1CodznA8xSGC/O7FW3cAblx6RRS6WGzzTwncwm88OQW16t3dIsgutJyP+JPmM78AfOuGwmJSxOflxW34pXS28UWI8WC2OjG0lEQvceQbncuM7vl37M7e/3sd67Cih7pi7nmHhXUNP0mTQbm6uPsllLp15DbyXTFS7faQVTLclyP4ep5qno7eHVh8PJ4uNqlsdAG1L8gQlhJ3Dcb/TPP3sV63VI6XCddGrbpPPFsbbbkbdpYNnGM5yPWl1Xz/9u/VgtE16fhb/ACPLZRdizH9oeb5/9naX/r8+Zt/tBtm7PO7btznnOc10emt4fXXp28Q/Z/8AhJhqcnkZ/wCPvy95EWzb8/leXtzj5cbt38Vd5RTWn4/iweqt6fgrHkNhNpl94q0O5t4dItnur2WK6tYVee7AaGTKXc7EclhjynU8rwTtOCKOwTRfD1s9xodlo6wzpcf2haCa1W8DL8siiRFWTbvxuPZuM4r16ilZaDer/r+vI5vQ4hB4BZI75b+IQzGKdIGiQpltoRWLHYBgKckFQCCQRXMW9ho1lo/hZ9YtrSHRLmyM1886KIZroxx+W85PDEjzMF+N2O+2vS6Krq33t+v+Yu3z/E8tbfZ6fb3GnGZbPU5LnSLFgpO2KVwYHXuI1w+3ttYY4xUxs7e70G7h1K8+w2uhmPS1muYGkj+WZWPmrkbonRYAxJAwWyetemUUulv6/rf7/vOv9f12+45TwBPDJpV3Fa2unxQQ3GFm0qVns5yVUlogeEGeCq5AbdyTmsHS7j7LqttKcALIMk+h4P6V6TXGN4Ovtx2T25XPBLMDj8q8fMqdac6c6avy/wDA/wAj0cDOnBTjN2v/AME2FW1hla1AULp+Lj8TuP8AUVWGiWkksZntzvaYB2DNh8oSec889wB6Vn/8IdqH/Pa2/wC+m/8AiaP+EO1D/ntbf99N/wDE1yP28rKVC9n/AF07JL5G69mtqpLbWNhOtqGskU3EkqErI/yhQcY568VK9jafZLaWaAzMywJ88r8Buveqv/CHah/z2tv++m/+Jo/4Q7UP+e1t/wB9N/8AE1lGnXUOV0O3bovTrq/mW5U27+1/P/MtR6NZ+aqLaebGWnDy72+QqSFHBxWX4a/5GK2/4H/6Aa1YtB1uG3WGO7tQiBgvGWUHrhtuR+Bp+jeGrqw1SO5uJYSsYPCEkkkEdwPWr+rzlWpyhTcUmr7eQnWgqc053unb8TpqKKK+lPFCiiigAooooAKKKKACiiigAooooAKKKKACiiigAooooAKKKKACiiigAooooAKKKKACiiigAooooAKKKKACiiigAooooAKKKKACiiigAooooAKKKKACiiigAooooAKKKKACiiigAooooAKKKKACiiigAooooAKKKKACiiigAooooAKKKKACiiigAooooAKKKKACiiigAooooAKKKKACiiigAooooAKKKKACiiigAooooAKKKKACiiigAooooAKKKKACiiigAooooAKKKKACiiigAooooAKKKKACiiigAooooAKKKKACiiigAooooAKKKKACiiigAooooAKKKKACiiigAooooAKKKKACiiigAooooAKKKKACiiigAooooAKKKKACiiigAooooAKKKKACiiigAooooA//2Q==)"
      ]
    },
    {
      "cell_type": "markdown",
      "metadata": {
        "id": "cUaeyG3vvcZP"
      },
      "source": [
        "# Data Preprocessing"
      ]
    },
    {
      "cell_type": "code",
      "metadata": {
        "colab": {
          "base_uri": "https://localhost:8080/"
        },
        "id": "fT4GyrCxqTIY",
        "outputId": "b9c89756-6860-4c25-be0f-1e0a1ae1a717"
      },
      "source": [
        "retail.isnull().sum()"
      ],
      "execution_count": 34,
      "outputs": [
        {
          "output_type": "execute_result",
          "data": {
            "text/plain": [
              "InvoiceNo           0\n",
              "StockCode           0\n",
              "Description      1454\n",
              "Quantity            0\n",
              "InvoiceDate         0\n",
              "UnitPrice           0\n",
              "CustomerID     135080\n",
              "Country             0\n",
              "dtype: int64"
            ]
          },
          "metadata": {
            "tags": []
          },
          "execution_count": 34
        }
      ]
    },
    {
      "cell_type": "markdown",
      "metadata": {
        "id": "d4RJxHhCv6NO"
      },
      "source": [
        "There are a lot of missing values in columns `Description` and `CustomerID`."
      ]
    },
    {
      "cell_type": "code",
      "metadata": {
        "colab": {
          "base_uri": "https://localhost:8080/"
        },
        "id": "u-kJgd7hqTMa",
        "outputId": "1c08c116-34dc-42b5-aeaf-403f9f705616"
      },
      "source": [
        "retail['Country'].unique()"
      ],
      "execution_count": 35,
      "outputs": [
        {
          "output_type": "execute_result",
          "data": {
            "text/plain": [
              "array(['United Kingdom', 'France', 'Australia', 'Netherlands', 'Germany',\n",
              "       'Norway', 'EIRE', 'Switzerland', 'Spain', 'Poland', 'Portugal',\n",
              "       'Italy', 'Belgium', 'Lithuania', 'Japan', 'Iceland',\n",
              "       'Channel Islands', 'Denmark', 'Cyprus', 'Sweden', 'Austria',\n",
              "       'Israel', 'Finland', 'Bahrain', 'Greece', 'Hong Kong', 'Singapore',\n",
              "       'Lebanon', 'United Arab Emirates', 'Saudi Arabia',\n",
              "       'Czech Republic', 'Canada', 'Unspecified', 'Brazil', 'USA',\n",
              "       'European Community', 'Malta', 'RSA'], dtype=object)"
            ]
          },
          "metadata": {
            "tags": []
          },
          "execution_count": 35
        }
      ]
    },
    {
      "cell_type": "markdown",
      "metadata": {
        "id": "0tHfzbIMyWv9"
      },
      "source": [
        "This company is into Online retail in 38 countries."
      ]
    },
    {
      "cell_type": "markdown",
      "metadata": {
        "id": "JijlJq1v6OiK"
      },
      "source": [
        "***Analyze the sales performance of this Online Retail, and provide your insights regarding the same.***"
      ]
    },
    {
      "cell_type": "code",
      "metadata": {
        "id": "12Cm1OKzy3Oa"
      },
      "source": [
        "TotalAmount = retail['Quantity'] * retail['UnitPrice']\n",
        "retail.insert(loc=5,column='TotalAmount',value=TotalAmount)"
      ],
      "execution_count": 36,
      "outputs": []
    },
    {
      "cell_type": "code",
      "metadata": {
        "colab": {
          "base_uri": "https://localhost:8080/",
          "height": 204
        },
        "id": "Oitc4j3Ty3Qx",
        "outputId": "9903a919-c592-4b0b-d41a-743e2cf02b8c"
      },
      "source": [
        "retail.head()"
      ],
      "execution_count": 37,
      "outputs": [
        {
          "output_type": "execute_result",
          "data": {
            "text/html": [
              "<div>\n",
              "<style scoped>\n",
              "    .dataframe tbody tr th:only-of-type {\n",
              "        vertical-align: middle;\n",
              "    }\n",
              "\n",
              "    .dataframe tbody tr th {\n",
              "        vertical-align: top;\n",
              "    }\n",
              "\n",
              "    .dataframe thead th {\n",
              "        text-align: right;\n",
              "    }\n",
              "</style>\n",
              "<table border=\"1\" class=\"dataframe\">\n",
              "  <thead>\n",
              "    <tr style=\"text-align: right;\">\n",
              "      <th></th>\n",
              "      <th>InvoiceNo</th>\n",
              "      <th>StockCode</th>\n",
              "      <th>Description</th>\n",
              "      <th>Quantity</th>\n",
              "      <th>InvoiceDate</th>\n",
              "      <th>TotalAmount</th>\n",
              "      <th>UnitPrice</th>\n",
              "      <th>CustomerID</th>\n",
              "      <th>Country</th>\n",
              "    </tr>\n",
              "  </thead>\n",
              "  <tbody>\n",
              "    <tr>\n",
              "      <th>0</th>\n",
              "      <td>536365</td>\n",
              "      <td>85123A</td>\n",
              "      <td>WHITE HANGING HEART T-LIGHT HOLDER</td>\n",
              "      <td>6</td>\n",
              "      <td>2010-12-01 08:26:00</td>\n",
              "      <td>15.30</td>\n",
              "      <td>2.55</td>\n",
              "      <td>17850.0</td>\n",
              "      <td>United Kingdom</td>\n",
              "    </tr>\n",
              "    <tr>\n",
              "      <th>1</th>\n",
              "      <td>536365</td>\n",
              "      <td>71053</td>\n",
              "      <td>WHITE METAL LANTERN</td>\n",
              "      <td>6</td>\n",
              "      <td>2010-12-01 08:26:00</td>\n",
              "      <td>20.34</td>\n",
              "      <td>3.39</td>\n",
              "      <td>17850.0</td>\n",
              "      <td>United Kingdom</td>\n",
              "    </tr>\n",
              "    <tr>\n",
              "      <th>2</th>\n",
              "      <td>536365</td>\n",
              "      <td>84406B</td>\n",
              "      <td>CREAM CUPID HEARTS COAT HANGER</td>\n",
              "      <td>8</td>\n",
              "      <td>2010-12-01 08:26:00</td>\n",
              "      <td>22.00</td>\n",
              "      <td>2.75</td>\n",
              "      <td>17850.0</td>\n",
              "      <td>United Kingdom</td>\n",
              "    </tr>\n",
              "    <tr>\n",
              "      <th>3</th>\n",
              "      <td>536365</td>\n",
              "      <td>84029G</td>\n",
              "      <td>KNITTED UNION FLAG HOT WATER BOTTLE</td>\n",
              "      <td>6</td>\n",
              "      <td>2010-12-01 08:26:00</td>\n",
              "      <td>20.34</td>\n",
              "      <td>3.39</td>\n",
              "      <td>17850.0</td>\n",
              "      <td>United Kingdom</td>\n",
              "    </tr>\n",
              "    <tr>\n",
              "      <th>4</th>\n",
              "      <td>536365</td>\n",
              "      <td>84029E</td>\n",
              "      <td>RED WOOLLY HOTTIE WHITE HEART.</td>\n",
              "      <td>6</td>\n",
              "      <td>2010-12-01 08:26:00</td>\n",
              "      <td>20.34</td>\n",
              "      <td>3.39</td>\n",
              "      <td>17850.0</td>\n",
              "      <td>United Kingdom</td>\n",
              "    </tr>\n",
              "  </tbody>\n",
              "</table>\n",
              "</div>"
            ],
            "text/plain": [
              "  InvoiceNo StockCode  ... CustomerID         Country\n",
              "0    536365    85123A  ...    17850.0  United Kingdom\n",
              "1    536365     71053  ...    17850.0  United Kingdom\n",
              "2    536365    84406B  ...    17850.0  United Kingdom\n",
              "3    536365    84029G  ...    17850.0  United Kingdom\n",
              "4    536365    84029E  ...    17850.0  United Kingdom\n",
              "\n",
              "[5 rows x 9 columns]"
            ]
          },
          "metadata": {
            "tags": []
          },
          "execution_count": 37
        }
      ]
    },
    {
      "cell_type": "code",
      "metadata": {
        "colab": {
          "base_uri": "https://localhost:8080/",
          "height": 204
        },
        "id": "d_u8HS0Ay3W8",
        "outputId": "05e7d560-756d-4ac0-b160-79c8db3040db"
      },
      "source": [
        "new_retail = retail[['CustomerID', 'InvoiceNo', 'StockCode', 'Quantity', 'TotalAmount', 'InvoiceDate', 'Country']]\n",
        "new_retail.head()"
      ],
      "execution_count": 41,
      "outputs": [
        {
          "output_type": "execute_result",
          "data": {
            "text/html": [
              "<div>\n",
              "<style scoped>\n",
              "    .dataframe tbody tr th:only-of-type {\n",
              "        vertical-align: middle;\n",
              "    }\n",
              "\n",
              "    .dataframe tbody tr th {\n",
              "        vertical-align: top;\n",
              "    }\n",
              "\n",
              "    .dataframe thead th {\n",
              "        text-align: right;\n",
              "    }\n",
              "</style>\n",
              "<table border=\"1\" class=\"dataframe\">\n",
              "  <thead>\n",
              "    <tr style=\"text-align: right;\">\n",
              "      <th></th>\n",
              "      <th>CustomerID</th>\n",
              "      <th>InvoiceNo</th>\n",
              "      <th>StockCode</th>\n",
              "      <th>Quantity</th>\n",
              "      <th>TotalAmount</th>\n",
              "      <th>InvoiceDate</th>\n",
              "      <th>Country</th>\n",
              "    </tr>\n",
              "  </thead>\n",
              "  <tbody>\n",
              "    <tr>\n",
              "      <th>0</th>\n",
              "      <td>17850.0</td>\n",
              "      <td>536365</td>\n",
              "      <td>85123A</td>\n",
              "      <td>6</td>\n",
              "      <td>15.30</td>\n",
              "      <td>2010-12-01 08:26:00</td>\n",
              "      <td>United Kingdom</td>\n",
              "    </tr>\n",
              "    <tr>\n",
              "      <th>1</th>\n",
              "      <td>17850.0</td>\n",
              "      <td>536365</td>\n",
              "      <td>71053</td>\n",
              "      <td>6</td>\n",
              "      <td>20.34</td>\n",
              "      <td>2010-12-01 08:26:00</td>\n",
              "      <td>United Kingdom</td>\n",
              "    </tr>\n",
              "    <tr>\n",
              "      <th>2</th>\n",
              "      <td>17850.0</td>\n",
              "      <td>536365</td>\n",
              "      <td>84406B</td>\n",
              "      <td>8</td>\n",
              "      <td>22.00</td>\n",
              "      <td>2010-12-01 08:26:00</td>\n",
              "      <td>United Kingdom</td>\n",
              "    </tr>\n",
              "    <tr>\n",
              "      <th>3</th>\n",
              "      <td>17850.0</td>\n",
              "      <td>536365</td>\n",
              "      <td>84029G</td>\n",
              "      <td>6</td>\n",
              "      <td>20.34</td>\n",
              "      <td>2010-12-01 08:26:00</td>\n",
              "      <td>United Kingdom</td>\n",
              "    </tr>\n",
              "    <tr>\n",
              "      <th>4</th>\n",
              "      <td>17850.0</td>\n",
              "      <td>536365</td>\n",
              "      <td>84029E</td>\n",
              "      <td>6</td>\n",
              "      <td>20.34</td>\n",
              "      <td>2010-12-01 08:26:00</td>\n",
              "      <td>United Kingdom</td>\n",
              "    </tr>\n",
              "  </tbody>\n",
              "</table>\n",
              "</div>"
            ],
            "text/plain": [
              "   CustomerID InvoiceNo  ...         InvoiceDate         Country\n",
              "0     17850.0    536365  ... 2010-12-01 08:26:00  United Kingdom\n",
              "1     17850.0    536365  ... 2010-12-01 08:26:00  United Kingdom\n",
              "2     17850.0    536365  ... 2010-12-01 08:26:00  United Kingdom\n",
              "3     17850.0    536365  ... 2010-12-01 08:26:00  United Kingdom\n",
              "4     17850.0    536365  ... 2010-12-01 08:26:00  United Kingdom\n",
              "\n",
              "[5 rows x 7 columns]"
            ]
          },
          "metadata": {
            "tags": []
          },
          "execution_count": 41
        }
      ]
    },
    {
      "cell_type": "code",
      "metadata": {
        "colab": {
          "base_uri": "https://localhost:8080/"
        },
        "id": "qI4rJu_qy3bS",
        "outputId": "bc889949-1747-4a62-8173-f7e20bba5a1f"
      },
      "source": [
        "# Grouping countries by TotalAmount of sales\n",
        "\n",
        "country_price = new_retail.groupby('Country')['Quantity'].sum().sort_values(ascending = False)\n",
        "country_price"
      ],
      "execution_count": 43,
      "outputs": [
        {
          "output_type": "execute_result",
          "data": {
            "text/plain": [
              "Country\n",
              "United Kingdom          4263829\n",
              "Netherlands              200128\n",
              "EIRE                     142637\n",
              "Germany                  117448\n",
              "France                   110480\n",
              "Australia                 83653\n",
              "Sweden                    35637\n",
              "Switzerland               30325\n",
              "Spain                     26824\n",
              "Japan                     25218\n",
              "Belgium                   23152\n",
              "Norway                    19247\n",
              "Portugal                  16180\n",
              "Finland                   10666\n",
              "Channel Islands            9479\n",
              "Denmark                    8188\n",
              "Italy                      7999\n",
              "Cyprus                     6317\n",
              "Singapore                  5234\n",
              "Austria                    4827\n",
              "Hong Kong                  4769\n",
              "Israel                     4353\n",
              "Poland                     3653\n",
              "Unspecified                3300\n",
              "Canada                     2763\n",
              "Iceland                    2458\n",
              "Greece                     1556\n",
              "USA                        1034\n",
              "United Arab Emirates        982\n",
              "Malta                       944\n",
              "Lithuania                   652\n",
              "Czech Republic              592\n",
              "European Community          497\n",
              "Lebanon                     386\n",
              "Brazil                      356\n",
              "RSA                         352\n",
              "Bahrain                     260\n",
              "Saudi Arabia                 75\n",
              "Name: Quantity, dtype: int64"
            ]
          },
          "metadata": {
            "tags": []
          },
          "execution_count": 43
        }
      ]
    },
    {
      "cell_type": "code",
      "metadata": {
        "colab": {
          "base_uri": "https://localhost:8080/",
          "height": 626
        },
        "id": "-G9WkJ8506Od",
        "outputId": "5c6ff101-f35a-4b29-983d-378303824e3d"
      },
      "source": [
        "# Top 5 Countries with higher number of purchases\n",
        "\n",
        "country_price[:5].plot(kind = 'bar')"
      ],
      "execution_count": 46,
      "outputs": [
        {
          "output_type": "execute_result",
          "data": {
            "text/plain": [
              "<matplotlib.axes._subplots.AxesSubplot at 0x7f7a39e1d610>"
            ]
          },
          "metadata": {
            "tags": []
          },
          "execution_count": 46
        },
        {
          "output_type": "display_data",
          "data": {
            "image/png": "[encoded data removed]",
            "text/plain": [
              "<Figure size 800x550 with 1 Axes>"
            ]
          },
          "metadata": {
            "tags": []
          }
        }
      ]
    },
    {
      "cell_type": "code",
      "metadata": {
        "colab": {
          "base_uri": "https://localhost:8080/",
          "height": 590
        },
        "id": "ptwRlpPu06Qz",
        "outputId": "16dd50a1-b903-4e74-ce2a-6302ea06df5a"
      },
      "source": [
        "# 5 Countries with the least number of purchases\n",
        "\n",
        "country_price[33:].plot(kind = 'bar')"
      ],
      "execution_count": 48,
      "outputs": [
        {
          "output_type": "execute_result",
          "data": {
            "text/plain": [
              "<matplotlib.axes._subplots.AxesSubplot at 0x7f7a39d10a50>"
            ]
          },
          "metadata": {
            "tags": []
          },
          "execution_count": 48
        },
        {
          "output_type": "display_data",
          "data": {
            "image/png": "[encoded data removed]",
            "text/plain": [
              "<Figure size 800x550 with 1 Axes>"
            ]
          },
          "metadata": {
            "tags": []
          }
        }
      ]
    },
    {
      "cell_type": "code",
      "metadata": {
        "colab": {
          "base_uri": "https://localhost:8080/",
          "height": 306
        },
        "id": "zTUjQNIz06Y0",
        "outputId": "cef3c322-beb2-4573-b562-9cbd306608d3"
      },
      "source": [
        "# Adding 'Year' feature to the dataset \n",
        "\n",
        "timest = new_retail['InvoiceDate'].dt.year\n",
        "\n",
        "new_retail['Year'] = timest\n",
        "\n",
        "new_retail.head()"
      ],
      "execution_count": 50,
      "outputs": [
        {
          "output_type": "stream",
          "text": [
            "/usr/local/lib/python3.7/dist-packages/ipykernel_launcher.py:5: SettingWithCopyWarning: \n",
            "A value is trying to be set on a copy of a slice from a DataFrame.\n",
            "Try using .loc[row_indexer,col_indexer] = value instead\n",
            "\n",
            "See the caveats in the documentation: http://pandas.pydata.org/pandas-docs/stable/user_guide/indexing.html#returning-a-view-versus-a-copy\n",
            "  \"\"\"\n"
          ],
          "name": "stderr"
        },
        {
          "output_type": "execute_result",
          "data": {
            "text/html": [
              "<div>\n",
              "<style scoped>\n",
              "    .dataframe tbody tr th:only-of-type {\n",
              "        vertical-align: middle;\n",
              "    }\n",
              "\n",
              "    .dataframe tbody tr th {\n",
              "        vertical-align: top;\n",
              "    }\n",
              "\n",
              "    .dataframe thead th {\n",
              "        text-align: right;\n",
              "    }\n",
              "</style>\n",
              "<table border=\"1\" class=\"dataframe\">\n",
              "  <thead>\n",
              "    <tr style=\"text-align: right;\">\n",
              "      <th></th>\n",
              "      <th>CustomerID</th>\n",
              "      <th>InvoiceNo</th>\n",
              "      <th>StockCode</th>\n",
              "      <th>Quantity</th>\n",
              "      <th>TotalAmount</th>\n",
              "      <th>InvoiceDate</th>\n",
              "      <th>Country</th>\n",
              "      <th>Year</th>\n",
              "    </tr>\n",
              "  </thead>\n",
              "  <tbody>\n",
              "    <tr>\n",
              "      <th>0</th>\n",
              "      <td>17850.0</td>\n",
              "      <td>536365</td>\n",
              "      <td>85123A</td>\n",
              "      <td>6</td>\n",
              "      <td>15.30</td>\n",
              "      <td>2010-12-01 08:26:00</td>\n",
              "      <td>United Kingdom</td>\n",
              "      <td>2010</td>\n",
              "    </tr>\n",
              "    <tr>\n",
              "      <th>1</th>\n",
              "      <td>17850.0</td>\n",
              "      <td>536365</td>\n",
              "      <td>71053</td>\n",
              "      <td>6</td>\n",
              "      <td>20.34</td>\n",
              "      <td>2010-12-01 08:26:00</td>\n",
              "      <td>United Kingdom</td>\n",
              "      <td>2010</td>\n",
              "    </tr>\n",
              "    <tr>\n",
              "      <th>2</th>\n",
              "      <td>17850.0</td>\n",
              "      <td>536365</td>\n",
              "      <td>84406B</td>\n",
              "      <td>8</td>\n",
              "      <td>22.00</td>\n",
              "      <td>2010-12-01 08:26:00</td>\n",
              "      <td>United Kingdom</td>\n",
              "      <td>2010</td>\n",
              "    </tr>\n",
              "    <tr>\n",
              "      <th>3</th>\n",
              "      <td>17850.0</td>\n",
              "      <td>536365</td>\n",
              "      <td>84029G</td>\n",
              "      <td>6</td>\n",
              "      <td>20.34</td>\n",
              "      <td>2010-12-01 08:26:00</td>\n",
              "      <td>United Kingdom</td>\n",
              "      <td>2010</td>\n",
              "    </tr>\n",
              "    <tr>\n",
              "      <th>4</th>\n",
              "      <td>17850.0</td>\n",
              "      <td>536365</td>\n",
              "      <td>84029E</td>\n",
              "      <td>6</td>\n",
              "      <td>20.34</td>\n",
              "      <td>2010-12-01 08:26:00</td>\n",
              "      <td>United Kingdom</td>\n",
              "      <td>2010</td>\n",
              "    </tr>\n",
              "  </tbody>\n",
              "</table>\n",
              "</div>"
            ],
            "text/plain": [
              "   CustomerID InvoiceNo StockCode  ...         InvoiceDate         Country  Year\n",
              "0     17850.0    536365    85123A  ... 2010-12-01 08:26:00  United Kingdom  2010\n",
              "1     17850.0    536365     71053  ... 2010-12-01 08:26:00  United Kingdom  2010\n",
              "2     17850.0    536365    84406B  ... 2010-12-01 08:26:00  United Kingdom  2010\n",
              "3     17850.0    536365    84029G  ... 2010-12-01 08:26:00  United Kingdom  2010\n",
              "4     17850.0    536365    84029E  ... 2010-12-01 08:26:00  United Kingdom  2010\n",
              "\n",
              "[5 rows x 8 columns]"
            ]
          },
          "metadata": {
            "tags": []
          },
          "execution_count": 50
        }
      ]
    },
    {
      "cell_type": "code",
      "metadata": {
        "colab": {
          "base_uri": "https://localhost:8080/",
          "height": 557
        },
        "id": "TnnmbKQx06b-",
        "outputId": "e191e243-3b1f-42d6-b082-22fa0e46d5c9"
      },
      "source": [
        "# Total sales for different years\n",
        "\n",
        "new_retail.groupby('Year')['TotalAmount'].sum().plot(kind = 'bar')"
      ],
      "execution_count": 51,
      "outputs": [
        {
          "output_type": "execute_result",
          "data": {
            "text/plain": [
              "<matplotlib.axes._subplots.AxesSubplot at 0x7f7a39cb6c10>"
            ]
          },
          "metadata": {
            "tags": []
          },
          "execution_count": 51
        },
        {
          "output_type": "display_data",
          "data": {
            "image/png": "[encoded data removed]",
            "text/plain": [
              "<Figure size 800x550 with 1 Axes>"
            ]
          },
          "metadata": {
            "tags": []
          }
        }
      ]
    },
    {
      "cell_type": "code",
      "metadata": {
        "colab": {
          "base_uri": "https://localhost:8080/",
          "height": 595
        },
        "id": "yqrSQcNi06gO",
        "outputId": "f5d7a86a-55a8-498a-b680-93be10c7b73a"
      },
      "source": [
        "# Sales for different months\n",
        "\n",
        "new_retail['Mon'] = new_retail['InvoiceDate'].dt.month\n",
        "new_retail['month'] = new_retail['InvoiceDate'].dt.month_name() \n",
        "new_retail.groupby(['Mon','Year'])['TotalAmount'].sum().plot(kind = 'bar', title = 'Sales month wise')"
      ],
      "execution_count": 52,
      "outputs": [
        {
          "output_type": "execute_result",
          "data": {
            "text/plain": [
              "<matplotlib.axes._subplots.AxesSubplot at 0x7f7a37abe8d0>"
            ]
          },
          "metadata": {
            "tags": []
          },
          "execution_count": 52
        },
        {
          "output_type": "display_data",
          "data": {
            "image/png": "[encoded data removed]",
            "text/plain": [
              "<Figure size 800x550 with 1 Axes>"
            ]
          },
          "metadata": {
            "tags": []
          }
        }
      ]
    },
    {
      "cell_type": "markdown",
      "metadata": {
        "id": "z4yFusRR23R1"
      },
      "source": [
        "***Performance Analysis***\n",
        "Sales Performance can be seen with\n",
        "\n",
        "Number of sales every month\n",
        "\n",
        "Number of sales every year\n",
        "\n",
        "We see that in 2010 we have sales only for dec and in 2011 we have sales for all months.\n",
        "\n",
        "We can see that from September to November 2011 we have very good sales."
      ]
    },
    {
      "cell_type": "markdown",
      "metadata": {
        "id": "asRQ6aDP3iv7"
      },
      "source": [
        "**How can the business improve?**"
      ]
    },
    {
      "cell_type": "code",
      "metadata": {
        "colab": {
          "base_uri": "https://localhost:8080/"
        },
        "id": "e62LCYx806js",
        "outputId": "2b940ef8-28e4-488c-ee68-408d8c2c32ab"
      },
      "source": [
        "new_retail = new_retail.dropna()\n",
        "new_retail.isnull().sum()"
      ],
      "execution_count": 53,
      "outputs": [
        {
          "output_type": "execute_result",
          "data": {
            "text/plain": [
              "CustomerID     0\n",
              "InvoiceNo      0\n",
              "StockCode      0\n",
              "Quantity       0\n",
              "TotalAmount    0\n",
              "InvoiceDate    0\n",
              "Country        0\n",
              "Year           0\n",
              "Mon            0\n",
              "month          0\n",
              "dtype: int64"
            ]
          },
          "metadata": {
            "tags": []
          },
          "execution_count": 53
        }
      ]
    },
    {
      "cell_type": "code",
      "metadata": {
        "colab": {
          "base_uri": "https://localhost:8080/",
          "height": 631
        },
        "id": "2qAE6_Wt06mr",
        "outputId": "c9396cc0-103a-469f-cd64-5aa8d10b1648"
      },
      "source": [
        "#Countries with more number of customers\n",
        "\n",
        "cus_id = pd.DataFrame(new_retail.groupby('Country')['CustomerID'].count().sort_values(ascending = False))\n",
        "cus_id[:5].plot(kind = 'bar', title = 'Most Customers for country')"
      ],
      "execution_count": 54,
      "outputs": [
        {
          "output_type": "execute_result",
          "data": {
            "text/plain": [
              "<matplotlib.axes._subplots.AxesSubplot at 0x7f7a37a74310>"
            ]
          },
          "metadata": {
            "tags": []
          },
          "execution_count": 54
        },
        {
          "output_type": "display_data",
          "data": {
            "image/png": "[encoded data removed]",
            "text/plain": [
              "<Figure size 800x550 with 1 Axes>"
            ]
          },
          "metadata": {
            "tags": []
          }
        }
      ]
    },
    {
      "cell_type": "code",
      "metadata": {
        "colab": {
          "base_uri": "https://localhost:8080/",
          "height": 629
        },
        "id": "ApisYe1m06pE",
        "outputId": "c6473150-7e3c-42da-c16f-2141e5c62e52"
      },
      "source": [
        "# Countries with less number of customers\n",
        "\n",
        "cus_id[-5:].plot(kind = 'bar', title = 'Least customers for country')"
      ],
      "execution_count": 55,
      "outputs": [
        {
          "output_type": "execute_result",
          "data": {
            "text/plain": [
              "<matplotlib.axes._subplots.AxesSubplot at 0x7f7a379adf90>"
            ]
          },
          "metadata": {
            "tags": []
          },
          "execution_count": 55
        },
        {
          "output_type": "display_data",
          "data": {
            "image/png": "[encoded data removed]",
            "text/plain": [
              "<Figure size 800x550 with 1 Axes>"
            ]
          },
          "metadata": {
            "tags": []
          }
        }
      ]
    },
    {
      "cell_type": "markdown",
      "metadata": {
        "id": "2Gnkwmm34HN8"
      },
      "source": [
        "We see that September to December 2011 we have very high sales.\n",
        "\n",
        "We can concentrate on improving the sales for the other 8 months.\n",
        "\n",
        "We find very less number of customers in Lithania, Brazil, Czech Republic, Bahrain, Saudi Arabia.\n",
        "\n",
        "We have very less sales for Lebanon, Brazil, RSA, Bahrain, Saudi Arabia. We can concentrate on improving their sales.\n",
        "\n",
        "***We can improve the business by increasing the customers and sales point of view.***"
      ]
    }
  ]
}