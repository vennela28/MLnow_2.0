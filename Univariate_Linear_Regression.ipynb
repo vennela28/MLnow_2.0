{
  "nbformat": 4,
  "nbformat_minor": 0,
  "metadata": {
    "colab": {
      "name": "Univariate_Linear_Regression.ipynb",
      "provenance": [],
      "collapsed_sections": [],
      "authorship_tag": "ABX9TyOLjPeHXnIrESoeNZgXEARo",
      "include_colab_link": true
    },
    "kernelspec": {
      "name": "python3",
      "display_name": "Python 3"
    },
    "language_info": {
      "name": "python"
    }
  },
  "cells": [
    {
      "cell_type": "markdown",
      "metadata": {
        "id": "view-in-github",
        "colab_type": "text"
      },
      "source": [
        "<a href=\"https://colab.research.google.com/github/vennela28/MLnow_2.0/blob/main/Univariate_Linear_Regression.ipynb\" target=\"_parent\"><img src=\"https://colab.research.google.com/assets/colab-badge.svg\" alt=\"Open In Colab\"/></a>"
      ]
    },
    {
      "cell_type": "markdown",
      "metadata": {
        "id": "BCWUxt65l26J"
      },
      "source": [
        "**Dataset**:\n",
        "[Link to download the dataset](https://www.kaggle.com/PromptCloudHQ/imdb-data)\n",
        "\n",
        "**Date**: 7 June 2021\n",
        "\n",
        "**Topic**: Univariate Linear Regression\n",
        "\n",
        "**Author**: Vennela Sunnam\n",
        "\n",
        "[Assessment Repository](https://github.com/vennela28/MLnow_2.0)\n"
      ]
    },
    {
      "cell_type": "markdown",
      "metadata": {
        "id": "sLodGfMMp_nt"
      },
      "source": [
        "**Univariate analysis**\n",
        "\n",
        "Univariate analysis is the simplest type of analyzing data which considers only 1 feature in our dataset and classify the points with respect to the output of the dataset. \n",
        "\n",
        "\n"
      ]
    },
    {
      "cell_type": "markdown",
      "metadata": {
        "id": "YZ8EdoxZp2i7"
      },
      "source": [
        "***Linear Regression***\n",
        "\n",
        "Linear Regression is a regression algorithm which has a response variable belonging to real values. \n",
        "\n",
        "Linear Regression is all about finding the best hyperplane that best fits the given data.\n",
        "\n",
        "Given 'x' predict 'y'. \n"
      ]
    },
    {
      "cell_type": "markdown",
      "metadata": {
        "id": "vSMFoXDep_bQ"
      },
      "source": [
        "**Logistic Regression**\n",
        "\n",
        "Logistic Regression is a *classification* algorithm even if the name says \"regression\".\n",
        "\n",
        "Logistic Regression can perform only binary classification unlike KNN and Naive Bayes.\n",
        "\n",
        "***Logistic Regression is all about finding the best hyperplane to seperate the positive points from the negative points***. \n",
        "\n",
        "\n",
        "**Assumption**: \n",
        "\n",
        "The classes are almost/perfectly linearly separable.\n",
        "\n",
        "There are various ways to find the best plane:\n",
        "1. Geometry & Simple Algebra\n",
        "2. Probability: Gaussian Naive Bayes\n",
        "3. Loss minimization\n",
        "\n",
        "The hyperplane is ${\\pi}$ with normal w where the hyperplane is w* = argmax ($\\sum_{i=0}^n \\ y_iw^Tx_i$) where $y_i$ is the class of the point and $w^Tx_i$ is the distance between the point and the hyperplane.\n",
        "\n",
        "*Our objective is to find w that maximises sum of signed distances.*\n",
        "\n",
        "But maximizing the sum of signed distances is not outlier prone. We use *squashing*. Squashing is accomplished by using **sigmoid function** between [0, 1].\n",
        "\n",
        "Sigmoid function has a *probabilistic behavior* and has a tapering behavior when $w^Tx_i$ is **large** and linear behavior when $w^Tx_i$ is **small**.\n",
        "\n",
        "The optimal hyperplane using geometry is **w* = argmin ($\\sum_{i=1}^n \\ log(1 + \\exp(-y_iw^Tx_i)$)**.\n",
        "\n",
        "Probabilistic Method: **w* = argmin ($\\sum_{i=0}^n - y_i log P_i - (1 - y_i) log(1 - P_i)$)**.\n",
        "\n",
        "\n",
        "\n"
      ]
    },
    {
      "cell_type": "code",
      "metadata": {
        "id": "QaQSY6jHBcam",
        "colab": {
          "base_uri": "https://localhost:8080/"
        },
        "outputId": "d28e44b8-3a25-4e5d-fd2d-6fe2a1e97126"
      },
      "source": [
        "from google.colab import drive\n",
        "drive.mount('/content/drive')"
      ],
      "execution_count": null,
      "outputs": [
        {
          "output_type": "stream",
          "text": [
            "Drive already mounted at /content/drive; to attempt to forcibly remount, call drive.mount(\"/content/drive\", force_remount=True).\n"
          ],
          "name": "stdout"
        }
      ]
    },
    {
      "cell_type": "code",
      "metadata": {
        "id": "K5wId4jPlwI5",
        "colab": {
          "base_uri": "https://localhost:8080/"
        },
        "outputId": "9d0bb720-deb1-4dc0-b578-d592c9316e0f"
      },
      "source": [
        "cd '/content/drive/MyDrive/Univariate_Linear_Regression'"
      ],
      "execution_count": null,
      "outputs": [
        {
          "output_type": "stream",
          "text": [
            "/content/drive/MyDrive/Univariate_Linear_Regression\n"
          ],
          "name": "stdout"
        }
      ]
    },
    {
      "cell_type": "code",
      "metadata": {
        "colab": {
          "base_uri": "https://localhost:8080/"
        },
        "id": "lqXTNVlfbfkS",
        "outputId": "b292b440-4cf0-4db8-d886-4f2a60df241d"
      },
      "source": [
        "ls"
      ],
      "execution_count": null,
      "outputs": [
        {
          "output_type": "stream",
          "text": [
            "IMDB-Movie-Data.csv  Univariate_Linear_Regression.ipynb\n"
          ],
          "name": "stdout"
        }
      ]
    },
    {
      "cell_type": "code",
      "metadata": {
        "id": "ziiBSLmNbfmH"
      },
      "source": [
        "import pandas as pd #work with csv or excel files\n",
        "import numpy as np #work with numbers/ arrays/ tensors\n",
        "import tensorflow as tf #framework\n",
        "from tensorflow import keras #API / library \n",
        "import os #using os commands between the python language"
      ],
      "execution_count": null,
      "outputs": []
    },
    {
      "cell_type": "markdown",
      "metadata": {
        "id": "0R4TcumYyV3k"
      },
      "source": [
        "**Load the dataset into a pandas dataFrame**"
      ]
    },
    {
      "cell_type": "code",
      "metadata": {
        "id": "4-fSsNu_bfpR"
      },
      "source": [
        "movies = pd.read_csv('IMDB-Movie-Data.csv', sep = ',')"
      ],
      "execution_count": null,
      "outputs": []
    },
    {
      "cell_type": "markdown",
      "metadata": {
        "id": "c-cJCp2iyjCR"
      },
      "source": [
        "**Find out the total number of datapoints and features in the dataset**"
      ]
    },
    {
      "cell_type": "code",
      "metadata": {
        "colab": {
          "base_uri": "https://localhost:8080/"
        },
        "id": "oPTzrQBpmn7c",
        "outputId": "51cdbdc8-d08f-4f98-88a4-a4e65184bb63"
      },
      "source": [
        "print(movies.shape)"
      ],
      "execution_count": null,
      "outputs": [
        {
          "output_type": "stream",
          "text": [
            "(1000, 12)\n"
          ],
          "name": "stdout"
        }
      ]
    },
    {
      "cell_type": "markdown",
      "metadata": {
        "id": "QHRG7URM0N-i"
      },
      "source": [
        "**Inspecting the dataset**"
      ]
    },
    {
      "cell_type": "markdown",
      "metadata": {
        "id": "lM5mEoLb1KVK"
      },
      "source": [
        "To find everything about the dataset you can use the info() method. This gives a detailed overview of the dataset with the total number of rows and columns, column names, index range, type of values in the columns and also specifies if any of the columns have null values."
      ]
    },
    {
      "cell_type": "code",
      "metadata": {
        "id": "gqLgyfMSUhNv",
        "colab": {
          "base_uri": "https://localhost:8080/"
        },
        "outputId": "8b459020-44d5-42c3-c964-897b5fa636db"
      },
      "source": [
        "movies.info()"
      ],
      "execution_count": null,
      "outputs": [
        {
          "output_type": "stream",
          "text": [
            "<class 'pandas.core.frame.DataFrame'>\n",
            "RangeIndex: 1000 entries, 0 to 999\n",
            "Data columns (total 12 columns):\n",
            " #   Column              Non-Null Count  Dtype  \n",
            "---  ------              --------------  -----  \n",
            " 0   Rank                1000 non-null   int64  \n",
            " 1   Title               1000 non-null   object \n",
            " 2   Genre               1000 non-null   object \n",
            " 3   Description         1000 non-null   object \n",
            " 4   Director            1000 non-null   object \n",
            " 5   Actors              1000 non-null   object \n",
            " 6   Year                1000 non-null   int64  \n",
            " 7   Runtime (Minutes)   1000 non-null   int64  \n",
            " 8   Rating              1000 non-null   float64\n",
            " 9   Votes               1000 non-null   int64  \n",
            " 10  Revenue (Millions)  872 non-null    float64\n",
            " 11  Metascore           936 non-null    float64\n",
            "dtypes: float64(3), int64(4), object(5)\n",
            "memory usage: 93.9+ KB\n"
          ],
          "name": "stdout"
        }
      ]
    },
    {
      "cell_type": "code",
      "metadata": {
        "id": "FfhmUcSsUg8Z",
        "colab": {
          "base_uri": "https://localhost:8080/",
          "height": 297
        },
        "outputId": "e5be84a8-bfbb-4fce-e8fb-7f9cca83dc93"
      },
      "source": [
        "movies.describe()"
      ],
      "execution_count": null,
      "outputs": [
        {
          "output_type": "execute_result",
          "data": {
            "text/html": [
              "<div>\n",
              "<style scoped>\n",
              "    .dataframe tbody tr th:only-of-type {\n",
              "        vertical-align: middle;\n",
              "    }\n",
              "\n",
              "    .dataframe tbody tr th {\n",
              "        vertical-align: top;\n",
              "    }\n",
              "\n",
              "    .dataframe thead th {\n",
              "        text-align: right;\n",
              "    }\n",
              "</style>\n",
              "<table border=\"1\" class=\"dataframe\">\n",
              "  <thead>\n",
              "    <tr style=\"text-align: right;\">\n",
              "      <th></th>\n",
              "      <th>Rank</th>\n",
              "      <th>Year</th>\n",
              "      <th>Runtime (Minutes)</th>\n",
              "      <th>Rating</th>\n",
              "      <th>Votes</th>\n",
              "      <th>Revenue (Millions)</th>\n",
              "      <th>Metascore</th>\n",
              "    </tr>\n",
              "  </thead>\n",
              "  <tbody>\n",
              "    <tr>\n",
              "      <th>count</th>\n",
              "      <td>1000.000000</td>\n",
              "      <td>1000.000000</td>\n",
              "      <td>1000.000000</td>\n",
              "      <td>1000.000000</td>\n",
              "      <td>1.000000e+03</td>\n",
              "      <td>872.000000</td>\n",
              "      <td>936.000000</td>\n",
              "    </tr>\n",
              "    <tr>\n",
              "      <th>mean</th>\n",
              "      <td>500.500000</td>\n",
              "      <td>2012.783000</td>\n",
              "      <td>113.172000</td>\n",
              "      <td>6.723200</td>\n",
              "      <td>1.698083e+05</td>\n",
              "      <td>82.956376</td>\n",
              "      <td>58.985043</td>\n",
              "    </tr>\n",
              "    <tr>\n",
              "      <th>std</th>\n",
              "      <td>288.819436</td>\n",
              "      <td>3.205962</td>\n",
              "      <td>18.810908</td>\n",
              "      <td>0.945429</td>\n",
              "      <td>1.887626e+05</td>\n",
              "      <td>103.253540</td>\n",
              "      <td>17.194757</td>\n",
              "    </tr>\n",
              "    <tr>\n",
              "      <th>min</th>\n",
              "      <td>1.000000</td>\n",
              "      <td>2006.000000</td>\n",
              "      <td>66.000000</td>\n",
              "      <td>1.900000</td>\n",
              "      <td>6.100000e+01</td>\n",
              "      <td>0.000000</td>\n",
              "      <td>11.000000</td>\n",
              "    </tr>\n",
              "    <tr>\n",
              "      <th>25%</th>\n",
              "      <td>250.750000</td>\n",
              "      <td>2010.000000</td>\n",
              "      <td>100.000000</td>\n",
              "      <td>6.200000</td>\n",
              "      <td>3.630900e+04</td>\n",
              "      <td>13.270000</td>\n",
              "      <td>47.000000</td>\n",
              "    </tr>\n",
              "    <tr>\n",
              "      <th>50%</th>\n",
              "      <td>500.500000</td>\n",
              "      <td>2014.000000</td>\n",
              "      <td>111.000000</td>\n",
              "      <td>6.800000</td>\n",
              "      <td>1.107990e+05</td>\n",
              "      <td>47.985000</td>\n",
              "      <td>59.500000</td>\n",
              "    </tr>\n",
              "    <tr>\n",
              "      <th>75%</th>\n",
              "      <td>750.250000</td>\n",
              "      <td>2016.000000</td>\n",
              "      <td>123.000000</td>\n",
              "      <td>7.400000</td>\n",
              "      <td>2.399098e+05</td>\n",
              "      <td>113.715000</td>\n",
              "      <td>72.000000</td>\n",
              "    </tr>\n",
              "    <tr>\n",
              "      <th>max</th>\n",
              "      <td>1000.000000</td>\n",
              "      <td>2016.000000</td>\n",
              "      <td>191.000000</td>\n",
              "      <td>9.000000</td>\n",
              "      <td>1.791916e+06</td>\n",
              "      <td>936.630000</td>\n",
              "      <td>100.000000</td>\n",
              "    </tr>\n",
              "  </tbody>\n",
              "</table>\n",
              "</div>"
            ],
            "text/plain": [
              "              Rank         Year  ...  Revenue (Millions)   Metascore\n",
              "count  1000.000000  1000.000000  ...          872.000000  936.000000\n",
              "mean    500.500000  2012.783000  ...           82.956376   58.985043\n",
              "std     288.819436     3.205962  ...          103.253540   17.194757\n",
              "min       1.000000  2006.000000  ...            0.000000   11.000000\n",
              "25%     250.750000  2010.000000  ...           13.270000   47.000000\n",
              "50%     500.500000  2014.000000  ...           47.985000   59.500000\n",
              "75%     750.250000  2016.000000  ...          113.715000   72.000000\n",
              "max    1000.000000  2016.000000  ...          936.630000  100.000000\n",
              "\n",
              "[8 rows x 7 columns]"
            ]
          },
          "metadata": {
            "tags": []
          },
          "execution_count": 95
        }
      ]
    },
    {
      "cell_type": "markdown",
      "metadata": {
        "id": "eFLowe-J04zX"
      },
      "source": [
        "**Rename the columns of the dataset**"
      ]
    },
    {
      "cell_type": "code",
      "metadata": {
        "id": "ZvyXbZnY03Or"
      },
      "source": [
        "movies = movies.rename(columns = {'Revenue (Millions)': 'Revenue', 'Runtime (Minutes)':'Duration'})"
      ],
      "execution_count": null,
      "outputs": []
    },
    {
      "cell_type": "markdown",
      "metadata": {
        "id": "dBPDKEA2xHhH"
      },
      "source": [
        "**Check for null values in the dataset**"
      ]
    },
    {
      "cell_type": "code",
      "metadata": {
        "colab": {
          "base_uri": "https://localhost:8080/"
        },
        "id": "VESU5JdLmwGq",
        "outputId": "88282180-fd91-4ff2-b7fb-34a0ceabf86f"
      },
      "source": [
        "movies.isnull().values.any()"
      ],
      "execution_count": null,
      "outputs": [
        {
          "output_type": "execute_result",
          "data": {
            "text/plain": [
              "True"
            ]
          },
          "metadata": {
            "tags": []
          },
          "execution_count": 97
        }
      ]
    },
    {
      "cell_type": "markdown",
      "metadata": {
        "id": "eYs2iSB-xmGv"
      },
      "source": [
        "If the dataset has some columns having null values, then it returns True else returns False."
      ]
    },
    {
      "cell_type": "markdown",
      "metadata": {
        "id": "tAWc5hctCPMN"
      },
      "source": [
        "Since the dataset has empty values, use dropna() to delete those specific rows in the dataset."
      ]
    },
    {
      "cell_type": "code",
      "metadata": {
        "id": "hxE42Jw_B95c"
      },
      "source": [
        "movies = movies.dropna()"
      ],
      "execution_count": null,
      "outputs": []
    },
    {
      "cell_type": "markdown",
      "metadata": {
        "id": "hvKY7T-RCr8s"
      },
      "source": [
        "Check the total number of rows remaining in the dataset after deleting the rows with empty values."
      ]
    },
    {
      "cell_type": "code",
      "metadata": {
        "colab": {
          "base_uri": "https://localhost:8080/"
        },
        "id": "v52TuNYgCHsN",
        "outputId": "d4d1316d-c28e-4b67-8e54-379b5d396ff2"
      },
      "source": [
        "movies.shape"
      ],
      "execution_count": null,
      "outputs": [
        {
          "output_type": "execute_result",
          "data": {
            "text/plain": [
              "(838, 12)"
            ]
          },
          "metadata": {
            "tags": []
          },
          "execution_count": 99
        }
      ]
    },
    {
      "cell_type": "code",
      "metadata": {
        "colab": {
          "base_uri": "https://localhost:8080/"
        },
        "id": "dpangJf_DGq1",
        "outputId": "2dfbf6a3-5723-4996-bd31-0e86e0086e5e"
      },
      "source": [
        "movies.isnull().values.any()"
      ],
      "execution_count": null,
      "outputs": [
        {
          "output_type": "execute_result",
          "data": {
            "text/plain": [
              "False"
            ]
          },
          "metadata": {
            "tags": []
          },
          "execution_count": 100
        }
      ]
    },
    {
      "cell_type": "markdown",
      "metadata": {
        "id": "vaT2y6VSyD60"
      },
      "source": [
        "**Check for any duplicates in the dataset**"
      ]
    },
    {
      "cell_type": "code",
      "metadata": {
        "colab": {
          "base_uri": "https://localhost:8080/",
          "height": 49
        },
        "id": "EZTkhGS4ofN3",
        "outputId": "adfee4de-446e-48c9-8d84-89cb0beacf7e"
      },
      "source": [
        "movies[movies.duplicated()]"
      ],
      "execution_count": null,
      "outputs": [
        {
          "output_type": "execute_result",
          "data": {
            "text/html": [
              "<div>\n",
              "<style scoped>\n",
              "    .dataframe tbody tr th:only-of-type {\n",
              "        vertical-align: middle;\n",
              "    }\n",
              "\n",
              "    .dataframe tbody tr th {\n",
              "        vertical-align: top;\n",
              "    }\n",
              "\n",
              "    .dataframe thead th {\n",
              "        text-align: right;\n",
              "    }\n",
              "</style>\n",
              "<table border=\"1\" class=\"dataframe\">\n",
              "  <thead>\n",
              "    <tr style=\"text-align: right;\">\n",
              "      <th></th>\n",
              "      <th>Rank</th>\n",
              "      <th>Title</th>\n",
              "      <th>Genre</th>\n",
              "      <th>Description</th>\n",
              "      <th>Director</th>\n",
              "      <th>Actors</th>\n",
              "      <th>Year</th>\n",
              "      <th>Duration</th>\n",
              "      <th>Rating</th>\n",
              "      <th>Votes</th>\n",
              "      <th>Revenue</th>\n",
              "      <th>Metascore</th>\n",
              "    </tr>\n",
              "  </thead>\n",
              "  <tbody>\n",
              "  </tbody>\n",
              "</table>\n",
              "</div>"
            ],
            "text/plain": [
              "Empty DataFrame\n",
              "Columns: [Rank, Title, Genre, Description, Director, Actors, Year, Duration, Rating, Votes, Revenue, Metascore]\n",
              "Index: []"
            ]
          },
          "metadata": {
            "tags": []
          },
          "execution_count": 101
        }
      ]
    },
    {
      "cell_type": "markdown",
      "metadata": {
        "id": "RM3KNAHkDqGt"
      },
      "source": [
        "**Agenda**: Predict the `Rating` of the movie given generated `Revenue`."
      ]
    },
    {
      "cell_type": "markdown",
      "metadata": {
        "id": "rhnaweKHWMMc"
      },
      "source": [
        "We are just going to consider the columns `Rating` and `Revenue` to perform univariate linear regression.\n",
        "\n",
        "$Rating_i = Revenue_i⋅θ_1+θ_0$"
      ]
    },
    {
      "cell_type": "code",
      "metadata": {
        "colab": {
          "base_uri": "https://localhost:8080/",
          "height": 204
        },
        "id": "yfTGrvfMbfwH",
        "outputId": "c25652dc-3594-4057-b1fe-1a5ddd5cec67"
      },
      "source": [
        "charts = movies[['Revenue', 'Rating']]\n",
        "charts.head()"
      ],
      "execution_count": null,
      "outputs": [
        {
          "output_type": "execute_result",
          "data": {
            "text/html": [
              "<div>\n",
              "<style scoped>\n",
              "    .dataframe tbody tr th:only-of-type {\n",
              "        vertical-align: middle;\n",
              "    }\n",
              "\n",
              "    .dataframe tbody tr th {\n",
              "        vertical-align: top;\n",
              "    }\n",
              "\n",
              "    .dataframe thead th {\n",
              "        text-align: right;\n",
              "    }\n",
              "</style>\n",
              "<table border=\"1\" class=\"dataframe\">\n",
              "  <thead>\n",
              "    <tr style=\"text-align: right;\">\n",
              "      <th></th>\n",
              "      <th>Revenue</th>\n",
              "      <th>Rating</th>\n",
              "    </tr>\n",
              "  </thead>\n",
              "  <tbody>\n",
              "    <tr>\n",
              "      <th>0</th>\n",
              "      <td>333.13</td>\n",
              "      <td>8.1</td>\n",
              "    </tr>\n",
              "    <tr>\n",
              "      <th>1</th>\n",
              "      <td>126.46</td>\n",
              "      <td>7.0</td>\n",
              "    </tr>\n",
              "    <tr>\n",
              "      <th>2</th>\n",
              "      <td>138.12</td>\n",
              "      <td>7.3</td>\n",
              "    </tr>\n",
              "    <tr>\n",
              "      <th>3</th>\n",
              "      <td>270.32</td>\n",
              "      <td>7.2</td>\n",
              "    </tr>\n",
              "    <tr>\n",
              "      <th>4</th>\n",
              "      <td>325.02</td>\n",
              "      <td>6.2</td>\n",
              "    </tr>\n",
              "  </tbody>\n",
              "</table>\n",
              "</div>"
            ],
            "text/plain": [
              "   Revenue  Rating\n",
              "0   333.13     8.1\n",
              "1   126.46     7.0\n",
              "2   138.12     7.3\n",
              "3   270.32     7.2\n",
              "4   325.02     6.2"
            ]
          },
          "metadata": {
            "tags": []
          },
          "execution_count": 102
        }
      ]
    },
    {
      "cell_type": "code",
      "metadata": {
        "id": "t6hXS0zEUhaQ"
      },
      "source": [
        "charts.to_csv('top_charts.csv')"
      ],
      "execution_count": null,
      "outputs": []
    },
    {
      "cell_type": "markdown",
      "metadata": {
        "id": "FRuAzHOHX15G"
      },
      "source": [
        "**Data Visualization**"
      ]
    },
    {
      "cell_type": "code",
      "metadata": {
        "id": "GfBpkxZKUhpO",
        "colab": {
          "base_uri": "https://localhost:8080/",
          "height": 153
        },
        "outputId": "14e37cde-d61c-451f-9bae-e78754d28d6d"
      },
      "source": [
        "import seaborn as sns\n",
        "sns.palplot(sns.color_palette('BuPu')) #Blue to Purple colors\n",
        "pal = sns.color_palette('BuPu', 7) #print 7 color shades from Blue to Purple\n",
        "pal.as_hex() #set hex code values for colors\n",
        "\n",
        "import matplotlib.pyplot as plt\n",
        "plt.style.use(['seaborn'])\n",
        "sns_colors = ['#00008B', '#800080'] #Blue Purple hex codes\n",
        "sns.set_palette(sns_colors) #set the palette as sns_colors \n",
        "sns.palplot(sns.color_palette(sns_colors)) #plot the color codes"
      ],
      "execution_count": null,
      "outputs": [
        {
          "output_type": "display_data",
          "data": {
            "image/png": "[encoded data removed]",
            "text/plain": [
              "<Figure size 432x72 with 1 Axes>"
            ]
          },
          "metadata": {
            "tags": []
          }
        },
        {
          "output_type": "display_data",
          "data": {
            "image/png": "[encoded data removed]",
            "text/plain": [
              "<Figure size 144x72 with 1 Axes>"
            ]
          },
          "metadata": {
            "tags": []
          }
        }
      ]
    },
    {
      "cell_type": "code",
      "metadata": {
        "id": "-OJG2ZjOUiSx",
        "colab": {
          "base_uri": "https://localhost:8080/"
        },
        "outputId": "6d4fb384-981d-4f2a-8f9e-0ac953c70b8a"
      },
      "source": [
        "charts.columns"
      ],
      "execution_count": null,
      "outputs": [
        {
          "output_type": "execute_result",
          "data": {
            "text/plain": [
              "Index(['Revenue', 'Rating'], dtype='object')"
            ]
          },
          "metadata": {
            "tags": []
          },
          "execution_count": 105
        }
      ]
    },
    {
      "cell_type": "markdown",
      "metadata": {
        "id": "vtn1SyDGGhM3"
      },
      "source": [
        "**Pairplots**"
      ]
    },
    {
      "cell_type": "code",
      "metadata": {
        "colab": {
          "base_uri": "https://localhost:8080/",
          "height": 391
        },
        "id": "BEMf_Ij-xVUx",
        "outputId": "2573948a-c5fe-40c1-f832-63ea2c372544"
      },
      "source": [
        "#pairplot for all the values\n",
        "\n",
        "sns.pairplot(charts,\n",
        "             x_vars = ['Revenue', 'Rating'],\n",
        "             y_vars =  ['Revenue', 'Rating'],\n",
        "       diag_kind='kde'\n",
        "       )"
      ],
      "execution_count": null,
      "outputs": [
        {
          "output_type": "execute_result",
          "data": {
            "text/plain": [
              "<seaborn.axisgrid.PairGrid at 0x7f36dda19dd0>"
            ]
          },
          "metadata": {
            "tags": []
          },
          "execution_count": 106
        },
        {
          "output_type": "display_data",
          "data": {
            "image/png": "[encoded data removed]",
            "text/plain": [
              "<Figure size 360x360 with 6 Axes>"
            ]
          },
          "metadata": {
            "tags": []
          }
        }
      ]
    },
    {
      "cell_type": "markdown",
      "metadata": {
        "id": "bO1th1MSGZyK"
      },
      "source": [
        "**Box Plots**"
      ]
    },
    {
      "cell_type": "code",
      "metadata": {
        "colab": {
          "base_uri": "https://localhost:8080/",
          "height": 347
        },
        "id": "nmD3yASRBDAx",
        "outputId": "b0f4fefb-351d-44c4-ab58-4fc4e7f05eda"
      },
      "source": [
        "sns.boxplot(y=charts['Revenue'],palette='muted')"
      ],
      "execution_count": null,
      "outputs": [
        {
          "output_type": "execute_result",
          "data": {
            "text/plain": [
              "<matplotlib.axes._subplots.AxesSubplot at 0x7f36dc5f7590>"
            ]
          },
          "metadata": {
            "tags": []
          },
          "execution_count": 107
        },
        {
          "output_type": "display_data",
          "data": {
            "image/png": "[encoded data removed]",
            "text/plain": [
              "<Figure size 576x396 with 1 Axes>"
            ]
          },
          "metadata": {
            "tags": []
          }
        }
      ]
    },
    {
      "cell_type": "code",
      "metadata": {
        "id": "q-8ryuAeKxWH",
        "colab": {
          "base_uri": "https://localhost:8080/",
          "height": 347
        },
        "outputId": "2f4bc075-8e0e-4c4f-ea1d-358b898b6e66"
      },
      "source": [
        "sns.boxplot(y=charts['Rating'],palette='muted')"
      ],
      "execution_count": null,
      "outputs": [
        {
          "output_type": "execute_result",
          "data": {
            "text/plain": [
              "<matplotlib.axes._subplots.AxesSubplot at 0x7f36dc5ed510>"
            ]
          },
          "metadata": {
            "tags": []
          },
          "execution_count": 108
        },
        {
          "output_type": "display_data",
          "data": {
            "image/png": "[encoded data removed]",
            "text/plain": [
              "<Figure size 576x396 with 1 Axes>"
            ]
          },
          "metadata": {
            "tags": []
          }
        }
      ]
    },
    {
      "cell_type": "markdown",
      "metadata": {
        "id": "9X1esjoAG3SP"
      },
      "source": [
        "**Scatter Plot**"
      ]
    },
    {
      "cell_type": "code",
      "metadata": {
        "colab": {
          "base_uri": "https://localhost:8080/",
          "height": 404
        },
        "id": "s-lh6XQEJoV-",
        "outputId": "78f17a91-ef68-46c7-8279-fcae9322d294"
      },
      "source": [
        "plt.grid(True)\n",
        "font = {'family': 'serif',\n",
        "        'color':  'darkred',\n",
        "        'weight': 'normal',\n",
        "        'size': 16,\n",
        "        }\n",
        "        \n",
        "plt.scatter(charts['Revenue'],charts['Rating'])\n",
        "plt.title('Revenue vs Rating',fontdict=font)\n",
        "plt.xlabel('Revenue',fontdict=font)\n",
        "plt.ylabel('Rating',fontdict=font)\n",
        "plt.figure(figsize=(40,40))\n",
        "plt.show()"
      ],
      "execution_count": null,
      "outputs": [
        {
          "output_type": "display_data",
          "data": {
            "image/png": "[encoded data removed]",
            "text/plain": [
              "<Figure size 576x396 with 1 Axes>"
            ]
          },
          "metadata": {
            "tags": []
          }
        },
        {
          "output_type": "display_data",
          "data": {
            "text/plain": [
              "<Figure size 2880x2880 with 0 Axes>"
            ]
          },
          "metadata": {
            "tags": []
          }
        }
      ]
    },
    {
      "cell_type": "markdown",
      "metadata": {
        "id": "KEyhK66TOVfw"
      },
      "source": [
        "**Violinplot**"
      ]
    },
    {
      "cell_type": "code",
      "metadata": {
        "id": "zX-sM7iVKxkg",
        "colab": {
          "base_uri": "https://localhost:8080/",
          "height": 378
        },
        "outputId": "1ed20219-c37c-40e4-f0dc-49a24b4077d7"
      },
      "source": [
        "sns.violinplot(x = charts['Revenue'])"
      ],
      "execution_count": null,
      "outputs": [
        {
          "output_type": "execute_result",
          "data": {
            "text/plain": [
              "<matplotlib.axes._subplots.AxesSubplot at 0x7f36dc56c4d0>"
            ]
          },
          "metadata": {
            "tags": []
          },
          "execution_count": 110
        },
        {
          "output_type": "display_data",
          "data": {
            "image/png": "[encoded data removed]",
            "text/plain": [
              "<Figure size 576x396 with 1 Axes>"
            ]
          },
          "metadata": {
            "tags": []
          }
        }
      ]
    },
    {
      "cell_type": "code",
      "metadata": {
        "id": "C-CZxH1mKxwp",
        "colab": {
          "base_uri": "https://localhost:8080/",
          "height": 347
        },
        "outputId": "c5f06542-3e14-4776-97c0-6152f4d47ed8"
      },
      "source": [
        "sns.violinplot(y = charts['Rating'])"
      ],
      "execution_count": null,
      "outputs": [
        {
          "output_type": "execute_result",
          "data": {
            "text/plain": [
              "<matplotlib.axes._subplots.AxesSubplot at 0x7f36dc523450>"
            ]
          },
          "metadata": {
            "tags": []
          },
          "execution_count": 111
        },
        {
          "output_type": "display_data",
          "data": {
            "image/png": "[encoded data removed]",
            "text/plain": [
              "<Figure size 576x396 with 1 Axes>"
            ]
          },
          "metadata": {
            "tags": []
          }
        }
      ]
    },
    {
      "cell_type": "markdown",
      "metadata": {
        "id": "uvntw3M6OPqi"
      },
      "source": [
        "**Correlation**"
      ]
    },
    {
      "cell_type": "code",
      "metadata": {
        "colab": {
          "base_uri": "https://localhost:8080/",
          "height": 111
        },
        "id": "BmVPk3KGNiYP",
        "outputId": "a9d343b4-de0e-4410-f081-051b929f9a1a"
      },
      "source": [
        "charts.corr() "
      ],
      "execution_count": null,
      "outputs": [
        {
          "output_type": "execute_result",
          "data": {
            "text/html": [
              "<div>\n",
              "<style scoped>\n",
              "    .dataframe tbody tr th:only-of-type {\n",
              "        vertical-align: middle;\n",
              "    }\n",
              "\n",
              "    .dataframe tbody tr th {\n",
              "        vertical-align: top;\n",
              "    }\n",
              "\n",
              "    .dataframe thead th {\n",
              "        text-align: right;\n",
              "    }\n",
              "</style>\n",
              "<table border=\"1\" class=\"dataframe\">\n",
              "  <thead>\n",
              "    <tr style=\"text-align: right;\">\n",
              "      <th></th>\n",
              "      <th>Revenue</th>\n",
              "      <th>Rating</th>\n",
              "    </tr>\n",
              "  </thead>\n",
              "  <tbody>\n",
              "    <tr>\n",
              "      <th>Revenue</th>\n",
              "      <td>1.000000</td>\n",
              "      <td>0.217106</td>\n",
              "    </tr>\n",
              "    <tr>\n",
              "      <th>Rating</th>\n",
              "      <td>0.217106</td>\n",
              "      <td>1.000000</td>\n",
              "    </tr>\n",
              "  </tbody>\n",
              "</table>\n",
              "</div>"
            ],
            "text/plain": [
              "          Revenue    Rating\n",
              "Revenue  1.000000  0.217106\n",
              "Rating   0.217106  1.000000"
            ]
          },
          "metadata": {
            "tags": []
          },
          "execution_count": 112
        }
      ]
    },
    {
      "cell_type": "markdown",
      "metadata": {
        "id": "6hGdlpOAOMQN"
      },
      "source": [
        "**Heatmap**"
      ]
    },
    {
      "cell_type": "code",
      "metadata": {
        "colab": {
          "base_uri": "https://localhost:8080/",
          "height": 368
        },
        "id": "sy41SYXGNmR9",
        "outputId": "070f7fa4-f751-437c-a333-fb265e4dd760"
      },
      "source": [
        "sns.heatmap(charts.corr(),annot=True,cmap=\"BuPu\")"
      ],
      "execution_count": null,
      "outputs": [
        {
          "output_type": "execute_result",
          "data": {
            "text/plain": [
              "<matplotlib.axes._subplots.AxesSubplot at 0x7f36dc52eb90>"
            ]
          },
          "metadata": {
            "tags": []
          },
          "execution_count": 113
        },
        {
          "output_type": "display_data",
          "data": {
            "image/png": "[encoded data removed]",
            "text/plain": [
              "<Figure size 576x396 with 2 Axes>"
            ]
          },
          "metadata": {
            "tags": []
          }
        }
      ]
    },
    {
      "cell_type": "markdown",
      "metadata": {
        "id": "lbOL_yweN8og"
      },
      "source": [
        "There exists a positive correlation between the variables `Rating` and `Revenue`"
      ]
    },
    {
      "cell_type": "markdown",
      "metadata": {
        "id": "wmmv06xCXyIJ"
      },
      "source": [
        "**Stripplot**"
      ]
    },
    {
      "cell_type": "code",
      "metadata": {
        "colab": {
          "base_uri": "https://localhost:8080/",
          "height": 378
        },
        "id": "u76jfigTXCb7",
        "outputId": "97297437-830d-4aa1-af2b-32f179235476"
      },
      "source": [
        "sns.stripplot(x = 'Revenue', y = 'Rating', data = charts)"
      ],
      "execution_count": null,
      "outputs": [
        {
          "output_type": "execute_result",
          "data": {
            "text/plain": [
              "<matplotlib.axes._subplots.AxesSubplot at 0x7f36dc26de10>"
            ]
          },
          "metadata": {
            "tags": []
          },
          "execution_count": 114
        },
        {
          "output_type": "display_data",
          "data": {
            "image/png": "[encoded data removed]",
            "text/plain": [
              "<Figure size 576x396 with 1 Axes>"
            ]
          },
          "metadata": {
            "tags": []
          }
        }
      ]
    },
    {
      "cell_type": "code",
      "metadata": {
        "id": "994QJoUsxVZb",
        "colab": {
          "base_uri": "https://localhost:8080/"
        },
        "outputId": "dc85483e-55e8-4a97-cc87-a12f096829d7"
      },
      "source": [
        "#80-20 train-test percent split\n",
        "\n",
        "trainDataset = charts.sample(frac=0.8, random_state=0) \n",
        "testDataset = charts.drop(trainDataset.index)\n",
        "\n",
        "print(trainDataset.head())\n",
        "print(testDataset.head())"
      ],
      "execution_count": null,
      "outputs": [
        {
          "output_type": "stream",
          "text": [
            "     Revenue  Rating\n",
            "423   106.37     6.2\n",
            "164   167.01     8.0\n",
            "743   171.03     7.6\n",
            "259     2.27     7.1\n",
            "781    12.28     6.5\n",
            "    Revenue  Rating\n",
            "10   234.02     7.5\n",
            "12   532.17     7.9\n",
            "20     7.22     6.7\n",
            "28   113.08     6.2\n",
            "33   363.02     8.0\n"
          ],
          "name": "stdout"
        }
      ]
    },
    {
      "cell_type": "code",
      "metadata": {
        "id": "Ty5dOybkxVcQ",
        "colab": {
          "base_uri": "https://localhost:8080/"
        },
        "outputId": "a7462faa-1494-48f4-8090-fbe63cfcf646"
      },
      "source": [
        "print(trainDataset.shape)\n",
        "print(testDataset.shape)"
      ],
      "execution_count": null,
      "outputs": [
        {
          "output_type": "stream",
          "text": [
            "(670, 2)\n",
            "(168, 2)\n"
          ],
          "name": "stdout"
        }
      ]
    },
    {
      "cell_type": "code",
      "metadata": {
        "colab": {
          "base_uri": "https://localhost:8080/"
        },
        "id": "3OECjHLvxF1o",
        "outputId": "b6c67bed-2761-4744-8752-972445dd248b"
      },
      "source": [
        "#copy the trainDataset dataframe for getting the features\n",
        "\n",
        "trainFeatures = trainDataset.copy()\n",
        "testFeatures = testDataset.copy()\n",
        "\n",
        "print(trainFeatures.head())\n",
        "print(testFeatures.head())"
      ],
      "execution_count": null,
      "outputs": [
        {
          "output_type": "stream",
          "text": [
            "     Revenue  Rating\n",
            "423   106.37     6.2\n",
            "164   167.01     8.0\n",
            "743   171.03     7.6\n",
            "259     2.27     7.1\n",
            "781    12.28     6.5\n",
            "    Revenue  Rating\n",
            "10   234.02     7.5\n",
            "12   532.17     7.9\n",
            "20     7.22     6.7\n",
            "28   113.08     6.2\n",
            "33   363.02     8.0\n"
          ],
          "name": "stdout"
        }
      ]
    },
    {
      "cell_type": "code",
      "metadata": {
        "id": "Dl3kshCnxVoE",
        "colab": {
          "base_uri": "https://localhost:8080/"
        },
        "outputId": "1790004e-e9e5-494b-c879-19c42310076b"
      },
      "source": [
        "#removing the 'Rating' column and saving it into the labels variable\n",
        "\n",
        "trainLabels = trainFeatures.pop('Rating')\n",
        "testLabels = testFeatures.pop('Rating')\n",
        "\n",
        "print(trainLabels.head())\n",
        "print(testLabels.head())"
      ],
      "execution_count": null,
      "outputs": [
        {
          "output_type": "stream",
          "text": [
            "423    6.2\n",
            "164    8.0\n",
            "743    7.6\n",
            "259    7.1\n",
            "781    6.5\n",
            "Name: Rating, dtype: float64\n",
            "10    7.5\n",
            "12    7.9\n",
            "20    6.7\n",
            "28    6.2\n",
            "33    8.0\n",
            "Name: Rating, dtype: float64\n"
          ],
          "name": "stdout"
        }
      ]
    },
    {
      "cell_type": "code",
      "metadata": {
        "id": "pGtTtLYKxVp2",
        "colab": {
          "base_uri": "https://localhost:8080/"
        },
        "outputId": "f511520f-06ce-415e-9a8c-773c63832902"
      },
      "source": [
        "print(trainFeatures.head())\n",
        "print(testFeatures.head())"
      ],
      "execution_count": null,
      "outputs": [
        {
          "output_type": "stream",
          "text": [
            "     Revenue\n",
            "423   106.37\n",
            "164   167.01\n",
            "743   171.03\n",
            "259     2.27\n",
            "781    12.28\n",
            "    Revenue\n",
            "10   234.02\n",
            "12   532.17\n",
            "20     7.22\n",
            "28   113.08\n",
            "33   363.02\n"
          ],
          "name": "stdout"
        }
      ]
    },
    {
      "cell_type": "code",
      "metadata": {
        "id": "jZYZvfxpAebY"
      },
      "source": [
        "# univariate -> num(features) = 1\n",
        "\n",
        "model = tf.keras.Sequential([\n",
        "                             tf.keras.layers.Dense(1)\n",
        "])"
      ],
      "execution_count": null,
      "outputs": []
    },
    {
      "cell_type": "code",
      "metadata": {
        "id": "eYkmi5MjAed6"
      },
      "source": [
        "model.compile(\n",
        "    loss = 'mean_absolute_error', #minimizing the MAE loss\n",
        "    optimizer = tf.keras.optimizers.Adam(0.001), #learning rate specified as 0.001\n",
        "    # optimizer = 'adam', #takes the default learning rate\n",
        "    metrics = ['mae', 'mse'] #meanSquare and meanAbsolute error metrics\n",
        ")"
      ],
      "execution_count": null,
      "outputs": []
    },
    {
      "cell_type": "code",
      "metadata": {
        "colab": {
          "base_uri": "https://localhost:8080/"
        },
        "id": "gy6-rnJIAegU",
        "outputId": "979cdf90-127f-4350-fe98-ff16c2c9dd25"
      },
      "source": [
        "numEpochs = 500\n",
        "history = model.fit(x = trainFeatures, y = trainLabels, validation_data = (testFeatures, testLabels), epochs = numEpochs)"
      ],
      "execution_count": null,
      "outputs": [
        {
          "output_type": "stream",
          "text": [
            "Epoch 1/500\n",
            "21/21 [==============================] - 0s 8ms/step - loss: 46.8149 - mae: 46.8149 - mse: 5854.9863 - val_loss: 47.7117 - val_mae: 47.7117 - val_mse: 6788.7910\n",
            "Epoch 2/500\n",
            "21/21 [==============================] - 0s 2ms/step - loss: 45.1114 - mae: 45.1114 - mse: 5444.1162 - val_loss: 45.9814 - val_mae: 45.9814 - val_mse: 6313.3408\n",
            "Epoch 3/500\n",
            "21/21 [==============================] - 0s 2ms/step - loss: 43.3991 - mae: 43.3991 - mse: 5053.4946 - val_loss: 44.2499 - val_mae: 44.2499 - val_mse: 5854.6914\n",
            "Epoch 4/500\n",
            "21/21 [==============================] - 0s 2ms/step - loss: 41.7188 - mae: 41.7188 - mse: 4684.0845 - val_loss: 42.4829 - val_mae: 42.4829 - val_mse: 5403.9390\n",
            "Epoch 5/500\n",
            "21/21 [==============================] - 0s 3ms/step - loss: 40.0027 - mae: 40.0027 - mse: 4327.3506 - val_loss: 40.7612 - val_mae: 40.7612 - val_mse: 4982.2007\n",
            "Epoch 6/500\n",
            "21/21 [==============================] - 0s 2ms/step - loss: 38.3070 - mae: 38.3070 - mse: 3951.7388 - val_loss: 39.0504 - val_mae: 39.0504 - val_mse: 4579.1279\n",
            "Epoch 7/500\n",
            "21/21 [==============================] - 0s 2ms/step - loss: 36.6242 - mae: 36.6242 - mse: 3640.1560 - val_loss: 37.3233 - val_mae: 37.3233 - val_mse: 4188.1841\n",
            "Epoch 8/500\n",
            "21/21 [==============================] - 0s 2ms/step - loss: 34.9327 - mae: 34.9327 - mse: 3314.7888 - val_loss: 35.6119 - val_mae: 35.6119 - val_mse: 3817.2480\n",
            "Epoch 9/500\n",
            "21/21 [==============================] - 0s 2ms/step - loss: 33.2398 - mae: 33.2398 - mse: 3006.7385 - val_loss: 33.9361 - val_mae: 33.9361 - val_mse: 3470.4792\n",
            "Epoch 10/500\n",
            "21/21 [==============================] - 0s 2ms/step - loss: 31.5913 - mae: 31.5913 - mse: 2722.4990 - val_loss: 32.2137 - val_mae: 32.2137 - val_mse: 3131.4214\n",
            "Epoch 11/500\n",
            "21/21 [==============================] - 0s 3ms/step - loss: 29.9313 - mae: 29.9313 - mse: 2468.4204 - val_loss: 30.4893 - val_mae: 30.4893 - val_mse: 2809.6091\n",
            "Epoch 12/500\n",
            "21/21 [==============================] - 0s 3ms/step - loss: 28.2400 - mae: 28.2400 - mse: 2188.9863 - val_loss: 28.8334 - val_mae: 28.8334 - val_mse: 2517.1982\n",
            "Epoch 13/500\n",
            "21/21 [==============================] - 0s 2ms/step - loss: 26.6195 - mae: 26.6195 - mse: 1958.9821 - val_loss: 27.1176 - val_mae: 27.1176 - val_mse: 2231.3416\n",
            "Epoch 14/500\n",
            "21/21 [==============================] - 0s 2ms/step - loss: 24.9811 - mae: 24.9811 - mse: 1735.1101 - val_loss: 25.4100 - val_mae: 25.4100 - val_mse: 1963.1289\n",
            "Epoch 15/500\n",
            "21/21 [==============================] - 0s 3ms/step - loss: 23.3378 - mae: 23.3378 - mse: 1513.6455 - val_loss: 23.7418 - val_mae: 23.7418 - val_mse: 1717.5739\n",
            "Epoch 16/500\n",
            "21/21 [==============================] - 0s 2ms/step - loss: 21.7312 - mae: 21.7312 - mse: 1314.2573 - val_loss: 22.0677 - val_mae: 22.0677 - val_mse: 1487.9277\n",
            "Epoch 17/500\n",
            "21/21 [==============================] - 0s 3ms/step - loss: 20.1205 - mae: 20.1205 - mse: 1124.9546 - val_loss: 20.4415 - val_mae: 20.4415 - val_mse: 1280.2457\n",
            "Epoch 18/500\n",
            "21/21 [==============================] - 0s 3ms/step - loss: 18.5822 - mae: 18.5822 - mse: 966.0185 - val_loss: 18.7760 - val_mae: 18.7760 - val_mse: 1083.0414\n",
            "Epoch 19/500\n",
            "21/21 [==============================] - 0s 3ms/step - loss: 17.0013 - mae: 17.0013 - mse: 806.8262 - val_loss: 17.2348 - val_mae: 17.2348 - val_mse: 913.1916\n",
            "Epoch 20/500\n",
            "21/21 [==============================] - 0s 3ms/step - loss: 15.5217 - mae: 15.5217 - mse: 667.1652 - val_loss: 15.6448 - val_mae: 15.6448 - val_mse: 752.3669\n",
            "Epoch 21/500\n",
            "21/21 [==============================] - 0s 3ms/step - loss: 14.0577 - mae: 14.0577 - mse: 550.0984 - val_loss: 14.1213 - val_mae: 14.1213 - val_mse: 611.8302\n",
            "Epoch 22/500\n",
            "21/21 [==============================] - 0s 2ms/step - loss: 12.6648 - mae: 12.6648 - mse: 445.9684 - val_loss: 12.6389 - val_mae: 12.6389 - val_mse: 486.9628\n",
            "Epoch 23/500\n",
            "21/21 [==============================] - 0s 3ms/step - loss: 11.3143 - mae: 11.3143 - mse: 350.2807 - val_loss: 11.2736 - val_mae: 11.2736 - val_mse: 381.3002\n",
            "Epoch 24/500\n",
            "21/21 [==============================] - 0s 2ms/step - loss: 10.0476 - mae: 10.0476 - mse: 269.8024 - val_loss: 10.0632 - val_mae: 10.0632 - val_mse: 294.9947\n",
            "Epoch 25/500\n",
            "21/21 [==============================] - 0s 3ms/step - loss: 8.9129 - mae: 8.9129 - mse: 203.0283 - val_loss: 8.9070 - val_mae: 8.9070 - val_mse: 219.9200\n",
            "Epoch 26/500\n",
            "21/21 [==============================] - 0s 2ms/step - loss: 7.8590 - mae: 7.8590 - mse: 149.1190 - val_loss: 7.8643 - val_mae: 7.8643 - val_mse: 161.2539\n",
            "Epoch 27/500\n",
            "21/21 [==============================] - 0s 2ms/step - loss: 6.9647 - mae: 6.9647 - mse: 109.6434 - val_loss: 6.9704 - val_mae: 6.9704 - val_mse: 117.1544\n",
            "Epoch 28/500\n",
            "21/21 [==============================] - 0s 3ms/step - loss: 6.2253 - mae: 6.2253 - mse: 78.4971 - val_loss: 6.2651 - val_mae: 6.2651 - val_mse: 85.4409\n",
            "Epoch 29/500\n",
            "21/21 [==============================] - 0s 3ms/step - loss: 5.6731 - mae: 5.6731 - mse: 58.7979 - val_loss: 5.7452 - val_mae: 5.7452 - val_mse: 64.0727\n",
            "Epoch 30/500\n",
            "21/21 [==============================] - 0s 2ms/step - loss: 5.2986 - mae: 5.2986 - mse: 45.4750 - val_loss: 5.3808 - val_mae: 5.3808 - val_mse: 50.1622\n",
            "Epoch 31/500\n",
            "21/21 [==============================] - 0s 2ms/step - loss: 5.0686 - mae: 5.0686 - mse: 37.9279 - val_loss: 5.1390 - val_mae: 5.1390 - val_mse: 41.7856\n",
            "Epoch 32/500\n",
            "21/21 [==============================] - 0s 2ms/step - loss: 4.9379 - mae: 4.9379 - mse: 33.5535 - val_loss: 5.0267 - val_mae: 5.0267 - val_mse: 38.0102\n",
            "Epoch 33/500\n",
            "21/21 [==============================] - 0s 2ms/step - loss: 4.8809 - mae: 4.8809 - mse: 31.8579 - val_loss: 4.9783 - val_mae: 4.9783 - val_mse: 36.2409\n",
            "Epoch 34/500\n",
            "21/21 [==============================] - 0s 3ms/step - loss: 4.8449 - mae: 4.8449 - mse: 30.8103 - val_loss: 4.9319 - val_mae: 4.9319 - val_mse: 34.6228\n",
            "Epoch 35/500\n",
            "21/21 [==============================] - 0s 2ms/step - loss: 4.8240 - mae: 4.8240 - mse: 30.0343 - val_loss: 4.8921 - val_mae: 4.8921 - val_mse: 33.4258\n",
            "Epoch 36/500\n",
            "21/21 [==============================] - 0s 3ms/step - loss: 4.7980 - mae: 4.7980 - mse: 29.5072 - val_loss: 4.8718 - val_mae: 4.8718 - val_mse: 33.2044\n",
            "Epoch 37/500\n",
            "21/21 [==============================] - 0s 2ms/step - loss: 4.7785 - mae: 4.7785 - mse: 29.1138 - val_loss: 4.8437 - val_mae: 4.8437 - val_mse: 32.5976\n",
            "Epoch 38/500\n",
            "21/21 [==============================] - 0s 3ms/step - loss: 4.7576 - mae: 4.7576 - mse: 28.8276 - val_loss: 4.8237 - val_mae: 4.8237 - val_mse: 32.3682\n",
            "Epoch 39/500\n",
            "21/21 [==============================] - 0s 3ms/step - loss: 4.7356 - mae: 4.7356 - mse: 28.6457 - val_loss: 4.8067 - val_mae: 4.8067 - val_mse: 32.2729\n",
            "Epoch 40/500\n",
            "21/21 [==============================] - 0s 2ms/step - loss: 4.7166 - mae: 4.7166 - mse: 28.4431 - val_loss: 4.7817 - val_mae: 4.7817 - val_mse: 31.7862\n",
            "Epoch 41/500\n",
            "21/21 [==============================] - 0s 2ms/step - loss: 4.6979 - mae: 4.6979 - mse: 28.2210 - val_loss: 4.7642 - val_mae: 4.7642 - val_mse: 31.6469\n",
            "Epoch 42/500\n",
            "21/21 [==============================] - 0s 3ms/step - loss: 4.6772 - mae: 4.6772 - mse: 27.9661 - val_loss: 4.7450 - val_mae: 4.7450 - val_mse: 31.4081\n",
            "Epoch 43/500\n",
            "21/21 [==============================] - 0s 3ms/step - loss: 4.6574 - mae: 4.6574 - mse: 27.6976 - val_loss: 4.7211 - val_mae: 4.7211 - val_mse: 30.9543\n",
            "Epoch 44/500\n",
            "21/21 [==============================] - 0s 2ms/step - loss: 4.6414 - mae: 4.6414 - mse: 27.3452 - val_loss: 4.6982 - val_mae: 4.6982 - val_mse: 30.5469\n",
            "Epoch 45/500\n",
            "21/21 [==============================] - 0s 3ms/step - loss: 4.6251 - mae: 4.6251 - mse: 27.3894 - val_loss: 4.6913 - val_mae: 4.6913 - val_mse: 30.8394\n",
            "Epoch 46/500\n",
            "21/21 [==============================] - 0s 3ms/step - loss: 4.6037 - mae: 4.6037 - mse: 27.0649 - val_loss: 4.6643 - val_mae: 4.6643 - val_mse: 30.2375\n",
            "Epoch 47/500\n",
            "21/21 [==============================] - 0s 2ms/step - loss: 4.5854 - mae: 4.5854 - mse: 26.7428 - val_loss: 4.6457 - val_mae: 4.6457 - val_mse: 30.0043\n",
            "Epoch 48/500\n",
            "21/21 [==============================] - 0s 2ms/step - loss: 4.5674 - mae: 4.5674 - mse: 26.7503 - val_loss: 4.6351 - val_mae: 4.6351 - val_mse: 30.0979\n",
            "Epoch 49/500\n",
            "21/21 [==============================] - 0s 3ms/step - loss: 4.5488 - mae: 4.5488 - mse: 26.4784 - val_loss: 4.6111 - val_mae: 4.6111 - val_mse: 29.6308\n",
            "Epoch 50/500\n",
            "21/21 [==============================] - 0s 2ms/step - loss: 4.5323 - mae: 4.5323 - mse: 26.3072 - val_loss: 4.5929 - val_mae: 4.5929 - val_mse: 29.3931\n",
            "Epoch 51/500\n",
            "21/21 [==============================] - 0s 2ms/step - loss: 4.5141 - mae: 4.5141 - mse: 26.0659 - val_loss: 4.5734 - val_mae: 4.5734 - val_mse: 29.1052\n",
            "Epoch 52/500\n",
            "21/21 [==============================] - 0s 3ms/step - loss: 4.4973 - mae: 4.4973 - mse: 25.8626 - val_loss: 4.5569 - val_mae: 4.5569 - val_mse: 28.9279\n",
            "Epoch 53/500\n",
            "21/21 [==============================] - 0s 3ms/step - loss: 4.4786 - mae: 4.4786 - mse: 25.6107 - val_loss: 4.5353 - val_mae: 4.5353 - val_mse: 28.5563\n",
            "Epoch 54/500\n",
            "21/21 [==============================] - 0s 2ms/step - loss: 4.4631 - mae: 4.4631 - mse: 25.3196 - val_loss: 4.5131 - val_mae: 4.5131 - val_mse: 28.1648\n",
            "Epoch 55/500\n",
            "21/21 [==============================] - 0s 2ms/step - loss: 4.4441 - mae: 4.4441 - mse: 25.1842 - val_loss: 4.5045 - val_mae: 4.5045 - val_mse: 28.2788\n",
            "Epoch 56/500\n",
            "21/21 [==============================] - 0s 2ms/step - loss: 4.4294 - mae: 4.4294 - mse: 25.1402 - val_loss: 4.4883 - val_mae: 4.4883 - val_mse: 28.1080\n",
            "Epoch 57/500\n",
            "21/21 [==============================] - 0s 2ms/step - loss: 4.4119 - mae: 4.4119 - mse: 24.9111 - val_loss: 4.4713 - val_mae: 4.4713 - val_mse: 27.9071\n",
            "Epoch 58/500\n",
            "21/21 [==============================] - 0s 3ms/step - loss: 4.3965 - mae: 4.3965 - mse: 24.6369 - val_loss: 4.4481 - val_mae: 4.4481 - val_mse: 27.4653\n",
            "Epoch 59/500\n",
            "21/21 [==============================] - 0s 2ms/step - loss: 4.3869 - mae: 4.3869 - mse: 24.7950 - val_loss: 4.4488 - val_mae: 4.4488 - val_mse: 27.9585\n",
            "Epoch 60/500\n",
            "21/21 [==============================] - 0s 2ms/step - loss: 4.3639 - mae: 4.3639 - mse: 24.4874 - val_loss: 4.4255 - val_mae: 4.4255 - val_mse: 27.4850\n",
            "Epoch 61/500\n",
            "21/21 [==============================] - 0s 3ms/step - loss: 4.3440 - mae: 4.3440 - mse: 24.0942 - val_loss: 4.3912 - val_mae: 4.3912 - val_mse: 26.6227\n",
            "Epoch 62/500\n",
            "21/21 [==============================] - 0s 3ms/step - loss: 4.3324 - mae: 4.3324 - mse: 23.8052 - val_loss: 4.3816 - val_mae: 4.3816 - val_mse: 26.6896\n",
            "Epoch 63/500\n",
            "21/21 [==============================] - 0s 2ms/step - loss: 4.3152 - mae: 4.3152 - mse: 23.7710 - val_loss: 4.3616 - val_mae: 4.3616 - val_mse: 26.3718\n",
            "Epoch 64/500\n",
            "21/21 [==============================] - 0s 3ms/step - loss: 4.2984 - mae: 4.2984 - mse: 23.6836 - val_loss: 4.3552 - val_mae: 4.3552 - val_mse: 26.5478\n",
            "Epoch 65/500\n",
            "21/21 [==============================] - 0s 2ms/step - loss: 4.2846 - mae: 4.2846 - mse: 23.4217 - val_loss: 4.3252 - val_mae: 4.3252 - val_mse: 25.8646\n",
            "Epoch 66/500\n",
            "21/21 [==============================] - 0s 2ms/step - loss: 4.2717 - mae: 4.2717 - mse: 23.4904 - val_loss: 4.3258 - val_mae: 4.3258 - val_mse: 26.3024\n",
            "Epoch 67/500\n",
            "21/21 [==============================] - 0s 2ms/step - loss: 4.2522 - mae: 4.2522 - mse: 23.0368 - val_loss: 4.2960 - val_mae: 4.2960 - val_mse: 25.6095\n",
            "Epoch 68/500\n",
            "21/21 [==============================] - 0s 3ms/step - loss: 4.2334 - mae: 4.2334 - mse: 22.9922 - val_loss: 4.2936 - val_mae: 4.2936 - val_mse: 25.9358\n",
            "Epoch 69/500\n",
            "21/21 [==============================] - 0s 2ms/step - loss: 4.2174 - mae: 4.2174 - mse: 22.8795 - val_loss: 4.2752 - val_mae: 4.2752 - val_mse: 25.6636\n",
            "Epoch 70/500\n",
            "21/21 [==============================] - 0s 2ms/step - loss: 4.2086 - mae: 4.2086 - mse: 22.5310 - val_loss: 4.2433 - val_mae: 4.2433 - val_mse: 24.9144\n",
            "Epoch 71/500\n",
            "21/21 [==============================] - 0s 2ms/step - loss: 4.1860 - mae: 4.1860 - mse: 22.4781 - val_loss: 4.2391 - val_mae: 4.2391 - val_mse: 25.1519\n",
            "Epoch 72/500\n",
            "21/21 [==============================] - 0s 2ms/step - loss: 4.1695 - mae: 4.1695 - mse: 22.1978 - val_loss: 4.2162 - val_mae: 4.2162 - val_mse: 24.7228\n",
            "Epoch 73/500\n",
            "21/21 [==============================] - 0s 2ms/step - loss: 4.1521 - mae: 4.1521 - mse: 21.9890 - val_loss: 4.2072 - val_mae: 4.2072 - val_mse: 24.7945\n",
            "Epoch 74/500\n",
            "21/21 [==============================] - 0s 2ms/step - loss: 4.1385 - mae: 4.1385 - mse: 22.1036 - val_loss: 4.1923 - val_mae: 4.1923 - val_mse: 24.6559\n",
            "Epoch 75/500\n",
            "21/21 [==============================] - 0s 2ms/step - loss: 4.1270 - mae: 4.1270 - mse: 22.0654 - val_loss: 4.1768 - val_mae: 4.1768 - val_mse: 24.4886\n",
            "Epoch 76/500\n",
            "21/21 [==============================] - 0s 2ms/step - loss: 4.1106 - mae: 4.1106 - mse: 21.5166 - val_loss: 4.1493 - val_mae: 4.1493 - val_mse: 23.9023\n",
            "Epoch 77/500\n",
            "21/21 [==============================] - 0s 2ms/step - loss: 4.0925 - mae: 4.0925 - mse: 21.4299 - val_loss: 4.1355 - val_mae: 4.1355 - val_mse: 23.7959\n",
            "Epoch 78/500\n",
            "21/21 [==============================] - 0s 2ms/step - loss: 4.0733 - mae: 4.0733 - mse: 21.2045 - val_loss: 4.1224 - val_mae: 4.1224 - val_mse: 23.7169\n",
            "Epoch 79/500\n",
            "21/21 [==============================] - 0s 2ms/step - loss: 4.0609 - mae: 4.0609 - mse: 21.2568 - val_loss: 4.1097 - val_mae: 4.1097 - val_mse: 23.6374\n",
            "Epoch 80/500\n",
            "21/21 [==============================] - 0s 3ms/step - loss: 4.0453 - mae: 4.0453 - mse: 20.9497 - val_loss: 4.0950 - val_mae: 4.0950 - val_mse: 23.4947\n",
            "Epoch 81/500\n",
            "21/21 [==============================] - 0s 3ms/step - loss: 4.0282 - mae: 4.0282 - mse: 20.8042 - val_loss: 4.0705 - val_mae: 4.0705 - val_mse: 23.0366\n",
            "Epoch 82/500\n",
            "21/21 [==============================] - 0s 3ms/step - loss: 4.0135 - mae: 4.0135 - mse: 20.6837 - val_loss: 4.0671 - val_mae: 4.0671 - val_mse: 23.2595\n",
            "Epoch 83/500\n",
            "21/21 [==============================] - 0s 2ms/step - loss: 3.9961 - mae: 3.9961 - mse: 20.5288 - val_loss: 4.0453 - val_mae: 4.0453 - val_mse: 22.8815\n",
            "Epoch 84/500\n",
            "21/21 [==============================] - 0s 2ms/step - loss: 3.9818 - mae: 3.9818 - mse: 20.3147 - val_loss: 4.0269 - val_mae: 4.0269 - val_mse: 22.6255\n",
            "Epoch 85/500\n",
            "21/21 [==============================] - 0s 2ms/step - loss: 3.9655 - mae: 3.9655 - mse: 20.1445 - val_loss: 4.0122 - val_mae: 4.0122 - val_mse: 22.4849\n",
            "Epoch 86/500\n",
            "21/21 [==============================] - 0s 2ms/step - loss: 3.9504 - mae: 3.9504 - mse: 19.9799 - val_loss: 3.9988 - val_mae: 3.9988 - val_mse: 22.3804\n",
            "Epoch 87/500\n",
            "21/21 [==============================] - 0s 2ms/step - loss: 3.9359 - mae: 3.9359 - mse: 19.9398 - val_loss: 3.9835 - val_mae: 3.9835 - val_mse: 22.2155\n",
            "Epoch 88/500\n",
            "21/21 [==============================] - 0s 2ms/step - loss: 3.9202 - mae: 3.9202 - mse: 19.7651 - val_loss: 3.9647 - val_mae: 3.9647 - val_mse: 21.9491\n",
            "Epoch 89/500\n",
            "21/21 [==============================] - 0s 3ms/step - loss: 3.9068 - mae: 3.9068 - mse: 19.6620 - val_loss: 3.9584 - val_mae: 3.9584 - val_mse: 22.0638\n",
            "Epoch 90/500\n",
            "21/21 [==============================] - 0s 4ms/step - loss: 3.8904 - mae: 3.8904 - mse: 19.4300 - val_loss: 3.9261 - val_mae: 3.9261 - val_mse: 21.3874\n",
            "Epoch 91/500\n",
            "21/21 [==============================] - 0s 2ms/step - loss: 3.8783 - mae: 3.8783 - mse: 19.1940 - val_loss: 3.9241 - val_mae: 3.9241 - val_mse: 21.6235\n",
            "Epoch 92/500\n",
            "21/21 [==============================] - 0s 2ms/step - loss: 3.8597 - mae: 3.8597 - mse: 19.2056 - val_loss: 3.9030 - val_mae: 3.9030 - val_mse: 21.2818\n",
            "Epoch 93/500\n",
            "21/21 [==============================] - 0s 2ms/step - loss: 3.8455 - mae: 3.8455 - mse: 19.0382 - val_loss: 3.8976 - val_mae: 3.8976 - val_mse: 21.4295\n",
            "Epoch 94/500\n",
            "21/21 [==============================] - 0s 3ms/step - loss: 3.8310 - mae: 3.8310 - mse: 18.9706 - val_loss: 3.8660 - val_mae: 3.8660 - val_mse: 20.7742\n",
            "Epoch 95/500\n",
            "21/21 [==============================] - 0s 2ms/step - loss: 3.8155 - mae: 3.8155 - mse: 18.6898 - val_loss: 3.8629 - val_mae: 3.8629 - val_mse: 20.9740\n",
            "Epoch 96/500\n",
            "21/21 [==============================] - 0s 2ms/step - loss: 3.7982 - mae: 3.7982 - mse: 18.5380 - val_loss: 3.8429 - val_mae: 3.8429 - val_mse: 20.6706\n",
            "Epoch 97/500\n",
            "21/21 [==============================] - 0s 2ms/step - loss: 3.7866 - mae: 3.7866 - mse: 18.3401 - val_loss: 3.8282 - val_mae: 3.8282 - val_mse: 20.5287\n",
            "Epoch 98/500\n",
            "21/21 [==============================] - 0s 2ms/step - loss: 3.7679 - mae: 3.7679 - mse: 18.2825 - val_loss: 3.8156 - val_mae: 3.8156 - val_mse: 20.4498\n",
            "Epoch 99/500\n",
            "21/21 [==============================] - 0s 3ms/step - loss: 3.7527 - mae: 3.7527 - mse: 18.1431 - val_loss: 3.7989 - val_mae: 3.7989 - val_mse: 20.2482\n",
            "Epoch 100/500\n",
            "21/21 [==============================] - 0s 2ms/step - loss: 3.7389 - mae: 3.7389 - mse: 18.0335 - val_loss: 3.7777 - val_mae: 3.7777 - val_mse: 19.9173\n",
            "Epoch 101/500\n",
            "21/21 [==============================] - 0s 2ms/step - loss: 3.7261 - mae: 3.7261 - mse: 17.7416 - val_loss: 3.7531 - val_mae: 3.7531 - val_mse: 19.4923\n",
            "Epoch 102/500\n",
            "21/21 [==============================] - 0s 2ms/step - loss: 3.7079 - mae: 3.7079 - mse: 17.6627 - val_loss: 3.7556 - val_mae: 3.7556 - val_mse: 19.8460\n",
            "Epoch 103/500\n",
            "21/21 [==============================] - 0s 2ms/step - loss: 3.6932 - mae: 3.6932 - mse: 17.6196 - val_loss: 3.7382 - val_mae: 3.7382 - val_mse: 19.6259\n",
            "Epoch 104/500\n",
            "21/21 [==============================] - 0s 2ms/step - loss: 3.6829 - mae: 3.6829 - mse: 17.5723 - val_loss: 3.7189 - val_mae: 3.7189 - val_mse: 19.3534\n",
            "Epoch 105/500\n",
            "21/21 [==============================] - 0s 2ms/step - loss: 3.6685 - mae: 3.6685 - mse: 17.2683 - val_loss: 3.7074 - val_mae: 3.7074 - val_mse: 19.3033\n",
            "Epoch 106/500\n",
            "21/21 [==============================] - 0s 3ms/step - loss: 3.6538 - mae: 3.6538 - mse: 17.3655 - val_loss: 3.6906 - val_mae: 3.6906 - val_mse: 19.0970\n",
            "Epoch 107/500\n",
            "21/21 [==============================] - 0s 3ms/step - loss: 3.6381 - mae: 3.6381 - mse: 16.8804 - val_loss: 3.6590 - val_mae: 3.6590 - val_mse: 18.4839\n",
            "Epoch 108/500\n",
            "21/21 [==============================] - 0s 2ms/step - loss: 3.6218 - mae: 3.6218 - mse: 17.0265 - val_loss: 3.6798 - val_mae: 3.6798 - val_mse: 19.3924\n",
            "Epoch 109/500\n",
            "21/21 [==============================] - 0s 2ms/step - loss: 3.6101 - mae: 3.6101 - mse: 16.8122 - val_loss: 3.6391 - val_mae: 3.6391 - val_mse: 18.4712\n",
            "Epoch 110/500\n",
            "21/21 [==============================] - 0s 2ms/step - loss: 3.5897 - mae: 3.5897 - mse: 16.6366 - val_loss: 3.6371 - val_mae: 3.6371 - val_mse: 18.6914\n",
            "Epoch 111/500\n",
            "21/21 [==============================] - 0s 3ms/step - loss: 3.5751 - mae: 3.5751 - mse: 16.5468 - val_loss: 3.6154 - val_mae: 3.6154 - val_mse: 18.3473\n",
            "Epoch 112/500\n",
            "21/21 [==============================] - 0s 2ms/step - loss: 3.5649 - mae: 3.5649 - mse: 16.5043 - val_loss: 3.6033 - val_mae: 3.6033 - val_mse: 18.2812\n",
            "Epoch 113/500\n",
            "21/21 [==============================] - 0s 3ms/step - loss: 3.5608 - mae: 3.5608 - mse: 16.0791 - val_loss: 3.5742 - val_mae: 3.5742 - val_mse: 17.7542\n",
            "Epoch 114/500\n",
            "21/21 [==============================] - 0s 2ms/step - loss: 3.5384 - mae: 3.5384 - mse: 16.3528 - val_loss: 3.5903 - val_mae: 3.5903 - val_mse: 18.5104\n",
            "Epoch 115/500\n",
            "21/21 [==============================] - 0s 3ms/step - loss: 3.5295 - mae: 3.5295 - mse: 15.9367 - val_loss: 3.5493 - val_mae: 3.5493 - val_mse: 17.5995\n",
            "Epoch 116/500\n",
            "21/21 [==============================] - 0s 2ms/step - loss: 3.5054 - mae: 3.5054 - mse: 16.0693 - val_loss: 3.5525 - val_mae: 3.5525 - val_mse: 17.9668\n",
            "Epoch 117/500\n",
            "21/21 [==============================] - 0s 3ms/step - loss: 3.4940 - mae: 3.4940 - mse: 15.9970 - val_loss: 3.5215 - val_mae: 3.5215 - val_mse: 17.3652\n",
            "Epoch 118/500\n",
            "21/21 [==============================] - 0s 3ms/step - loss: 3.4774 - mae: 3.4774 - mse: 15.3988 - val_loss: 3.4959 - val_mae: 3.4959 - val_mse: 16.9374\n",
            "Epoch 119/500\n",
            "21/21 [==============================] - 0s 2ms/step - loss: 3.4621 - mae: 3.4621 - mse: 15.6210 - val_loss: 3.5115 - val_mae: 3.5115 - val_mse: 17.6521\n",
            "Epoch 120/500\n",
            "21/21 [==============================] - 0s 2ms/step - loss: 3.4422 - mae: 3.4422 - mse: 15.4299 - val_loss: 3.4792 - val_mae: 3.4792 - val_mse: 17.0025\n",
            "Epoch 121/500\n",
            "21/21 [==============================] - 0s 3ms/step - loss: 3.4307 - mae: 3.4307 - mse: 15.1494 - val_loss: 3.4557 - val_mae: 3.4557 - val_mse: 16.6417\n",
            "Epoch 122/500\n",
            "21/21 [==============================] - 0s 3ms/step - loss: 3.4185 - mae: 3.4185 - mse: 15.1184 - val_loss: 3.4425 - val_mae: 3.4425 - val_mse: 16.5495\n",
            "Epoch 123/500\n",
            "21/21 [==============================] - 0s 2ms/step - loss: 3.4007 - mae: 3.4007 - mse: 14.9188 - val_loss: 3.4286 - val_mae: 3.4286 - val_mse: 16.4330\n",
            "Epoch 124/500\n",
            "21/21 [==============================] - 0s 3ms/step - loss: 3.3855 - mae: 3.3855 - mse: 14.7619 - val_loss: 3.4234 - val_mae: 3.4234 - val_mse: 16.5468\n",
            "Epoch 125/500\n",
            "21/21 [==============================] - 0s 2ms/step - loss: 3.3700 - mae: 3.3700 - mse: 14.7546 - val_loss: 3.4077 - val_mae: 3.4077 - val_mse: 16.3866\n",
            "Epoch 126/500\n",
            "21/21 [==============================] - 0s 2ms/step - loss: 3.3565 - mae: 3.3565 - mse: 14.6553 - val_loss: 3.3900 - val_mae: 3.3900 - val_mse: 16.1718\n",
            "Epoch 127/500\n",
            "21/21 [==============================] - 0s 2ms/step - loss: 3.3451 - mae: 3.3451 - mse: 14.5065 - val_loss: 3.3562 - val_mae: 3.3562 - val_mse: 15.5492\n",
            "Epoch 128/500\n",
            "21/21 [==============================] - 0s 2ms/step - loss: 3.3319 - mae: 3.3319 - mse: 14.3702 - val_loss: 3.3615 - val_mae: 3.3615 - val_mse: 15.9287\n",
            "Epoch 129/500\n",
            "21/21 [==============================] - 0s 3ms/step - loss: 3.3133 - mae: 3.3133 - mse: 14.2122 - val_loss: 3.3432 - val_mae: 3.3432 - val_mse: 15.7064\n",
            "Epoch 130/500\n",
            "21/21 [==============================] - 0s 2ms/step - loss: 3.2989 - mae: 3.2989 - mse: 14.1401 - val_loss: 3.3250 - val_mae: 3.3250 - val_mse: 15.4873\n",
            "Epoch 131/500\n",
            "21/21 [==============================] - 0s 2ms/step - loss: 3.2897 - mae: 3.2897 - mse: 13.9114 - val_loss: 3.3179 - val_mae: 3.3179 - val_mse: 15.5483\n",
            "Epoch 132/500\n",
            "21/21 [==============================] - 0s 2ms/step - loss: 3.2701 - mae: 3.2701 - mse: 13.8581 - val_loss: 3.3058 - val_mae: 3.3058 - val_mse: 15.4861\n",
            "Epoch 133/500\n",
            "21/21 [==============================] - 0s 2ms/step - loss: 3.2556 - mae: 3.2556 - mse: 13.6806 - val_loss: 3.2756 - val_mae: 3.2756 - val_mse: 14.9704\n",
            "Epoch 134/500\n",
            "21/21 [==============================] - 0s 2ms/step - loss: 3.2402 - mae: 3.2402 - mse: 13.5995 - val_loss: 3.2734 - val_mae: 3.2734 - val_mse: 15.1487\n",
            "Epoch 135/500\n",
            "21/21 [==============================] - 0s 2ms/step - loss: 3.2285 - mae: 3.2285 - mse: 13.4226 - val_loss: 3.2589 - val_mae: 3.2589 - val_mse: 15.0271\n",
            "Epoch 136/500\n",
            "21/21 [==============================] - 0s 2ms/step - loss: 3.2141 - mae: 3.2141 - mse: 13.5415 - val_loss: 3.2538 - val_mae: 3.2538 - val_mse: 15.1572\n",
            "Epoch 137/500\n",
            "21/21 [==============================] - 0s 3ms/step - loss: 3.1965 - mae: 3.1965 - mse: 13.3203 - val_loss: 3.2161 - val_mae: 3.2161 - val_mse: 14.4470\n",
            "Epoch 138/500\n",
            "21/21 [==============================] - 0s 3ms/step - loss: 3.1933 - mae: 3.1933 - mse: 12.9751 - val_loss: 3.2088 - val_mae: 3.2088 - val_mse: 14.4962\n",
            "Epoch 139/500\n",
            "21/21 [==============================] - 0s 3ms/step - loss: 3.1718 - mae: 3.1718 - mse: 13.3285 - val_loss: 3.2154 - val_mae: 3.2154 - val_mse: 14.9307\n",
            "Epoch 140/500\n",
            "21/21 [==============================] - 0s 3ms/step - loss: 3.1522 - mae: 3.1522 - mse: 12.9636 - val_loss: 3.1709 - val_mae: 3.1709 - val_mse: 14.0407\n",
            "Epoch 141/500\n",
            "21/21 [==============================] - 0s 3ms/step - loss: 3.1433 - mae: 3.1433 - mse: 12.8593 - val_loss: 3.1606 - val_mae: 3.1606 - val_mse: 14.0198\n",
            "Epoch 142/500\n",
            "21/21 [==============================] - 0s 3ms/step - loss: 3.1246 - mae: 3.1246 - mse: 12.5600 - val_loss: 3.1505 - val_mae: 3.1505 - val_mse: 14.0049\n",
            "Epoch 143/500\n",
            "21/21 [==============================] - 0s 3ms/step - loss: 3.1092 - mae: 3.1092 - mse: 12.6326 - val_loss: 3.1501 - val_mae: 3.1501 - val_mse: 14.2457\n",
            "Epoch 144/500\n",
            "21/21 [==============================] - 0s 3ms/step - loss: 3.0960 - mae: 3.0960 - mse: 12.6035 - val_loss: 3.1195 - val_mae: 3.1195 - val_mse: 13.7119\n",
            "Epoch 145/500\n",
            "21/21 [==============================] - 0s 2ms/step - loss: 3.0858 - mae: 3.0858 - mse: 12.2873 - val_loss: 3.1057 - val_mae: 3.1057 - val_mse: 13.6109\n",
            "Epoch 146/500\n",
            "21/21 [==============================] - 0s 2ms/step - loss: 3.0681 - mae: 3.0681 - mse: 12.2102 - val_loss: 3.0926 - val_mae: 3.0926 - val_mse: 13.5263\n",
            "Epoch 147/500\n",
            "21/21 [==============================] - 0s 2ms/step - loss: 3.0538 - mae: 3.0538 - mse: 12.2116 - val_loss: 3.0743 - val_mae: 3.0743 - val_mse: 13.3219\n",
            "Epoch 148/500\n",
            "21/21 [==============================] - 0s 2ms/step - loss: 3.0390 - mae: 3.0390 - mse: 12.0189 - val_loss: 3.0499 - val_mae: 3.0499 - val_mse: 12.9757\n",
            "Epoch 149/500\n",
            "21/21 [==============================] - 0s 2ms/step - loss: 3.0250 - mae: 3.0250 - mse: 11.7446 - val_loss: 3.0493 - val_mae: 3.0493 - val_mse: 13.1812\n",
            "Epoch 150/500\n",
            "21/21 [==============================] - 0s 3ms/step - loss: 3.0105 - mae: 3.0105 - mse: 11.9204 - val_loss: 3.0399 - val_mae: 3.0399 - val_mse: 13.1888\n",
            "Epoch 151/500\n",
            "21/21 [==============================] - 0s 2ms/step - loss: 3.0011 - mae: 3.0011 - mse: 11.7119 - val_loss: 3.0074 - val_mae: 3.0074 - val_mse: 12.6620\n",
            "Epoch 152/500\n",
            "21/21 [==============================] - 0s 2ms/step - loss: 2.9771 - mae: 2.9771 - mse: 11.5302 - val_loss: 3.0192 - val_mae: 3.0192 - val_mse: 13.1495\n",
            "Epoch 153/500\n",
            "21/21 [==============================] - 0s 3ms/step - loss: 2.9720 - mae: 2.9720 - mse: 11.6055 - val_loss: 2.9889 - val_mae: 2.9889 - val_mse: 12.6626\n",
            "Epoch 154/500\n",
            "21/21 [==============================] - 0s 3ms/step - loss: 2.9502 - mae: 2.9502 - mse: 11.3553 - val_loss: 2.9807 - val_mae: 2.9807 - val_mse: 12.6911\n",
            "Epoch 155/500\n",
            "21/21 [==============================] - 0s 2ms/step - loss: 2.9386 - mae: 2.9386 - mse: 11.3746 - val_loss: 2.9596 - val_mae: 2.9596 - val_mse: 12.4274\n",
            "Epoch 156/500\n",
            "21/21 [==============================] - 0s 3ms/step - loss: 2.9244 - mae: 2.9244 - mse: 11.1010 - val_loss: 2.9510 - val_mae: 2.9510 - val_mse: 12.4395\n",
            "Epoch 157/500\n",
            "21/21 [==============================] - 0s 3ms/step - loss: 2.9086 - mae: 2.9086 - mse: 11.1627 - val_loss: 2.9299 - val_mae: 2.9299 - val_mse: 12.1820\n",
            "Epoch 158/500\n",
            "21/21 [==============================] - 0s 3ms/step - loss: 2.8957 - mae: 2.8957 - mse: 10.8916 - val_loss: 2.9169 - val_mae: 2.9169 - val_mse: 12.0978\n",
            "Epoch 159/500\n",
            "21/21 [==============================] - 0s 2ms/step - loss: 2.8835 - mae: 2.8835 - mse: 10.9495 - val_loss: 2.9042 - val_mae: 2.9042 - val_mse: 12.0192\n",
            "Epoch 160/500\n",
            "21/21 [==============================] - 0s 3ms/step - loss: 2.8662 - mae: 2.8662 - mse: 10.6983 - val_loss: 2.8861 - val_mae: 2.8861 - val_mse: 11.8318\n",
            "Epoch 161/500\n",
            "21/21 [==============================] - 0s 2ms/step - loss: 2.8508 - mae: 2.8508 - mse: 10.6505 - val_loss: 2.8682 - val_mae: 2.8682 - val_mse: 11.6514\n",
            "Epoch 162/500\n",
            "21/21 [==============================] - 0s 2ms/step - loss: 2.8378 - mae: 2.8378 - mse: 10.5502 - val_loss: 2.8526 - val_mae: 2.8526 - val_mse: 11.5187\n",
            "Epoch 163/500\n",
            "21/21 [==============================] - 0s 2ms/step - loss: 2.8292 - mae: 2.8292 - mse: 10.4383 - val_loss: 2.8576 - val_mae: 2.8576 - val_mse: 11.8067\n",
            "Epoch 164/500\n",
            "21/21 [==============================] - 0s 3ms/step - loss: 2.8113 - mae: 2.8113 - mse: 10.3837 - val_loss: 2.8141 - val_mae: 2.8141 - val_mse: 11.1025\n",
            "Epoch 165/500\n",
            "21/21 [==============================] - 0s 3ms/step - loss: 2.7948 - mae: 2.7948 - mse: 10.0999 - val_loss: 2.8186 - val_mae: 2.8186 - val_mse: 11.3710\n",
            "Epoch 166/500\n",
            "21/21 [==============================] - 0s 3ms/step - loss: 2.7888 - mae: 2.7888 - mse: 10.3918 - val_loss: 2.7911 - val_mae: 2.7911 - val_mse: 11.0083\n",
            "Epoch 167/500\n",
            "21/21 [==============================] - 0s 2ms/step - loss: 2.7712 - mae: 2.7712 - mse: 9.8868 - val_loss: 2.7878 - val_mae: 2.7878 - val_mse: 11.1103\n",
            "Epoch 168/500\n",
            "21/21 [==============================] - 0s 2ms/step - loss: 2.7566 - mae: 2.7566 - mse: 10.1832 - val_loss: 2.7910 - val_mae: 2.7910 - val_mse: 11.3565\n",
            "Epoch 169/500\n",
            "21/21 [==============================] - 0s 3ms/step - loss: 2.7374 - mae: 2.7374 - mse: 9.8421 - val_loss: 2.7395 - val_mae: 2.7395 - val_mse: 10.5111\n",
            "Epoch 170/500\n",
            "21/21 [==============================] - 0s 3ms/step - loss: 2.7254 - mae: 2.7254 - mse: 9.6621 - val_loss: 2.7425 - val_mae: 2.7425 - val_mse: 10.7454\n",
            "Epoch 171/500\n",
            "21/21 [==============================] - 0s 3ms/step - loss: 2.7096 - mae: 2.7096 - mse: 9.6438 - val_loss: 2.7244 - val_mae: 2.7244 - val_mse: 10.5671\n",
            "Epoch 172/500\n",
            "21/21 [==============================] - 0s 3ms/step - loss: 2.6953 - mae: 2.6953 - mse: 9.5262 - val_loss: 2.7110 - val_mae: 2.7110 - val_mse: 10.4813\n",
            "Epoch 173/500\n",
            "21/21 [==============================] - 0s 4ms/step - loss: 2.6827 - mae: 2.6827 - mse: 9.3923 - val_loss: 2.7008 - val_mae: 2.7008 - val_mse: 10.4560\n",
            "Epoch 174/500\n",
            "21/21 [==============================] - 0s 2ms/step - loss: 2.6719 - mae: 2.6719 - mse: 9.4895 - val_loss: 2.6927 - val_mae: 2.6927 - val_mse: 10.4676\n",
            "Epoch 175/500\n",
            "21/21 [==============================] - 0s 3ms/step - loss: 2.6621 - mae: 2.6621 - mse: 9.2342 - val_loss: 2.6717 - val_mae: 2.6717 - val_mse: 10.2396\n",
            "Epoch 176/500\n",
            "21/21 [==============================] - 0s 3ms/step - loss: 2.6411 - mae: 2.6411 - mse: 9.2449 - val_loss: 2.6446 - val_mae: 2.6446 - val_mse: 9.9097\n",
            "Epoch 177/500\n",
            "21/21 [==============================] - 0s 3ms/step - loss: 2.6243 - mae: 2.6243 - mse: 8.9967 - val_loss: 2.6331 - val_mae: 2.6331 - val_mse: 9.8548\n",
            "Epoch 178/500\n",
            "21/21 [==============================] - 0s 3ms/step - loss: 2.6129 - mae: 2.6129 - mse: 8.9697 - val_loss: 2.6141 - val_mae: 2.6141 - val_mse: 9.6754\n",
            "Epoch 179/500\n",
            "21/21 [==============================] - 0s 2ms/step - loss: 2.5985 - mae: 2.5985 - mse: 8.8551 - val_loss: 2.6221 - val_mae: 2.6221 - val_mse: 9.9685\n",
            "Epoch 180/500\n",
            "21/21 [==============================] - 0s 3ms/step - loss: 2.5855 - mae: 2.5855 - mse: 8.7934 - val_loss: 2.5909 - val_mae: 2.5909 - val_mse: 9.5687\n",
            "Epoch 181/500\n",
            "21/21 [==============================] - 0s 3ms/step - loss: 2.5830 - mae: 2.5830 - mse: 8.9860 - val_loss: 2.5770 - val_mae: 2.5770 - val_mse: 9.4756\n",
            "Epoch 182/500\n",
            "21/21 [==============================] - 0s 3ms/step - loss: 2.5574 - mae: 2.5574 - mse: 8.5265 - val_loss: 2.5671 - val_mae: 2.5671 - val_mse: 9.4539\n",
            "Epoch 183/500\n",
            "21/21 [==============================] - 0s 2ms/step - loss: 2.5498 - mae: 2.5498 - mse: 8.4852 - val_loss: 2.5494 - val_mae: 2.5494 - val_mse: 9.2973\n",
            "Epoch 184/500\n",
            "21/21 [==============================] - 0s 3ms/step - loss: 2.5470 - mae: 2.5470 - mse: 8.8489 - val_loss: 2.5327 - val_mae: 2.5327 - val_mse: 9.1593\n",
            "Epoch 185/500\n",
            "21/21 [==============================] - 0s 2ms/step - loss: 2.5230 - mae: 2.5230 - mse: 8.1585 - val_loss: 2.5134 - val_mae: 2.5134 - val_mse: 8.9830\n",
            "Epoch 186/500\n",
            "21/21 [==============================] - 0s 2ms/step - loss: 2.5011 - mae: 2.5011 - mse: 8.3575 - val_loss: 2.5186 - val_mae: 2.5186 - val_mse: 9.2059\n",
            "Epoch 187/500\n",
            "21/21 [==============================] - 0s 3ms/step - loss: 2.4846 - mae: 2.4846 - mse: 8.1374 - val_loss: 2.4851 - val_mae: 2.4851 - val_mse: 8.7942\n",
            "Epoch 188/500\n",
            "21/21 [==============================] - 0s 3ms/step - loss: 2.4730 - mae: 2.4730 - mse: 8.1081 - val_loss: 2.4771 - val_mae: 2.4771 - val_mse: 8.8004\n",
            "Epoch 189/500\n",
            "21/21 [==============================] - 0s 2ms/step - loss: 2.4594 - mae: 2.4594 - mse: 7.9029 - val_loss: 2.4743 - val_mae: 2.4743 - val_mse: 8.8889\n",
            "Epoch 190/500\n",
            "21/21 [==============================] - 0s 2ms/step - loss: 2.4488 - mae: 2.4488 - mse: 7.9482 - val_loss: 2.4387 - val_mae: 2.4387 - val_mse: 8.4288\n",
            "Epoch 191/500\n",
            "21/21 [==============================] - 0s 2ms/step - loss: 2.4366 - mae: 2.4366 - mse: 7.7801 - val_loss: 2.4355 - val_mae: 2.4355 - val_mse: 8.5360\n",
            "Epoch 192/500\n",
            "21/21 [==============================] - 0s 3ms/step - loss: 2.4174 - mae: 2.4174 - mse: 7.8467 - val_loss: 2.4337 - val_mae: 2.4337 - val_mse: 8.6396\n",
            "Epoch 193/500\n",
            "21/21 [==============================] - 0s 2ms/step - loss: 2.4096 - mae: 2.4096 - mse: 7.6050 - val_loss: 2.4076 - val_mae: 2.4076 - val_mse: 8.3574\n",
            "Epoch 194/500\n",
            "21/21 [==============================] - 0s 2ms/step - loss: 2.4040 - mae: 2.4040 - mse: 7.8969 - val_loss: 2.3939 - val_mae: 2.3939 - val_mse: 8.2713\n",
            "Epoch 195/500\n",
            "21/21 [==============================] - 0s 3ms/step - loss: 2.3862 - mae: 2.3862 - mse: 7.3668 - val_loss: 2.3670 - val_mae: 2.3670 - val_mse: 7.9525\n",
            "Epoch 196/500\n",
            "21/21 [==============================] - 0s 2ms/step - loss: 2.3600 - mae: 2.3600 - mse: 7.4521 - val_loss: 2.3839 - val_mae: 2.3839 - val_mse: 8.3910\n",
            "Epoch 197/500\n",
            "21/21 [==============================] - 0s 3ms/step - loss: 2.3474 - mae: 2.3474 - mse: 7.3698 - val_loss: 2.3480 - val_mae: 2.3480 - val_mse: 7.9512\n",
            "Epoch 198/500\n",
            "21/21 [==============================] - 0s 2ms/step - loss: 2.3322 - mae: 2.3322 - mse: 7.1235 - val_loss: 2.3390 - val_mae: 2.3390 - val_mse: 7.9379\n",
            "Epoch 199/500\n",
            "21/21 [==============================] - 0s 3ms/step - loss: 2.3197 - mae: 2.3197 - mse: 7.2058 - val_loss: 2.3260 - val_mae: 2.3260 - val_mse: 7.8662\n",
            "Epoch 200/500\n",
            "21/21 [==============================] - 0s 3ms/step - loss: 2.3071 - mae: 2.3071 - mse: 7.0599 - val_loss: 2.3029 - val_mae: 2.3029 - val_mse: 7.6516\n",
            "Epoch 201/500\n",
            "21/21 [==============================] - 0s 3ms/step - loss: 2.2951 - mae: 2.2951 - mse: 7.0170 - val_loss: 2.2835 - val_mae: 2.2835 - val_mse: 7.4711\n",
            "Epoch 202/500\n",
            "21/21 [==============================] - 0s 2ms/step - loss: 2.2764 - mae: 2.2764 - mse: 6.8810 - val_loss: 2.2735 - val_mae: 2.2735 - val_mse: 7.4587\n",
            "Epoch 203/500\n",
            "21/21 [==============================] - 0s 2ms/step - loss: 2.2616 - mae: 2.2616 - mse: 6.7745 - val_loss: 2.2710 - val_mae: 2.2710 - val_mse: 7.5418\n",
            "Epoch 204/500\n",
            "21/21 [==============================] - 0s 3ms/step - loss: 2.2526 - mae: 2.2526 - mse: 6.7446 - val_loss: 2.2459 - val_mae: 2.2459 - val_mse: 7.3001\n",
            "Epoch 205/500\n",
            "21/21 [==============================] - 0s 3ms/step - loss: 2.2434 - mae: 2.2434 - mse: 6.6655 - val_loss: 2.2276 - val_mae: 2.2276 - val_mse: 7.1426\n",
            "Epoch 206/500\n",
            "21/21 [==============================] - 0s 3ms/step - loss: 2.2401 - mae: 2.2401 - mse: 6.9615 - val_loss: 2.2351 - val_mae: 2.2351 - val_mse: 7.3869\n",
            "Epoch 207/500\n",
            "21/21 [==============================] - 0s 2ms/step - loss: 2.2119 - mae: 2.2119 - mse: 6.4626 - val_loss: 2.1990 - val_mae: 2.1990 - val_mse: 6.9658\n",
            "Epoch 208/500\n",
            "21/21 [==============================] - 0s 3ms/step - loss: 2.1979 - mae: 2.1979 - mse: 6.5286 - val_loss: 2.1994 - val_mae: 2.1994 - val_mse: 7.1056\n",
            "Epoch 209/500\n",
            "21/21 [==============================] - 0s 2ms/step - loss: 2.1855 - mae: 2.1855 - mse: 6.2932 - val_loss: 2.1689 - val_mae: 2.1689 - val_mse: 6.7487\n",
            "Epoch 210/500\n",
            "21/21 [==============================] - 0s 2ms/step - loss: 2.1738 - mae: 2.1738 - mse: 6.4762 - val_loss: 2.1818 - val_mae: 2.1818 - val_mse: 7.1023\n",
            "Epoch 211/500\n",
            "21/21 [==============================] - 0s 2ms/step - loss: 2.1641 - mae: 2.1641 - mse: 6.1732 - val_loss: 2.1472 - val_mae: 2.1472 - val_mse: 6.7183\n",
            "Epoch 212/500\n",
            "21/21 [==============================] - 0s 3ms/step - loss: 2.1405 - mae: 2.1405 - mse: 6.1908 - val_loss: 2.1394 - val_mae: 2.1394 - val_mse: 6.7242\n",
            "Epoch 213/500\n",
            "21/21 [==============================] - 0s 2ms/step - loss: 2.1271 - mae: 2.1271 - mse: 5.9889 - val_loss: 2.1238 - val_mae: 2.1238 - val_mse: 6.6247\n",
            "Epoch 214/500\n",
            "21/21 [==============================] - 0s 2ms/step - loss: 2.1133 - mae: 2.1133 - mse: 6.0529 - val_loss: 2.1138 - val_mae: 2.1138 - val_mse: 6.6010\n",
            "Epoch 215/500\n",
            "21/21 [==============================] - 0s 2ms/step - loss: 2.0997 - mae: 2.0997 - mse: 5.9454 - val_loss: 2.0961 - val_mae: 2.0961 - val_mse: 6.4700\n",
            "Epoch 216/500\n",
            "21/21 [==============================] - 0s 3ms/step - loss: 2.0854 - mae: 2.0854 - mse: 5.8344 - val_loss: 2.0728 - val_mae: 2.0728 - val_mse: 6.2413\n",
            "Epoch 217/500\n",
            "21/21 [==============================] - 0s 2ms/step - loss: 2.0711 - mae: 2.0711 - mse: 5.7624 - val_loss: 2.0633 - val_mae: 2.0633 - val_mse: 6.2463\n",
            "Epoch 218/500\n",
            "21/21 [==============================] - 0s 2ms/step - loss: 2.0620 - mae: 2.0620 - mse: 5.6151 - val_loss: 2.0526 - val_mae: 2.0526 - val_mse: 6.2186\n",
            "Epoch 219/500\n",
            "21/21 [==============================] - 0s 2ms/step - loss: 2.0545 - mae: 2.0545 - mse: 5.9481 - val_loss: 2.0680 - val_mae: 2.0680 - val_mse: 6.5182\n",
            "Epoch 220/500\n",
            "21/21 [==============================] - 0s 3ms/step - loss: 2.0355 - mae: 2.0355 - mse: 5.4962 - val_loss: 2.0142 - val_mae: 2.0142 - val_mse: 5.8205\n",
            "Epoch 221/500\n",
            "21/21 [==============================] - 0s 3ms/step - loss: 2.0244 - mae: 2.0244 - mse: 5.6497 - val_loss: 2.0280 - val_mae: 2.0280 - val_mse: 6.1949\n",
            "Epoch 222/500\n",
            "21/21 [==============================] - 0s 3ms/step - loss: 2.0060 - mae: 2.0060 - mse: 5.4286 - val_loss: 1.9988 - val_mae: 1.9988 - val_mse: 5.9227\n",
            "Epoch 223/500\n",
            "21/21 [==============================] - 0s 4ms/step - loss: 1.9942 - mae: 1.9942 - mse: 5.4014 - val_loss: 2.0027 - val_mae: 2.0027 - val_mse: 6.0591\n",
            "Epoch 224/500\n",
            "21/21 [==============================] - 0s 2ms/step - loss: 1.9851 - mae: 1.9851 - mse: 5.2671 - val_loss: 1.9613 - val_mae: 1.9613 - val_mse: 5.5974\n",
            "Epoch 225/500\n",
            "21/21 [==============================] - 0s 3ms/step - loss: 1.9614 - mae: 1.9614 - mse: 5.2297 - val_loss: 1.9642 - val_mae: 1.9642 - val_mse: 5.7729\n",
            "Epoch 226/500\n",
            "21/21 [==============================] - 0s 2ms/step - loss: 1.9494 - mae: 1.9494 - mse: 5.1527 - val_loss: 1.9345 - val_mae: 1.9345 - val_mse: 5.4580\n",
            "Epoch 227/500\n",
            "21/21 [==============================] - 0s 3ms/step - loss: 1.9341 - mae: 1.9341 - mse: 5.0206 - val_loss: 1.9270 - val_mae: 1.9270 - val_mse: 5.4912\n",
            "Epoch 228/500\n",
            "21/21 [==============================] - 0s 2ms/step - loss: 1.9275 - mae: 1.9275 - mse: 5.1226 - val_loss: 1.9163 - val_mae: 1.9163 - val_mse: 5.4601\n",
            "Epoch 229/500\n",
            "21/21 [==============================] - 0s 3ms/step - loss: 1.9108 - mae: 1.9108 - mse: 4.9046 - val_loss: 1.8934 - val_mae: 1.8934 - val_mse: 5.2103\n",
            "Epoch 230/500\n",
            "21/21 [==============================] - 0s 3ms/step - loss: 1.8939 - mae: 1.8939 - mse: 4.8671 - val_loss: 1.8907 - val_mae: 1.8907 - val_mse: 5.3348\n",
            "Epoch 231/500\n",
            "21/21 [==============================] - 0s 2ms/step - loss: 1.8814 - mae: 1.8814 - mse: 4.8656 - val_loss: 1.8712 - val_mae: 1.8712 - val_mse: 5.1642\n",
            "Epoch 232/500\n",
            "21/21 [==============================] - 0s 3ms/step - loss: 1.8681 - mae: 1.8681 - mse: 4.7345 - val_loss: 1.8648 - val_mae: 1.8648 - val_mse: 5.2026\n",
            "Epoch 233/500\n",
            "21/21 [==============================] - 0s 3ms/step - loss: 1.8653 - mae: 1.8653 - mse: 4.6723 - val_loss: 1.8614 - val_mae: 1.8614 - val_mse: 5.2444\n",
            "Epoch 234/500\n",
            "21/21 [==============================] - 0s 3ms/step - loss: 1.8488 - mae: 1.8488 - mse: 4.6553 - val_loss: 1.8434 - val_mae: 1.8434 - val_mse: 5.1272\n",
            "Epoch 235/500\n",
            "21/21 [==============================] - 0s 3ms/step - loss: 1.8337 - mae: 1.8337 - mse: 4.7004 - val_loss: 1.8178 - val_mae: 1.8178 - val_mse: 4.8874\n",
            "Epoch 236/500\n",
            "21/21 [==============================] - 0s 3ms/step - loss: 1.8171 - mae: 1.8171 - mse: 4.4345 - val_loss: 1.8097 - val_mae: 1.8097 - val_mse: 4.9008\n",
            "Epoch 237/500\n",
            "21/21 [==============================] - 0s 2ms/step - loss: 1.8038 - mae: 1.8038 - mse: 4.5015 - val_loss: 1.7886 - val_mae: 1.7886 - val_mse: 4.6974\n",
            "Epoch 238/500\n",
            "21/21 [==============================] - 0s 2ms/step - loss: 1.7913 - mae: 1.7913 - mse: 4.3922 - val_loss: 1.7776 - val_mae: 1.7776 - val_mse: 4.6724\n",
            "Epoch 239/500\n",
            "21/21 [==============================] - 0s 3ms/step - loss: 1.7756 - mae: 1.7756 - mse: 4.2601 - val_loss: 1.7727 - val_mae: 1.7727 - val_mse: 4.7297\n",
            "Epoch 240/500\n",
            "21/21 [==============================] - 0s 2ms/step - loss: 1.7637 - mae: 1.7637 - mse: 4.3471 - val_loss: 1.7605 - val_mae: 1.7605 - val_mse: 4.6734\n",
            "Epoch 241/500\n",
            "21/21 [==============================] - 0s 3ms/step - loss: 1.7518 - mae: 1.7518 - mse: 4.1741 - val_loss: 1.7399 - val_mae: 1.7399 - val_mse: 4.4996\n",
            "Epoch 242/500\n",
            "21/21 [==============================] - 0s 3ms/step - loss: 1.7381 - mae: 1.7381 - mse: 4.1593 - val_loss: 1.7221 - val_mae: 1.7221 - val_mse: 4.3044\n",
            "Epoch 243/500\n",
            "21/21 [==============================] - 0s 3ms/step - loss: 1.7224 - mae: 1.7224 - mse: 4.0306 - val_loss: 1.7326 - val_mae: 1.7326 - val_mse: 4.5995\n",
            "Epoch 244/500\n",
            "21/21 [==============================] - 0s 2ms/step - loss: 1.7119 - mae: 1.7119 - mse: 4.0956 - val_loss: 1.7015 - val_mae: 1.7015 - val_mse: 4.3128\n",
            "Epoch 245/500\n",
            "21/21 [==============================] - 0s 3ms/step - loss: 1.6950 - mae: 1.6950 - mse: 4.0126 - val_loss: 1.6937 - val_mae: 1.6937 - val_mse: 4.3263\n",
            "Epoch 246/500\n",
            "21/21 [==============================] - 0s 2ms/step - loss: 1.6826 - mae: 1.6826 - mse: 3.8743 - val_loss: 1.6819 - val_mae: 1.6819 - val_mse: 4.2791\n",
            "Epoch 247/500\n",
            "21/21 [==============================] - 0s 2ms/step - loss: 1.6741 - mae: 1.6741 - mse: 3.8887 - val_loss: 1.6593 - val_mae: 1.6593 - val_mse: 4.0532\n",
            "Epoch 248/500\n",
            "21/21 [==============================] - 0s 3ms/step - loss: 1.6602 - mae: 1.6602 - mse: 3.8614 - val_loss: 1.6476 - val_mae: 1.6476 - val_mse: 4.0132\n",
            "Epoch 249/500\n",
            "21/21 [==============================] - 0s 3ms/step - loss: 1.6472 - mae: 1.6472 - mse: 3.7104 - val_loss: 1.6468 - val_mae: 1.6468 - val_mse: 4.1319\n",
            "Epoch 250/500\n",
            "21/21 [==============================] - 0s 2ms/step - loss: 1.6390 - mae: 1.6390 - mse: 3.6948 - val_loss: 1.6349 - val_mae: 1.6349 - val_mse: 4.0811\n",
            "Epoch 251/500\n",
            "21/21 [==============================] - 0s 3ms/step - loss: 1.6258 - mae: 1.6258 - mse: 3.7842 - val_loss: 1.6098 - val_mae: 1.6098 - val_mse: 3.8270\n",
            "Epoch 252/500\n",
            "21/21 [==============================] - 0s 3ms/step - loss: 1.6092 - mae: 1.6092 - mse: 3.5364 - val_loss: 1.6133 - val_mae: 1.6133 - val_mse: 4.0025\n",
            "Epoch 253/500\n",
            "21/21 [==============================] - 0s 3ms/step - loss: 1.5927 - mae: 1.5927 - mse: 3.5818 - val_loss: 1.5873 - val_mae: 1.5873 - val_mse: 3.7629\n",
            "Epoch 254/500\n",
            "21/21 [==============================] - 0s 3ms/step - loss: 1.5804 - mae: 1.5804 - mse: 3.4701 - val_loss: 1.5758 - val_mae: 1.5758 - val_mse: 3.7204\n",
            "Epoch 255/500\n",
            "21/21 [==============================] - 0s 3ms/step - loss: 1.5657 - mae: 1.5657 - mse: 3.4084 - val_loss: 1.5646 - val_mae: 1.5646 - val_mse: 3.6830\n",
            "Epoch 256/500\n",
            "21/21 [==============================] - 0s 3ms/step - loss: 1.5541 - mae: 1.5541 - mse: 3.3624 - val_loss: 1.5475 - val_mae: 1.5475 - val_mse: 3.5120\n",
            "Epoch 257/500\n",
            "21/21 [==============================] - 0s 3ms/step - loss: 1.5425 - mae: 1.5425 - mse: 3.3402 - val_loss: 1.5464 - val_mae: 1.5464 - val_mse: 3.6624\n",
            "Epoch 258/500\n",
            "21/21 [==============================] - 0s 2ms/step - loss: 1.5284 - mae: 1.5284 - mse: 3.2865 - val_loss: 1.5272 - val_mae: 1.5272 - val_mse: 3.5137\n",
            "Epoch 259/500\n",
            "21/21 [==============================] - 0s 3ms/step - loss: 1.5201 - mae: 1.5201 - mse: 3.1736 - val_loss: 1.5155 - val_mae: 1.5155 - val_mse: 3.4728\n",
            "Epoch 260/500\n",
            "21/21 [==============================] - 0s 3ms/step - loss: 1.5089 - mae: 1.5089 - mse: 3.3083 - val_loss: 1.4988 - val_mae: 1.4988 - val_mse: 3.2906\n",
            "Epoch 261/500\n",
            "21/21 [==============================] - 0s 2ms/step - loss: 1.4917 - mae: 1.4917 - mse: 3.0919 - val_loss: 1.4865 - val_mae: 1.4865 - val_mse: 3.2462\n",
            "Epoch 262/500\n",
            "21/21 [==============================] - 0s 3ms/step - loss: 1.4796 - mae: 1.4796 - mse: 3.0947 - val_loss: 1.4772 - val_mae: 1.4772 - val_mse: 3.2924\n",
            "Epoch 263/500\n",
            "21/21 [==============================] - 0s 3ms/step - loss: 1.4644 - mae: 1.4644 - mse: 3.0088 - val_loss: 1.4639 - val_mae: 1.4639 - val_mse: 3.2252\n",
            "Epoch 264/500\n",
            "21/21 [==============================] - 0s 4ms/step - loss: 1.4544 - mae: 1.4544 - mse: 2.9953 - val_loss: 1.4503 - val_mae: 1.4503 - val_mse: 3.1011\n",
            "Epoch 265/500\n",
            "21/21 [==============================] - 0s 2ms/step - loss: 1.4412 - mae: 1.4412 - mse: 2.9267 - val_loss: 1.4382 - val_mae: 1.4382 - val_mse: 3.0527\n",
            "Epoch 266/500\n",
            "21/21 [==============================] - 0s 4ms/step - loss: 1.4304 - mae: 1.4304 - mse: 2.8959 - val_loss: 1.4283 - val_mae: 1.4283 - val_mse: 3.0855\n",
            "Epoch 267/500\n",
            "21/21 [==============================] - 0s 2ms/step - loss: 1.4160 - mae: 1.4160 - mse: 2.8372 - val_loss: 1.4250 - val_mae: 1.4250 - val_mse: 3.1364\n",
            "Epoch 268/500\n",
            "21/21 [==============================] - 0s 3ms/step - loss: 1.4106 - mae: 1.4106 - mse: 2.8893 - val_loss: 1.4047 - val_mae: 1.4047 - val_mse: 2.9908\n",
            "Epoch 269/500\n",
            "21/21 [==============================] - 0s 2ms/step - loss: 1.3969 - mae: 1.3969 - mse: 2.7400 - val_loss: 1.3967 - val_mae: 1.3967 - val_mse: 2.9853\n",
            "Epoch 270/500\n",
            "21/21 [==============================] - 0s 2ms/step - loss: 1.3822 - mae: 1.3822 - mse: 2.7720 - val_loss: 1.3864 - val_mae: 1.3864 - val_mse: 2.9540\n",
            "Epoch 271/500\n",
            "21/21 [==============================] - 0s 3ms/step - loss: 1.3742 - mae: 1.3742 - mse: 2.6528 - val_loss: 1.3746 - val_mae: 1.3746 - val_mse: 2.9067\n",
            "Epoch 272/500\n",
            "21/21 [==============================] - 0s 2ms/step - loss: 1.3691 - mae: 1.3691 - mse: 2.8598 - val_loss: 1.3575 - val_mae: 1.3575 - val_mse: 2.7909\n",
            "Epoch 273/500\n",
            "21/21 [==============================] - 0s 3ms/step - loss: 1.3657 - mae: 1.3657 - mse: 2.5993 - val_loss: 1.3759 - val_mae: 1.3759 - val_mse: 3.0202\n",
            "Epoch 274/500\n",
            "21/21 [==============================] - 0s 3ms/step - loss: 1.3417 - mae: 1.3417 - mse: 2.6906 - val_loss: 1.3347 - val_mae: 1.3347 - val_mse: 2.6090\n",
            "Epoch 275/500\n",
            "21/21 [==============================] - 0s 3ms/step - loss: 1.3225 - mae: 1.3225 - mse: 2.5036 - val_loss: 1.3314 - val_mae: 1.3314 - val_mse: 2.7455\n",
            "Epoch 276/500\n",
            "21/21 [==============================] - 0s 3ms/step - loss: 1.3095 - mae: 1.3095 - mse: 2.4670 - val_loss: 1.3125 - val_mae: 1.3125 - val_mse: 2.6178\n",
            "Epoch 277/500\n",
            "21/21 [==============================] - 0s 2ms/step - loss: 1.2996 - mae: 1.2996 - mse: 2.4441 - val_loss: 1.3009 - val_mae: 1.3009 - val_mse: 2.5653\n",
            "Epoch 278/500\n",
            "21/21 [==============================] - 0s 3ms/step - loss: 1.2921 - mae: 1.2921 - mse: 2.3941 - val_loss: 1.2991 - val_mae: 1.2991 - val_mse: 2.6267\n",
            "Epoch 279/500\n",
            "21/21 [==============================] - 0s 2ms/step - loss: 1.2751 - mae: 1.2751 - mse: 2.3940 - val_loss: 1.2797 - val_mae: 1.2797 - val_mse: 2.3945\n",
            "Epoch 280/500\n",
            "21/21 [==============================] - 0s 3ms/step - loss: 1.2746 - mae: 1.2746 - mse: 2.3552 - val_loss: 1.2852 - val_mae: 1.2852 - val_mse: 2.6079\n",
            "Epoch 281/500\n",
            "21/21 [==============================] - 0s 2ms/step - loss: 1.2544 - mae: 1.2544 - mse: 2.2600 - val_loss: 1.2580 - val_mae: 1.2580 - val_mse: 2.3135\n",
            "Epoch 282/500\n",
            "21/21 [==============================] - 0s 3ms/step - loss: 1.2460 - mae: 1.2460 - mse: 2.2533 - val_loss: 1.2449 - val_mae: 1.2449 - val_mse: 2.3431\n",
            "Epoch 283/500\n",
            "21/21 [==============================] - 0s 3ms/step - loss: 1.2368 - mae: 1.2368 - mse: 2.2046 - val_loss: 1.2608 - val_mae: 1.2608 - val_mse: 2.5513\n",
            "Epoch 284/500\n",
            "21/21 [==============================] - 0s 3ms/step - loss: 1.2280 - mae: 1.2280 - mse: 2.2460 - val_loss: 1.2228 - val_mae: 1.2228 - val_mse: 2.2303\n",
            "Epoch 285/500\n",
            "21/21 [==============================] - 0s 3ms/step - loss: 1.2100 - mae: 1.2100 - mse: 2.1297 - val_loss: 1.2126 - val_mae: 1.2126 - val_mse: 2.2248\n",
            "Epoch 286/500\n",
            "21/21 [==============================] - 0s 2ms/step - loss: 1.1984 - mae: 1.1984 - mse: 2.0833 - val_loss: 1.2026 - val_mae: 1.2026 - val_mse: 2.1460\n",
            "Epoch 287/500\n",
            "21/21 [==============================] - 0s 2ms/step - loss: 1.1928 - mae: 1.1928 - mse: 2.0579 - val_loss: 1.2157 - val_mae: 1.2157 - val_mse: 2.3776\n",
            "Epoch 288/500\n",
            "21/21 [==============================] - 0s 2ms/step - loss: 1.1804 - mae: 1.1804 - mse: 2.0627 - val_loss: 1.1808 - val_mae: 1.1808 - val_mse: 2.1120\n",
            "Epoch 289/500\n",
            "21/21 [==============================] - 0s 2ms/step - loss: 1.1677 - mae: 1.1677 - mse: 1.9906 - val_loss: 1.1746 - val_mae: 1.1746 - val_mse: 2.1305\n",
            "Epoch 290/500\n",
            "21/21 [==============================] - 0s 3ms/step - loss: 1.1559 - mae: 1.1559 - mse: 1.9567 - val_loss: 1.1611 - val_mae: 1.1611 - val_mse: 2.0494\n",
            "Epoch 291/500\n",
            "21/21 [==============================] - 0s 3ms/step - loss: 1.1479 - mae: 1.1479 - mse: 1.9500 - val_loss: 1.1508 - val_mae: 1.1508 - val_mse: 2.0127\n",
            "Epoch 292/500\n",
            "21/21 [==============================] - 0s 2ms/step - loss: 1.1374 - mae: 1.1374 - mse: 1.8856 - val_loss: 1.1506 - val_mae: 1.1506 - val_mse: 2.0835\n",
            "Epoch 293/500\n",
            "21/21 [==============================] - 0s 3ms/step - loss: 1.1308 - mae: 1.1308 - mse: 1.8851 - val_loss: 1.1310 - val_mae: 1.1310 - val_mse: 1.9360\n",
            "Epoch 294/500\n",
            "21/21 [==============================] - 0s 3ms/step - loss: 1.1183 - mae: 1.1183 - mse: 1.8437 - val_loss: 1.1229 - val_mae: 1.1229 - val_mse: 1.9374\n",
            "Epoch 295/500\n",
            "21/21 [==============================] - 0s 3ms/step - loss: 1.1069 - mae: 1.1069 - mse: 1.8379 - val_loss: 1.1122 - val_mae: 1.1122 - val_mse: 1.8884\n",
            "Epoch 296/500\n",
            "21/21 [==============================] - 0s 3ms/step - loss: 1.0976 - mae: 1.0976 - mse: 1.7682 - val_loss: 1.1334 - val_mae: 1.1334 - val_mse: 2.1163\n",
            "Epoch 297/500\n",
            "21/21 [==============================] - 0s 3ms/step - loss: 1.0978 - mae: 1.0978 - mse: 1.7873 - val_loss: 1.0945 - val_mae: 1.0945 - val_mse: 1.7848\n",
            "Epoch 298/500\n",
            "21/21 [==============================] - 0s 3ms/step - loss: 1.0853 - mae: 1.0853 - mse: 1.7602 - val_loss: 1.0844 - val_mae: 1.0844 - val_mse: 1.7641\n",
            "Epoch 299/500\n",
            "21/21 [==============================] - 0s 2ms/step - loss: 1.0739 - mae: 1.0739 - mse: 1.7172 - val_loss: 1.0758 - val_mae: 1.0758 - val_mse: 1.7679\n",
            "Epoch 300/500\n",
            "21/21 [==============================] - 0s 3ms/step - loss: 1.0625 - mae: 1.0625 - mse: 1.6723 - val_loss: 1.0721 - val_mae: 1.0721 - val_mse: 1.8011\n",
            "Epoch 301/500\n",
            "21/21 [==============================] - 0s 3ms/step - loss: 1.0567 - mae: 1.0567 - mse: 1.6552 - val_loss: 1.0645 - val_mae: 1.0645 - val_mse: 1.7854\n",
            "Epoch 302/500\n",
            "21/21 [==============================] - 0s 3ms/step - loss: 1.0415 - mae: 1.0415 - mse: 1.6376 - val_loss: 1.0490 - val_mae: 1.0490 - val_mse: 1.6717\n",
            "Epoch 303/500\n",
            "21/21 [==============================] - 0s 3ms/step - loss: 1.0345 - mae: 1.0345 - mse: 1.5871 - val_loss: 1.0419 - val_mae: 1.0419 - val_mse: 1.6730\n",
            "Epoch 304/500\n",
            "21/21 [==============================] - 0s 2ms/step - loss: 1.0260 - mae: 1.0260 - mse: 1.5966 - val_loss: 1.0326 - val_mae: 1.0326 - val_mse: 1.6333\n",
            "Epoch 305/500\n",
            "21/21 [==============================] - 0s 3ms/step - loss: 1.0150 - mae: 1.0150 - mse: 1.5326 - val_loss: 1.0745 - val_mae: 1.0745 - val_mse: 1.9567\n",
            "Epoch 306/500\n",
            "21/21 [==============================] - 0s 2ms/step - loss: 1.0211 - mae: 1.0211 - mse: 1.5913 - val_loss: 1.0174 - val_mae: 1.0174 - val_mse: 1.6018\n",
            "Epoch 307/500\n",
            "21/21 [==============================] - 0s 2ms/step - loss: 1.0021 - mae: 1.0021 - mse: 1.5102 - val_loss: 1.0106 - val_mae: 1.0106 - val_mse: 1.6016\n",
            "Epoch 308/500\n",
            "21/21 [==============================] - 0s 2ms/step - loss: 0.9926 - mae: 0.9926 - mse: 1.4761 - val_loss: 0.9992 - val_mae: 0.9992 - val_mse: 1.5238\n",
            "Epoch 309/500\n",
            "21/21 [==============================] - 0s 2ms/step - loss: 0.9861 - mae: 0.9861 - mse: 1.4639 - val_loss: 0.9969 - val_mae: 0.9969 - val_mse: 1.4847\n",
            "Epoch 310/500\n",
            "21/21 [==============================] - 0s 3ms/step - loss: 0.9755 - mae: 0.9755 - mse: 1.4290 - val_loss: 0.9865 - val_mae: 0.9865 - val_mse: 1.5320\n",
            "Epoch 311/500\n",
            "21/21 [==============================] - 0s 2ms/step - loss: 0.9683 - mae: 0.9683 - mse: 1.4351 - val_loss: 0.9804 - val_mae: 0.9804 - val_mse: 1.4422\n",
            "Epoch 312/500\n",
            "21/21 [==============================] - 0s 3ms/step - loss: 0.9625 - mae: 0.9625 - mse: 1.3849 - val_loss: 0.9853 - val_mae: 0.9853 - val_mse: 1.5953\n",
            "Epoch 313/500\n",
            "21/21 [==============================] - 0s 2ms/step - loss: 0.9577 - mae: 0.9577 - mse: 1.3959 - val_loss: 0.9600 - val_mae: 0.9600 - val_mse: 1.4196\n",
            "Epoch 314/500\n",
            "21/21 [==============================] - 0s 3ms/step - loss: 0.9522 - mae: 0.9522 - mse: 1.3680 - val_loss: 0.9582 - val_mae: 0.9582 - val_mse: 1.4682\n",
            "Epoch 315/500\n",
            "21/21 [==============================] - 0s 2ms/step - loss: 0.9395 - mae: 0.9395 - mse: 1.3382 - val_loss: 0.9460 - val_mae: 0.9460 - val_mse: 1.3949\n",
            "Epoch 316/500\n",
            "21/21 [==============================] - 0s 3ms/step - loss: 0.9287 - mae: 0.9287 - mse: 1.3141 - val_loss: 0.9431 - val_mae: 0.9431 - val_mse: 1.4224\n",
            "Epoch 317/500\n",
            "21/21 [==============================] - 0s 3ms/step - loss: 0.9228 - mae: 0.9228 - mse: 1.2942 - val_loss: 0.9338 - val_mae: 0.9338 - val_mse: 1.3279\n",
            "Epoch 318/500\n",
            "21/21 [==============================] - 0s 2ms/step - loss: 0.9248 - mae: 0.9248 - mse: 1.3265 - val_loss: 0.9396 - val_mae: 0.9396 - val_mse: 1.4470\n",
            "Epoch 319/500\n",
            "21/21 [==============================] - 0s 2ms/step - loss: 0.9121 - mae: 0.9121 - mse: 1.2626 - val_loss: 0.9204 - val_mae: 0.9204 - val_mse: 1.3283\n",
            "Epoch 320/500\n",
            "21/21 [==============================] - 0s 4ms/step - loss: 0.9036 - mae: 0.9036 - mse: 1.2436 - val_loss: 0.9162 - val_mae: 0.9162 - val_mse: 1.3271\n",
            "Epoch 321/500\n",
            "21/21 [==============================] - 0s 2ms/step - loss: 0.8987 - mae: 0.8987 - mse: 1.2282 - val_loss: 0.9124 - val_mae: 0.9124 - val_mse: 1.3327\n",
            "Epoch 322/500\n",
            "21/21 [==============================] - 0s 3ms/step - loss: 0.8888 - mae: 0.8888 - mse: 1.2016 - val_loss: 0.9019 - val_mae: 0.9019 - val_mse: 1.2704\n",
            "Epoch 323/500\n",
            "21/21 [==============================] - 0s 2ms/step - loss: 0.8809 - mae: 0.8809 - mse: 1.1817 - val_loss: 0.8976 - val_mae: 0.8976 - val_mse: 1.2671\n",
            "Epoch 324/500\n",
            "21/21 [==============================] - 0s 3ms/step - loss: 0.8788 - mae: 0.8788 - mse: 1.1920 - val_loss: 0.8919 - val_mae: 0.8919 - val_mse: 1.2490\n",
            "Epoch 325/500\n",
            "21/21 [==============================] - 0s 3ms/step - loss: 0.8697 - mae: 0.8697 - mse: 1.1577 - val_loss: 0.8880 - val_mae: 0.8880 - val_mse: 1.2459\n",
            "Epoch 326/500\n",
            "21/21 [==============================] - 0s 2ms/step - loss: 0.8669 - mae: 0.8669 - mse: 1.1455 - val_loss: 0.8973 - val_mae: 0.8973 - val_mse: 1.3232\n",
            "Epoch 327/500\n",
            "21/21 [==============================] - 0s 2ms/step - loss: 0.8616 - mae: 0.8616 - mse: 1.1351 - val_loss: 0.8745 - val_mae: 0.8745 - val_mse: 1.1891\n",
            "Epoch 328/500\n",
            "21/21 [==============================] - 0s 2ms/step - loss: 0.8581 - mae: 0.8581 - mse: 1.1195 - val_loss: 0.8976 - val_mae: 0.8976 - val_mse: 1.3366\n",
            "Epoch 329/500\n",
            "21/21 [==============================] - 0s 2ms/step - loss: 0.8532 - mae: 0.8532 - mse: 1.1144 - val_loss: 0.8720 - val_mae: 0.8720 - val_mse: 1.1425\n",
            "Epoch 330/500\n",
            "21/21 [==============================] - 0s 2ms/step - loss: 0.8496 - mae: 0.8496 - mse: 1.1125 - val_loss: 0.8635 - val_mae: 0.8635 - val_mse: 1.1328\n",
            "Epoch 331/500\n",
            "21/21 [==============================] - 0s 3ms/step - loss: 0.8411 - mae: 0.8411 - mse: 1.0843 - val_loss: 0.8625 - val_mae: 0.8625 - val_mse: 1.1178\n",
            "Epoch 332/500\n",
            "21/21 [==============================] - 0s 3ms/step - loss: 0.8345 - mae: 0.8345 - mse: 1.0706 - val_loss: 0.8566 - val_mae: 0.8566 - val_mse: 1.1828\n",
            "Epoch 333/500\n",
            "21/21 [==============================] - 0s 2ms/step - loss: 0.8318 - mae: 0.8318 - mse: 1.0638 - val_loss: 0.8501 - val_mae: 0.8501 - val_mse: 1.1579\n",
            "Epoch 334/500\n",
            "21/21 [==============================] - 0s 2ms/step - loss: 0.8240 - mae: 0.8240 - mse: 1.0429 - val_loss: 0.8413 - val_mae: 0.8413 - val_mse: 1.0921\n",
            "Epoch 335/500\n",
            "21/21 [==============================] - 0s 3ms/step - loss: 0.8180 - mae: 0.8180 - mse: 1.0304 - val_loss: 0.8413 - val_mae: 0.8413 - val_mse: 1.1371\n",
            "Epoch 336/500\n",
            "21/21 [==============================] - 0s 3ms/step - loss: 0.8135 - mae: 0.8135 - mse: 1.0169 - val_loss: 0.8309 - val_mae: 0.8309 - val_mse: 1.0776\n",
            "Epoch 337/500\n",
            "21/21 [==============================] - 0s 2ms/step - loss: 0.8068 - mae: 0.8068 - mse: 0.9989 - val_loss: 0.8366 - val_mae: 0.8366 - val_mse: 1.1371\n",
            "Epoch 338/500\n",
            "21/21 [==============================] - 0s 3ms/step - loss: 0.8110 - mae: 0.8110 - mse: 1.0150 - val_loss: 0.8273 - val_mae: 0.8273 - val_mse: 1.0951\n",
            "Epoch 339/500\n",
            "21/21 [==============================] - 0s 3ms/step - loss: 0.8122 - mae: 0.8122 - mse: 1.0229 - val_loss: 0.8183 - val_mae: 0.8183 - val_mse: 1.0460\n",
            "Epoch 340/500\n",
            "21/21 [==============================] - 0s 2ms/step - loss: 0.8008 - mae: 0.8008 - mse: 0.9923 - val_loss: 0.8221 - val_mae: 0.8221 - val_mse: 1.0202\n",
            "Epoch 341/500\n",
            "21/21 [==============================] - 0s 3ms/step - loss: 0.7937 - mae: 0.7937 - mse: 0.9694 - val_loss: 0.8107 - val_mae: 0.8107 - val_mse: 1.0254\n",
            "Epoch 342/500\n",
            "21/21 [==============================] - 0s 3ms/step - loss: 0.7864 - mae: 0.7864 - mse: 0.9610 - val_loss: 0.8071 - val_mae: 0.8071 - val_mse: 1.0359\n",
            "Epoch 343/500\n",
            "21/21 [==============================] - 0s 3ms/step - loss: 0.7839 - mae: 0.7839 - mse: 0.9473 - val_loss: 0.8030 - val_mae: 0.8030 - val_mse: 1.0076\n",
            "Epoch 344/500\n",
            "21/21 [==============================] - 0s 2ms/step - loss: 0.7782 - mae: 0.7782 - mse: 0.9348 - val_loss: 0.8181 - val_mae: 0.8181 - val_mse: 1.1000\n",
            "Epoch 345/500\n",
            "21/21 [==============================] - 0s 2ms/step - loss: 0.7811 - mae: 0.7811 - mse: 0.9448 - val_loss: 0.7961 - val_mae: 0.7961 - val_mse: 0.9859\n",
            "Epoch 346/500\n",
            "21/21 [==============================] - 0s 2ms/step - loss: 0.7699 - mae: 0.7699 - mse: 0.9379 - val_loss: 0.7987 - val_mae: 0.7987 - val_mse: 0.9681\n",
            "Epoch 347/500\n",
            "21/21 [==============================] - 0s 2ms/step - loss: 0.7714 - mae: 0.7714 - mse: 0.9320 - val_loss: 0.8043 - val_mae: 0.8043 - val_mse: 1.0609\n",
            "Epoch 348/500\n",
            "21/21 [==============================] - 0s 3ms/step - loss: 0.7623 - mae: 0.7623 - mse: 0.9075 - val_loss: 0.7860 - val_mae: 0.7860 - val_mse: 0.9621\n",
            "Epoch 349/500\n",
            "21/21 [==============================] - 0s 2ms/step - loss: 0.7580 - mae: 0.7580 - mse: 0.8935 - val_loss: 0.7928 - val_mae: 0.7928 - val_mse: 0.9497\n",
            "Epoch 350/500\n",
            "21/21 [==============================] - 0s 3ms/step - loss: 0.7487 - mae: 0.7487 - mse: 0.8709 - val_loss: 0.7855 - val_mae: 0.7855 - val_mse: 1.0021\n",
            "Epoch 351/500\n",
            "21/21 [==============================] - 0s 2ms/step - loss: 0.7564 - mae: 0.7564 - mse: 0.8916 - val_loss: 0.7764 - val_mae: 0.7764 - val_mse: 0.9444\n",
            "Epoch 352/500\n",
            "21/21 [==============================] - 0s 2ms/step - loss: 0.7460 - mae: 0.7460 - mse: 0.8767 - val_loss: 0.7762 - val_mae: 0.7762 - val_mse: 0.9274\n",
            "Epoch 353/500\n",
            "21/21 [==============================] - 0s 2ms/step - loss: 0.7474 - mae: 0.7474 - mse: 0.8654 - val_loss: 0.7723 - val_mae: 0.7723 - val_mse: 0.9223\n",
            "Epoch 354/500\n",
            "21/21 [==============================] - 0s 3ms/step - loss: 0.7433 - mae: 0.7433 - mse: 0.8652 - val_loss: 0.7892 - val_mae: 0.7892 - val_mse: 0.9318\n",
            "Epoch 355/500\n",
            "21/21 [==============================] - 0s 3ms/step - loss: 0.7432 - mae: 0.7432 - mse: 0.8544 - val_loss: 0.7648 - val_mae: 0.7648 - val_mse: 0.9196\n",
            "Epoch 356/500\n",
            "21/21 [==============================] - 0s 2ms/step - loss: 0.7343 - mae: 0.7343 - mse: 0.8412 - val_loss: 0.7624 - val_mae: 0.7624 - val_mse: 0.9104\n",
            "Epoch 357/500\n",
            "21/21 [==============================] - 0s 2ms/step - loss: 0.7380 - mae: 0.7380 - mse: 0.8510 - val_loss: 0.7749 - val_mae: 0.7749 - val_mse: 0.9082\n",
            "Epoch 358/500\n",
            "21/21 [==============================] - 0s 3ms/step - loss: 0.7366 - mae: 0.7366 - mse: 0.8466 - val_loss: 0.7695 - val_mae: 0.7695 - val_mse: 0.9005\n",
            "Epoch 359/500\n",
            "21/21 [==============================] - 0s 2ms/step - loss: 0.7318 - mae: 0.7318 - mse: 0.8333 - val_loss: 0.7599 - val_mae: 0.7599 - val_mse: 0.8893\n",
            "Epoch 360/500\n",
            "21/21 [==============================] - 0s 3ms/step - loss: 0.7247 - mae: 0.7247 - mse: 0.8261 - val_loss: 0.7555 - val_mae: 0.7555 - val_mse: 0.9222\n",
            "Epoch 361/500\n",
            "21/21 [==============================] - 0s 3ms/step - loss: 0.7273 - mae: 0.7273 - mse: 0.8257 - val_loss: 0.7528 - val_mae: 0.7528 - val_mse: 0.9099\n",
            "Epoch 362/500\n",
            "21/21 [==============================] - 0s 3ms/step - loss: 0.7188 - mae: 0.7188 - mse: 0.8084 - val_loss: 0.7526 - val_mae: 0.7526 - val_mse: 0.8762\n",
            "Epoch 363/500\n",
            "21/21 [==============================] - 0s 2ms/step - loss: 0.7170 - mae: 0.7170 - mse: 0.8064 - val_loss: 0.7485 - val_mae: 0.7485 - val_mse: 0.8753\n",
            "Epoch 364/500\n",
            "21/21 [==============================] - 0s 3ms/step - loss: 0.7146 - mae: 0.7146 - mse: 0.7992 - val_loss: 0.7486 - val_mae: 0.7486 - val_mse: 0.8684\n",
            "Epoch 365/500\n",
            "21/21 [==============================] - 0s 3ms/step - loss: 0.7124 - mae: 0.7124 - mse: 0.7940 - val_loss: 0.7463 - val_mae: 0.7463 - val_mse: 0.8656\n",
            "Epoch 366/500\n",
            "21/21 [==============================] - 0s 3ms/step - loss: 0.7091 - mae: 0.7091 - mse: 0.7887 - val_loss: 0.7441 - val_mae: 0.7441 - val_mse: 0.8774\n",
            "Epoch 367/500\n",
            "21/21 [==============================] - 0s 3ms/step - loss: 0.7090 - mae: 0.7090 - mse: 0.7881 - val_loss: 0.7439 - val_mae: 0.7439 - val_mse: 0.8584\n",
            "Epoch 368/500\n",
            "21/21 [==============================] - 0s 2ms/step - loss: 0.7092 - mae: 0.7092 - mse: 0.7885 - val_loss: 0.7500 - val_mae: 0.7500 - val_mse: 0.8613\n",
            "Epoch 369/500\n",
            "21/21 [==============================] - 0s 3ms/step - loss: 0.7081 - mae: 0.7081 - mse: 0.7915 - val_loss: 0.7412 - val_mae: 0.7412 - val_mse: 0.8526\n",
            "Epoch 370/500\n",
            "21/21 [==============================] - 0s 3ms/step - loss: 0.7019 - mae: 0.7019 - mse: 0.7739 - val_loss: 0.7401 - val_mae: 0.7401 - val_mse: 0.8499\n",
            "Epoch 371/500\n",
            "21/21 [==============================] - 0s 3ms/step - loss: 0.7006 - mae: 0.7006 - mse: 0.7700 - val_loss: 0.7396 - val_mae: 0.7396 - val_mse: 0.8474\n",
            "Epoch 372/500\n",
            "21/21 [==============================] - 0s 2ms/step - loss: 0.7018 - mae: 0.7018 - mse: 0.7767 - val_loss: 0.7418 - val_mae: 0.7418 - val_mse: 0.8476\n",
            "Epoch 373/500\n",
            "21/21 [==============================] - 0s 3ms/step - loss: 0.7100 - mae: 0.7100 - mse: 0.7921 - val_loss: 0.7374 - val_mae: 0.7374 - val_mse: 0.8427\n",
            "Epoch 374/500\n",
            "21/21 [==============================] - 0s 2ms/step - loss: 0.6961 - mae: 0.6961 - mse: 0.7623 - val_loss: 0.7350 - val_mae: 0.7350 - val_mse: 0.8408\n",
            "Epoch 375/500\n",
            "21/21 [==============================] - 0s 3ms/step - loss: 0.6986 - mae: 0.6986 - mse: 0.7714 - val_loss: 0.7532 - val_mae: 0.7532 - val_mse: 0.8596\n",
            "Epoch 376/500\n",
            "21/21 [==============================] - 0s 3ms/step - loss: 0.6928 - mae: 0.6928 - mse: 0.7615 - val_loss: 0.7325 - val_mae: 0.7325 - val_mse: 0.8426\n",
            "Epoch 377/500\n",
            "21/21 [==============================] - 0s 3ms/step - loss: 0.6956 - mae: 0.6956 - mse: 0.7576 - val_loss: 0.7456 - val_mae: 0.7456 - val_mse: 0.8475\n",
            "Epoch 378/500\n",
            "21/21 [==============================] - 0s 3ms/step - loss: 0.6890 - mae: 0.6890 - mse: 0.7577 - val_loss: 0.7321 - val_mae: 0.7321 - val_mse: 0.8578\n",
            "Epoch 379/500\n",
            "21/21 [==============================] - 0s 2ms/step - loss: 0.6913 - mae: 0.6913 - mse: 0.7608 - val_loss: 0.7396 - val_mae: 0.7396 - val_mse: 0.9020\n",
            "Epoch 380/500\n",
            "21/21 [==============================] - 0s 3ms/step - loss: 0.6934 - mae: 0.6934 - mse: 0.7668 - val_loss: 0.7335 - val_mae: 0.7335 - val_mse: 0.8314\n",
            "Epoch 381/500\n",
            "21/21 [==============================] - 0s 2ms/step - loss: 0.6866 - mae: 0.6866 - mse: 0.7470 - val_loss: 0.7301 - val_mae: 0.7301 - val_mse: 0.8289\n",
            "Epoch 382/500\n",
            "21/21 [==============================] - 0s 3ms/step - loss: 0.6840 - mae: 0.6840 - mse: 0.7417 - val_loss: 0.7290 - val_mae: 0.7290 - val_mse: 0.8532\n",
            "Epoch 383/500\n",
            "21/21 [==============================] - 0s 3ms/step - loss: 0.6859 - mae: 0.6859 - mse: 0.7508 - val_loss: 0.7316 - val_mae: 0.7316 - val_mse: 0.8698\n",
            "Epoch 384/500\n",
            "21/21 [==============================] - 0s 3ms/step - loss: 0.6885 - mae: 0.6885 - mse: 0.7464 - val_loss: 0.7305 - val_mae: 0.7305 - val_mse: 0.8264\n",
            "Epoch 385/500\n",
            "21/21 [==============================] - 0s 2ms/step - loss: 0.6856 - mae: 0.6856 - mse: 0.7431 - val_loss: 0.7253 - val_mae: 0.7253 - val_mse: 0.8328\n",
            "Epoch 386/500\n",
            "21/21 [==============================] - 0s 3ms/step - loss: 0.6884 - mae: 0.6884 - mse: 0.7555 - val_loss: 0.7296 - val_mae: 0.7296 - val_mse: 0.8246\n",
            "Epoch 387/500\n",
            "21/21 [==============================] - 0s 3ms/step - loss: 0.6805 - mae: 0.6805 - mse: 0.7362 - val_loss: 0.7261 - val_mae: 0.7261 - val_mse: 0.8226\n",
            "Epoch 388/500\n",
            "21/21 [==============================] - 0s 3ms/step - loss: 0.6789 - mae: 0.6789 - mse: 0.7327 - val_loss: 0.7235 - val_mae: 0.7235 - val_mse: 0.8264\n",
            "Epoch 389/500\n",
            "21/21 [==============================] - 0s 3ms/step - loss: 0.6838 - mae: 0.6838 - mse: 0.7388 - val_loss: 0.7321 - val_mae: 0.7321 - val_mse: 0.8855\n",
            "Epoch 390/500\n",
            "21/21 [==============================] - 0s 3ms/step - loss: 0.6882 - mae: 0.6882 - mse: 0.7501 - val_loss: 0.7426 - val_mae: 0.7426 - val_mse: 0.8366\n",
            "Epoch 391/500\n",
            "21/21 [==============================] - 0s 3ms/step - loss: 0.6841 - mae: 0.6841 - mse: 0.7416 - val_loss: 0.7289 - val_mae: 0.7289 - val_mse: 0.8224\n",
            "Epoch 392/500\n",
            "21/21 [==============================] - 0s 4ms/step - loss: 0.6792 - mae: 0.6792 - mse: 0.7328 - val_loss: 0.7215 - val_mae: 0.7215 - val_mse: 0.8226\n",
            "Epoch 393/500\n",
            "21/21 [==============================] - 0s 2ms/step - loss: 0.6770 - mae: 0.6770 - mse: 0.7290 - val_loss: 0.7216 - val_mae: 0.7216 - val_mse: 0.8320\n",
            "Epoch 394/500\n",
            "21/21 [==============================] - 0s 2ms/step - loss: 0.6734 - mae: 0.6734 - mse: 0.7200 - val_loss: 0.7476 - val_mae: 0.7476 - val_mse: 0.8421\n",
            "Epoch 395/500\n",
            "21/21 [==============================] - 0s 2ms/step - loss: 0.6914 - mae: 0.6914 - mse: 0.7582 - val_loss: 0.7367 - val_mae: 0.7367 - val_mse: 0.8291\n",
            "Epoch 396/500\n",
            "21/21 [==============================] - 0s 3ms/step - loss: 0.6770 - mae: 0.6770 - mse: 0.7277 - val_loss: 0.7216 - val_mae: 0.7216 - val_mse: 0.8183\n",
            "Epoch 397/500\n",
            "21/21 [==============================] - 0s 3ms/step - loss: 0.6757 - mae: 0.6757 - mse: 0.7239 - val_loss: 0.7263 - val_mae: 0.7263 - val_mse: 0.8198\n",
            "Epoch 398/500\n",
            "21/21 [==============================] - 0s 3ms/step - loss: 0.6758 - mae: 0.6758 - mse: 0.7282 - val_loss: 0.7215 - val_mae: 0.7215 - val_mse: 0.8175\n",
            "Epoch 399/500\n",
            "21/21 [==============================] - 0s 2ms/step - loss: 0.6726 - mae: 0.6726 - mse: 0.7211 - val_loss: 0.7188 - val_mae: 0.7188 - val_mse: 0.8265\n",
            "Epoch 400/500\n",
            "21/21 [==============================] - 0s 3ms/step - loss: 0.6845 - mae: 0.6845 - mse: 0.7423 - val_loss: 0.7263 - val_mae: 0.7263 - val_mse: 0.8674\n",
            "Epoch 401/500\n",
            "21/21 [==============================] - 0s 3ms/step - loss: 0.6804 - mae: 0.6804 - mse: 0.7346 - val_loss: 0.7181 - val_mae: 0.7181 - val_mse: 0.8253\n",
            "Epoch 402/500\n",
            "21/21 [==============================] - 0s 3ms/step - loss: 0.6733 - mae: 0.6733 - mse: 0.7228 - val_loss: 0.7199 - val_mae: 0.7199 - val_mse: 0.8171\n",
            "Epoch 403/500\n",
            "21/21 [==============================] - 0s 2ms/step - loss: 0.6735 - mae: 0.6735 - mse: 0.7221 - val_loss: 0.7181 - val_mae: 0.7181 - val_mse: 0.8187\n",
            "Epoch 404/500\n",
            "21/21 [==============================] - 0s 2ms/step - loss: 0.6724 - mae: 0.6724 - mse: 0.7200 - val_loss: 0.7269 - val_mae: 0.7269 - val_mse: 0.8209\n",
            "Epoch 405/500\n",
            "21/21 [==============================] - 0s 2ms/step - loss: 0.6697 - mae: 0.6697 - mse: 0.7149 - val_loss: 0.7234 - val_mae: 0.7234 - val_mse: 0.8571\n",
            "Epoch 406/500\n",
            "21/21 [==============================] - 0s 2ms/step - loss: 0.6818 - mae: 0.6818 - mse: 0.7413 - val_loss: 0.7186 - val_mae: 0.7186 - val_mse: 0.8171\n",
            "Epoch 407/500\n",
            "21/21 [==============================] - 0s 3ms/step - loss: 0.6723 - mae: 0.6723 - mse: 0.7199 - val_loss: 0.7163 - val_mae: 0.7163 - val_mse: 0.8248\n",
            "Epoch 408/500\n",
            "21/21 [==============================] - 0s 2ms/step - loss: 0.6740 - mae: 0.6740 - mse: 0.7233 - val_loss: 0.7177 - val_mae: 0.7177 - val_mse: 0.8176\n",
            "Epoch 409/500\n",
            "21/21 [==============================] - 0s 3ms/step - loss: 0.6784 - mae: 0.6784 - mse: 0.7294 - val_loss: 0.7201 - val_mae: 0.7201 - val_mse: 0.8170\n",
            "Epoch 410/500\n",
            "21/21 [==============================] - 0s 3ms/step - loss: 0.6738 - mae: 0.6738 - mse: 0.7235 - val_loss: 0.7175 - val_mae: 0.7175 - val_mse: 0.8176\n",
            "Epoch 411/500\n",
            "21/21 [==============================] - 0s 2ms/step - loss: 0.6740 - mae: 0.6740 - mse: 0.7221 - val_loss: 0.7251 - val_mae: 0.7251 - val_mse: 0.8665\n",
            "Epoch 412/500\n",
            "21/21 [==============================] - 0s 3ms/step - loss: 0.6735 - mae: 0.6735 - mse: 0.7213 - val_loss: 0.7167 - val_mae: 0.7167 - val_mse: 0.8185\n",
            "Epoch 413/500\n",
            "21/21 [==============================] - 0s 2ms/step - loss: 0.6693 - mae: 0.6693 - mse: 0.7160 - val_loss: 0.7151 - val_mae: 0.7151 - val_mse: 0.8243\n",
            "Epoch 414/500\n",
            "21/21 [==============================] - 0s 3ms/step - loss: 0.6715 - mae: 0.6715 - mse: 0.7206 - val_loss: 0.7177 - val_mae: 0.7177 - val_mse: 0.8174\n",
            "Epoch 415/500\n",
            "21/21 [==============================] - 0s 3ms/step - loss: 0.6710 - mae: 0.6710 - mse: 0.7201 - val_loss: 0.7171 - val_mae: 0.7171 - val_mse: 0.8351\n",
            "Epoch 416/500\n",
            "21/21 [==============================] - 0s 3ms/step - loss: 0.6716 - mae: 0.6716 - mse: 0.7168 - val_loss: 0.7150 - val_mae: 0.7150 - val_mse: 0.8226\n",
            "Epoch 417/500\n",
            "21/21 [==============================] - 0s 3ms/step - loss: 0.6693 - mae: 0.6693 - mse: 0.7157 - val_loss: 0.7165 - val_mae: 0.7165 - val_mse: 0.8183\n",
            "Epoch 418/500\n",
            "21/21 [==============================] - 0s 2ms/step - loss: 0.6721 - mae: 0.6721 - mse: 0.7213 - val_loss: 0.7165 - val_mae: 0.7165 - val_mse: 0.8334\n",
            "Epoch 419/500\n",
            "21/21 [==============================] - 0s 3ms/step - loss: 0.6688 - mae: 0.6688 - mse: 0.7150 - val_loss: 0.7215 - val_mae: 0.7215 - val_mse: 0.8197\n",
            "Epoch 420/500\n",
            "21/21 [==============================] - 0s 2ms/step - loss: 0.6834 - mae: 0.6834 - mse: 0.7466 - val_loss: 0.7279 - val_mae: 0.7279 - val_mse: 0.8805\n",
            "Epoch 421/500\n",
            "21/21 [==============================] - 0s 4ms/step - loss: 0.6743 - mae: 0.6743 - mse: 0.7191 - val_loss: 0.7167 - val_mae: 0.7167 - val_mse: 0.8186\n",
            "Epoch 422/500\n",
            "21/21 [==============================] - 0s 2ms/step - loss: 0.6771 - mae: 0.6771 - mse: 0.7278 - val_loss: 0.7154 - val_mae: 0.7154 - val_mse: 0.8207\n",
            "Epoch 423/500\n",
            "21/21 [==============================] - 0s 3ms/step - loss: 0.6669 - mae: 0.6669 - mse: 0.7146 - val_loss: 0.7212 - val_mae: 0.7212 - val_mse: 0.8202\n",
            "Epoch 424/500\n",
            "21/21 [==============================] - 0s 3ms/step - loss: 0.6706 - mae: 0.6706 - mse: 0.7179 - val_loss: 0.7160 - val_mae: 0.7160 - val_mse: 0.8195\n",
            "Epoch 425/500\n",
            "21/21 [==============================] - 0s 3ms/step - loss: 0.6693 - mae: 0.6693 - mse: 0.7146 - val_loss: 0.7151 - val_mae: 0.7151 - val_mse: 0.8220\n",
            "Epoch 426/500\n",
            "21/21 [==============================] - 0s 3ms/step - loss: 0.6724 - mae: 0.6724 - mse: 0.7190 - val_loss: 0.7171 - val_mae: 0.7171 - val_mse: 0.8195\n",
            "Epoch 427/500\n",
            "21/21 [==============================] - 0s 3ms/step - loss: 0.6664 - mae: 0.6664 - mse: 0.7160 - val_loss: 0.7270 - val_mae: 0.7270 - val_mse: 0.8772\n",
            "Epoch 428/500\n",
            "21/21 [==============================] - 0s 2ms/step - loss: 0.6722 - mae: 0.6722 - mse: 0.7234 - val_loss: 0.7177 - val_mae: 0.7177 - val_mse: 0.8199\n",
            "Epoch 429/500\n",
            "21/21 [==============================] - 0s 2ms/step - loss: 0.6666 - mae: 0.6666 - mse: 0.7131 - val_loss: 0.7251 - val_mae: 0.7251 - val_mse: 0.8238\n",
            "Epoch 430/500\n",
            "21/21 [==============================] - 0s 3ms/step - loss: 0.6720 - mae: 0.6720 - mse: 0.7205 - val_loss: 0.7207 - val_mae: 0.7207 - val_mse: 0.8215\n",
            "Epoch 431/500\n",
            "21/21 [==============================] - 0s 3ms/step - loss: 0.6758 - mae: 0.6758 - mse: 0.7298 - val_loss: 0.7168 - val_mae: 0.7168 - val_mse: 0.8374\n",
            "Epoch 432/500\n",
            "21/21 [==============================] - 0s 3ms/step - loss: 0.6671 - mae: 0.6671 - mse: 0.7148 - val_loss: 0.7344 - val_mae: 0.7344 - val_mse: 0.8323\n",
            "Epoch 433/500\n",
            "21/21 [==============================] - 0s 2ms/step - loss: 0.6725 - mae: 0.6725 - mse: 0.7222 - val_loss: 0.7164 - val_mae: 0.7164 - val_mse: 0.8212\n",
            "Epoch 434/500\n",
            "21/21 [==============================] - 0s 2ms/step - loss: 0.6665 - mae: 0.6665 - mse: 0.7126 - val_loss: 0.7154 - val_mae: 0.7154 - val_mse: 0.8227\n",
            "Epoch 435/500\n",
            "21/21 [==============================] - 0s 3ms/step - loss: 0.6654 - mae: 0.6654 - mse: 0.7117 - val_loss: 0.7241 - val_mae: 0.7241 - val_mse: 0.8243\n",
            "Epoch 436/500\n",
            "21/21 [==============================] - 0s 3ms/step - loss: 0.6678 - mae: 0.6678 - mse: 0.7162 - val_loss: 0.7147 - val_mae: 0.7147 - val_mse: 0.8321\n",
            "Epoch 437/500\n",
            "21/21 [==============================] - 0s 3ms/step - loss: 0.6665 - mae: 0.6665 - mse: 0.7128 - val_loss: 0.7293 - val_mae: 0.7293 - val_mse: 0.8283\n",
            "Epoch 438/500\n",
            "21/21 [==============================] - 0s 3ms/step - loss: 0.6688 - mae: 0.6688 - mse: 0.7187 - val_loss: 0.7151 - val_mae: 0.7151 - val_mse: 0.8244\n",
            "Epoch 439/500\n",
            "21/21 [==============================] - 0s 3ms/step - loss: 0.6739 - mae: 0.6739 - mse: 0.7258 - val_loss: 0.7161 - val_mae: 0.7161 - val_mse: 0.8366\n",
            "Epoch 440/500\n",
            "21/21 [==============================] - 0s 3ms/step - loss: 0.6696 - mae: 0.6696 - mse: 0.7148 - val_loss: 0.7298 - val_mae: 0.7298 - val_mse: 0.8292\n",
            "Epoch 441/500\n",
            "21/21 [==============================] - 0s 2ms/step - loss: 0.6742 - mae: 0.6742 - mse: 0.7272 - val_loss: 0.7244 - val_mae: 0.7244 - val_mse: 0.8256\n",
            "Epoch 442/500\n",
            "21/21 [==============================] - 0s 3ms/step - loss: 0.6687 - mae: 0.6687 - mse: 0.7184 - val_loss: 0.7189 - val_mae: 0.7189 - val_mse: 0.8457\n",
            "Epoch 443/500\n",
            "21/21 [==============================] - 0s 3ms/step - loss: 0.6708 - mae: 0.6708 - mse: 0.7190 - val_loss: 0.7155 - val_mae: 0.7155 - val_mse: 0.8244\n",
            "Epoch 444/500\n",
            "21/21 [==============================] - 0s 2ms/step - loss: 0.6779 - mae: 0.6779 - mse: 0.7296 - val_loss: 0.7412 - val_mae: 0.7412 - val_mse: 0.8428\n",
            "Epoch 445/500\n",
            "21/21 [==============================] - 0s 2ms/step - loss: 0.6733 - mae: 0.6733 - mse: 0.7352 - val_loss: 0.7241 - val_mae: 0.7241 - val_mse: 0.8259\n",
            "Epoch 446/500\n",
            "21/21 [==============================] - 0s 4ms/step - loss: 0.6678 - mae: 0.6678 - mse: 0.7160 - val_loss: 0.7146 - val_mae: 0.7146 - val_mse: 0.8284\n",
            "Epoch 447/500\n",
            "21/21 [==============================] - 0s 3ms/step - loss: 0.6670 - mae: 0.6670 - mse: 0.7162 - val_loss: 0.7192 - val_mae: 0.7192 - val_mse: 0.8240\n",
            "Epoch 448/500\n",
            "21/21 [==============================] - 0s 3ms/step - loss: 0.6728 - mae: 0.6728 - mse: 0.7246 - val_loss: 0.7183 - val_mae: 0.7183 - val_mse: 0.8241\n",
            "Epoch 449/500\n",
            "21/21 [==============================] - 0s 3ms/step - loss: 0.6689 - mae: 0.6689 - mse: 0.7175 - val_loss: 0.7148 - val_mae: 0.7148 - val_mse: 0.8303\n",
            "Epoch 450/500\n",
            "21/21 [==============================] - 0s 2ms/step - loss: 0.6790 - mae: 0.6790 - mse: 0.7324 - val_loss: 0.7268 - val_mae: 0.7268 - val_mse: 0.8757\n",
            "Epoch 451/500\n",
            "21/21 [==============================] - 0s 2ms/step - loss: 0.6750 - mae: 0.6750 - mse: 0.7263 - val_loss: 0.7151 - val_mae: 0.7151 - val_mse: 0.8323\n",
            "Epoch 452/500\n",
            "21/21 [==============================] - 0s 3ms/step - loss: 0.6671 - mae: 0.6671 - mse: 0.7121 - val_loss: 0.7258 - val_mae: 0.7258 - val_mse: 0.8277\n",
            "Epoch 453/500\n",
            "21/21 [==============================] - 0s 3ms/step - loss: 0.6675 - mae: 0.6675 - mse: 0.7198 - val_loss: 0.7176 - val_mae: 0.7176 - val_mse: 0.8246\n",
            "Epoch 454/500\n",
            "21/21 [==============================] - 0s 4ms/step - loss: 0.6792 - mae: 0.6792 - mse: 0.7429 - val_loss: 0.7492 - val_mae: 0.7492 - val_mse: 0.8562\n",
            "Epoch 455/500\n",
            "21/21 [==============================] - 0s 3ms/step - loss: 0.6735 - mae: 0.6735 - mse: 0.7273 - val_loss: 0.7153 - val_mae: 0.7153 - val_mse: 0.8328\n",
            "Epoch 456/500\n",
            "21/21 [==============================] - 0s 2ms/step - loss: 0.6684 - mae: 0.6684 - mse: 0.7160 - val_loss: 0.7204 - val_mae: 0.7204 - val_mse: 0.8508\n",
            "Epoch 457/500\n",
            "21/21 [==============================] - 0s 3ms/step - loss: 0.6691 - mae: 0.6691 - mse: 0.7182 - val_loss: 0.7177 - val_mae: 0.7177 - val_mse: 0.8414\n",
            "Epoch 458/500\n",
            "21/21 [==============================] - 0s 2ms/step - loss: 0.6692 - mae: 0.6692 - mse: 0.7208 - val_loss: 0.7554 - val_mae: 0.7554 - val_mse: 0.8680\n",
            "Epoch 459/500\n",
            "21/21 [==============================] - 0s 3ms/step - loss: 0.6801 - mae: 0.6801 - mse: 0.7401 - val_loss: 0.7160 - val_mae: 0.7160 - val_mse: 0.8256\n",
            "Epoch 460/500\n",
            "21/21 [==============================] - 0s 3ms/step - loss: 0.6738 - mae: 0.6738 - mse: 0.7254 - val_loss: 0.7307 - val_mae: 0.7307 - val_mse: 0.8936\n",
            "Epoch 461/500\n",
            "21/21 [==============================] - 0s 2ms/step - loss: 0.6753 - mae: 0.6753 - mse: 0.7345 - val_loss: 0.7265 - val_mae: 0.7265 - val_mse: 0.8283\n",
            "Epoch 462/500\n",
            "21/21 [==============================] - 0s 2ms/step - loss: 0.6678 - mae: 0.6678 - mse: 0.7182 - val_loss: 0.7167 - val_mae: 0.7167 - val_mse: 0.8249\n",
            "Epoch 463/500\n",
            "21/21 [==============================] - 0s 2ms/step - loss: 0.6668 - mae: 0.6668 - mse: 0.7142 - val_loss: 0.7534 - val_mae: 0.7534 - val_mse: 0.8641\n",
            "Epoch 464/500\n",
            "21/21 [==============================] - 0s 3ms/step - loss: 0.6759 - mae: 0.6759 - mse: 0.7333 - val_loss: 0.7150 - val_mae: 0.7150 - val_mse: 0.8301\n",
            "Epoch 465/500\n",
            "21/21 [==============================] - 0s 4ms/step - loss: 0.6679 - mae: 0.6679 - mse: 0.7146 - val_loss: 0.7160 - val_mae: 0.7160 - val_mse: 0.8257\n",
            "Epoch 466/500\n",
            "21/21 [==============================] - 0s 3ms/step - loss: 0.6661 - mae: 0.6661 - mse: 0.7158 - val_loss: 0.7163 - val_mae: 0.7163 - val_mse: 0.8256\n",
            "Epoch 467/500\n",
            "21/21 [==============================] - 0s 2ms/step - loss: 0.6783 - mae: 0.6783 - mse: 0.7445 - val_loss: 0.7371 - val_mae: 0.7371 - val_mse: 0.9162\n",
            "Epoch 468/500\n",
            "21/21 [==============================] - 0s 3ms/step - loss: 0.6734 - mae: 0.6734 - mse: 0.7265 - val_loss: 0.7152 - val_mae: 0.7152 - val_mse: 0.8322\n",
            "Epoch 469/500\n",
            "21/21 [==============================] - 0s 2ms/step - loss: 0.6716 - mae: 0.6716 - mse: 0.7273 - val_loss: 0.7164 - val_mae: 0.7164 - val_mse: 0.8376\n",
            "Epoch 470/500\n",
            "21/21 [==============================] - 0s 3ms/step - loss: 0.6729 - mae: 0.6729 - mse: 0.7284 - val_loss: 0.7240 - val_mae: 0.7240 - val_mse: 0.8644\n",
            "Epoch 471/500\n",
            "21/21 [==============================] - 0s 2ms/step - loss: 0.6688 - mae: 0.6688 - mse: 0.7206 - val_loss: 0.7154 - val_mae: 0.7154 - val_mse: 0.8274\n",
            "Epoch 472/500\n",
            "21/21 [==============================] - 0s 3ms/step - loss: 0.6682 - mae: 0.6682 - mse: 0.7187 - val_loss: 0.7241 - val_mae: 0.7241 - val_mse: 0.8267\n",
            "Epoch 473/500\n",
            "21/21 [==============================] - 0s 3ms/step - loss: 0.6722 - mae: 0.6722 - mse: 0.7228 - val_loss: 0.7183 - val_mae: 0.7183 - val_mse: 0.8247\n",
            "Epoch 474/500\n",
            "21/21 [==============================] - 0s 4ms/step - loss: 0.6757 - mae: 0.6757 - mse: 0.7352 - val_loss: 0.7304 - val_mae: 0.7304 - val_mse: 0.8312\n",
            "Epoch 475/500\n",
            "21/21 [==============================] - 0s 3ms/step - loss: 0.6667 - mae: 0.6667 - mse: 0.7160 - val_loss: 0.7180 - val_mae: 0.7180 - val_mse: 0.8246\n",
            "Epoch 476/500\n",
            "21/21 [==============================] - 0s 2ms/step - loss: 0.6689 - mae: 0.6689 - mse: 0.7191 - val_loss: 0.7177 - val_mae: 0.7177 - val_mse: 0.8248\n",
            "Epoch 477/500\n",
            "21/21 [==============================] - 0s 2ms/step - loss: 0.6739 - mae: 0.6739 - mse: 0.7261 - val_loss: 0.7440 - val_mae: 0.7440 - val_mse: 0.8477\n",
            "Epoch 478/500\n",
            "21/21 [==============================] - 0s 2ms/step - loss: 0.6830 - mae: 0.6830 - mse: 0.7487 - val_loss: 0.7415 - val_mae: 0.7415 - val_mse: 0.8442\n",
            "Epoch 479/500\n",
            "21/21 [==============================] - 0s 3ms/step - loss: 0.6707 - mae: 0.6707 - mse: 0.7223 - val_loss: 0.7289 - val_mae: 0.7289 - val_mse: 0.8300\n",
            "Epoch 480/500\n",
            "21/21 [==============================] - 0s 3ms/step - loss: 0.6709 - mae: 0.6709 - mse: 0.7219 - val_loss: 0.7153 - val_mae: 0.7153 - val_mse: 0.8328\n",
            "Epoch 481/500\n",
            "21/21 [==============================] - 0s 3ms/step - loss: 0.6757 - mae: 0.6757 - mse: 0.7252 - val_loss: 0.7183 - val_mae: 0.7183 - val_mse: 0.8433\n",
            "Epoch 482/500\n",
            "21/21 [==============================] - 0s 3ms/step - loss: 0.6762 - mae: 0.6762 - mse: 0.7307 - val_loss: 0.7292 - val_mae: 0.7292 - val_mse: 0.8862\n",
            "Epoch 483/500\n",
            "21/21 [==============================] - 0s 3ms/step - loss: 0.6734 - mae: 0.6734 - mse: 0.7303 - val_loss: 0.7152 - val_mae: 0.7152 - val_mse: 0.8285\n",
            "Epoch 484/500\n",
            "21/21 [==============================] - 0s 3ms/step - loss: 0.6679 - mae: 0.6679 - mse: 0.7194 - val_loss: 0.7173 - val_mae: 0.7173 - val_mse: 0.8249\n",
            "Epoch 485/500\n",
            "21/21 [==============================] - 0s 3ms/step - loss: 0.6666 - mae: 0.6666 - mse: 0.7155 - val_loss: 0.7316 - val_mae: 0.7316 - val_mse: 0.8324\n",
            "Epoch 486/500\n",
            "21/21 [==============================] - 0s 4ms/step - loss: 0.6774 - mae: 0.6774 - mse: 0.7411 - val_loss: 0.7452 - val_mae: 0.7452 - val_mse: 0.8496\n",
            "Epoch 487/500\n",
            "21/21 [==============================] - 0s 2ms/step - loss: 0.6788 - mae: 0.6788 - mse: 0.7399 - val_loss: 0.7150 - val_mae: 0.7150 - val_mse: 0.8290\n",
            "Epoch 488/500\n",
            "21/21 [==============================] - 0s 3ms/step - loss: 0.6687 - mae: 0.6687 - mse: 0.7192 - val_loss: 0.7453 - val_mae: 0.7453 - val_mse: 0.8498\n",
            "Epoch 489/500\n",
            "21/21 [==============================] - 0s 2ms/step - loss: 0.6670 - mae: 0.6670 - mse: 0.7145 - val_loss: 0.7160 - val_mae: 0.7160 - val_mse: 0.8358\n",
            "Epoch 490/500\n",
            "21/21 [==============================] - 0s 2ms/step - loss: 0.6700 - mae: 0.6700 - mse: 0.7202 - val_loss: 0.7185 - val_mae: 0.7185 - val_mse: 0.8252\n",
            "Epoch 491/500\n",
            "21/21 [==============================] - 0s 3ms/step - loss: 0.6676 - mae: 0.6676 - mse: 0.7167 - val_loss: 0.7198 - val_mae: 0.7198 - val_mse: 0.8483\n",
            "Epoch 492/500\n",
            "21/21 [==============================] - 0s 2ms/step - loss: 0.6670 - mae: 0.6670 - mse: 0.7183 - val_loss: 0.7190 - val_mae: 0.7190 - val_mse: 0.8251\n",
            "Epoch 493/500\n",
            "21/21 [==============================] - 0s 2ms/step - loss: 0.6696 - mae: 0.6696 - mse: 0.7208 - val_loss: 0.7154 - val_mae: 0.7154 - val_mse: 0.8277\n",
            "Epoch 494/500\n",
            "21/21 [==============================] - 0s 3ms/step - loss: 0.6720 - mae: 0.6720 - mse: 0.7220 - val_loss: 0.7432 - val_mae: 0.7432 - val_mse: 0.8465\n",
            "Epoch 495/500\n",
            "21/21 [==============================] - 0s 2ms/step - loss: 0.6735 - mae: 0.6735 - mse: 0.7270 - val_loss: 0.7155 - val_mae: 0.7155 - val_mse: 0.8275\n",
            "Epoch 496/500\n",
            "21/21 [==============================] - 0s 2ms/step - loss: 0.6706 - mae: 0.6706 - mse: 0.7197 - val_loss: 0.7336 - val_mae: 0.7336 - val_mse: 0.8343\n",
            "Epoch 497/500\n",
            "21/21 [==============================] - 0s 3ms/step - loss: 0.6690 - mae: 0.6690 - mse: 0.7171 - val_loss: 0.7193 - val_mae: 0.7193 - val_mse: 0.8252\n",
            "Epoch 498/500\n",
            "21/21 [==============================] - 0s 2ms/step - loss: 0.6631 - mae: 0.6631 - mse: 0.7122 - val_loss: 0.7165 - val_mae: 0.7165 - val_mse: 0.8378\n",
            "Epoch 499/500\n",
            "21/21 [==============================] - 0s 3ms/step - loss: 0.6687 - mae: 0.6687 - mse: 0.7160 - val_loss: 0.7348 - val_mae: 0.7348 - val_mse: 0.8358\n",
            "Epoch 500/500\n",
            "21/21 [==============================] - 0s 2ms/step - loss: 0.6768 - mae: 0.6768 - mse: 0.7224 - val_loss: 0.7211 - val_mae: 0.7211 - val_mse: 0.8259\n"
          ],
          "name": "stdout"
        }
      ]
    },
    {
      "cell_type": "code",
      "metadata": {
        "colab": {
          "base_uri": "https://localhost:8080/"
        },
        "id": "xEsjIjI_Aeji",
        "outputId": "198652b4-26d7-42b7-9865-5560c7b1b477"
      },
      "source": [
        "model.summary()"
      ],
      "execution_count": null,
      "outputs": [
        {
          "output_type": "stream",
          "text": [
            "Model: \"sequential\"\n",
            "_________________________________________________________________\n",
            "Layer (type)                 Output Shape              Param #   \n",
            "=================================================================\n",
            "dense (Dense)                (None, 1)                 2         \n",
            "=================================================================\n",
            "Total params: 2\n",
            "Trainable params: 2\n",
            "Non-trainable params: 0\n",
            "_________________________________________________________________\n"
          ],
          "name": "stdout"
        }
      ]
    },
    {
      "cell_type": "code",
      "metadata": {
        "id": "-o4WM4EkAel8",
        "colab": {
          "base_uri": "https://localhost:8080/",
          "height": 1000
        },
        "outputId": "72714c02-789c-41ec-f77b-0996a66def1d"
      },
      "source": [
        "def curvePlots(tempString):\n",
        "  plt.plot(history.history[tempString])\n",
        "  plt.plot(history.history[f'val_{tempString}'])\n",
        "  plt.xlabel('NumEpochs')\n",
        "  plt.ylabel(tempString)\n",
        "  plt.legend([tempString, f'val_{tempString}'])\n",
        "  plt.show()\n",
        "\n",
        "\n",
        "curvePlots('mse')\n",
        "curvePlots('mae')\n",
        "curvePlots('loss')"
      ],
      "execution_count": null,
      "outputs": [
        {
          "output_type": "display_data",
          "data": {
            "image/png": "[encoded data removed]",
            "text/plain": [
              "<Figure size 576x396 with 1 Axes>"
            ]
          },
          "metadata": {
            "tags": []
          }
        },
        {
          "output_type": "display_data",
          "data": {
            "image/png": "[encoded data removed]",
            "text/plain": [
              "<Figure size 576x396 with 1 Axes>"
            ]
          },
          "metadata": {
            "tags": []
          }
        },
        {
          "output_type": "display_data",
          "data": {
            "image/png": "[encoded data removed]",
            "text/plain": [
              "<Figure size 576x396 with 1 Axes>"
            ]
          },
          "metadata": {
            "tags": []
          }
        }
      ]
    }
  ]
}