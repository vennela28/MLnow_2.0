{
  "nbformat": 4,
  "nbformat_minor": 0,
  "metadata": {
    "colab": {
      "name": "Univariate_Linear_Regression.ipynb",
      "provenance": [],
      "collapsed_sections": [],
      "authorship_tag": "ABX9TyN+I9aeUoNRon9Xe1mi6UOA",
      "include_colab_link": true
    },
    "kernelspec": {
      "name": "python3",
      "display_name": "Python 3"
    },
    "language_info": {
      "name": "python"
    }
  },
  "cells": [
    {
      "cell_type": "markdown",
      "metadata": {
        "id": "view-in-github",
        "colab_type": "text"
      },
      "source": [
        "<a href=\"https://colab.research.google.com/github/vennela28/MLnow_2.0/blob/main/Univariate_Linear_Regression.ipynb\" target=\"_parent\"><img src=\"https://colab.research.google.com/assets/colab-badge.svg\" alt=\"Open In Colab\"/></a>"
      ]
    },
    {
      "cell_type": "markdown",
      "metadata": {
        "id": "BCWUxt65l26J"
      },
      "source": [
        "**Date**: 7 June 2021\n",
        "\n",
        "**Topic**: Univariate Linear Regression\n",
        "\n",
        "**Author**: Vennela Sunnam\n",
        "\n",
        "[Assessment Repository](https://github.com/vennela28/MLnow_2.0)\n"
      ]
    },
    {
      "cell_type": "markdown",
      "metadata": {
        "id": "sLodGfMMp_nt"
      },
      "source": [
        "**Univariate analysis**\n",
        "\n",
        "Univariate analysis is the simplest type of analyzing data which considers only 1 feature in our dataset and classify the points with respect to the output of the dataset. \n",
        "\n",
        "\n"
      ]
    },
    {
      "cell_type": "markdown",
      "metadata": {
        "id": "YZ8EdoxZp2i7"
      },
      "source": [
        "***Linear Regression***\n",
        "\n",
        "Linear Regression is a regression algorithm which has a response variable belonging to real values. \n",
        "\n",
        "Linear Regression is all about finding the best hyperplane that best fits the given data.\n",
        "\n",
        "Given 'x' predict 'y'. \n"
      ]
    },
    {
      "cell_type": "markdown",
      "metadata": {
        "id": "vSMFoXDep_bQ"
      },
      "source": [
        "**Logistic Regression**\n",
        "\n",
        "Logistic Regression is a *classification* algorithm even if the name says \"regression\".\n",
        "\n",
        "Logistic Regression can perform only binary classification unlike KNN and Naive Bayes.\n",
        "\n",
        "***Logistic Regression is all about finding the best hyperplane to seperate the positive points from the negative points***. \n",
        "\n",
        "\n",
        "**Assumption**: \n",
        "\n",
        "The classes are almost/perfectly linearly separable.\n",
        "\n",
        "There are various ways to find the best plane:\n",
        "1. Geometry & Simple Algebra\n",
        "2. Probability: Gaussian Naive Bayes\n",
        "3. Loss minimization\n",
        "\n",
        "The hyperplane is ${\\pi}$ with normal w where the hyperplane is w* = argmax ($\\sum_{i=0}^n \\ y_iw^Tx_i$) where $y_i$ is the class of the point and $w^Tx_i$ is the distance between the point and the hyperplane.\n",
        "\n",
        "*Our objective is to find w that maximises sum of signed distances.*\n",
        "\n",
        "But maximizing the sum of signed distances is not outlier prone. We use *squashing*. Squashing is accomplished by using **sigmoid function** between [0, 1].\n",
        "\n",
        "Sigmoid function has a *probabilistic behavior* and has a tapering behavior when $w^Tx_i$ is **large** and linear behavior when $w^Tx_i$ is **small**.\n",
        "\n",
        "The optimal hyperplane using geometry is **w* = argmin ($\\sum_{i=1}^n \\ log(1 + \\exp(-y_iw^Tx_i)$)**.\n",
        "\n",
        "Probabilistic Method: **w* = argmin ($\\sum_{i=0}^n - y_i log P_i - (1 - y_i) log(1 - P_i)$)**.\n",
        "\n",
        "\n",
        "\n"
      ]
    },
    {
      "cell_type": "code",
      "metadata": {
        "id": "QaQSY6jHBcam",
        "colab": {
          "base_uri": "https://localhost:8080/"
        },
        "outputId": "5101d158-897e-4dd9-b6ad-165c52f859ef"
      },
      "source": [
        "from google.colab import drive\n",
        "drive.mount('/content/drive')"
      ],
      "execution_count": null,
      "outputs": [
        {
          "output_type": "stream",
          "text": [
            "Drive already mounted at /content/drive; to attempt to forcibly remount, call drive.mount(\"/content/drive\", force_remount=True).\n"
          ],
          "name": "stdout"
        }
      ]
    },
    {
      "cell_type": "code",
      "metadata": {
        "id": "K5wId4jPlwI5",
        "colab": {
          "base_uri": "https://localhost:8080/"
        },
        "outputId": "22152f53-9b4e-4acb-9045-4e09b0d2115a"
      },
      "source": [
        "cd '/content/drive/MyDrive/Univariate_Linear_Regression'"
      ],
      "execution_count": null,
      "outputs": [
        {
          "output_type": "stream",
          "text": [
            "/content/drive/MyDrive/Univariate_Linear_Regression\n"
          ],
          "name": "stdout"
        }
      ]
    },
    {
      "cell_type": "code",
      "metadata": {
        "colab": {
          "base_uri": "https://localhost:8080/"
        },
        "id": "lqXTNVlfbfkS",
        "outputId": "5a7cf77e-87f1-4fec-d9f3-f1b82ed0afc3"
      },
      "source": [
        "ls"
      ],
      "execution_count": null,
      "outputs": [
        {
          "output_type": "stream",
          "text": [
            " bank.csv                           rating.csv\n",
            "'bestsellers with categories.csv'   StudentsPerformance.csv\n",
            " Company.csv                        Tweet.csv\n",
            " Company_Tweet.csv                  Univariate_Linear_Regression.ipynb\n",
            " IMDB-Movie-Data.csv\n"
          ],
          "name": "stdout"
        }
      ]
    },
    {
      "cell_type": "code",
      "metadata": {
        "id": "ziiBSLmNbfmH"
      },
      "source": [
        "import pandas as pd #work with csv or excel files\n",
        "import numpy as np #work with numbers/ arrays/ tensors\n",
        "import tensorflow as tf #framework\n",
        "from tensorflow import keras #API / library \n",
        "import os #using os commands between the python language"
      ],
      "execution_count": null,
      "outputs": []
    },
    {
      "cell_type": "markdown",
      "metadata": {
        "id": "0R4TcumYyV3k"
      },
      "source": [
        "**Load the dataset into a pandas dataFrame**"
      ]
    },
    {
      "cell_type": "code",
      "metadata": {
        "id": "4-fSsNu_bfpR"
      },
      "source": [
        "movies = pd.read_csv('IMDB-Movie-Data.csv', sep = ',')"
      ],
      "execution_count": null,
      "outputs": []
    },
    {
      "cell_type": "markdown",
      "metadata": {
        "id": "c-cJCp2iyjCR"
      },
      "source": [
        "**Find out the total number of datapoints and features in the dataset**"
      ]
    },
    {
      "cell_type": "code",
      "metadata": {
        "colab": {
          "base_uri": "https://localhost:8080/"
        },
        "id": "oPTzrQBpmn7c",
        "outputId": "0ed3fc67-5f47-45bf-cde8-17d9a2fa6543"
      },
      "source": [
        "print(movies.shape)"
      ],
      "execution_count": null,
      "outputs": [
        {
          "output_type": "stream",
          "text": [
            "(1000, 12)\n"
          ],
          "name": "stdout"
        }
      ]
    },
    {
      "cell_type": "markdown",
      "metadata": {
        "id": "QHRG7URM0N-i"
      },
      "source": [
        "**Inspecting the dataset**"
      ]
    },
    {
      "cell_type": "markdown",
      "metadata": {
        "id": "lM5mEoLb1KVK"
      },
      "source": [
        "To find everything about the dataset you can use the info() method. This gives a detailed overview of the dataset with the total number of rows and columns, column names, index range, type of values in the columns and also specifies if any of the columns have null values."
      ]
    },
    {
      "cell_type": "code",
      "metadata": {
        "id": "gqLgyfMSUhNv",
        "colab": {
          "base_uri": "https://localhost:8080/"
        },
        "outputId": "87473854-5352-4673-9dab-70466c62d040"
      },
      "source": [
        "movies.info()"
      ],
      "execution_count": null,
      "outputs": [
        {
          "output_type": "stream",
          "text": [
            "<class 'pandas.core.frame.DataFrame'>\n",
            "RangeIndex: 1000 entries, 0 to 999\n",
            "Data columns (total 12 columns):\n",
            " #   Column              Non-Null Count  Dtype  \n",
            "---  ------              --------------  -----  \n",
            " 0   Rank                1000 non-null   int64  \n",
            " 1   Title               1000 non-null   object \n",
            " 2   Genre               1000 non-null   object \n",
            " 3   Description         1000 non-null   object \n",
            " 4   Director            1000 non-null   object \n",
            " 5   Actors              1000 non-null   object \n",
            " 6   Year                1000 non-null   int64  \n",
            " 7   Runtime (Minutes)   1000 non-null   int64  \n",
            " 8   Rating              1000 non-null   float64\n",
            " 9   Votes               1000 non-null   int64  \n",
            " 10  Revenue (Millions)  872 non-null    float64\n",
            " 11  Metascore           936 non-null    float64\n",
            "dtypes: float64(3), int64(4), object(5)\n",
            "memory usage: 93.9+ KB\n"
          ],
          "name": "stdout"
        }
      ]
    },
    {
      "cell_type": "code",
      "metadata": {
        "id": "FfhmUcSsUg8Z",
        "colab": {
          "base_uri": "https://localhost:8080/",
          "height": 297
        },
        "outputId": "509464a0-f9c9-44bd-f056-9fced156417b"
      },
      "source": [
        "movies.describe()"
      ],
      "execution_count": null,
      "outputs": [
        {
          "output_type": "execute_result",
          "data": {
            "text/html": [
              "<div>\n",
              "<style scoped>\n",
              "    .dataframe tbody tr th:only-of-type {\n",
              "        vertical-align: middle;\n",
              "    }\n",
              "\n",
              "    .dataframe tbody tr th {\n",
              "        vertical-align: top;\n",
              "    }\n",
              "\n",
              "    .dataframe thead th {\n",
              "        text-align: right;\n",
              "    }\n",
              "</style>\n",
              "<table border=\"1\" class=\"dataframe\">\n",
              "  <thead>\n",
              "    <tr style=\"text-align: right;\">\n",
              "      <th></th>\n",
              "      <th>Rank</th>\n",
              "      <th>Year</th>\n",
              "      <th>Runtime (Minutes)</th>\n",
              "      <th>Rating</th>\n",
              "      <th>Votes</th>\n",
              "      <th>Revenue (Millions)</th>\n",
              "      <th>Metascore</th>\n",
              "    </tr>\n",
              "  </thead>\n",
              "  <tbody>\n",
              "    <tr>\n",
              "      <th>count</th>\n",
              "      <td>1000.000000</td>\n",
              "      <td>1000.000000</td>\n",
              "      <td>1000.000000</td>\n",
              "      <td>1000.000000</td>\n",
              "      <td>1.000000e+03</td>\n",
              "      <td>872.000000</td>\n",
              "      <td>936.000000</td>\n",
              "    </tr>\n",
              "    <tr>\n",
              "      <th>mean</th>\n",
              "      <td>500.500000</td>\n",
              "      <td>2012.783000</td>\n",
              "      <td>113.172000</td>\n",
              "      <td>6.723200</td>\n",
              "      <td>1.698083e+05</td>\n",
              "      <td>82.956376</td>\n",
              "      <td>58.985043</td>\n",
              "    </tr>\n",
              "    <tr>\n",
              "      <th>std</th>\n",
              "      <td>288.819436</td>\n",
              "      <td>3.205962</td>\n",
              "      <td>18.810908</td>\n",
              "      <td>0.945429</td>\n",
              "      <td>1.887626e+05</td>\n",
              "      <td>103.253540</td>\n",
              "      <td>17.194757</td>\n",
              "    </tr>\n",
              "    <tr>\n",
              "      <th>min</th>\n",
              "      <td>1.000000</td>\n",
              "      <td>2006.000000</td>\n",
              "      <td>66.000000</td>\n",
              "      <td>1.900000</td>\n",
              "      <td>6.100000e+01</td>\n",
              "      <td>0.000000</td>\n",
              "      <td>11.000000</td>\n",
              "    </tr>\n",
              "    <tr>\n",
              "      <th>25%</th>\n",
              "      <td>250.750000</td>\n",
              "      <td>2010.000000</td>\n",
              "      <td>100.000000</td>\n",
              "      <td>6.200000</td>\n",
              "      <td>3.630900e+04</td>\n",
              "      <td>13.270000</td>\n",
              "      <td>47.000000</td>\n",
              "    </tr>\n",
              "    <tr>\n",
              "      <th>50%</th>\n",
              "      <td>500.500000</td>\n",
              "      <td>2014.000000</td>\n",
              "      <td>111.000000</td>\n",
              "      <td>6.800000</td>\n",
              "      <td>1.107990e+05</td>\n",
              "      <td>47.985000</td>\n",
              "      <td>59.500000</td>\n",
              "    </tr>\n",
              "    <tr>\n",
              "      <th>75%</th>\n",
              "      <td>750.250000</td>\n",
              "      <td>2016.000000</td>\n",
              "      <td>123.000000</td>\n",
              "      <td>7.400000</td>\n",
              "      <td>2.399098e+05</td>\n",
              "      <td>113.715000</td>\n",
              "      <td>72.000000</td>\n",
              "    </tr>\n",
              "    <tr>\n",
              "      <th>max</th>\n",
              "      <td>1000.000000</td>\n",
              "      <td>2016.000000</td>\n",
              "      <td>191.000000</td>\n",
              "      <td>9.000000</td>\n",
              "      <td>1.791916e+06</td>\n",
              "      <td>936.630000</td>\n",
              "      <td>100.000000</td>\n",
              "    </tr>\n",
              "  </tbody>\n",
              "</table>\n",
              "</div>"
            ],
            "text/plain": [
              "              Rank         Year  ...  Revenue (Millions)   Metascore\n",
              "count  1000.000000  1000.000000  ...          872.000000  936.000000\n",
              "mean    500.500000  2012.783000  ...           82.956376   58.985043\n",
              "std     288.819436     3.205962  ...          103.253540   17.194757\n",
              "min       1.000000  2006.000000  ...            0.000000   11.000000\n",
              "25%     250.750000  2010.000000  ...           13.270000   47.000000\n",
              "50%     500.500000  2014.000000  ...           47.985000   59.500000\n",
              "75%     750.250000  2016.000000  ...          113.715000   72.000000\n",
              "max    1000.000000  2016.000000  ...          936.630000  100.000000\n",
              "\n",
              "[8 rows x 7 columns]"
            ]
          },
          "metadata": {
            "tags": []
          },
          "execution_count": 29
        }
      ]
    },
    {
      "cell_type": "markdown",
      "metadata": {
        "id": "eFLowe-J04zX"
      },
      "source": [
        "**Rename the columns of the dataset**"
      ]
    },
    {
      "cell_type": "code",
      "metadata": {
        "id": "ZvyXbZnY03Or"
      },
      "source": [
        "movies = movies.rename(columns = {'Revenue (Millions)': 'Revenue', 'Runtime (Minutes)':'Duration'})"
      ],
      "execution_count": null,
      "outputs": []
    },
    {
      "cell_type": "markdown",
      "metadata": {
        "id": "dBPDKEA2xHhH"
      },
      "source": [
        "**Check for null values in the dataset**"
      ]
    },
    {
      "cell_type": "code",
      "metadata": {
        "colab": {
          "base_uri": "https://localhost:8080/"
        },
        "id": "VESU5JdLmwGq",
        "outputId": "b8cf68fc-190e-49cd-b03c-5cca8e2c263c"
      },
      "source": [
        "movies.isnull().values.any()"
      ],
      "execution_count": null,
      "outputs": [
        {
          "output_type": "execute_result",
          "data": {
            "text/plain": [
              "True"
            ]
          },
          "metadata": {
            "tags": []
          },
          "execution_count": 31
        }
      ]
    },
    {
      "cell_type": "markdown",
      "metadata": {
        "id": "eYs2iSB-xmGv"
      },
      "source": [
        "If the dataset has some columns having null values, then it returns True else returns False."
      ]
    },
    {
      "cell_type": "markdown",
      "metadata": {
        "id": "tAWc5hctCPMN"
      },
      "source": [
        "Since the dataset has empty values, use dropna() to delete those specific rows in the dataset."
      ]
    },
    {
      "cell_type": "code",
      "metadata": {
        "id": "hxE42Jw_B95c"
      },
      "source": [
        "movies = movies.dropna()"
      ],
      "execution_count": null,
      "outputs": []
    },
    {
      "cell_type": "markdown",
      "metadata": {
        "id": "hvKY7T-RCr8s"
      },
      "source": [
        "Check the total number of rows remaining in the dataset after deleting the rows with empty values."
      ]
    },
    {
      "cell_type": "code",
      "metadata": {
        "colab": {
          "base_uri": "https://localhost:8080/"
        },
        "id": "v52TuNYgCHsN",
        "outputId": "c306887e-8b6f-4f10-909d-defe54252845"
      },
      "source": [
        "movies.shape"
      ],
      "execution_count": null,
      "outputs": [
        {
          "output_type": "execute_result",
          "data": {
            "text/plain": [
              "(838, 12)"
            ]
          },
          "metadata": {
            "tags": []
          },
          "execution_count": 34
        }
      ]
    },
    {
      "cell_type": "code",
      "metadata": {
        "colab": {
          "base_uri": "https://localhost:8080/"
        },
        "id": "dpangJf_DGq1",
        "outputId": "b6c82da9-f307-4ff7-f508-71488bcffa62"
      },
      "source": [
        "movies.isnull().values.any()"
      ],
      "execution_count": null,
      "outputs": [
        {
          "output_type": "execute_result",
          "data": {
            "text/plain": [
              "False"
            ]
          },
          "metadata": {
            "tags": []
          },
          "execution_count": 35
        }
      ]
    },
    {
      "cell_type": "markdown",
      "metadata": {
        "id": "vaT2y6VSyD60"
      },
      "source": [
        "**Check for any duplicates in the dataset**"
      ]
    },
    {
      "cell_type": "code",
      "metadata": {
        "colab": {
          "base_uri": "https://localhost:8080/",
          "height": 49
        },
        "id": "EZTkhGS4ofN3",
        "outputId": "89063b09-dd4d-4eb6-8da2-fe50ef25715e"
      },
      "source": [
        "movies[movies.duplicated()]"
      ],
      "execution_count": null,
      "outputs": [
        {
          "output_type": "execute_result",
          "data": {
            "text/html": [
              "<div>\n",
              "<style scoped>\n",
              "    .dataframe tbody tr th:only-of-type {\n",
              "        vertical-align: middle;\n",
              "    }\n",
              "\n",
              "    .dataframe tbody tr th {\n",
              "        vertical-align: top;\n",
              "    }\n",
              "\n",
              "    .dataframe thead th {\n",
              "        text-align: right;\n",
              "    }\n",
              "</style>\n",
              "<table border=\"1\" class=\"dataframe\">\n",
              "  <thead>\n",
              "    <tr style=\"text-align: right;\">\n",
              "      <th></th>\n",
              "      <th>Rank</th>\n",
              "      <th>Title</th>\n",
              "      <th>Genre</th>\n",
              "      <th>Description</th>\n",
              "      <th>Director</th>\n",
              "      <th>Actors</th>\n",
              "      <th>Year</th>\n",
              "      <th>Duration</th>\n",
              "      <th>Rating</th>\n",
              "      <th>Votes</th>\n",
              "      <th>Revenue</th>\n",
              "      <th>Metascore</th>\n",
              "    </tr>\n",
              "  </thead>\n",
              "  <tbody>\n",
              "  </tbody>\n",
              "</table>\n",
              "</div>"
            ],
            "text/plain": [
              "Empty DataFrame\n",
              "Columns: [Rank, Title, Genre, Description, Director, Actors, Year, Duration, Rating, Votes, Revenue, Metascore]\n",
              "Index: []"
            ]
          },
          "metadata": {
            "tags": []
          },
          "execution_count": 39
        }
      ]
    },
    {
      "cell_type": "markdown",
      "metadata": {
        "id": "RM3KNAHkDqGt"
      },
      "source": [
        "Predict the `Rating` of the movie given generated `Revenue`."
      ]
    },
    {
      "cell_type": "markdown",
      "metadata": {
        "id": "rhnaweKHWMMc"
      },
      "source": [
        "We are just going to consider the columns `Rating` and `Revenue` to perform univariate linear regression.\n",
        "\n",
        "$Rating_i = Revenue_i⋅θ_1+θ_0$"
      ]
    },
    {
      "cell_type": "code",
      "metadata": {
        "colab": {
          "base_uri": "https://localhost:8080/",
          "height": 204
        },
        "id": "yfTGrvfMbfwH",
        "outputId": "d9cbd0b2-3a03-4395-fbf8-b7e4621d6de1"
      },
      "source": [
        "charts = movies[['Revenue', 'Rating']]\n",
        "charts.head()"
      ],
      "execution_count": null,
      "outputs": [
        {
          "output_type": "execute_result",
          "data": {
            "text/html": [
              "<div>\n",
              "<style scoped>\n",
              "    .dataframe tbody tr th:only-of-type {\n",
              "        vertical-align: middle;\n",
              "    }\n",
              "\n",
              "    .dataframe tbody tr th {\n",
              "        vertical-align: top;\n",
              "    }\n",
              "\n",
              "    .dataframe thead th {\n",
              "        text-align: right;\n",
              "    }\n",
              "</style>\n",
              "<table border=\"1\" class=\"dataframe\">\n",
              "  <thead>\n",
              "    <tr style=\"text-align: right;\">\n",
              "      <th></th>\n",
              "      <th>Revenue</th>\n",
              "      <th>Rating</th>\n",
              "    </tr>\n",
              "  </thead>\n",
              "  <tbody>\n",
              "    <tr>\n",
              "      <th>0</th>\n",
              "      <td>333.13</td>\n",
              "      <td>8.1</td>\n",
              "    </tr>\n",
              "    <tr>\n",
              "      <th>1</th>\n",
              "      <td>126.46</td>\n",
              "      <td>7.0</td>\n",
              "    </tr>\n",
              "    <tr>\n",
              "      <th>2</th>\n",
              "      <td>138.12</td>\n",
              "      <td>7.3</td>\n",
              "    </tr>\n",
              "    <tr>\n",
              "      <th>3</th>\n",
              "      <td>270.32</td>\n",
              "      <td>7.2</td>\n",
              "    </tr>\n",
              "    <tr>\n",
              "      <th>4</th>\n",
              "      <td>325.02</td>\n",
              "      <td>6.2</td>\n",
              "    </tr>\n",
              "  </tbody>\n",
              "</table>\n",
              "</div>"
            ],
            "text/plain": [
              "   Revenue  Rating\n",
              "0   333.13     8.1\n",
              "1   126.46     7.0\n",
              "2   138.12     7.3\n",
              "3   270.32     7.2\n",
              "4   325.02     6.2"
            ]
          },
          "metadata": {
            "tags": []
          },
          "execution_count": 40
        }
      ]
    },
    {
      "cell_type": "code",
      "metadata": {
        "id": "t6hXS0zEUhaQ"
      },
      "source": [
        "charts.to_csv('top_charts.csv')"
      ],
      "execution_count": null,
      "outputs": []
    },
    {
      "cell_type": "markdown",
      "metadata": {
        "id": "FRuAzHOHX15G"
      },
      "source": [
        "**Data Visualization**"
      ]
    },
    {
      "cell_type": "code",
      "metadata": {
        "id": "GfBpkxZKUhpO",
        "colab": {
          "base_uri": "https://localhost:8080/",
          "height": 153
        },
        "outputId": "aa57575b-68f3-4492-a249-3da8a654adf2"
      },
      "source": [
        "import seaborn as sns\n",
        "sns.palplot(sns.color_palette('BuPu')) #Blue to Purple colors\n",
        "pal = sns.color_palette('BuPu', 7) #print 7 color shades from Blue to Purple\n",
        "pal.as_hex() #set hex code values for colors\n",
        "\n",
        "import matplotlib.pyplot as plt\n",
        "plt.style.use(['seaborn'])\n",
        "sns_colors = ['#00008B', '#800080'] #Blue Purple hex codes\n",
        "sns.set_palette(sns_colors) #set the palette as sns_colors \n",
        "sns.palplot(sns.color_palette(sns_colors)) #plot the color codes"
      ],
      "execution_count": null,
      "outputs": [
        {
          "output_type": "display_data",
          "data": {
            "image/png": "[encoded data removed]",
            "text/plain": [
              "<Figure size 432x72 with 1 Axes>"
            ]
          },
          "metadata": {
            "tags": []
          }
        },
        {
          "output_type": "display_data",
          "data": {
            "image/png": "[encoded data removed]",
            "text/plain": [
              "<Figure size 144x72 with 1 Axes>"
            ]
          },
          "metadata": {
            "tags": []
          }
        }
      ]
    },
    {
      "cell_type": "code",
      "metadata": {
        "id": "-OJG2ZjOUiSx",
        "colab": {
          "base_uri": "https://localhost:8080/"
        },
        "outputId": "fda44426-017a-4c58-8582-01e02945d72b"
      },
      "source": [
        "charts.columns"
      ],
      "execution_count": null,
      "outputs": [
        {
          "output_type": "execute_result",
          "data": {
            "text/plain": [
              "Index(['Revenue', 'Rating'], dtype='object')"
            ]
          },
          "metadata": {
            "tags": []
          },
          "execution_count": 53
        }
      ]
    },
    {
      "cell_type": "markdown",
      "metadata": {
        "id": "vtn1SyDGGhM3"
      },
      "source": [
        "**Pairplots**"
      ]
    },
    {
      "cell_type": "code",
      "metadata": {
        "colab": {
          "base_uri": "https://localhost:8080/",
          "height": 391
        },
        "id": "BEMf_Ij-xVUx",
        "outputId": "8324057d-0384-441d-a3c1-9b24742559a4"
      },
      "source": [
        "#pairplot for all the values\n",
        "\n",
        "sns.pairplot(charts,\n",
        "             x_vars = ['Revenue', 'Rating'],\n",
        "             y_vars =  ['Revenue', 'Rating'],\n",
        "       diag_kind='kde'\n",
        "       )"
      ],
      "execution_count": null,
      "outputs": [
        {
          "output_type": "execute_result",
          "data": {
            "text/plain": [
              "<seaborn.axisgrid.PairGrid at 0x7f36e85e4e10>"
            ]
          },
          "metadata": {
            "tags": []
          },
          "execution_count": 54
        },
        {
          "output_type": "display_data",
          "data": {
            "image/png": "[encoded data removed]",
            "text/plain": [
              "<Figure size 360x360 with 6 Axes>"
            ]
          },
          "metadata": {
            "tags": []
          }
        }
      ]
    },
    {
      "cell_type": "markdown",
      "metadata": {
        "id": "bO1th1MSGZyK"
      },
      "source": [
        "**Box Plots**"
      ]
    },
    {
      "cell_type": "code",
      "metadata": {
        "colab": {
          "base_uri": "https://localhost:8080/",
          "height": 347
        },
        "id": "nmD3yASRBDAx",
        "outputId": "6cbb1811-147a-48a5-c185-5db99b3483c3"
      },
      "source": [
        "sns.boxplot(y=charts['Revenue'],palette='muted')"
      ],
      "execution_count": null,
      "outputs": [
        {
          "output_type": "execute_result",
          "data": {
            "text/plain": [
              "<matplotlib.axes._subplots.AxesSubplot at 0x7f36e873af90>"
            ]
          },
          "metadata": {
            "tags": []
          },
          "execution_count": 55
        },
        {
          "output_type": "display_data",
          "data": {
            "image/png": "[encoded data removed]",
            "text/plain": [
              "<Figure size 576x396 with 1 Axes>"
            ]
          },
          "metadata": {
            "tags": []
          }
        }
      ]
    },
    {
      "cell_type": "code",
      "metadata": {
        "id": "q-8ryuAeKxWH",
        "colab": {
          "base_uri": "https://localhost:8080/",
          "height": 347
        },
        "outputId": "85271016-26df-4d9c-cd8b-c207efd26816"
      },
      "source": [
        "sns.boxplot(y=charts['Rating'],palette='muted')"
      ],
      "execution_count": null,
      "outputs": [
        {
          "output_type": "execute_result",
          "data": {
            "text/plain": [
              "<matplotlib.axes._subplots.AxesSubplot at 0x7f36f48ff610>"
            ]
          },
          "metadata": {
            "tags": []
          },
          "execution_count": 56
        },
        {
          "output_type": "display_data",
          "data": {
            "image/png": "[encoded data removed]",
            "text/plain": [
              "<Figure size 576x396 with 1 Axes>"
            ]
          },
          "metadata": {
            "tags": []
          }
        }
      ]
    },
    {
      "cell_type": "markdown",
      "metadata": {
        "id": "9X1esjoAG3SP"
      },
      "source": [
        "**Scatter Plot**"
      ]
    },
    {
      "cell_type": "code",
      "metadata": {
        "colab": {
          "base_uri": "https://localhost:8080/",
          "height": 404
        },
        "id": "s-lh6XQEJoV-",
        "outputId": "6c5505f9-c504-4695-dc2b-d92b0e47125b"
      },
      "source": [
        "plt.grid(True)\n",
        "font = {'family': 'serif',\n",
        "        'color':  'darkred',\n",
        "        'weight': 'normal',\n",
        "        'size': 16,\n",
        "        }\n",
        "        \n",
        "plt.scatter(charts['Revenue'],charts['Rating'])\n",
        "plt.title('Revenue vs Rating',fontdict=font)\n",
        "plt.xlabel('Revenue',fontdict=font)\n",
        "plt.ylabel('Rating',fontdict=font)\n",
        "plt.figure(figsize=(40,40))\n",
        "plt.show()"
      ],
      "execution_count": null,
      "outputs": [
        {
          "output_type": "display_data",
          "data": {
            "image/png": "[encoded data removed]",
            "text/plain": [
              "<Figure size 576x396 with 1 Axes>"
            ]
          },
          "metadata": {
            "tags": []
          }
        },
        {
          "output_type": "display_data",
          "data": {
            "text/plain": [
              "<Figure size 2880x2880 with 0 Axes>"
            ]
          },
          "metadata": {
            "tags": []
          }
        }
      ]
    },
    {
      "cell_type": "markdown",
      "metadata": {
        "id": "KEyhK66TOVfw"
      },
      "source": [
        "**Violinplot**"
      ]
    },
    {
      "cell_type": "code",
      "metadata": {
        "id": "zX-sM7iVKxkg",
        "colab": {
          "base_uri": "https://localhost:8080/",
          "height": 378
        },
        "outputId": "21fa19c1-24f8-4b85-d354-e4c051ea01ea"
      },
      "source": [
        "sns.violinplot(x = charts['Revenue'])"
      ],
      "execution_count": null,
      "outputs": [
        {
          "output_type": "execute_result",
          "data": {
            "text/plain": [
              "<matplotlib.axes._subplots.AxesSubplot at 0x7f36fb43a090>"
            ]
          },
          "metadata": {
            "tags": []
          },
          "execution_count": 60
        },
        {
          "output_type": "display_data",
          "data": {
            "image/png": "[encoded data removed]",
            "text/plain": [
              "<Figure size 576x396 with 1 Axes>"
            ]
          },
          "metadata": {
            "tags": []
          }
        }
      ]
    },
    {
      "cell_type": "code",
      "metadata": {
        "id": "C-CZxH1mKxwp",
        "colab": {
          "base_uri": "https://localhost:8080/",
          "height": 347
        },
        "outputId": "f75947df-ded0-46ed-fe32-15e9c0b230a8"
      },
      "source": [
        "sns.violinplot(y = charts['Rating'])"
      ],
      "execution_count": null,
      "outputs": [
        {
          "output_type": "execute_result",
          "data": {
            "text/plain": [
              "<matplotlib.axes._subplots.AxesSubplot at 0x7f36e83f3150>"
            ]
          },
          "metadata": {
            "tags": []
          },
          "execution_count": 61
        },
        {
          "output_type": "display_data",
          "data": {
            "image/png": "[encoded data removed]",
            "text/plain": [
              "<Figure size 576x396 with 1 Axes>"
            ]
          },
          "metadata": {
            "tags": []
          }
        }
      ]
    },
    {
      "cell_type": "markdown",
      "metadata": {
        "id": "uvntw3M6OPqi"
      },
      "source": [
        "**Correlation**"
      ]
    },
    {
      "cell_type": "code",
      "metadata": {
        "colab": {
          "base_uri": "https://localhost:8080/",
          "height": 111
        },
        "id": "BmVPk3KGNiYP",
        "outputId": "c56364f4-9f78-43e1-e478-b8f6c8ff86ba"
      },
      "source": [
        "charts.corr() "
      ],
      "execution_count": null,
      "outputs": [
        {
          "output_type": "execute_result",
          "data": {
            "text/html": [
              "<div>\n",
              "<style scoped>\n",
              "    .dataframe tbody tr th:only-of-type {\n",
              "        vertical-align: middle;\n",
              "    }\n",
              "\n",
              "    .dataframe tbody tr th {\n",
              "        vertical-align: top;\n",
              "    }\n",
              "\n",
              "    .dataframe thead th {\n",
              "        text-align: right;\n",
              "    }\n",
              "</style>\n",
              "<table border=\"1\" class=\"dataframe\">\n",
              "  <thead>\n",
              "    <tr style=\"text-align: right;\">\n",
              "      <th></th>\n",
              "      <th>Revenue</th>\n",
              "      <th>Rating</th>\n",
              "    </tr>\n",
              "  </thead>\n",
              "  <tbody>\n",
              "    <tr>\n",
              "      <th>Revenue</th>\n",
              "      <td>1.000000</td>\n",
              "      <td>0.217106</td>\n",
              "    </tr>\n",
              "    <tr>\n",
              "      <th>Rating</th>\n",
              "      <td>0.217106</td>\n",
              "      <td>1.000000</td>\n",
              "    </tr>\n",
              "  </tbody>\n",
              "</table>\n",
              "</div>"
            ],
            "text/plain": [
              "          Revenue    Rating\n",
              "Revenue  1.000000  0.217106\n",
              "Rating   0.217106  1.000000"
            ]
          },
          "metadata": {
            "tags": []
          },
          "execution_count": 62
        }
      ]
    },
    {
      "cell_type": "markdown",
      "metadata": {
        "id": "6hGdlpOAOMQN"
      },
      "source": [
        "**Heatmap**"
      ]
    },
    {
      "cell_type": "code",
      "metadata": {
        "colab": {
          "base_uri": "https://localhost:8080/",
          "height": 368
        },
        "id": "sy41SYXGNmR9",
        "outputId": "87700642-a5e0-4bbf-b39c-fde6b8e71f01"
      },
      "source": [
        "sns.heatmap(charts.corr(),annot=True,cmap=\"BuPu\")"
      ],
      "execution_count": null,
      "outputs": [
        {
          "output_type": "execute_result",
          "data": {
            "text/plain": [
              "<matplotlib.axes._subplots.AxesSubplot at 0x7f36e4fd68d0>"
            ]
          },
          "metadata": {
            "tags": []
          },
          "execution_count": 63
        },
        {
          "output_type": "display_data",
          "data": {
            "image/png": "[encoded data removed]",
            "text/plain": [
              "<Figure size 576x396 with 2 Axes>"
            ]
          },
          "metadata": {
            "tags": []
          }
        }
      ]
    },
    {
      "cell_type": "markdown",
      "metadata": {
        "id": "lbOL_yweN8og"
      },
      "source": [
        "There exists a positive correlation between the variables `Rating` and `Revenue`"
      ]
    },
    {
      "cell_type": "markdown",
      "metadata": {
        "id": "wmmv06xCXyIJ"
      },
      "source": [
        "**Stripplot**"
      ]
    },
    {
      "cell_type": "code",
      "metadata": {
        "colab": {
          "base_uri": "https://localhost:8080/",
          "height": 378
        },
        "id": "u76jfigTXCb7",
        "outputId": "46713aff-09b4-42a5-98b2-238942df3e05"
      },
      "source": [
        "sns.stripplot(x = 'Revenue', y = 'Rating', data = charts)"
      ],
      "execution_count": null,
      "outputs": [
        {
          "output_type": "execute_result",
          "data": {
            "text/plain": [
              "<matplotlib.axes._subplots.AxesSubplot at 0x7f36fb452110>"
            ]
          },
          "metadata": {
            "tags": []
          },
          "execution_count": 83
        },
        {
          "output_type": "display_data",
          "data": {
            "image/png": "[encoded data removed]",
            "text/plain": [
              "<Figure size 576x396 with 1 Axes>"
            ]
          },
          "metadata": {
            "tags": []
          }
        }
      ]
    },
    {
      "cell_type": "code",
      "metadata": {
        "id": "994QJoUsxVZb",
        "colab": {
          "base_uri": "https://localhost:8080/"
        },
        "outputId": "39e71b8a-6720-4edf-b3a9-c014a7015ce2"
      },
      "source": [
        "#80-20 train-test percent split\n",
        "\n",
        "trainDataset = charts.sample(frac=0.8, random_state=0) \n",
        "testDataset = charts.drop(trainDataset.index)\n",
        "\n",
        "print(trainDataset.head())\n",
        "print(testDataset.head())"
      ],
      "execution_count": null,
      "outputs": [
        {
          "output_type": "stream",
          "text": [
            "     Revenue  Rating\n",
            "423   106.37     6.2\n",
            "164   167.01     8.0\n",
            "743   171.03     7.6\n",
            "259     2.27     7.1\n",
            "781    12.28     6.5\n",
            "    Revenue  Rating\n",
            "10   234.02     7.5\n",
            "12   532.17     7.9\n",
            "20     7.22     6.7\n",
            "28   113.08     6.2\n",
            "33   363.02     8.0\n"
          ],
          "name": "stdout"
        }
      ]
    },
    {
      "cell_type": "code",
      "metadata": {
        "id": "Ty5dOybkxVcQ",
        "colab": {
          "base_uri": "https://localhost:8080/"
        },
        "outputId": "07dc078b-af43-49b7-e36a-bcd740183f9d"
      },
      "source": [
        "print(trainDataset.shape)\n",
        "print(testDataset.shape)"
      ],
      "execution_count": null,
      "outputs": [
        {
          "output_type": "stream",
          "text": [
            "(670, 2)\n",
            "(168, 2)\n"
          ],
          "name": "stdout"
        }
      ]
    },
    {
      "cell_type": "code",
      "metadata": {
        "colab": {
          "base_uri": "https://localhost:8080/"
        },
        "id": "3OECjHLvxF1o",
        "outputId": "1f96c2a9-8d79-4a41-efd0-22601f9e5160"
      },
      "source": [
        "#copy the trainDataset dataframe for getting the features\n",
        "\n",
        "trainFeatures = trainDataset.copy()\n",
        "testFeatures = testDataset.copy()\n",
        "\n",
        "print(trainFeatures.head())\n",
        "print(testFeatures.head())"
      ],
      "execution_count": null,
      "outputs": [
        {
          "output_type": "stream",
          "text": [
            "     Revenue  Rating\n",
            "423   106.37     6.2\n",
            "164   167.01     8.0\n",
            "743   171.03     7.6\n",
            "259     2.27     7.1\n",
            "781    12.28     6.5\n",
            "    Revenue  Rating\n",
            "10   234.02     7.5\n",
            "12   532.17     7.9\n",
            "20     7.22     6.7\n",
            "28   113.08     6.2\n",
            "33   363.02     8.0\n"
          ],
          "name": "stdout"
        }
      ]
    },
    {
      "cell_type": "code",
      "metadata": {
        "id": "Dl3kshCnxVoE",
        "colab": {
          "base_uri": "https://localhost:8080/"
        },
        "outputId": "bff590de-d2d9-4fdb-ed14-e9f11e4128f3"
      },
      "source": [
        "#removing the 'Rating' column and saving it into the labels variable\n",
        "\n",
        "trainLabels = trainFeatures.pop('Rating')\n",
        "testLabels = testFeatures.pop('Rating')\n",
        "\n",
        "print(trainLabels.head())\n",
        "print(testLabels.head())"
      ],
      "execution_count": null,
      "outputs": [
        {
          "output_type": "stream",
          "text": [
            "423    6.2\n",
            "164    8.0\n",
            "743    7.6\n",
            "259    7.1\n",
            "781    6.5\n",
            "Name: Rating, dtype: float64\n",
            "10    7.5\n",
            "12    7.9\n",
            "20    6.7\n",
            "28    6.2\n",
            "33    8.0\n",
            "Name: Rating, dtype: float64\n"
          ],
          "name": "stdout"
        }
      ]
    },
    {
      "cell_type": "code",
      "metadata": {
        "id": "pGtTtLYKxVp2",
        "colab": {
          "base_uri": "https://localhost:8080/"
        },
        "outputId": "dd67fac0-1fb1-4faf-ab45-9f8a91603d3a"
      },
      "source": [
        "print(trainFeatures.head())\n",
        "print(testFeatures.head())"
      ],
      "execution_count": null,
      "outputs": [
        {
          "output_type": "stream",
          "text": [
            "     Revenue\n",
            "423   106.37\n",
            "164   167.01\n",
            "743   171.03\n",
            "259     2.27\n",
            "781    12.28\n",
            "    Revenue\n",
            "10   234.02\n",
            "12   532.17\n",
            "20     7.22\n",
            "28   113.08\n",
            "33   363.02\n"
          ],
          "name": "stdout"
        }
      ]
    },
    {
      "cell_type": "code",
      "metadata": {
        "id": "jZYZvfxpAebY"
      },
      "source": [
        "# univariate -> num(features) = 1\n",
        "\n",
        "model = tf.keras.Sequential([\n",
        "                             tf.keras.layers.Dense(1)\n",
        "])"
      ],
      "execution_count": null,
      "outputs": []
    },
    {
      "cell_type": "code",
      "metadata": {
        "id": "eYkmi5MjAed6"
      },
      "source": [
        "model.compile(\n",
        "    loss = 'mean_absolute_error', #minimizing the MAE loss\n",
        "    optimizer = tf.keras.optimizers.Adam(0.001), #learning rate specified as 0.001\n",
        "    # optimizer = 'adam', #takes the default learning rate\n",
        "    metrics = ['mae', 'mse'] #meanSquare and meanAbsolute error metrics\n",
        ")"
      ],
      "execution_count": null,
      "outputs": []
    },
    {
      "cell_type": "code",
      "metadata": {
        "colab": {
          "base_uri": "https://localhost:8080/"
        },
        "id": "gy6-rnJIAegU",
        "outputId": "726d7e10-9334-4531-c638-8b607b9b235f"
      },
      "source": [
        "numEpochs = 500\n",
        "history = model.fit(x = trainFeatures, y = trainLabels, validation_data = (testFeatures, testLabels), epochs = numEpochs)"
      ],
      "execution_count": null,
      "outputs": [
        {
          "output_type": "stream",
          "text": [
            "Epoch 1/500\n",
            "21/21 [==============================] - 1s 9ms/step - loss: 45.5646 - mae: 45.5646 - mse: 5565.5762 - val_loss: 46.4314 - val_mae: 46.4314 - val_mse: 6434.8481\n",
            "Epoch 2/500\n",
            "21/21 [==============================] - 0s 2ms/step - loss: 43.8781 - mae: 43.8781 - mse: 5164.4414 - val_loss: 44.6984 - val_mae: 44.6984 - val_mse: 5971.5571\n",
            "Epoch 3/500\n",
            "21/21 [==============================] - 0s 2ms/step - loss: 42.1541 - mae: 42.1541 - mse: 4772.7764 - val_loss: 42.9880 - val_mae: 42.9880 - val_mse: 5530.5005\n",
            "Epoch 4/500\n",
            "21/21 [==============================] - 0s 2ms/step - loss: 40.4765 - mae: 40.4765 - mse: 4417.7822 - val_loss: 41.2399 - val_mae: 41.2399 - val_mse: 5097.3198\n",
            "Epoch 5/500\n",
            "21/21 [==============================] - 0s 3ms/step - loss: 38.7678 - mae: 38.7678 - mse: 4066.4221 - val_loss: 39.5201 - val_mae: 39.5201 - val_mse: 4687.9248\n",
            "Epoch 6/500\n",
            "21/21 [==============================] - 0s 2ms/step - loss: 37.0864 - mae: 37.0864 - mse: 3732.7903 - val_loss: 37.8107 - val_mae: 37.8107 - val_mse: 4296.6221\n",
            "Epoch 7/500\n",
            "21/21 [==============================] - 0s 2ms/step - loss: 35.4071 - mae: 35.4071 - mse: 3406.1492 - val_loss: 36.1006 - val_mae: 36.1006 - val_mse: 3921.3269\n",
            "Epoch 8/500\n",
            "21/21 [==============================] - 0s 2ms/step - loss: 33.7221 - mae: 33.7221 - mse: 3095.0544 - val_loss: 34.4130 - val_mae: 34.4130 - val_mse: 3567.2771\n",
            "Epoch 9/500\n",
            "21/21 [==============================] - 0s 2ms/step - loss: 32.0820 - mae: 32.0820 - mse: 2814.7000 - val_loss: 32.6807 - val_mae: 32.6807 - val_mse: 3221.4370\n",
            "Epoch 10/500\n",
            "21/21 [==============================] - 0s 2ms/step - loss: 30.4051 - mae: 30.4051 - mse: 2539.6541 - val_loss: 30.9845 - val_mae: 30.9845 - val_mse: 2900.0513\n",
            "Epoch 11/500\n",
            "21/21 [==============================] - 0s 2ms/step - loss: 28.7367 - mae: 28.7367 - mse: 2268.8098 - val_loss: 29.3191 - val_mae: 29.3191 - val_mse: 2601.0994\n",
            "Epoch 12/500\n",
            "21/21 [==============================] - 0s 3ms/step - loss: 27.1003 - mae: 27.1003 - mse: 2019.7349 - val_loss: 27.6333 - val_mae: 27.6333 - val_mse: 2315.2532\n",
            "Epoch 13/500\n",
            "21/21 [==============================] - 0s 3ms/step - loss: 25.4781 - mae: 25.4781 - mse: 1798.6942 - val_loss: 25.9172 - val_mae: 25.9172 - val_mse: 2040.9865\n",
            "Epoch 14/500\n",
            "21/21 [==============================] - 0s 2ms/step - loss: 23.8311 - mae: 23.8311 - mse: 1575.5608 - val_loss: 24.2364 - val_mae: 24.2364 - val_mse: 1788.5123\n",
            "Epoch 15/500\n",
            "21/21 [==============================] - 0s 2ms/step - loss: 22.2126 - mae: 22.2126 - mse: 1376.7574 - val_loss: 22.5597 - val_mae: 22.5597 - val_mse: 1553.5398\n",
            "Epoch 16/500\n",
            "21/21 [==============================] - 0s 3ms/step - loss: 20.6090 - mae: 20.6090 - mse: 1183.7842 - val_loss: 20.8970 - val_mae: 20.8970 - val_mse: 1336.7867\n",
            "Epoch 17/500\n",
            "21/21 [==============================] - 0s 2ms/step - loss: 19.0128 - mae: 19.0128 - mse: 1007.6227 - val_loss: 19.2885 - val_mae: 19.2885 - val_mse: 1142.1412\n",
            "Epoch 18/500\n",
            "21/21 [==============================] - 0s 2ms/step - loss: 17.4765 - mae: 17.4765 - mse: 854.0450 - val_loss: 17.6754 - val_mae: 17.6754 - val_mse: 960.3205\n",
            "Epoch 19/500\n",
            "21/21 [==============================] - 0s 2ms/step - loss: 15.9548 - mae: 15.9548 - mse: 714.1377 - val_loss: 16.0806 - val_mae: 16.0806 - val_mse: 795.0239\n",
            "Epoch 20/500\n",
            "21/21 [==============================] - 0s 3ms/step - loss: 14.4598 - mae: 14.4598 - mse: 583.5484 - val_loss: 14.5620 - val_mae: 14.5620 - val_mse: 651.2954\n",
            "Epoch 21/500\n",
            "21/21 [==============================] - 0s 3ms/step - loss: 13.0490 - mae: 13.0490 - mse: 473.7390 - val_loss: 13.0587 - val_mae: 13.0587 - val_mse: 521.3046\n",
            "Epoch 22/500\n",
            "21/21 [==============================] - 0s 3ms/step - loss: 11.6610 - mae: 11.6610 - mse: 373.5999 - val_loss: 11.6705 - val_mae: 11.6705 - val_mse: 411.2979\n",
            "Epoch 23/500\n",
            "21/21 [==============================] - 0s 2ms/step - loss: 10.3939 - mae: 10.3939 - mse: 287.9313 - val_loss: 10.3480 - val_mae: 10.3480 - val_mse: 314.9928\n",
            "Epoch 24/500\n",
            "21/21 [==============================] - 0s 2ms/step - loss: 9.1810 - mae: 9.1810 - mse: 218.4502 - val_loss: 9.1852 - val_mae: 9.1852 - val_mse: 237.1631\n",
            "Epoch 25/500\n",
            "21/21 [==============================] - 0s 2ms/step - loss: 8.1064 - mae: 8.1064 - mse: 162.3525 - val_loss: 8.0894 - val_mae: 8.0894 - val_mse: 173.4066\n",
            "Epoch 26/500\n",
            "21/21 [==============================] - 0s 2ms/step - loss: 7.1539 - mae: 7.1539 - mse: 118.1428 - val_loss: 7.1453 - val_mae: 7.1453 - val_mse: 125.3754\n",
            "Epoch 27/500\n",
            "21/21 [==============================] - 0s 2ms/step - loss: 6.3873 - mae: 6.3873 - mse: 85.9088 - val_loss: 6.3579 - val_mae: 6.3579 - val_mse: 89.6641\n",
            "Epoch 28/500\n",
            "21/21 [==============================] - 0s 2ms/step - loss: 5.7758 - mae: 5.7758 - mse: 62.2437 - val_loss: 5.8052 - val_mae: 5.8052 - val_mse: 66.6049\n",
            "Epoch 29/500\n",
            "21/21 [==============================] - 0s 2ms/step - loss: 5.3615 - mae: 5.3615 - mse: 47.3631 - val_loss: 5.4288 - val_mae: 5.4288 - val_mse: 52.0685\n",
            "Epoch 30/500\n",
            "21/21 [==============================] - 0s 2ms/step - loss: 5.0959 - mae: 5.0959 - mse: 39.5841 - val_loss: 5.1808 - val_mae: 5.1808 - val_mse: 43.4348\n",
            "Epoch 31/500\n",
            "21/21 [==============================] - 0s 2ms/step - loss: 4.9524 - mae: 4.9524 - mse: 34.3895 - val_loss: 5.0346 - val_mae: 5.0346 - val_mse: 38.4778\n",
            "Epoch 32/500\n",
            "21/21 [==============================] - 0s 3ms/step - loss: 4.8830 - mae: 4.8830 - mse: 32.0415 - val_loss: 4.9752 - val_mae: 4.9752 - val_mse: 36.2592\n",
            "Epoch 33/500\n",
            "21/21 [==============================] - 0s 3ms/step - loss: 4.8458 - mae: 4.8458 - mse: 30.6274 - val_loss: 4.9246 - val_mae: 4.9246 - val_mse: 34.4149\n",
            "Epoch 34/500\n",
            "21/21 [==============================] - 0s 2ms/step - loss: 4.8165 - mae: 4.8165 - mse: 29.9437 - val_loss: 4.8959 - val_mae: 4.8959 - val_mse: 33.7844\n",
            "Epoch 35/500\n",
            "21/21 [==============================] - 0s 3ms/step - loss: 4.7951 - mae: 4.7951 - mse: 29.5003 - val_loss: 4.8674 - val_mae: 4.8674 - val_mse: 33.1646\n",
            "Epoch 36/500\n",
            "21/21 [==============================] - 0s 3ms/step - loss: 4.7719 - mae: 4.7719 - mse: 29.1057 - val_loss: 4.8412 - val_mae: 4.8412 - val_mse: 32.6479\n",
            "Epoch 37/500\n",
            "21/21 [==============================] - 0s 2ms/step - loss: 4.7539 - mae: 4.7539 - mse: 28.7136 - val_loss: 4.8157 - val_mae: 4.8157 - val_mse: 32.1684\n",
            "Epoch 38/500\n",
            "21/21 [==============================] - 0s 2ms/step - loss: 4.7325 - mae: 4.7325 - mse: 28.6655 - val_loss: 4.8049 - val_mae: 4.8049 - val_mse: 32.3704\n",
            "Epoch 39/500\n",
            "21/21 [==============================] - 0s 3ms/step - loss: 4.7145 - mae: 4.7145 - mse: 28.3072 - val_loss: 4.7760 - val_mae: 4.7760 - val_mse: 31.6941\n",
            "Epoch 40/500\n",
            "21/21 [==============================] - 0s 2ms/step - loss: 4.6926 - mae: 4.6926 - mse: 28.0413 - val_loss: 4.7553 - val_mae: 4.7553 - val_mse: 31.4126\n",
            "Epoch 41/500\n",
            "21/21 [==============================] - 0s 2ms/step - loss: 4.6721 - mae: 4.6721 - mse: 27.8418 - val_loss: 4.7416 - val_mae: 4.7416 - val_mse: 31.4356\n",
            "Epoch 42/500\n",
            "21/21 [==============================] - 0s 2ms/step - loss: 4.6540 - mae: 4.6540 - mse: 27.8093 - val_loss: 4.7248 - val_mae: 4.7248 - val_mse: 31.3049\n",
            "Epoch 43/500\n",
            "21/21 [==============================] - 0s 2ms/step - loss: 4.6383 - mae: 4.6383 - mse: 27.6065 - val_loss: 4.7087 - val_mae: 4.7087 - val_mse: 31.1902\n",
            "Epoch 44/500\n",
            "21/21 [==============================] - 0s 3ms/step - loss: 4.6211 - mae: 4.6211 - mse: 27.2202 - val_loss: 4.6785 - val_mae: 4.6785 - val_mse: 30.4463\n",
            "Epoch 45/500\n",
            "21/21 [==============================] - 0s 2ms/step - loss: 4.5983 - mae: 4.5983 - mse: 27.0297 - val_loss: 4.6600 - val_mae: 4.6600 - val_mse: 30.2275\n",
            "Epoch 46/500\n",
            "21/21 [==============================] - 0s 3ms/step - loss: 4.5815 - mae: 4.5815 - mse: 26.6546 - val_loss: 4.6368 - val_mae: 4.6368 - val_mse: 29.7851\n",
            "Epoch 47/500\n",
            "21/21 [==============================] - 0s 3ms/step - loss: 4.5655 - mae: 4.5655 - mse: 26.6885 - val_loss: 4.6278 - val_mae: 4.6278 - val_mse: 29.9556\n",
            "Epoch 48/500\n",
            "21/21 [==============================] - 0s 3ms/step - loss: 4.5446 - mae: 4.5446 - mse: 26.3905 - val_loss: 4.6062 - val_mae: 4.6062 - val_mse: 29.5805\n",
            "Epoch 49/500\n",
            "21/21 [==============================] - 0s 3ms/step - loss: 4.5257 - mae: 4.5257 - mse: 26.1973 - val_loss: 4.5870 - val_mae: 4.5870 - val_mse: 29.3057\n",
            "Epoch 50/500\n",
            "21/21 [==============================] - 0s 3ms/step - loss: 4.5120 - mae: 4.5120 - mse: 25.8867 - val_loss: 4.5593 - val_mae: 4.5593 - val_mse: 28.6849\n",
            "Epoch 51/500\n",
            "21/21 [==============================] - 0s 2ms/step - loss: 4.4999 - mae: 4.4999 - mse: 26.0118 - val_loss: 4.5628 - val_mae: 4.5628 - val_mse: 29.3231\n",
            "Epoch 52/500\n",
            "21/21 [==============================] - 0s 2ms/step - loss: 4.4737 - mae: 4.4737 - mse: 25.5426 - val_loss: 4.5308 - val_mae: 4.5308 - val_mse: 28.5215\n",
            "Epoch 53/500\n",
            "21/21 [==============================] - 0s 2ms/step - loss: 4.4571 - mae: 4.4571 - mse: 25.2806 - val_loss: 4.5085 - val_mae: 4.5085 - val_mse: 28.1278\n",
            "Epoch 54/500\n",
            "21/21 [==============================] - 0s 2ms/step - loss: 4.4416 - mae: 4.4416 - mse: 25.2377 - val_loss: 4.5012 - val_mae: 4.5012 - val_mse: 28.2958\n",
            "Epoch 55/500\n",
            "21/21 [==============================] - 0s 2ms/step - loss: 4.4262 - mae: 4.4262 - mse: 24.9740 - val_loss: 4.4726 - val_mae: 4.4726 - val_mse: 27.6560\n",
            "Epoch 56/500\n",
            "21/21 [==============================] - 0s 3ms/step - loss: 4.4057 - mae: 4.4057 - mse: 24.7949 - val_loss: 4.4689 - val_mae: 4.4689 - val_mse: 27.9552\n",
            "Epoch 57/500\n",
            "21/21 [==============================] - 0s 2ms/step - loss: 4.3916 - mae: 4.3916 - mse: 24.7631 - val_loss: 4.4583 - val_mae: 4.4583 - val_mse: 28.0117\n",
            "Epoch 58/500\n",
            "21/21 [==============================] - 0s 2ms/step - loss: 4.3748 - mae: 4.3748 - mse: 24.4595 - val_loss: 4.4271 - val_mae: 4.4271 - val_mse: 27.2471\n",
            "Epoch 59/500\n",
            "21/21 [==============================] - 0s 3ms/step - loss: 4.3570 - mae: 4.3570 - mse: 24.2413 - val_loss: 4.4136 - val_mae: 4.4136 - val_mse: 27.1655\n",
            "Epoch 60/500\n",
            "21/21 [==============================] - 0s 2ms/step - loss: 4.3437 - mae: 4.3437 - mse: 24.0440 - val_loss: 4.3918 - val_mae: 4.3918 - val_mse: 26.7820\n",
            "Epoch 61/500\n",
            "21/21 [==============================] - 0s 3ms/step - loss: 4.3279 - mae: 4.3279 - mse: 24.0684 - val_loss: 4.3846 - val_mae: 4.3846 - val_mse: 26.9454\n",
            "Epoch 62/500\n",
            "21/21 [==============================] - 0s 3ms/step - loss: 4.3102 - mae: 4.3102 - mse: 23.6520 - val_loss: 4.3544 - val_mae: 4.3544 - val_mse: 26.2429\n",
            "Epoch 63/500\n",
            "21/21 [==============================] - 0s 3ms/step - loss: 4.2912 - mae: 4.2912 - mse: 23.4504 - val_loss: 4.3502 - val_mae: 4.3502 - val_mse: 26.5019\n",
            "Epoch 64/500\n",
            "21/21 [==============================] - 0s 2ms/step - loss: 4.2756 - mae: 4.2756 - mse: 23.5305 - val_loss: 4.3340 - val_mae: 4.3340 - val_mse: 26.3145\n",
            "Epoch 65/500\n",
            "21/21 [==============================] - 0s 3ms/step - loss: 4.2613 - mae: 4.2613 - mse: 23.1961 - val_loss: 4.3150 - val_mae: 4.3150 - val_mse: 26.0279\n",
            "Epoch 66/500\n",
            "21/21 [==============================] - 0s 2ms/step - loss: 4.2428 - mae: 4.2428 - mse: 23.0476 - val_loss: 4.2945 - val_mae: 4.2945 - val_mse: 25.6847\n",
            "Epoch 67/500\n",
            "21/21 [==============================] - 0s 3ms/step - loss: 4.2316 - mae: 4.2316 - mse: 23.0620 - val_loss: 4.2809 - val_mae: 4.2809 - val_mse: 25.5929\n",
            "Epoch 68/500\n",
            "21/21 [==============================] - 0s 2ms/step - loss: 4.2157 - mae: 4.2157 - mse: 22.6698 - val_loss: 4.2662 - val_mae: 4.2662 - val_mse: 25.4601\n",
            "Epoch 69/500\n",
            "21/21 [==============================] - 0s 3ms/step - loss: 4.1960 - mae: 4.1960 - mse: 22.6094 - val_loss: 4.2446 - val_mae: 4.2446 - val_mse: 25.0798\n",
            "Epoch 70/500\n",
            "21/21 [==============================] - 0s 2ms/step - loss: 4.1804 - mae: 4.1804 - mse: 22.3484 - val_loss: 4.2331 - val_mae: 4.2331 - val_mse: 25.0621\n",
            "Epoch 71/500\n",
            "21/21 [==============================] - 0s 2ms/step - loss: 4.1670 - mae: 4.1670 - mse: 22.3514 - val_loss: 4.2130 - val_mae: 4.2130 - val_mse: 24.7310\n",
            "Epoch 72/500\n",
            "21/21 [==============================] - 0s 3ms/step - loss: 4.1571 - mae: 4.1571 - mse: 21.8490 - val_loss: 4.1832 - val_mae: 4.1832 - val_mse: 24.0527\n",
            "Epoch 73/500\n",
            "21/21 [==============================] - 0s 3ms/step - loss: 4.1356 - mae: 4.1356 - mse: 21.9850 - val_loss: 4.1938 - val_mae: 4.1938 - val_mse: 24.8280\n",
            "Epoch 74/500\n",
            "21/21 [==============================] - 0s 2ms/step - loss: 4.1174 - mae: 4.1174 - mse: 21.9250 - val_loss: 4.1750 - val_mae: 4.1750 - val_mse: 24.5402\n",
            "Epoch 75/500\n",
            "21/21 [==============================] - 0s 3ms/step - loss: 4.1035 - mae: 4.1035 - mse: 21.7586 - val_loss: 4.1579 - val_mae: 4.1579 - val_mse: 24.3162\n",
            "Epoch 76/500\n",
            "21/21 [==============================] - 0s 2ms/step - loss: 4.0861 - mae: 4.0861 - mse: 21.2581 - val_loss: 4.1252 - val_mae: 4.1252 - val_mse: 23.5608\n",
            "Epoch 77/500\n",
            "21/21 [==============================] - 0s 3ms/step - loss: 4.0689 - mae: 4.0689 - mse: 21.1017 - val_loss: 4.1195 - val_mae: 4.1195 - val_mse: 23.7288\n",
            "Epoch 78/500\n",
            "21/21 [==============================] - 0s 2ms/step - loss: 4.0571 - mae: 4.0571 - mse: 21.2685 - val_loss: 4.1085 - val_mae: 4.1085 - val_mse: 23.7068\n",
            "Epoch 79/500\n",
            "21/21 [==============================] - 0s 3ms/step - loss: 4.0446 - mae: 4.0446 - mse: 20.8096 - val_loss: 4.0793 - val_mae: 4.0793 - val_mse: 23.0892\n",
            "Epoch 80/500\n",
            "21/21 [==============================] - 0s 2ms/step - loss: 4.0234 - mae: 4.0234 - mse: 20.7556 - val_loss: 4.0760 - val_mae: 4.0760 - val_mse: 23.3190\n",
            "Epoch 81/500\n",
            "21/21 [==============================] - 0s 3ms/step - loss: 4.0081 - mae: 4.0081 - mse: 20.6242 - val_loss: 4.0590 - val_mae: 4.0590 - val_mse: 23.0971\n",
            "Epoch 82/500\n",
            "21/21 [==============================] - 0s 3ms/step - loss: 3.9957 - mae: 3.9957 - mse: 20.5890 - val_loss: 4.0458 - val_mae: 4.0458 - val_mse: 23.0037\n",
            "Epoch 83/500\n",
            "21/21 [==============================] - 0s 3ms/step - loss: 3.9748 - mae: 3.9748 - mse: 20.3254 - val_loss: 4.0180 - val_mae: 4.0180 - val_mse: 22.4463\n",
            "Epoch 84/500\n",
            "21/21 [==============================] - 0s 3ms/step - loss: 3.9660 - mae: 3.9660 - mse: 20.1141 - val_loss: 4.0106 - val_mae: 4.0106 - val_mse: 22.5290\n",
            "Epoch 85/500\n",
            "21/21 [==============================] - 0s 2ms/step - loss: 3.9467 - mae: 3.9467 - mse: 19.9303 - val_loss: 3.9859 - val_mae: 3.9859 - val_mse: 22.0794\n",
            "Epoch 86/500\n",
            "21/21 [==============================] - 0s 3ms/step - loss: 3.9322 - mae: 3.9322 - mse: 19.7179 - val_loss: 3.9761 - val_mae: 3.9761 - val_mse: 22.0810\n",
            "Epoch 87/500\n",
            "21/21 [==============================] - 0s 2ms/step - loss: 3.9178 - mae: 3.9178 - mse: 19.8063 - val_loss: 3.9668 - val_mae: 3.9668 - val_mse: 22.1081\n",
            "Epoch 88/500\n",
            "21/21 [==============================] - 0s 3ms/step - loss: 3.9019 - mae: 3.9019 - mse: 19.5674 - val_loss: 3.9511 - val_mae: 3.9511 - val_mse: 21.9329\n",
            "Epoch 89/500\n",
            "21/21 [==============================] - 0s 3ms/step - loss: 3.8865 - mae: 3.8865 - mse: 19.3621 - val_loss: 3.9264 - val_mae: 3.9264 - val_mse: 21.4820\n",
            "Epoch 90/500\n",
            "21/21 [==============================] - 0s 2ms/step - loss: 3.8725 - mae: 3.8725 - mse: 19.3943 - val_loss: 3.9258 - val_mae: 3.9258 - val_mse: 21.7769\n",
            "Epoch 91/500\n",
            "21/21 [==============================] - 0s 2ms/step - loss: 3.8576 - mae: 3.8576 - mse: 19.2014 - val_loss: 3.8895 - val_mae: 3.8895 - val_mse: 20.9734\n",
            "Epoch 92/500\n",
            "21/21 [==============================] - 0s 2ms/step - loss: 3.8410 - mae: 3.8410 - mse: 18.8455 - val_loss: 3.8755 - val_mae: 3.8755 - val_mse: 20.8518\n",
            "Epoch 93/500\n",
            "21/21 [==============================] - 0s 3ms/step - loss: 3.8301 - mae: 3.8301 - mse: 18.7482 - val_loss: 3.8828 - val_mae: 3.8828 - val_mse: 21.3833\n",
            "Epoch 94/500\n",
            "21/21 [==============================] - 0s 3ms/step - loss: 3.8166 - mae: 3.8166 - mse: 19.0347 - val_loss: 3.8639 - val_mae: 3.8639 - val_mse: 21.1011\n",
            "Epoch 95/500\n",
            "21/21 [==============================] - 0s 2ms/step - loss: 3.7995 - mae: 3.7995 - mse: 18.4252 - val_loss: 3.8260 - val_mae: 3.8260 - val_mse: 20.2583\n",
            "Epoch 96/500\n",
            "21/21 [==============================] - 0s 2ms/step - loss: 3.7863 - mae: 3.7863 - mse: 18.5210 - val_loss: 3.8368 - val_mae: 3.8368 - val_mse: 20.8899\n",
            "Epoch 97/500\n",
            "21/21 [==============================] - 0s 3ms/step - loss: 3.7732 - mae: 3.7732 - mse: 18.2821 - val_loss: 3.8098 - val_mae: 3.8098 - val_mse: 20.3610\n",
            "Epoch 98/500\n",
            "21/21 [==============================] - 0s 2ms/step - loss: 3.7514 - mae: 3.7514 - mse: 18.2263 - val_loss: 3.7993 - val_mae: 3.7993 - val_mse: 20.3450\n",
            "Epoch 99/500\n",
            "21/21 [==============================] - 0s 2ms/step - loss: 3.7351 - mae: 3.7351 - mse: 17.7886 - val_loss: 3.7673 - val_mae: 3.7673 - val_mse: 19.6962\n",
            "Epoch 100/500\n",
            "21/21 [==============================] - 0s 3ms/step - loss: 3.7235 - mae: 3.7235 - mse: 17.8680 - val_loss: 3.7706 - val_mae: 3.7706 - val_mse: 20.0856\n",
            "Epoch 101/500\n",
            "21/21 [==============================] - 0s 2ms/step - loss: 3.7047 - mae: 3.7047 - mse: 17.7548 - val_loss: 3.7435 - val_mae: 3.7435 - val_mse: 19.5717\n",
            "Epoch 102/500\n",
            "21/21 [==============================] - 0s 2ms/step - loss: 3.7022 - mae: 3.7022 - mse: 17.3755 - val_loss: 3.7284 - val_mae: 3.7284 - val_mse: 19.4207\n",
            "Epoch 103/500\n",
            "21/21 [==============================] - 0s 2ms/step - loss: 3.6771 - mae: 3.6771 - mse: 17.6064 - val_loss: 3.7389 - val_mae: 3.7389 - val_mse: 20.0680\n",
            "Epoch 104/500\n",
            "21/21 [==============================] - 0s 2ms/step - loss: 3.6595 - mae: 3.6595 - mse: 17.3949 - val_loss: 3.6998 - val_mae: 3.6998 - val_mse: 19.1562\n",
            "Epoch 105/500\n",
            "21/21 [==============================] - 0s 3ms/step - loss: 3.6469 - mae: 3.6469 - mse: 16.9993 - val_loss: 3.6763 - val_mae: 3.6763 - val_mse: 18.7769\n",
            "Epoch 106/500\n",
            "21/21 [==============================] - 0s 2ms/step - loss: 3.6324 - mae: 3.6324 - mse: 16.8215 - val_loss: 3.6676 - val_mae: 3.6676 - val_mse: 18.7987\n",
            "Epoch 107/500\n",
            "21/21 [==============================] - 0s 2ms/step - loss: 3.6264 - mae: 3.6264 - mse: 17.2682 - val_loss: 3.6713 - val_mae: 3.6713 - val_mse: 19.2035\n",
            "Epoch 108/500\n",
            "21/21 [==============================] - 0s 3ms/step - loss: 3.6082 - mae: 3.6082 - mse: 16.6760 - val_loss: 3.6392 - val_mae: 3.6392 - val_mse: 18.5463\n",
            "Epoch 109/500\n",
            "21/21 [==============================] - 0s 2ms/step - loss: 3.5874 - mae: 3.5874 - mse: 16.5883 - val_loss: 3.6170 - val_mae: 3.6170 - val_mse: 18.2025\n",
            "Epoch 110/500\n",
            "21/21 [==============================] - 0s 3ms/step - loss: 3.5757 - mae: 3.5757 - mse: 16.6098 - val_loss: 3.6234 - val_mae: 3.6234 - val_mse: 18.6628\n",
            "Epoch 111/500\n",
            "21/21 [==============================] - 0s 2ms/step - loss: 3.5611 - mae: 3.5611 - mse: 16.3290 - val_loss: 3.5906 - val_mae: 3.5906 - val_mse: 18.0027\n",
            "Epoch 112/500\n",
            "21/21 [==============================] - 0s 3ms/step - loss: 3.5426 - mae: 3.5426 - mse: 16.1343 - val_loss: 3.5783 - val_mae: 3.5783 - val_mse: 17.9266\n",
            "Epoch 113/500\n",
            "21/21 [==============================] - 0s 3ms/step - loss: 3.5279 - mae: 3.5279 - mse: 16.0914 - val_loss: 3.5658 - val_mae: 3.5658 - val_mse: 17.8502\n",
            "Epoch 114/500\n",
            "21/21 [==============================] - 0s 3ms/step - loss: 3.5130 - mae: 3.5130 - mse: 15.8314 - val_loss: 3.5428 - val_mae: 3.5428 - val_mse: 17.4885\n",
            "Epoch 115/500\n",
            "21/21 [==============================] - 0s 3ms/step - loss: 3.5064 - mae: 3.5064 - mse: 15.9949 - val_loss: 3.5457 - val_mae: 3.5457 - val_mse: 17.8413\n",
            "Epoch 116/500\n",
            "21/21 [==============================] - 0s 2ms/step - loss: 3.4843 - mae: 3.4843 - mse: 15.5491 - val_loss: 3.5068 - val_mae: 3.5068 - val_mse: 17.0370\n",
            "Epoch 117/500\n",
            "21/21 [==============================] - 0s 2ms/step - loss: 3.4963 - mae: 3.4963 - mse: 15.9597 - val_loss: 3.5324 - val_mae: 3.5324 - val_mse: 18.0722\n",
            "Epoch 118/500\n",
            "21/21 [==============================] - 0s 2ms/step - loss: 3.4644 - mae: 3.4644 - mse: 15.4502 - val_loss: 3.4803 - val_mae: 3.4803 - val_mse: 16.8469\n",
            "Epoch 119/500\n",
            "21/21 [==============================] - 0s 3ms/step - loss: 3.4409 - mae: 3.4409 - mse: 15.3351 - val_loss: 3.4772 - val_mae: 3.4772 - val_mse: 17.0160\n",
            "Epoch 120/500\n",
            "21/21 [==============================] - 0s 2ms/step - loss: 3.4256 - mae: 3.4256 - mse: 15.2612 - val_loss: 3.4644 - val_mae: 3.4644 - val_mse: 16.9310\n",
            "Epoch 121/500\n",
            "21/21 [==============================] - 0s 3ms/step - loss: 3.4135 - mae: 3.4135 - mse: 14.9478 - val_loss: 3.4326 - val_mae: 3.4326 - val_mse: 16.3435\n",
            "Epoch 122/500\n",
            "21/21 [==============================] - 0s 3ms/step - loss: 3.3949 - mae: 3.3949 - mse: 14.9081 - val_loss: 3.4432 - val_mae: 3.4432 - val_mse: 16.8905\n",
            "Epoch 123/500\n",
            "21/21 [==============================] - 0s 2ms/step - loss: 3.3886 - mae: 3.3886 - mse: 15.1660 - val_loss: 3.4281 - val_mae: 3.4281 - val_mse: 16.7454\n",
            "Epoch 124/500\n",
            "21/21 [==============================] - 0s 3ms/step - loss: 3.3710 - mae: 3.3710 - mse: 14.5308 - val_loss: 3.3918 - val_mae: 3.3918 - val_mse: 16.0373\n",
            "Epoch 125/500\n",
            "21/21 [==============================] - 0s 3ms/step - loss: 3.3554 - mae: 3.3554 - mse: 14.5590 - val_loss: 3.3929 - val_mae: 3.3929 - val_mse: 16.3103\n",
            "Epoch 126/500\n",
            "21/21 [==============================] - 0s 4ms/step - loss: 3.3362 - mae: 3.3362 - mse: 14.3739 - val_loss: 3.3634 - val_mae: 3.3634 - val_mse: 15.7975\n",
            "Epoch 127/500\n",
            "21/21 [==============================] - 0s 3ms/step - loss: 3.3238 - mae: 3.3238 - mse: 14.2461 - val_loss: 3.3596 - val_mae: 3.3596 - val_mse: 15.9408\n",
            "Epoch 128/500\n",
            "21/21 [==============================] - 0s 2ms/step - loss: 3.3082 - mae: 3.3082 - mse: 14.2158 - val_loss: 3.3413 - val_mae: 3.3413 - val_mse: 15.7164\n",
            "Epoch 129/500\n",
            "21/21 [==============================] - 0s 2ms/step - loss: 3.2948 - mae: 3.2948 - mse: 14.0133 - val_loss: 3.3260 - val_mae: 3.3260 - val_mse: 15.5684\n",
            "Epoch 130/500\n",
            "21/21 [==============================] - 0s 3ms/step - loss: 3.2810 - mae: 3.2810 - mse: 13.9774 - val_loss: 3.3045 - val_mae: 3.3045 - val_mse: 15.2722\n",
            "Epoch 131/500\n",
            "21/21 [==============================] - 0s 2ms/step - loss: 3.2662 - mae: 3.2662 - mse: 13.7501 - val_loss: 3.3029 - val_mae: 3.3029 - val_mse: 15.4710\n",
            "Epoch 132/500\n",
            "21/21 [==============================] - 0s 3ms/step - loss: 3.2505 - mae: 3.2505 - mse: 13.7259 - val_loss: 3.2787 - val_mae: 3.2787 - val_mse: 15.0988\n",
            "Epoch 133/500\n",
            "21/21 [==============================] - 0s 2ms/step - loss: 3.2354 - mae: 3.2354 - mse: 13.5381 - val_loss: 3.2731 - val_mae: 3.2731 - val_mse: 15.1982\n",
            "Epoch 134/500\n",
            "21/21 [==============================] - 0s 2ms/step - loss: 3.2248 - mae: 3.2248 - mse: 13.5786 - val_loss: 3.2587 - val_mae: 3.2587 - val_mse: 15.0783\n",
            "Epoch 135/500\n",
            "21/21 [==============================] - 0s 3ms/step - loss: 3.2075 - mae: 3.2075 - mse: 13.3526 - val_loss: 3.2343 - val_mae: 3.2343 - val_mse: 14.7049\n",
            "Epoch 136/500\n",
            "21/21 [==============================] - 0s 3ms/step - loss: 3.1928 - mae: 3.1928 - mse: 13.1580 - val_loss: 3.2270 - val_mae: 3.2270 - val_mse: 14.7608\n",
            "Epoch 137/500\n",
            "21/21 [==============================] - 0s 2ms/step - loss: 3.1787 - mae: 3.1787 - mse: 13.0868 - val_loss: 3.2103 - val_mae: 3.2103 - val_mse: 14.5837\n",
            "Epoch 138/500\n",
            "21/21 [==============================] - 0s 4ms/step - loss: 3.1644 - mae: 3.1644 - mse: 13.0816 - val_loss: 3.2024 - val_mae: 3.2024 - val_mse: 14.6314\n",
            "Epoch 139/500\n",
            "21/21 [==============================] - 0s 2ms/step - loss: 3.1492 - mae: 3.1492 - mse: 12.9383 - val_loss: 3.1728 - val_mae: 3.1728 - val_mse: 14.1341\n",
            "Epoch 140/500\n",
            "21/21 [==============================] - 0s 3ms/step - loss: 3.1368 - mae: 3.1368 - mse: 12.6385 - val_loss: 3.1574 - val_mae: 3.1574 - val_mse: 13.9918\n",
            "Epoch 141/500\n",
            "21/21 [==============================] - 0s 2ms/step - loss: 3.1259 - mae: 3.1259 - mse: 12.5884 - val_loss: 3.1426 - val_mae: 3.1426 - val_mse: 13.8657\n",
            "Epoch 142/500\n",
            "21/21 [==============================] - 0s 3ms/step - loss: 3.1113 - mae: 3.1113 - mse: 12.6320 - val_loss: 3.1355 - val_mae: 3.1355 - val_mse: 13.9187\n",
            "Epoch 143/500\n",
            "21/21 [==============================] - 0s 2ms/step - loss: 3.0920 - mae: 3.0920 - mse: 12.5088 - val_loss: 3.1263 - val_mae: 3.1263 - val_mse: 13.9332\n",
            "Epoch 144/500\n",
            "21/21 [==============================] - 0s 3ms/step - loss: 3.0797 - mae: 3.0797 - mse: 12.2675 - val_loss: 3.1059 - val_mae: 3.1059 - val_mse: 13.6674\n",
            "Epoch 145/500\n",
            "21/21 [==============================] - 0s 3ms/step - loss: 3.0636 - mae: 3.0636 - mse: 12.3114 - val_loss: 3.0947 - val_mae: 3.0947 - val_mse: 13.6293\n",
            "Epoch 146/500\n",
            "21/21 [==============================] - 0s 2ms/step - loss: 3.0544 - mae: 3.0544 - mse: 12.0412 - val_loss: 3.0629 - val_mae: 3.0629 - val_mse: 13.1068\n",
            "Epoch 147/500\n",
            "21/21 [==============================] - 0s 3ms/step - loss: 3.0358 - mae: 3.0358 - mse: 11.8946 - val_loss: 3.0782 - val_mae: 3.0782 - val_mse: 13.7039\n",
            "Epoch 148/500\n",
            "21/21 [==============================] - 0s 2ms/step - loss: 3.0222 - mae: 3.0222 - mse: 12.1231 - val_loss: 3.0440 - val_mae: 3.0440 - val_mse: 13.1039\n",
            "Epoch 149/500\n",
            "21/21 [==============================] - 0s 3ms/step - loss: 3.0114 - mae: 3.0114 - mse: 11.7736 - val_loss: 3.0358 - val_mae: 3.0358 - val_mse: 13.1349\n",
            "Epoch 150/500\n",
            "21/21 [==============================] - 0s 3ms/step - loss: 3.0014 - mae: 3.0014 - mse: 11.5911 - val_loss: 3.0128 - val_mae: 3.0128 - val_mse: 12.8210\n",
            "Epoch 151/500\n",
            "21/21 [==============================] - 0s 3ms/step - loss: 2.9806 - mae: 2.9806 - mse: 11.7900 - val_loss: 3.0174 - val_mae: 3.0174 - val_mse: 13.1471\n",
            "Epoch 152/500\n",
            "21/21 [==============================] - 0s 2ms/step - loss: 2.9654 - mae: 2.9654 - mse: 11.3533 - val_loss: 2.9756 - val_mae: 2.9756 - val_mse: 12.4067\n",
            "Epoch 153/500\n",
            "21/21 [==============================] - 0s 2ms/step - loss: 2.9499 - mae: 2.9499 - mse: 11.3146 - val_loss: 2.9713 - val_mae: 2.9713 - val_mse: 12.5195\n",
            "Epoch 154/500\n",
            "21/21 [==============================] - 0s 2ms/step - loss: 2.9375 - mae: 2.9375 - mse: 11.2692 - val_loss: 2.9561 - val_mae: 2.9561 - val_mse: 12.3870\n",
            "Epoch 155/500\n",
            "21/21 [==============================] - 0s 2ms/step - loss: 2.9202 - mae: 2.9202 - mse: 11.1832 - val_loss: 2.9484 - val_mae: 2.9484 - val_mse: 12.4198\n",
            "Epoch 156/500\n",
            "21/21 [==============================] - 0s 3ms/step - loss: 2.9160 - mae: 2.9160 - mse: 11.0258 - val_loss: 2.9295 - val_mae: 2.9295 - val_mse: 12.2112\n",
            "Epoch 157/500\n",
            "21/21 [==============================] - 0s 2ms/step - loss: 2.8937 - mae: 2.8937 - mse: 11.1114 - val_loss: 2.9237 - val_mae: 2.9237 - val_mse: 12.2814\n",
            "Epoch 158/500\n",
            "21/21 [==============================] - 0s 2ms/step - loss: 2.8786 - mae: 2.8786 - mse: 10.8777 - val_loss: 2.8971 - val_mae: 2.8971 - val_mse: 11.9070\n",
            "Epoch 159/500\n",
            "21/21 [==============================] - 0s 3ms/step - loss: 2.8639 - mae: 2.8639 - mse: 10.7528 - val_loss: 2.8815 - val_mae: 2.8815 - val_mse: 11.7707\n",
            "Epoch 160/500\n",
            "21/21 [==============================] - 0s 2ms/step - loss: 2.8601 - mae: 2.8601 - mse: 10.4955 - val_loss: 2.8827 - val_mae: 2.8827 - val_mse: 11.9897\n",
            "Epoch 161/500\n",
            "21/21 [==============================] - 0s 2ms/step - loss: 2.8438 - mae: 2.8438 - mse: 10.7746 - val_loss: 2.8576 - val_mae: 2.8576 - val_mse: 11.6482\n",
            "Epoch 162/500\n",
            "21/21 [==============================] - 0s 2ms/step - loss: 2.8196 - mae: 2.8196 - mse: 10.4001 - val_loss: 2.8419 - val_mae: 2.8419 - val_mse: 11.5083\n",
            "Epoch 163/500\n",
            "21/21 [==============================] - 0s 3ms/step - loss: 2.8059 - mae: 2.8059 - mse: 10.3455 - val_loss: 2.8252 - val_mae: 2.8252 - val_mse: 11.3536\n",
            "Epoch 164/500\n",
            "21/21 [==============================] - 0s 2ms/step - loss: 2.7919 - mae: 2.7919 - mse: 10.1174 - val_loss: 2.8083 - val_mae: 2.8083 - val_mse: 11.1959\n",
            "Epoch 165/500\n",
            "21/21 [==============================] - 0s 3ms/step - loss: 2.7782 - mae: 2.7782 - mse: 10.1293 - val_loss: 2.7989 - val_mae: 2.7989 - val_mse: 11.1842\n",
            "Epoch 166/500\n",
            "21/21 [==============================] - 0s 2ms/step - loss: 2.7640 - mae: 2.7640 - mse: 10.0795 - val_loss: 2.7737 - val_mae: 2.7737 - val_mse: 10.8732\n",
            "Epoch 167/500\n",
            "21/21 [==============================] - 0s 2ms/step - loss: 2.7504 - mae: 2.7504 - mse: 9.8718 - val_loss: 2.7630 - val_mae: 2.7630 - val_mse: 10.8321\n",
            "Epoch 168/500\n",
            "21/21 [==============================] - 0s 2ms/step - loss: 2.7402 - mae: 2.7402 - mse: 9.7063 - val_loss: 2.7556 - val_mae: 2.7556 - val_mse: 10.8594\n",
            "Epoch 169/500\n",
            "21/21 [==============================] - 0s 3ms/step - loss: 2.7266 - mae: 2.7266 - mse: 9.9516 - val_loss: 2.7457 - val_mae: 2.7457 - val_mse: 10.8427\n",
            "Epoch 170/500\n",
            "21/21 [==============================] - 0s 3ms/step - loss: 2.7244 - mae: 2.7244 - mse: 9.6113 - val_loss: 2.7381 - val_mae: 2.7381 - val_mse: 10.8629\n",
            "Epoch 171/500\n",
            "21/21 [==============================] - 0s 2ms/step - loss: 2.6943 - mae: 2.6943 - mse: 9.5810 - val_loss: 2.7040 - val_mae: 2.7040 - val_mse: 10.3824\n",
            "Epoch 172/500\n",
            "21/21 [==============================] - 0s 3ms/step - loss: 2.6855 - mae: 2.6855 - mse: 9.5424 - val_loss: 2.6927 - val_mae: 2.6927 - val_mse: 10.3328\n",
            "Epoch 173/500\n",
            "21/21 [==============================] - 0s 3ms/step - loss: 2.6697 - mae: 2.6697 - mse: 9.2537 - val_loss: 2.6856 - val_mae: 2.6856 - val_mse: 10.3657\n",
            "Epoch 174/500\n",
            "21/21 [==============================] - 0s 3ms/step - loss: 2.6584 - mae: 2.6584 - mse: 9.4602 - val_loss: 2.6763 - val_mae: 2.6763 - val_mse: 10.3521\n",
            "Epoch 175/500\n",
            "21/21 [==============================] - 0s 3ms/step - loss: 2.6364 - mae: 2.6364 - mse: 9.1986 - val_loss: 2.6362 - val_mae: 2.6362 - val_mse: 9.7719\n",
            "Epoch 176/500\n",
            "21/21 [==============================] - 0s 3ms/step - loss: 2.6362 - mae: 2.6362 - mse: 9.0664 - val_loss: 2.6465 - val_mae: 2.6465 - val_mse: 10.1246\n",
            "Epoch 177/500\n",
            "21/21 [==============================] - 0s 2ms/step - loss: 2.6128 - mae: 2.6128 - mse: 8.8788 - val_loss: 2.6222 - val_mae: 2.6222 - val_mse: 9.8407\n",
            "Epoch 178/500\n",
            "21/21 [==============================] - 0s 2ms/step - loss: 2.5951 - mae: 2.5951 - mse: 8.9566 - val_loss: 2.6187 - val_mae: 2.6187 - val_mse: 9.9298\n",
            "Epoch 179/500\n",
            "21/21 [==============================] - 0s 3ms/step - loss: 2.5806 - mae: 2.5806 - mse: 8.7371 - val_loss: 2.5825 - val_mae: 2.5825 - val_mse: 9.4491\n",
            "Epoch 180/500\n",
            "21/21 [==============================] - 0s 2ms/step - loss: 2.5672 - mae: 2.5672 - mse: 8.5502 - val_loss: 2.5820 - val_mae: 2.5820 - val_mse: 9.5879\n",
            "Epoch 181/500\n",
            "21/21 [==============================] - 0s 3ms/step - loss: 2.5536 - mae: 2.5536 - mse: 8.7587 - val_loss: 2.5810 - val_mae: 2.5810 - val_mse: 9.7219\n",
            "Epoch 182/500\n",
            "21/21 [==============================] - 0s 3ms/step - loss: 2.5401 - mae: 2.5401 - mse: 8.5000 - val_loss: 2.5484 - val_mae: 2.5484 - val_mse: 9.3035\n",
            "Epoch 183/500\n",
            "21/21 [==============================] - 0s 2ms/step - loss: 2.5309 - mae: 2.5309 - mse: 8.3550 - val_loss: 2.5357 - val_mae: 2.5357 - val_mse: 9.2336\n",
            "Epoch 184/500\n",
            "21/21 [==============================] - 0s 2ms/step - loss: 2.5342 - mae: 2.5342 - mse: 8.7801 - val_loss: 2.5288 - val_mae: 2.5288 - val_mse: 9.2551\n",
            "Epoch 185/500\n",
            "21/21 [==============================] - 0s 3ms/step - loss: 2.5058 - mae: 2.5058 - mse: 8.1751 - val_loss: 2.5088 - val_mae: 2.5088 - val_mse: 9.0629\n",
            "Epoch 186/500\n",
            "21/21 [==============================] - 0s 3ms/step - loss: 2.5078 - mae: 2.5078 - mse: 8.6320 - val_loss: 2.4975 - val_mae: 2.4975 - val_mse: 9.0125\n",
            "Epoch 187/500\n",
            "21/21 [==============================] - 0s 2ms/step - loss: 2.4836 - mae: 2.4836 - mse: 7.9408 - val_loss: 2.4754 - val_mae: 2.4754 - val_mse: 8.7956\n",
            "Epoch 188/500\n",
            "21/21 [==============================] - 0s 2ms/step - loss: 2.4623 - mae: 2.4623 - mse: 8.1442 - val_loss: 2.4577 - val_mae: 2.4577 - val_mse: 8.6453\n",
            "Epoch 189/500\n",
            "21/21 [==============================] - 0s 2ms/step - loss: 2.4443 - mae: 2.4443 - mse: 7.7874 - val_loss: 2.4367 - val_mae: 2.4367 - val_mse: 8.4222\n",
            "Epoch 190/500\n",
            "21/21 [==============================] - 0s 2ms/step - loss: 2.4277 - mae: 2.4277 - mse: 7.8391 - val_loss: 2.4443 - val_mae: 2.4443 - val_mse: 8.6945\n",
            "Epoch 191/500\n",
            "21/21 [==============================] - 0s 2ms/step - loss: 2.4191 - mae: 2.4191 - mse: 7.7641 - val_loss: 2.4204 - val_mae: 2.4204 - val_mse: 8.4460\n",
            "Epoch 192/500\n",
            "21/21 [==============================] - 0s 3ms/step - loss: 2.3989 - mae: 2.3989 - mse: 7.6603 - val_loss: 2.4116 - val_mae: 2.4116 - val_mse: 8.4364\n",
            "Epoch 193/500\n",
            "21/21 [==============================] - 0s 2ms/step - loss: 2.3868 - mae: 2.3868 - mse: 7.5896 - val_loss: 2.3909 - val_mae: 2.3909 - val_mse: 8.2461\n",
            "Epoch 194/500\n",
            "21/21 [==============================] - 0s 2ms/step - loss: 2.3729 - mae: 2.3729 - mse: 7.4240 - val_loss: 2.3834 - val_mae: 2.3834 - val_mse: 8.2570\n",
            "Epoch 195/500\n",
            "21/21 [==============================] - 0s 3ms/step - loss: 2.3606 - mae: 2.3606 - mse: 7.5006 - val_loss: 2.3642 - val_mae: 2.3642 - val_mse: 8.0889\n",
            "Epoch 196/500\n",
            "21/21 [==============================] - 0s 3ms/step - loss: 2.3455 - mae: 2.3455 - mse: 7.2214 - val_loss: 2.3393 - val_mae: 2.3393 - val_mse: 7.8392\n",
            "Epoch 197/500\n",
            "21/21 [==============================] - 0s 3ms/step - loss: 2.3289 - mae: 2.3289 - mse: 7.1698 - val_loss: 2.3391 - val_mae: 2.3391 - val_mse: 7.9587\n",
            "Epoch 198/500\n",
            "21/21 [==============================] - 0s 2ms/step - loss: 2.3178 - mae: 2.3178 - mse: 7.1439 - val_loss: 2.3123 - val_mae: 2.3123 - val_mse: 7.6857\n",
            "Epoch 199/500\n",
            "21/21 [==============================] - 0s 3ms/step - loss: 2.3109 - mae: 2.3109 - mse: 7.2574 - val_loss: 2.3108 - val_mae: 2.3108 - val_mse: 7.7821\n",
            "Epoch 200/500\n",
            "21/21 [==============================] - 0s 2ms/step - loss: 2.2928 - mae: 2.2928 - mse: 6.8888 - val_loss: 2.2893 - val_mae: 2.2893 - val_mse: 7.5871\n",
            "Epoch 201/500\n",
            "21/21 [==============================] - 0s 2ms/step - loss: 2.2759 - mae: 2.2759 - mse: 6.9019 - val_loss: 2.2685 - val_mae: 2.2685 - val_mse: 7.4014\n",
            "Epoch 202/500\n",
            "21/21 [==============================] - 0s 3ms/step - loss: 2.2625 - mae: 2.2625 - mse: 6.8292 - val_loss: 2.2586 - val_mae: 2.2586 - val_mse: 7.3829\n",
            "Epoch 203/500\n",
            "21/21 [==============================] - 0s 2ms/step - loss: 2.2478 - mae: 2.2478 - mse: 6.7240 - val_loss: 2.2369 - val_mae: 2.2369 - val_mse: 7.1402\n",
            "Epoch 204/500\n",
            "21/21 [==============================] - 0s 3ms/step - loss: 2.2330 - mae: 2.2330 - mse: 6.5738 - val_loss: 2.2362 - val_mae: 2.2362 - val_mse: 7.2947\n",
            "Epoch 205/500\n",
            "21/21 [==============================] - 0s 3ms/step - loss: 2.2231 - mae: 2.2231 - mse: 6.7064 - val_loss: 2.2247 - val_mae: 2.2247 - val_mse: 7.2490\n",
            "Epoch 206/500\n",
            "21/21 [==============================] - 0s 3ms/step - loss: 2.2083 - mae: 2.2083 - mse: 6.4697 - val_loss: 2.2035 - val_mae: 2.2035 - val_mse: 7.0665\n",
            "Epoch 207/500\n",
            "21/21 [==============================] - 0s 3ms/step - loss: 2.1919 - mae: 2.1919 - mse: 6.3396 - val_loss: 2.1955 - val_mae: 2.1955 - val_mse: 7.0676\n",
            "Epoch 208/500\n",
            "21/21 [==============================] - 0s 3ms/step - loss: 2.1820 - mae: 2.1820 - mse: 6.4962 - val_loss: 2.1880 - val_mae: 2.1880 - val_mse: 7.0822\n",
            "Epoch 209/500\n",
            "21/21 [==============================] - 0s 3ms/step - loss: 2.1680 - mae: 2.1680 - mse: 6.2927 - val_loss: 2.1639 - val_mae: 2.1639 - val_mse: 6.8543\n",
            "Epoch 210/500\n",
            "21/21 [==============================] - 0s 3ms/step - loss: 2.1530 - mae: 2.1530 - mse: 6.1030 - val_loss: 2.1378 - val_mae: 2.1378 - val_mse: 6.5459\n",
            "Epoch 211/500\n",
            "21/21 [==============================] - 0s 2ms/step - loss: 2.1400 - mae: 2.1400 - mse: 6.1757 - val_loss: 2.1408 - val_mae: 2.1408 - val_mse: 6.7628\n",
            "Epoch 212/500\n",
            "21/21 [==============================] - 0s 4ms/step - loss: 2.1252 - mae: 2.1252 - mse: 6.0691 - val_loss: 2.1103 - val_mae: 2.1103 - val_mse: 6.4029\n",
            "Epoch 213/500\n",
            "21/21 [==============================] - 0s 3ms/step - loss: 2.1107 - mae: 2.1107 - mse: 5.9452 - val_loss: 2.1071 - val_mae: 2.1071 - val_mse: 6.5286\n",
            "Epoch 214/500\n",
            "21/21 [==============================] - 0s 3ms/step - loss: 2.0964 - mae: 2.0964 - mse: 5.8856 - val_loss: 2.0836 - val_mae: 2.0836 - val_mse: 6.2841\n",
            "Epoch 215/500\n",
            "21/21 [==============================] - 0s 3ms/step - loss: 2.0811 - mae: 2.0811 - mse: 5.7979 - val_loss: 2.0719 - val_mae: 2.0719 - val_mse: 6.2523\n",
            "Epoch 216/500\n",
            "21/21 [==============================] - 0s 3ms/step - loss: 2.0691 - mae: 2.0691 - mse: 5.6908 - val_loss: 2.0614 - val_mae: 2.0614 - val_mse: 6.2389\n",
            "Epoch 217/500\n",
            "21/21 [==============================] - 0s 2ms/step - loss: 2.0550 - mae: 2.0550 - mse: 5.6760 - val_loss: 2.0453 - val_mae: 2.0453 - val_mse: 6.1240\n",
            "Epoch 218/500\n",
            "21/21 [==============================] - 0s 3ms/step - loss: 2.0445 - mae: 2.0445 - mse: 5.6788 - val_loss: 2.0347 - val_mae: 2.0347 - val_mse: 6.1028\n",
            "Epoch 219/500\n",
            "21/21 [==============================] - 0s 3ms/step - loss: 2.0289 - mae: 2.0289 - mse: 5.5517 - val_loss: 2.0247 - val_mae: 2.0247 - val_mse: 6.0742\n",
            "Epoch 220/500\n",
            "21/21 [==============================] - 0s 3ms/step - loss: 2.0247 - mae: 2.0247 - mse: 5.4094 - val_loss: 2.0231 - val_mae: 2.0231 - val_mse: 6.1502\n",
            "Epoch 221/500\n",
            "21/21 [==============================] - 0s 3ms/step - loss: 2.0081 - mae: 2.0081 - mse: 5.5237 - val_loss: 2.0008 - val_mae: 2.0008 - val_mse: 5.9621\n",
            "Epoch 222/500\n",
            "21/21 [==============================] - 0s 3ms/step - loss: 1.9874 - mae: 1.9874 - mse: 5.3577 - val_loss: 1.9727 - val_mae: 1.9727 - val_mse: 5.6603\n",
            "Epoch 223/500\n",
            "21/21 [==============================] - 0s 3ms/step - loss: 1.9758 - mae: 1.9758 - mse: 5.2485 - val_loss: 1.9728 - val_mae: 1.9728 - val_mse: 5.8005\n",
            "Epoch 224/500\n",
            "21/21 [==============================] - 0s 3ms/step - loss: 1.9605 - mae: 1.9605 - mse: 5.1917 - val_loss: 1.9487 - val_mae: 1.9487 - val_mse: 5.5717\n",
            "Epoch 225/500\n",
            "21/21 [==============================] - 0s 3ms/step - loss: 1.9508 - mae: 1.9508 - mse: 5.1129 - val_loss: 1.9310 - val_mae: 1.9310 - val_mse: 5.3865\n",
            "Epoch 226/500\n",
            "21/21 [==============================] - 0s 3ms/step - loss: 1.9328 - mae: 1.9328 - mse: 5.0321 - val_loss: 1.9256 - val_mae: 1.9256 - val_mse: 5.4898\n",
            "Epoch 227/500\n",
            "21/21 [==============================] - 0s 2ms/step - loss: 1.9295 - mae: 1.9295 - mse: 4.9904 - val_loss: 1.9405 - val_mae: 1.9405 - val_mse: 5.7572\n",
            "Epoch 228/500\n",
            "21/21 [==============================] - 0s 3ms/step - loss: 1.9104 - mae: 1.9104 - mse: 5.0177 - val_loss: 1.9051 - val_mae: 1.9051 - val_mse: 5.4338\n",
            "Epoch 229/500\n",
            "21/21 [==============================] - 0s 4ms/step - loss: 1.8942 - mae: 1.8942 - mse: 4.8674 - val_loss: 1.8901 - val_mae: 1.8901 - val_mse: 5.3462\n",
            "Epoch 230/500\n",
            "21/21 [==============================] - 0s 3ms/step - loss: 1.8795 - mae: 1.8795 - mse: 4.7720 - val_loss: 1.8706 - val_mae: 1.8706 - val_mse: 5.1834\n",
            "Epoch 231/500\n",
            "21/21 [==============================] - 0s 3ms/step - loss: 1.8685 - mae: 1.8685 - mse: 4.7848 - val_loss: 1.8511 - val_mae: 1.8511 - val_mse: 4.9885\n",
            "Epoch 232/500\n",
            "21/21 [==============================] - 0s 3ms/step - loss: 1.8509 - mae: 1.8509 - mse: 4.6595 - val_loss: 1.8464 - val_mae: 1.8464 - val_mse: 5.0850\n",
            "Epoch 233/500\n",
            "21/21 [==============================] - 0s 3ms/step - loss: 1.8389 - mae: 1.8389 - mse: 4.6304 - val_loss: 1.8273 - val_mae: 1.8273 - val_mse: 4.9224\n",
            "Epoch 234/500\n",
            "21/21 [==============================] - 0s 3ms/step - loss: 1.8276 - mae: 1.8276 - mse: 4.5650 - val_loss: 1.8159 - val_mae: 1.8159 - val_mse: 4.8832\n",
            "Epoch 235/500\n",
            "21/21 [==============================] - 0s 2ms/step - loss: 1.8155 - mae: 1.8155 - mse: 4.4136 - val_loss: 1.8036 - val_mae: 1.8036 - val_mse: 4.8302\n",
            "Epoch 236/500\n",
            "21/21 [==============================] - 0s 3ms/step - loss: 1.8025 - mae: 1.8025 - mse: 4.4963 - val_loss: 1.7918 - val_mae: 1.7918 - val_mse: 4.7801\n",
            "Epoch 237/500\n",
            "21/21 [==============================] - 0s 2ms/step - loss: 1.7845 - mae: 1.7845 - mse: 4.3698 - val_loss: 1.7746 - val_mae: 1.7746 - val_mse: 4.6467\n",
            "Epoch 238/500\n",
            "21/21 [==============================] - 0s 2ms/step - loss: 1.7723 - mae: 1.7723 - mse: 4.2636 - val_loss: 1.7683 - val_mae: 1.7683 - val_mse: 4.6879\n",
            "Epoch 239/500\n",
            "21/21 [==============================] - 0s 3ms/step - loss: 1.7628 - mae: 1.7628 - mse: 4.3585 - val_loss: 1.7525 - val_mae: 1.7525 - val_mse: 4.5782\n",
            "Epoch 240/500\n",
            "21/21 [==============================] - 0s 2ms/step - loss: 1.7469 - mae: 1.7469 - mse: 4.1879 - val_loss: 1.7339 - val_mae: 1.7339 - val_mse: 4.4166\n",
            "Epoch 241/500\n",
            "21/21 [==============================] - 0s 4ms/step - loss: 1.7341 - mae: 1.7341 - mse: 4.0938 - val_loss: 1.7308 - val_mae: 1.7308 - val_mse: 4.5157\n",
            "Epoch 242/500\n",
            "21/21 [==============================] - 0s 3ms/step - loss: 1.7221 - mae: 1.7221 - mse: 4.1085 - val_loss: 1.7076 - val_mae: 1.7076 - val_mse: 4.2113\n",
            "Epoch 243/500\n",
            "21/21 [==============================] - 0s 2ms/step - loss: 1.7092 - mae: 1.7092 - mse: 3.9325 - val_loss: 1.7253 - val_mae: 1.7253 - val_mse: 4.6036\n",
            "Epoch 244/500\n",
            "21/21 [==============================] - 0s 3ms/step - loss: 1.6962 - mae: 1.6962 - mse: 4.1530 - val_loss: 1.6823 - val_mae: 1.6823 - val_mse: 4.0869\n",
            "Epoch 245/500\n",
            "21/21 [==============================] - 0s 3ms/step - loss: 1.6846 - mae: 1.6846 - mse: 3.8745 - val_loss: 1.6730 - val_mae: 1.6730 - val_mse: 4.1656\n",
            "Epoch 246/500\n",
            "21/21 [==============================] - 0s 3ms/step - loss: 1.6681 - mae: 1.6681 - mse: 3.8308 - val_loss: 1.6568 - val_mae: 1.6568 - val_mse: 4.0351\n",
            "Epoch 247/500\n",
            "21/21 [==============================] - 0s 2ms/step - loss: 1.6576 - mae: 1.6576 - mse: 3.8384 - val_loss: 1.6458 - val_mae: 1.6458 - val_mse: 4.0095\n",
            "Epoch 248/500\n",
            "21/21 [==============================] - 0s 2ms/step - loss: 1.6429 - mae: 1.6429 - mse: 3.6924 - val_loss: 1.6563 - val_mae: 1.6563 - val_mse: 4.2405\n",
            "Epoch 249/500\n",
            "21/21 [==============================] - 0s 3ms/step - loss: 1.6362 - mae: 1.6362 - mse: 3.8463 - val_loss: 1.6196 - val_mae: 1.6196 - val_mse: 3.8081\n",
            "Epoch 250/500\n",
            "21/21 [==============================] - 0s 3ms/step - loss: 1.6230 - mae: 1.6230 - mse: 3.6981 - val_loss: 1.6430 - val_mae: 1.6430 - val_mse: 4.2376\n",
            "Epoch 251/500\n",
            "21/21 [==============================] - 0s 3ms/step - loss: 1.6094 - mae: 1.6094 - mse: 3.6880 - val_loss: 1.5944 - val_mae: 1.5944 - val_mse: 3.7489\n",
            "Epoch 252/500\n",
            "21/21 [==============================] - 0s 3ms/step - loss: 1.5961 - mae: 1.5961 - mse: 3.6124 - val_loss: 1.5899 - val_mae: 1.5899 - val_mse: 3.8274\n",
            "Epoch 253/500\n",
            "21/21 [==============================] - 0s 3ms/step - loss: 1.5780 - mae: 1.5780 - mse: 3.4393 - val_loss: 1.5732 - val_mae: 1.5732 - val_mse: 3.7085\n",
            "Epoch 254/500\n",
            "21/21 [==============================] - 0s 2ms/step - loss: 1.5670 - mae: 1.5670 - mse: 3.4797 - val_loss: 1.5612 - val_mae: 1.5612 - val_mse: 3.6604\n",
            "Epoch 255/500\n",
            "21/21 [==============================] - 0s 3ms/step - loss: 1.5578 - mae: 1.5578 - mse: 3.3296 - val_loss: 1.5652 - val_mae: 1.5652 - val_mse: 3.8062\n",
            "Epoch 256/500\n",
            "21/21 [==============================] - 0s 3ms/step - loss: 1.5388 - mae: 1.5388 - mse: 3.3745 - val_loss: 1.5326 - val_mae: 1.5326 - val_mse: 3.4567\n",
            "Epoch 257/500\n",
            "21/21 [==============================] - 0s 3ms/step - loss: 1.5247 - mae: 1.5247 - mse: 3.2274 - val_loss: 1.5213 - val_mae: 1.5213 - val_mse: 3.4559\n",
            "Epoch 258/500\n",
            "21/21 [==============================] - 0s 4ms/step - loss: 1.5170 - mae: 1.5170 - mse: 3.2039 - val_loss: 1.5098 - val_mae: 1.5098 - val_mse: 3.2999\n",
            "Epoch 259/500\n",
            "21/21 [==============================] - 0s 3ms/step - loss: 1.5021 - mae: 1.5021 - mse: 3.1652 - val_loss: 1.4965 - val_mae: 1.4965 - val_mse: 3.3496\n",
            "Epoch 260/500\n",
            "21/21 [==============================] - 0s 3ms/step - loss: 1.4875 - mae: 1.4875 - mse: 3.1063 - val_loss: 1.4882 - val_mae: 1.4882 - val_mse: 3.3526\n",
            "Epoch 261/500\n",
            "21/21 [==============================] - 0s 2ms/step - loss: 1.4743 - mae: 1.4743 - mse: 3.0554 - val_loss: 1.4722 - val_mae: 1.4722 - val_mse: 3.2445\n",
            "Epoch 262/500\n",
            "21/21 [==============================] - 0s 2ms/step - loss: 1.4624 - mae: 1.4624 - mse: 3.0345 - val_loss: 1.4631 - val_mae: 1.4631 - val_mse: 3.2375\n",
            "Epoch 263/500\n",
            "21/21 [==============================] - 0s 3ms/step - loss: 1.4508 - mae: 1.4508 - mse: 2.9644 - val_loss: 1.4561 - val_mae: 1.4561 - val_mse: 3.2521\n",
            "Epoch 264/500\n",
            "21/21 [==============================] - 0s 2ms/step - loss: 1.4443 - mae: 1.4443 - mse: 2.9205 - val_loss: 1.4356 - val_mae: 1.4356 - val_mse: 3.0725\n",
            "Epoch 265/500\n",
            "21/21 [==============================] - 0s 2ms/step - loss: 1.4285 - mae: 1.4285 - mse: 2.9129 - val_loss: 1.4336 - val_mae: 1.4336 - val_mse: 3.1672\n",
            "Epoch 266/500\n",
            "21/21 [==============================] - 0s 2ms/step - loss: 1.4158 - mae: 1.4158 - mse: 2.8658 - val_loss: 1.4144 - val_mae: 1.4144 - val_mse: 3.0345\n",
            "Epoch 267/500\n",
            "21/21 [==============================] - 0s 3ms/step - loss: 1.3988 - mae: 1.3988 - mse: 2.7880 - val_loss: 1.4007 - val_mae: 1.4007 - val_mse: 2.8817\n",
            "Epoch 268/500\n",
            "21/21 [==============================] - 0s 2ms/step - loss: 1.3941 - mae: 1.3941 - mse: 2.7547 - val_loss: 1.3883 - val_mae: 1.3883 - val_mse: 2.8383\n",
            "Epoch 269/500\n",
            "21/21 [==============================] - 0s 3ms/step - loss: 1.3774 - mae: 1.3774 - mse: 2.6848 - val_loss: 1.4168 - val_mae: 1.4168 - val_mse: 3.2194\n",
            "Epoch 270/500\n",
            "21/21 [==============================] - 0s 3ms/step - loss: 1.3692 - mae: 1.3692 - mse: 2.7646 - val_loss: 1.3657 - val_mae: 1.3657 - val_mse: 2.7410\n",
            "Epoch 271/500\n",
            "21/21 [==============================] - 0s 2ms/step - loss: 1.3533 - mae: 1.3533 - mse: 2.5861 - val_loss: 1.3608 - val_mae: 1.3608 - val_mse: 2.8521\n",
            "Epoch 272/500\n",
            "21/21 [==============================] - 0s 2ms/step - loss: 1.3408 - mae: 1.3408 - mse: 2.5979 - val_loss: 1.3417 - val_mae: 1.3417 - val_mse: 2.6693\n",
            "Epoch 273/500\n",
            "21/21 [==============================] - 0s 2ms/step - loss: 1.3344 - mae: 1.3344 - mse: 2.5873 - val_loss: 1.3379 - val_mae: 1.3379 - val_mse: 2.7581\n",
            "Epoch 274/500\n",
            "21/21 [==============================] - 0s 3ms/step - loss: 1.3201 - mae: 1.3201 - mse: 2.4817 - val_loss: 1.3191 - val_mae: 1.3191 - val_mse: 2.5896\n",
            "Epoch 275/500\n",
            "21/21 [==============================] - 0s 2ms/step - loss: 1.3063 - mae: 1.3063 - mse: 2.4227 - val_loss: 1.3357 - val_mae: 1.3357 - val_mse: 2.8466\n",
            "Epoch 276/500\n",
            "21/21 [==============================] - 0s 3ms/step - loss: 1.3073 - mae: 1.3073 - mse: 2.5771 - val_loss: 1.2966 - val_mae: 1.2966 - val_mse: 2.5022\n",
            "Epoch 277/500\n",
            "21/21 [==============================] - 0s 3ms/step - loss: 1.2842 - mae: 1.2842 - mse: 2.3468 - val_loss: 1.3257 - val_mae: 1.3257 - val_mse: 2.8425\n",
            "Epoch 278/500\n",
            "21/21 [==============================] - 0s 2ms/step - loss: 1.2790 - mae: 1.2790 - mse: 2.4376 - val_loss: 1.2776 - val_mae: 1.2776 - val_mse: 2.3808\n",
            "Epoch 279/500\n",
            "21/21 [==============================] - 0s 3ms/step - loss: 1.2634 - mae: 1.2634 - mse: 2.2839 - val_loss: 1.2691 - val_mae: 1.2691 - val_mse: 2.4875\n",
            "Epoch 280/500\n",
            "21/21 [==============================] - 0s 3ms/step - loss: 1.2521 - mae: 1.2521 - mse: 2.2689 - val_loss: 1.2595 - val_mae: 1.2595 - val_mse: 2.4584\n",
            "Epoch 281/500\n",
            "21/21 [==============================] - 0s 3ms/step - loss: 1.2412 - mae: 1.2412 - mse: 2.2365 - val_loss: 1.2470 - val_mae: 1.2470 - val_mse: 2.4030\n",
            "Epoch 282/500\n",
            "21/21 [==============================] - 0s 3ms/step - loss: 1.2280 - mae: 1.2280 - mse: 2.2079 - val_loss: 1.2317 - val_mae: 1.2317 - val_mse: 2.2981\n",
            "Epoch 283/500\n",
            "21/21 [==============================] - 0s 2ms/step - loss: 1.2221 - mae: 1.2221 - mse: 2.1849 - val_loss: 1.2224 - val_mae: 1.2224 - val_mse: 2.2838\n",
            "Epoch 284/500\n",
            "21/21 [==============================] - 0s 2ms/step - loss: 1.2084 - mae: 1.2084 - mse: 2.0984 - val_loss: 1.2174 - val_mae: 1.2174 - val_mse: 2.3052\n",
            "Epoch 285/500\n",
            "21/21 [==============================] - 0s 2ms/step - loss: 1.2074 - mae: 1.2074 - mse: 2.1649 - val_loss: 1.1998 - val_mae: 1.1998 - val_mse: 2.1892\n",
            "Epoch 286/500\n",
            "21/21 [==============================] - 0s 2ms/step - loss: 1.1881 - mae: 1.1881 - mse: 2.0607 - val_loss: 1.1890 - val_mae: 1.1890 - val_mse: 2.1431\n",
            "Epoch 287/500\n",
            "21/21 [==============================] - 0s 2ms/step - loss: 1.1751 - mae: 1.1751 - mse: 2.0145 - val_loss: 1.1835 - val_mae: 1.1835 - val_mse: 2.1686\n",
            "Epoch 288/500\n",
            "21/21 [==============================] - 0s 3ms/step - loss: 1.1738 - mae: 1.1738 - mse: 2.0671 - val_loss: 1.1688 - val_mae: 1.1688 - val_mse: 2.0356\n",
            "Epoch 289/500\n",
            "21/21 [==============================] - 0s 2ms/step - loss: 1.1545 - mae: 1.1545 - mse: 1.9384 - val_loss: 1.1694 - val_mae: 1.1694 - val_mse: 2.1550\n",
            "Epoch 290/500\n",
            "21/21 [==============================] - 0s 2ms/step - loss: 1.1445 - mae: 1.1445 - mse: 1.9539 - val_loss: 1.1485 - val_mae: 1.1485 - val_mse: 1.9869\n",
            "Epoch 291/500\n",
            "21/21 [==============================] - 0s 3ms/step - loss: 1.1402 - mae: 1.1402 - mse: 1.9019 - val_loss: 1.1386 - val_mae: 1.1386 - val_mse: 1.9442\n",
            "Epoch 292/500\n",
            "21/21 [==============================] - 0s 2ms/step - loss: 1.1265 - mae: 1.1265 - mse: 1.8791 - val_loss: 1.1346 - val_mae: 1.1346 - val_mse: 2.0067\n",
            "Epoch 293/500\n",
            "21/21 [==============================] - 0s 2ms/step - loss: 1.1140 - mae: 1.1140 - mse: 1.8209 - val_loss: 1.1193 - val_mae: 1.1193 - val_mse: 1.9049\n",
            "Epoch 294/500\n",
            "21/21 [==============================] - 0s 3ms/step - loss: 1.1116 - mae: 1.1116 - mse: 1.8649 - val_loss: 1.1100 - val_mae: 1.1100 - val_mse: 1.8774\n",
            "Epoch 295/500\n",
            "21/21 [==============================] - 0s 3ms/step - loss: 1.0999 - mae: 1.0999 - mse: 1.7727 - val_loss: 1.1019 - val_mae: 1.1019 - val_mse: 1.8672\n",
            "Epoch 296/500\n",
            "21/21 [==============================] - 0s 3ms/step - loss: 1.0884 - mae: 1.0884 - mse: 1.7491 - val_loss: 1.0971 - val_mae: 1.0971 - val_mse: 1.8831\n",
            "Epoch 297/500\n",
            "21/21 [==============================] - 0s 3ms/step - loss: 1.0942 - mae: 1.0942 - mse: 1.8238 - val_loss: 1.0986 - val_mae: 1.0986 - val_mse: 1.7465\n",
            "Epoch 298/500\n",
            "21/21 [==============================] - 0s 4ms/step - loss: 1.0765 - mae: 1.0765 - mse: 1.7542 - val_loss: 1.0765 - val_mae: 1.0765 - val_mse: 1.7993\n",
            "Epoch 299/500\n",
            "21/21 [==============================] - 0s 2ms/step - loss: 1.0602 - mae: 1.0602 - mse: 1.6793 - val_loss: 1.0868 - val_mae: 1.0868 - val_mse: 1.9298\n",
            "Epoch 300/500\n",
            "21/21 [==============================] - 0s 3ms/step - loss: 1.0635 - mae: 1.0635 - mse: 1.6972 - val_loss: 1.0663 - val_mae: 1.0663 - val_mse: 1.8115\n",
            "Epoch 301/500\n",
            "21/21 [==============================] - 0s 3ms/step - loss: 1.0399 - mae: 1.0399 - mse: 1.6437 - val_loss: 1.0495 - val_mae: 1.0495 - val_mse: 1.6459\n",
            "Epoch 302/500\n",
            "21/21 [==============================] - 0s 2ms/step - loss: 1.0379 - mae: 1.0379 - mse: 1.6011 - val_loss: 1.0391 - val_mae: 1.0391 - val_mse: 1.6499\n",
            "Epoch 303/500\n",
            "21/21 [==============================] - 0s 2ms/step - loss: 1.0247 - mae: 1.0247 - mse: 1.5727 - val_loss: 1.0301 - val_mae: 1.0301 - val_mse: 1.6181\n",
            "Epoch 304/500\n",
            "21/21 [==============================] - 0s 3ms/step - loss: 1.0155 - mae: 1.0155 - mse: 1.5352 - val_loss: 1.0246 - val_mae: 1.0246 - val_mse: 1.6391\n",
            "Epoch 305/500\n",
            "21/21 [==============================] - 0s 3ms/step - loss: 1.0156 - mae: 1.0156 - mse: 1.5486 - val_loss: 1.0144 - val_mae: 1.0144 - val_mse: 1.5540\n",
            "Epoch 306/500\n",
            "21/21 [==============================] - 0s 4ms/step - loss: 1.0039 - mae: 1.0039 - mse: 1.5209 - val_loss: 1.0110 - val_mae: 1.0110 - val_mse: 1.6200\n",
            "Epoch 307/500\n",
            "21/21 [==============================] - 0s 2ms/step - loss: 0.9968 - mae: 0.9968 - mse: 1.5091 - val_loss: 1.0189 - val_mae: 1.0189 - val_mse: 1.7136\n",
            "Epoch 308/500\n",
            "21/21 [==============================] - 0s 3ms/step - loss: 0.9910 - mae: 0.9910 - mse: 1.4764 - val_loss: 0.9938 - val_mae: 0.9938 - val_mse: 1.4799\n",
            "Epoch 309/500\n",
            "21/21 [==============================] - 0s 3ms/step - loss: 0.9763 - mae: 0.9763 - mse: 1.4323 - val_loss: 0.9931 - val_mae: 0.9931 - val_mse: 1.5960\n",
            "Epoch 310/500\n",
            "21/21 [==============================] - 0s 2ms/step - loss: 0.9662 - mae: 0.9662 - mse: 1.4089 - val_loss: 0.9859 - val_mae: 0.9859 - val_mse: 1.4367\n",
            "Epoch 311/500\n",
            "21/21 [==============================] - 0s 2ms/step - loss: 0.9658 - mae: 0.9658 - mse: 1.4032 - val_loss: 0.9671 - val_mae: 0.9671 - val_mse: 1.4201\n",
            "Epoch 312/500\n",
            "21/21 [==============================] - 0s 2ms/step - loss: 0.9486 - mae: 0.9486 - mse: 1.3614 - val_loss: 0.9694 - val_mae: 0.9694 - val_mse: 1.5271\n",
            "Epoch 313/500\n",
            "21/21 [==============================] - 0s 3ms/step - loss: 0.9454 - mae: 0.9454 - mse: 1.3667 - val_loss: 0.9549 - val_mae: 0.9549 - val_mse: 1.4516\n",
            "Epoch 314/500\n",
            "21/21 [==============================] - 0s 3ms/step - loss: 0.9373 - mae: 0.9373 - mse: 1.3437 - val_loss: 0.9560 - val_mae: 0.9560 - val_mse: 1.4911\n",
            "Epoch 315/500\n",
            "21/21 [==============================] - 0s 2ms/step - loss: 0.9342 - mae: 0.9342 - mse: 1.3378 - val_loss: 0.9426 - val_mae: 0.9426 - val_mse: 1.3399\n",
            "Epoch 316/500\n",
            "21/21 [==============================] - 0s 3ms/step - loss: 0.9244 - mae: 0.9244 - mse: 1.3025 - val_loss: 0.9296 - val_mae: 0.9296 - val_mse: 1.3427\n",
            "Epoch 317/500\n",
            "21/21 [==============================] - 0s 3ms/step - loss: 0.9126 - mae: 0.9126 - mse: 1.2658 - val_loss: 0.9237 - val_mae: 0.9237 - val_mse: 1.3287\n",
            "Epoch 318/500\n",
            "21/21 [==============================] - 0s 3ms/step - loss: 0.9097 - mae: 0.9097 - mse: 1.2666 - val_loss: 0.9168 - val_mae: 0.9168 - val_mse: 1.2962\n",
            "Epoch 319/500\n",
            "21/21 [==============================] - 0s 3ms/step - loss: 0.9000 - mae: 0.9000 - mse: 1.2440 - val_loss: 0.9227 - val_mae: 0.9227 - val_mse: 1.3855\n",
            "Epoch 320/500\n",
            "21/21 [==============================] - 0s 3ms/step - loss: 0.9005 - mae: 0.9005 - mse: 1.2455 - val_loss: 0.9159 - val_mae: 0.9159 - val_mse: 1.3601\n",
            "Epoch 321/500\n",
            "21/21 [==============================] - 0s 4ms/step - loss: 0.8876 - mae: 0.8876 - mse: 1.2133 - val_loss: 0.8998 - val_mae: 0.8998 - val_mse: 1.2571\n",
            "Epoch 322/500\n",
            "21/21 [==============================] - 0s 3ms/step - loss: 0.8798 - mae: 0.8798 - mse: 1.1883 - val_loss: 0.8998 - val_mae: 0.8998 - val_mse: 1.2953\n",
            "Epoch 323/500\n",
            "21/21 [==============================] - 0s 3ms/step - loss: 0.8711 - mae: 0.8711 - mse: 1.1699 - val_loss: 0.8902 - val_mae: 0.8902 - val_mse: 1.2138\n",
            "Epoch 324/500\n",
            "21/21 [==============================] - 0s 2ms/step - loss: 0.8692 - mae: 0.8692 - mse: 1.1574 - val_loss: 0.8832 - val_mae: 0.8832 - val_mse: 1.2099\n",
            "Epoch 325/500\n",
            "21/21 [==============================] - 0s 2ms/step - loss: 0.8631 - mae: 0.8631 - mse: 1.1390 - val_loss: 0.8829 - val_mae: 0.8829 - val_mse: 1.1810\n",
            "Epoch 326/500\n",
            "21/21 [==============================] - 0s 2ms/step - loss: 0.8544 - mae: 0.8544 - mse: 1.1177 - val_loss: 0.8794 - val_mae: 0.8794 - val_mse: 1.2409\n",
            "Epoch 327/500\n",
            "21/21 [==============================] - 0s 2ms/step - loss: 0.8592 - mae: 0.8592 - mse: 1.1495 - val_loss: 0.8848 - val_mae: 0.8848 - val_mse: 1.1561\n",
            "Epoch 328/500\n",
            "21/21 [==============================] - 0s 2ms/step - loss: 0.8467 - mae: 0.8467 - mse: 1.1070 - val_loss: 0.8629 - val_mae: 0.8629 - val_mse: 1.1528\n",
            "Epoch 329/500\n",
            "21/21 [==============================] - 0s 4ms/step - loss: 0.8439 - mae: 0.8439 - mse: 1.0951 - val_loss: 0.8589 - val_mae: 0.8589 - val_mse: 1.1601\n",
            "Epoch 330/500\n",
            "21/21 [==============================] - 0s 2ms/step - loss: 0.8378 - mae: 0.8378 - mse: 1.0761 - val_loss: 0.8635 - val_mae: 0.8635 - val_mse: 1.1141\n",
            "Epoch 331/500\n",
            "21/21 [==============================] - 0s 3ms/step - loss: 0.8365 - mae: 0.8365 - mse: 1.0796 - val_loss: 0.8509 - val_mae: 0.8509 - val_mse: 1.1085\n",
            "Epoch 332/500\n",
            "21/21 [==============================] - 0s 3ms/step - loss: 0.8230 - mae: 0.8230 - mse: 1.0418 - val_loss: 0.8536 - val_mae: 0.8536 - val_mse: 1.1836\n",
            "Epoch 333/500\n",
            "21/21 [==============================] - 0s 3ms/step - loss: 0.8286 - mae: 0.8286 - mse: 1.0577 - val_loss: 0.8385 - val_mae: 0.8385 - val_mse: 1.0967\n",
            "Epoch 334/500\n",
            "21/21 [==============================] - 0s 3ms/step - loss: 0.8164 - mae: 0.8164 - mse: 1.0260 - val_loss: 0.8446 - val_mae: 0.8446 - val_mse: 1.1598\n",
            "Epoch 335/500\n",
            "21/21 [==============================] - 0s 4ms/step - loss: 0.8108 - mae: 0.8108 - mse: 1.0161 - val_loss: 0.8329 - val_mae: 0.8329 - val_mse: 1.0614\n",
            "Epoch 336/500\n",
            "21/21 [==============================] - 0s 2ms/step - loss: 0.8048 - mae: 0.8048 - mse: 0.9981 - val_loss: 0.8254 - val_mae: 0.8254 - val_mse: 1.0766\n",
            "Epoch 337/500\n",
            "21/21 [==============================] - 0s 3ms/step - loss: 0.8034 - mae: 0.8034 - mse: 0.9974 - val_loss: 0.8210 - val_mae: 0.8210 - val_mse: 1.0546\n",
            "Epoch 338/500\n",
            "21/21 [==============================] - 0s 3ms/step - loss: 0.7990 - mae: 0.7990 - mse: 0.9795 - val_loss: 0.8191 - val_mae: 0.8191 - val_mse: 1.0323\n",
            "Epoch 339/500\n",
            "21/21 [==============================] - 0s 2ms/step - loss: 0.7924 - mae: 0.7924 - mse: 0.9707 - val_loss: 0.8225 - val_mae: 0.8225 - val_mse: 1.0167\n",
            "Epoch 340/500\n",
            "21/21 [==============================] - 0s 3ms/step - loss: 0.7901 - mae: 0.7901 - mse: 0.9699 - val_loss: 0.8090 - val_mae: 0.8090 - val_mse: 1.0258\n",
            "Epoch 341/500\n",
            "21/21 [==============================] - 0s 2ms/step - loss: 0.7851 - mae: 0.7851 - mse: 0.9454 - val_loss: 0.8125 - val_mae: 0.8125 - val_mse: 0.9980\n",
            "Epoch 342/500\n",
            "21/21 [==============================] - 0s 3ms/step - loss: 0.7801 - mae: 0.7801 - mse: 0.9501 - val_loss: 0.8040 - val_mae: 0.8040 - val_mse: 1.0349\n",
            "Epoch 343/500\n",
            "21/21 [==============================] - 0s 2ms/step - loss: 0.7773 - mae: 0.7773 - mse: 0.9307 - val_loss: 0.8051 - val_mae: 0.8051 - val_mse: 1.0510\n",
            "Epoch 344/500\n",
            "21/21 [==============================] - 0s 2ms/step - loss: 0.7785 - mae: 0.7785 - mse: 0.9433 - val_loss: 0.8061 - val_mae: 0.8061 - val_mse: 0.9760\n",
            "Epoch 345/500\n",
            "21/21 [==============================] - 0s 2ms/step - loss: 0.7676 - mae: 0.7676 - mse: 0.9225 - val_loss: 0.7977 - val_mae: 0.7977 - val_mse: 0.9643\n",
            "Epoch 346/500\n",
            "21/21 [==============================] - 0s 3ms/step - loss: 0.7614 - mae: 0.7614 - mse: 0.9028 - val_loss: 0.7874 - val_mae: 0.7874 - val_mse: 0.9913\n",
            "Epoch 347/500\n",
            "21/21 [==============================] - 0s 3ms/step - loss: 0.7570 - mae: 0.7570 - mse: 0.8945 - val_loss: 0.7919 - val_mae: 0.7919 - val_mse: 0.9505\n",
            "Epoch 348/500\n",
            "21/21 [==============================] - 0s 3ms/step - loss: 0.7581 - mae: 0.7581 - mse: 0.8924 - val_loss: 0.7808 - val_mae: 0.7808 - val_mse: 0.9655\n",
            "Epoch 349/500\n",
            "21/21 [==============================] - 0s 2ms/step - loss: 0.7562 - mae: 0.7562 - mse: 0.8833 - val_loss: 0.7806 - val_mae: 0.7806 - val_mse: 0.9368\n",
            "Epoch 350/500\n",
            "21/21 [==============================] - 0s 3ms/step - loss: 0.7468 - mae: 0.7468 - mse: 0.8729 - val_loss: 0.7748 - val_mae: 0.7748 - val_mse: 0.9405\n",
            "Epoch 351/500\n",
            "21/21 [==============================] - 0s 2ms/step - loss: 0.7483 - mae: 0.7483 - mse: 0.8696 - val_loss: 0.7782 - val_mae: 0.7782 - val_mse: 0.9857\n",
            "Epoch 352/500\n",
            "21/21 [==============================] - 0s 3ms/step - loss: 0.7439 - mae: 0.7439 - mse: 0.8607 - val_loss: 0.7689 - val_mae: 0.7689 - val_mse: 0.9455\n",
            "Epoch 353/500\n",
            "21/21 [==============================] - 0s 4ms/step - loss: 0.7383 - mae: 0.7383 - mse: 0.8588 - val_loss: 0.7721 - val_mae: 0.7721 - val_mse: 0.9122\n",
            "Epoch 354/500\n",
            "21/21 [==============================] - 0s 3ms/step - loss: 0.7477 - mae: 0.7477 - mse: 0.8715 - val_loss: 0.7655 - val_mae: 0.7655 - val_mse: 0.9089\n",
            "Epoch 355/500\n",
            "21/21 [==============================] - 0s 3ms/step - loss: 0.7329 - mae: 0.7329 - mse: 0.8387 - val_loss: 0.7633 - val_mae: 0.7633 - val_mse: 0.9026\n",
            "Epoch 356/500\n",
            "21/21 [==============================] - 0s 2ms/step - loss: 0.7372 - mae: 0.7372 - mse: 0.8444 - val_loss: 0.7589 - val_mae: 0.7589 - val_mse: 0.9077\n",
            "Epoch 357/500\n",
            "21/21 [==============================] - 0s 3ms/step - loss: 0.7277 - mae: 0.7277 - mse: 0.8273 - val_loss: 0.7572 - val_mae: 0.7572 - val_mse: 0.9123\n",
            "Epoch 358/500\n",
            "21/21 [==============================] - 0s 2ms/step - loss: 0.7257 - mae: 0.7257 - mse: 0.8229 - val_loss: 0.7573 - val_mae: 0.7573 - val_mse: 0.8869\n",
            "Epoch 359/500\n",
            "21/21 [==============================] - 0s 2ms/step - loss: 0.7222 - mae: 0.7222 - mse: 0.8155 - val_loss: 0.7558 - val_mae: 0.7558 - val_mse: 0.8824\n",
            "Epoch 360/500\n",
            "21/21 [==============================] - 0s 3ms/step - loss: 0.7207 - mae: 0.7207 - mse: 0.8122 - val_loss: 0.7534 - val_mae: 0.7534 - val_mse: 0.8781\n",
            "Epoch 361/500\n",
            "21/21 [==============================] - 0s 3ms/step - loss: 0.7251 - mae: 0.7251 - mse: 0.8218 - val_loss: 0.7528 - val_mae: 0.7528 - val_mse: 0.8755\n",
            "Epoch 362/500\n",
            "21/21 [==============================] - 0s 3ms/step - loss: 0.7185 - mae: 0.7185 - mse: 0.8082 - val_loss: 0.7710 - val_mae: 0.7710 - val_mse: 0.8971\n",
            "Epoch 363/500\n",
            "21/21 [==============================] - 0s 2ms/step - loss: 0.7187 - mae: 0.7187 - mse: 0.8254 - val_loss: 0.7463 - val_mae: 0.7463 - val_mse: 0.8766\n",
            "Epoch 364/500\n",
            "21/21 [==============================] - 0s 3ms/step - loss: 0.7144 - mae: 0.7144 - mse: 0.7979 - val_loss: 0.7456 - val_mae: 0.7456 - val_mse: 0.8858\n",
            "Epoch 365/500\n",
            "21/21 [==============================] - 0s 2ms/step - loss: 0.7114 - mae: 0.7114 - mse: 0.7920 - val_loss: 0.7436 - val_mae: 0.7436 - val_mse: 0.8702\n",
            "Epoch 366/500\n",
            "21/21 [==============================] - 0s 3ms/step - loss: 0.7076 - mae: 0.7076 - mse: 0.7837 - val_loss: 0.7428 - val_mae: 0.7428 - val_mse: 0.8597\n",
            "Epoch 367/500\n",
            "21/21 [==============================] - 0s 4ms/step - loss: 0.7043 - mae: 0.7043 - mse: 0.7791 - val_loss: 0.7414 - val_mae: 0.7414 - val_mse: 0.8568\n",
            "Epoch 368/500\n",
            "21/21 [==============================] - 0s 3ms/step - loss: 0.7015 - mae: 0.7015 - mse: 0.7760 - val_loss: 0.7414 - val_mae: 0.7414 - val_mse: 0.8797\n",
            "Epoch 369/500\n",
            "21/21 [==============================] - 0s 4ms/step - loss: 0.7038 - mae: 0.7038 - mse: 0.7832 - val_loss: 0.7416 - val_mae: 0.7416 - val_mse: 0.8502\n",
            "Epoch 370/500\n",
            "21/21 [==============================] - 0s 3ms/step - loss: 0.7009 - mae: 0.7009 - mse: 0.7738 - val_loss: 0.7385 - val_mae: 0.7385 - val_mse: 0.8704\n",
            "Epoch 371/500\n",
            "21/21 [==============================] - 0s 2ms/step - loss: 0.7044 - mae: 0.7044 - mse: 0.7759 - val_loss: 0.7361 - val_mae: 0.7361 - val_mse: 0.8523\n",
            "Epoch 372/500\n",
            "21/21 [==============================] - 0s 3ms/step - loss: 0.7030 - mae: 0.7030 - mse: 0.7744 - val_loss: 0.7475 - val_mae: 0.7475 - val_mse: 0.9213\n",
            "Epoch 373/500\n",
            "21/21 [==============================] - 0s 3ms/step - loss: 0.6970 - mae: 0.6970 - mse: 0.7654 - val_loss: 0.7345 - val_mae: 0.7345 - val_mse: 0.8405\n",
            "Epoch 374/500\n",
            "21/21 [==============================] - 0s 2ms/step - loss: 0.7088 - mae: 0.7088 - mse: 0.7870 - val_loss: 0.7365 - val_mae: 0.7365 - val_mse: 0.8388\n",
            "Epoch 375/500\n",
            "21/21 [==============================] - 0s 2ms/step - loss: 0.6923 - mae: 0.6923 - mse: 0.7618 - val_loss: 0.7505 - val_mae: 0.7505 - val_mse: 0.8549\n",
            "Epoch 376/500\n",
            "21/21 [==============================] - 0s 3ms/step - loss: 0.6981 - mae: 0.6981 - mse: 0.7672 - val_loss: 0.7488 - val_mae: 0.7488 - val_mse: 0.8517\n",
            "Epoch 377/500\n",
            "21/21 [==============================] - 0s 3ms/step - loss: 0.6915 - mae: 0.6915 - mse: 0.7538 - val_loss: 0.7310 - val_mae: 0.7310 - val_mse: 0.8335\n",
            "Epoch 378/500\n",
            "21/21 [==============================] - 0s 2ms/step - loss: 0.6876 - mae: 0.6876 - mse: 0.7478 - val_loss: 0.7302 - val_mae: 0.7302 - val_mse: 0.8318\n",
            "Epoch 379/500\n",
            "21/21 [==============================] - 0s 2ms/step - loss: 0.6874 - mae: 0.6874 - mse: 0.7460 - val_loss: 0.7335 - val_mae: 0.7335 - val_mse: 0.8737\n",
            "Epoch 380/500\n",
            "21/21 [==============================] - 0s 2ms/step - loss: 0.6939 - mae: 0.6939 - mse: 0.7585 - val_loss: 0.7331 - val_mae: 0.7331 - val_mse: 0.8737\n",
            "Epoch 381/500\n",
            "21/21 [==============================] - 0s 2ms/step - loss: 0.6929 - mae: 0.6929 - mse: 0.7552 - val_loss: 0.7317 - val_mae: 0.7317 - val_mse: 0.8684\n",
            "Epoch 382/500\n",
            "21/21 [==============================] - 0s 2ms/step - loss: 0.6941 - mae: 0.6941 - mse: 0.7642 - val_loss: 0.7294 - val_mae: 0.7294 - val_mse: 0.8263\n",
            "Epoch 383/500\n",
            "21/21 [==============================] - 0s 3ms/step - loss: 0.6835 - mae: 0.6835 - mse: 0.7392 - val_loss: 0.7256 - val_mae: 0.7256 - val_mse: 0.8322\n",
            "Epoch 384/500\n",
            "21/21 [==============================] - 0s 3ms/step - loss: 0.6823 - mae: 0.6823 - mse: 0.7389 - val_loss: 0.7263 - val_mae: 0.7263 - val_mse: 0.8243\n",
            "Epoch 385/500\n",
            "21/21 [==============================] - 0s 2ms/step - loss: 0.6821 - mae: 0.6821 - mse: 0.7404 - val_loss: 0.7246 - val_mae: 0.7246 - val_mse: 0.8339\n",
            "Epoch 386/500\n",
            "21/21 [==============================] - 0s 2ms/step - loss: 0.6811 - mae: 0.6811 - mse: 0.7368 - val_loss: 0.7252 - val_mae: 0.7252 - val_mse: 0.8226\n",
            "Epoch 387/500\n",
            "21/21 [==============================] - 0s 3ms/step - loss: 0.6791 - mae: 0.6791 - mse: 0.7330 - val_loss: 0.7281 - val_mae: 0.7281 - val_mse: 0.8615\n",
            "Epoch 388/500\n",
            "21/21 [==============================] - 0s 3ms/step - loss: 0.6835 - mae: 0.6835 - mse: 0.7498 - val_loss: 0.7406 - val_mae: 0.7406 - val_mse: 0.8347\n",
            "Epoch 389/500\n",
            "21/21 [==============================] - 0s 4ms/step - loss: 0.6913 - mae: 0.6913 - mse: 0.7542 - val_loss: 0.7436 - val_mae: 0.7436 - val_mse: 0.8378\n",
            "Epoch 390/500\n",
            "21/21 [==============================] - 0s 4ms/step - loss: 0.6898 - mae: 0.6898 - mse: 0.7569 - val_loss: 0.7268 - val_mae: 0.7268 - val_mse: 0.8208\n",
            "Epoch 391/500\n",
            "21/21 [==============================] - 0s 3ms/step - loss: 0.6839 - mae: 0.6839 - mse: 0.7404 - val_loss: 0.7305 - val_mae: 0.7305 - val_mse: 0.8809\n",
            "Epoch 392/500\n",
            "21/21 [==============================] - 0s 3ms/step - loss: 0.6794 - mae: 0.6794 - mse: 0.7326 - val_loss: 0.7215 - val_mae: 0.7215 - val_mse: 0.8314\n",
            "Epoch 393/500\n",
            "21/21 [==============================] - 0s 3ms/step - loss: 0.6789 - mae: 0.6789 - mse: 0.7401 - val_loss: 0.7564 - val_mae: 0.7564 - val_mse: 0.9607\n",
            "Epoch 394/500\n",
            "21/21 [==============================] - 0s 2ms/step - loss: 0.6884 - mae: 0.6884 - mse: 0.7574 - val_loss: 0.7225 - val_mae: 0.7225 - val_mse: 0.8186\n",
            "Epoch 395/500\n",
            "21/21 [==============================] - 0s 2ms/step - loss: 0.6832 - mae: 0.6832 - mse: 0.7431 - val_loss: 0.7225 - val_mae: 0.7225 - val_mse: 0.8182\n",
            "Epoch 396/500\n",
            "21/21 [==============================] - 0s 2ms/step - loss: 0.6778 - mae: 0.6778 - mse: 0.7314 - val_loss: 0.7232 - val_mae: 0.7232 - val_mse: 0.8180\n",
            "Epoch 397/500\n",
            "21/21 [==============================] - 0s 3ms/step - loss: 0.6743 - mae: 0.6743 - mse: 0.7255 - val_loss: 0.7261 - val_mae: 0.7261 - val_mse: 0.8196\n",
            "Epoch 398/500\n",
            "21/21 [==============================] - 0s 3ms/step - loss: 0.6749 - mae: 0.6749 - mse: 0.7232 - val_loss: 0.7231 - val_mae: 0.7231 - val_mse: 0.8504\n",
            "Epoch 399/500\n",
            "21/21 [==============================] - 0s 2ms/step - loss: 0.6785 - mae: 0.6785 - mse: 0.7291 - val_loss: 0.7185 - val_mae: 0.7185 - val_mse: 0.8247\n",
            "Epoch 400/500\n",
            "21/21 [==============================] - 0s 3ms/step - loss: 0.6726 - mae: 0.6726 - mse: 0.7214 - val_loss: 0.7245 - val_mae: 0.7245 - val_mse: 0.8185\n",
            "Epoch 401/500\n",
            "21/21 [==============================] - 0s 3ms/step - loss: 0.6753 - mae: 0.6753 - mse: 0.7254 - val_loss: 0.7177 - val_mae: 0.7177 - val_mse: 0.8233\n",
            "Epoch 402/500\n",
            "21/21 [==============================] - 0s 3ms/step - loss: 0.6755 - mae: 0.6755 - mse: 0.7235 - val_loss: 0.7179 - val_mae: 0.7179 - val_mse: 0.8280\n",
            "Epoch 403/500\n",
            "21/21 [==============================] - 0s 3ms/step - loss: 0.6759 - mae: 0.6759 - mse: 0.7259 - val_loss: 0.7182 - val_mae: 0.7182 - val_mse: 0.8317\n",
            "Epoch 404/500\n",
            "21/21 [==============================] - 0s 3ms/step - loss: 0.6853 - mae: 0.6853 - mse: 0.7405 - val_loss: 0.7190 - val_mae: 0.7190 - val_mse: 0.8375\n",
            "Epoch 405/500\n",
            "21/21 [==============================] - 0s 2ms/step - loss: 0.6906 - mae: 0.6906 - mse: 0.7609 - val_loss: 0.7317 - val_mae: 0.7317 - val_mse: 0.8246\n",
            "Epoch 406/500\n",
            "21/21 [==============================] - 0s 4ms/step - loss: 0.6760 - mae: 0.6760 - mse: 0.7299 - val_loss: 0.7181 - val_mae: 0.7181 - val_mse: 0.8174\n",
            "Epoch 407/500\n",
            "21/21 [==============================] - 0s 3ms/step - loss: 0.6792 - mae: 0.6792 - mse: 0.7389 - val_loss: 0.7807 - val_mae: 0.7807 - val_mse: 0.9136\n",
            "Epoch 408/500\n",
            "21/21 [==============================] - 0s 3ms/step - loss: 0.6712 - mae: 0.6712 - mse: 0.7251 - val_loss: 0.7162 - val_mae: 0.7162 - val_mse: 0.8209\n",
            "Epoch 409/500\n",
            "21/21 [==============================] - 0s 4ms/step - loss: 0.6721 - mae: 0.6721 - mse: 0.7234 - val_loss: 0.7158 - val_mae: 0.7158 - val_mse: 0.8217\n",
            "Epoch 410/500\n",
            "21/21 [==============================] - 0s 3ms/step - loss: 0.6711 - mae: 0.6711 - mse: 0.7199 - val_loss: 0.7154 - val_mae: 0.7154 - val_mse: 0.8242\n",
            "Epoch 411/500\n",
            "21/21 [==============================] - 0s 2ms/step - loss: 0.6698 - mae: 0.6698 - mse: 0.7147 - val_loss: 0.7156 - val_mae: 0.7156 - val_mse: 0.8263\n",
            "Epoch 412/500\n",
            "21/21 [==============================] - 0s 3ms/step - loss: 0.6737 - mae: 0.6737 - mse: 0.7254 - val_loss: 0.7507 - val_mae: 0.7507 - val_mse: 0.8491\n",
            "Epoch 413/500\n",
            "21/21 [==============================] - 0s 3ms/step - loss: 0.6727 - mae: 0.6727 - mse: 0.7219 - val_loss: 0.7294 - val_mae: 0.7294 - val_mse: 0.8236\n",
            "Epoch 414/500\n",
            "21/21 [==============================] - 0s 3ms/step - loss: 0.6730 - mae: 0.6730 - mse: 0.7221 - val_loss: 0.7280 - val_mae: 0.7280 - val_mse: 0.8809\n",
            "Epoch 415/500\n",
            "21/21 [==============================] - 0s 2ms/step - loss: 0.6809 - mae: 0.6809 - mse: 0.7366 - val_loss: 0.7174 - val_mae: 0.7174 - val_mse: 0.8175\n",
            "Epoch 416/500\n",
            "21/21 [==============================] - 0s 3ms/step - loss: 0.6800 - mae: 0.6800 - mse: 0.7363 - val_loss: 0.7410 - val_mae: 0.7410 - val_mse: 0.8360\n",
            "Epoch 417/500\n",
            "21/21 [==============================] - 0s 3ms/step - loss: 0.6708 - mae: 0.6708 - mse: 0.7184 - val_loss: 0.7165 - val_mae: 0.7165 - val_mse: 0.8183\n",
            "Epoch 418/500\n",
            "21/21 [==============================] - 0s 2ms/step - loss: 0.6678 - mae: 0.6678 - mse: 0.7106 - val_loss: 0.7253 - val_mae: 0.7253 - val_mse: 0.8683\n",
            "Epoch 419/500\n",
            "21/21 [==============================] - 0s 3ms/step - loss: 0.6768 - mae: 0.6768 - mse: 0.7296 - val_loss: 0.7295 - val_mae: 0.7295 - val_mse: 0.8246\n",
            "Epoch 420/500\n",
            "21/21 [==============================] - 0s 2ms/step - loss: 0.6693 - mae: 0.6693 - mse: 0.7190 - val_loss: 0.7301 - val_mae: 0.7301 - val_mse: 0.8254\n",
            "Epoch 421/500\n",
            "21/21 [==============================] - 0s 3ms/step - loss: 0.6798 - mae: 0.6798 - mse: 0.7336 - val_loss: 0.7189 - val_mae: 0.7189 - val_mse: 0.8187\n",
            "Epoch 422/500\n",
            "21/21 [==============================] - 0s 3ms/step - loss: 0.6681 - mae: 0.6681 - mse: 0.7140 - val_loss: 0.7147 - val_mae: 0.7147 - val_mse: 0.8235\n",
            "Epoch 423/500\n",
            "21/21 [==============================] - 0s 3ms/step - loss: 0.6732 - mae: 0.6732 - mse: 0.7261 - val_loss: 0.7168 - val_mae: 0.7168 - val_mse: 0.8358\n",
            "Epoch 424/500\n",
            "21/21 [==============================] - 0s 4ms/step - loss: 0.6800 - mae: 0.6800 - mse: 0.7293 - val_loss: 0.7188 - val_mae: 0.7188 - val_mse: 0.8435\n",
            "Epoch 425/500\n",
            "21/21 [==============================] - 0s 3ms/step - loss: 0.6789 - mae: 0.6789 - mse: 0.7416 - val_loss: 0.7331 - val_mae: 0.7331 - val_mse: 0.9016\n",
            "Epoch 426/500\n",
            "21/21 [==============================] - 0s 3ms/step - loss: 0.6916 - mae: 0.6916 - mse: 0.7507 - val_loss: 0.7253 - val_mae: 0.7253 - val_mse: 0.8693\n",
            "Epoch 427/500\n",
            "21/21 [==============================] - 0s 3ms/step - loss: 0.6752 - mae: 0.6752 - mse: 0.7272 - val_loss: 0.7149 - val_mae: 0.7149 - val_mse: 0.8229\n",
            "Epoch 428/500\n",
            "21/21 [==============================] - 0s 3ms/step - loss: 0.6738 - mae: 0.6738 - mse: 0.7258 - val_loss: 0.7159 - val_mae: 0.7159 - val_mse: 0.8338\n",
            "Epoch 429/500\n",
            "21/21 [==============================] - 0s 2ms/step - loss: 0.6720 - mae: 0.6720 - mse: 0.7166 - val_loss: 0.7182 - val_mae: 0.7182 - val_mse: 0.8204\n",
            "Epoch 430/500\n",
            "21/21 [==============================] - 0s 2ms/step - loss: 0.6680 - mae: 0.6680 - mse: 0.7136 - val_loss: 0.7391 - val_mae: 0.7391 - val_mse: 0.8374\n",
            "Epoch 431/500\n",
            "21/21 [==============================] - 0s 3ms/step - loss: 0.6709 - mae: 0.6709 - mse: 0.7186 - val_loss: 0.7156 - val_mae: 0.7156 - val_mse: 0.8217\n",
            "Epoch 432/500\n",
            "21/21 [==============================] - 0s 3ms/step - loss: 0.6664 - mae: 0.6664 - mse: 0.7121 - val_loss: 0.7142 - val_mae: 0.7142 - val_mse: 0.8271\n",
            "Epoch 433/500\n",
            "21/21 [==============================] - 0s 2ms/step - loss: 0.6710 - mae: 0.6710 - mse: 0.7187 - val_loss: 0.7175 - val_mae: 0.7175 - val_mse: 0.8404\n",
            "Epoch 434/500\n",
            "21/21 [==============================] - 0s 3ms/step - loss: 0.6652 - mae: 0.6652 - mse: 0.7140 - val_loss: 0.7282 - val_mae: 0.7282 - val_mse: 0.8270\n",
            "Epoch 435/500\n",
            "21/21 [==============================] - 0s 3ms/step - loss: 0.6696 - mae: 0.6696 - mse: 0.7210 - val_loss: 0.7248 - val_mae: 0.7248 - val_mse: 0.8249\n",
            "Epoch 436/500\n",
            "21/21 [==============================] - 0s 4ms/step - loss: 0.6792 - mae: 0.6792 - mse: 0.7350 - val_loss: 0.7204 - val_mae: 0.7204 - val_mse: 0.8519\n",
            "Epoch 437/500\n",
            "21/21 [==============================] - 0s 3ms/step - loss: 0.6717 - mae: 0.6717 - mse: 0.7253 - val_loss: 0.7146 - val_mae: 0.7146 - val_mse: 0.8317\n",
            "Epoch 438/500\n",
            "21/21 [==============================] - 0s 3ms/step - loss: 0.6790 - mae: 0.6790 - mse: 0.7400 - val_loss: 0.7242 - val_mae: 0.7242 - val_mse: 0.8252\n",
            "Epoch 439/500\n",
            "21/21 [==============================] - 0s 3ms/step - loss: 0.6678 - mae: 0.6678 - mse: 0.7167 - val_loss: 0.7167 - val_mae: 0.7167 - val_mse: 0.8229\n",
            "Epoch 440/500\n",
            "21/21 [==============================] - 0s 3ms/step - loss: 0.6763 - mae: 0.6763 - mse: 0.7347 - val_loss: 0.7476 - val_mae: 0.7476 - val_mse: 0.8526\n",
            "Epoch 441/500\n",
            "21/21 [==============================] - 0s 3ms/step - loss: 0.6745 - mae: 0.6745 - mse: 0.7315 - val_loss: 0.7416 - val_mae: 0.7416 - val_mse: 0.8436\n",
            "Epoch 442/500\n",
            "21/21 [==============================] - 0s 2ms/step - loss: 0.6713 - mae: 0.6713 - mse: 0.7196 - val_loss: 0.7223 - val_mae: 0.7223 - val_mse: 0.8250\n",
            "Epoch 443/500\n",
            "21/21 [==============================] - 0s 3ms/step - loss: 0.6685 - mae: 0.6685 - mse: 0.7185 - val_loss: 0.7170 - val_mae: 0.7170 - val_mse: 0.8238\n",
            "Epoch 444/500\n",
            "21/21 [==============================] - 0s 3ms/step - loss: 0.6679 - mae: 0.6679 - mse: 0.7149 - val_loss: 0.7170 - val_mae: 0.7170 - val_mse: 0.8240\n",
            "Epoch 445/500\n",
            "21/21 [==============================] - 0s 3ms/step - loss: 0.6662 - mae: 0.6662 - mse: 0.7139 - val_loss: 0.7208 - val_mae: 0.7208 - val_mse: 0.8248\n",
            "Epoch 446/500\n",
            "21/21 [==============================] - 0s 3ms/step - loss: 0.6673 - mae: 0.6673 - mse: 0.7177 - val_loss: 0.7148 - val_mae: 0.7148 - val_mse: 0.8307\n",
            "Epoch 447/500\n",
            "21/21 [==============================] - 0s 3ms/step - loss: 0.6650 - mae: 0.6650 - mse: 0.7120 - val_loss: 0.7157 - val_mae: 0.7157 - val_mse: 0.8258\n",
            "Epoch 448/500\n",
            "21/21 [==============================] - 0s 2ms/step - loss: 0.6754 - mae: 0.6754 - mse: 0.7286 - val_loss: 0.7409 - val_mae: 0.7409 - val_mse: 0.8431\n",
            "Epoch 449/500\n",
            "21/21 [==============================] - 0s 3ms/step - loss: 0.6730 - mae: 0.6730 - mse: 0.7252 - val_loss: 0.7306 - val_mae: 0.7306 - val_mse: 0.8312\n",
            "Epoch 450/500\n",
            "21/21 [==============================] - 0s 3ms/step - loss: 0.6684 - mae: 0.6684 - mse: 0.7154 - val_loss: 0.7152 - val_mae: 0.7152 - val_mse: 0.8328\n",
            "Epoch 451/500\n",
            "21/21 [==============================] - 0s 3ms/step - loss: 0.6702 - mae: 0.6702 - mse: 0.7213 - val_loss: 0.7294 - val_mae: 0.7294 - val_mse: 0.8875\n",
            "Epoch 452/500\n",
            "21/21 [==============================] - 0s 3ms/step - loss: 0.6811 - mae: 0.6811 - mse: 0.7426 - val_loss: 0.7157 - val_mae: 0.7157 - val_mse: 0.8261\n",
            "Epoch 453/500\n",
            "21/21 [==============================] - 0s 3ms/step - loss: 0.6688 - mae: 0.6688 - mse: 0.7198 - val_loss: 0.7153 - val_mae: 0.7153 - val_mse: 0.8327\n",
            "Epoch 454/500\n",
            "21/21 [==============================] - 0s 3ms/step - loss: 0.6723 - mae: 0.6723 - mse: 0.7214 - val_loss: 0.7156 - val_mae: 0.7156 - val_mse: 0.8345\n",
            "Epoch 455/500\n",
            "21/21 [==============================] - 0s 4ms/step - loss: 0.6735 - mae: 0.6735 - mse: 0.7281 - val_loss: 0.7153 - val_mae: 0.7153 - val_mse: 0.8329\n",
            "Epoch 456/500\n",
            "21/21 [==============================] - 0s 3ms/step - loss: 0.6816 - mae: 0.6816 - mse: 0.7426 - val_loss: 0.7213 - val_mae: 0.7213 - val_mse: 0.8545\n",
            "Epoch 457/500\n",
            "21/21 [==============================] - 0s 3ms/step - loss: 0.6692 - mae: 0.6692 - mse: 0.7163 - val_loss: 0.7159 - val_mae: 0.7159 - val_mse: 0.8258\n",
            "Epoch 458/500\n",
            "21/21 [==============================] - 0s 3ms/step - loss: 0.6689 - mae: 0.6689 - mse: 0.7164 - val_loss: 0.7150 - val_mae: 0.7150 - val_mse: 0.8293\n",
            "Epoch 459/500\n",
            "21/21 [==============================] - 0s 3ms/step - loss: 0.6664 - mae: 0.6664 - mse: 0.7139 - val_loss: 0.7167 - val_mae: 0.7167 - val_mse: 0.8249\n",
            "Epoch 460/500\n",
            "21/21 [==============================] - 0s 3ms/step - loss: 0.6667 - mae: 0.6667 - mse: 0.7134 - val_loss: 0.7150 - val_mae: 0.7150 - val_mse: 0.8302\n",
            "Epoch 461/500\n",
            "21/21 [==============================] - 0s 3ms/step - loss: 0.6654 - mae: 0.6654 - mse: 0.7130 - val_loss: 0.7195 - val_mae: 0.7195 - val_mse: 0.8475\n",
            "Epoch 462/500\n",
            "21/21 [==============================] - 0s 3ms/step - loss: 0.6736 - mae: 0.6736 - mse: 0.7252 - val_loss: 0.7293 - val_mae: 0.7293 - val_mse: 0.8867\n",
            "Epoch 463/500\n",
            "21/21 [==============================] - 0s 3ms/step - loss: 0.6826 - mae: 0.6826 - mse: 0.7397 - val_loss: 0.7153 - val_mae: 0.7153 - val_mse: 0.8326\n",
            "Epoch 464/500\n",
            "21/21 [==============================] - 0s 3ms/step - loss: 0.6899 - mae: 0.6899 - mse: 0.7607 - val_loss: 0.7213 - val_mae: 0.7213 - val_mse: 0.8546\n",
            "Epoch 465/500\n",
            "21/21 [==============================] - 0s 3ms/step - loss: 0.6747 - mae: 0.6747 - mse: 0.7260 - val_loss: 0.7183 - val_mae: 0.7183 - val_mse: 0.8252\n",
            "Epoch 466/500\n",
            "21/21 [==============================] - 0s 3ms/step - loss: 0.6666 - mae: 0.6666 - mse: 0.7144 - val_loss: 0.7200 - val_mae: 0.7200 - val_mse: 0.8256\n",
            "Epoch 467/500\n",
            "21/21 [==============================] - 0s 2ms/step - loss: 0.6693 - mae: 0.6693 - mse: 0.7176 - val_loss: 0.7213 - val_mae: 0.7213 - val_mse: 0.8261\n",
            "Epoch 468/500\n",
            "21/21 [==============================] - 0s 3ms/step - loss: 0.6671 - mae: 0.6671 - mse: 0.7147 - val_loss: 0.7322 - val_mae: 0.7322 - val_mse: 0.8331\n",
            "Epoch 469/500\n",
            "21/21 [==============================] - 0s 3ms/step - loss: 0.6681 - mae: 0.6681 - mse: 0.7182 - val_loss: 0.7163 - val_mae: 0.7163 - val_mse: 0.8260\n",
            "Epoch 470/500\n",
            "21/21 [==============================] - 0s 3ms/step - loss: 0.6679 - mae: 0.6679 - mse: 0.7182 - val_loss: 0.7156 - val_mae: 0.7156 - val_mse: 0.8283\n",
            "Epoch 471/500\n",
            "21/21 [==============================] - 0s 3ms/step - loss: 0.6686 - mae: 0.6686 - mse: 0.7166 - val_loss: 0.7158 - val_mae: 0.7158 - val_mse: 0.8276\n",
            "Epoch 472/500\n",
            "21/21 [==============================] - 0s 3ms/step - loss: 0.6680 - mae: 0.6680 - mse: 0.7197 - val_loss: 0.7157 - val_mae: 0.7157 - val_mse: 0.8281\n",
            "Epoch 473/500\n",
            "21/21 [==============================] - 0s 2ms/step - loss: 0.6665 - mae: 0.6665 - mse: 0.7120 - val_loss: 0.7200 - val_mae: 0.7200 - val_mse: 0.8258\n",
            "Epoch 474/500\n",
            "21/21 [==============================] - 0s 3ms/step - loss: 0.6675 - mae: 0.6675 - mse: 0.7174 - val_loss: 0.7232 - val_mae: 0.7232 - val_mse: 0.8612\n",
            "Epoch 475/500\n",
            "21/21 [==============================] - 0s 3ms/step - loss: 0.6675 - mae: 0.6675 - mse: 0.7187 - val_loss: 0.7156 - val_mae: 0.7156 - val_mse: 0.8335\n",
            "Epoch 476/500\n",
            "21/21 [==============================] - 0s 2ms/step - loss: 0.6657 - mae: 0.6657 - mse: 0.7131 - val_loss: 0.7170 - val_mae: 0.7170 - val_mse: 0.8257\n",
            "Epoch 477/500\n",
            "21/21 [==============================] - 0s 3ms/step - loss: 0.6667 - mae: 0.6667 - mse: 0.7167 - val_loss: 0.7154 - val_mae: 0.7154 - val_mse: 0.8323\n",
            "Epoch 478/500\n",
            "21/21 [==============================] - 0s 3ms/step - loss: 0.6699 - mae: 0.6699 - mse: 0.7168 - val_loss: 0.7246 - val_mae: 0.7246 - val_mse: 0.8278\n",
            "Epoch 479/500\n",
            "21/21 [==============================] - 0s 3ms/step - loss: 0.6773 - mae: 0.6773 - mse: 0.7294 - val_loss: 0.7172 - val_mae: 0.7172 - val_mse: 0.8397\n",
            "Epoch 480/500\n",
            "21/21 [==============================] - 0s 3ms/step - loss: 0.6718 - mae: 0.6718 - mse: 0.7206 - val_loss: 0.7153 - val_mae: 0.7153 - val_mse: 0.8301\n",
            "Epoch 481/500\n",
            "21/21 [==============================] - 0s 3ms/step - loss: 0.6683 - mae: 0.6683 - mse: 0.7175 - val_loss: 0.7155 - val_mae: 0.7155 - val_mse: 0.8323\n",
            "Epoch 482/500\n",
            "21/21 [==============================] - 0s 2ms/step - loss: 0.6710 - mae: 0.6710 - mse: 0.7196 - val_loss: 0.7190 - val_mae: 0.7190 - val_mse: 0.8456\n",
            "Epoch 483/500\n",
            "21/21 [==============================] - 0s 3ms/step - loss: 0.6762 - mae: 0.6762 - mse: 0.7268 - val_loss: 0.7198 - val_mae: 0.7198 - val_mse: 0.8485\n",
            "Epoch 484/500\n",
            "21/21 [==============================] - 0s 3ms/step - loss: 0.6777 - mae: 0.6777 - mse: 0.7328 - val_loss: 0.7169 - val_mae: 0.7169 - val_mse: 0.8262\n",
            "Epoch 485/500\n",
            "21/21 [==============================] - 0s 3ms/step - loss: 0.6667 - mae: 0.6667 - mse: 0.7146 - val_loss: 0.7169 - val_mae: 0.7169 - val_mse: 0.8389\n",
            "Epoch 486/500\n",
            "21/21 [==============================] - 0s 3ms/step - loss: 0.6687 - mae: 0.6687 - mse: 0.7174 - val_loss: 0.7164 - val_mae: 0.7164 - val_mse: 0.8265\n",
            "Epoch 487/500\n",
            "21/21 [==============================] - 0s 3ms/step - loss: 0.6690 - mae: 0.6690 - mse: 0.7156 - val_loss: 0.7169 - val_mae: 0.7169 - val_mse: 0.8390\n",
            "Epoch 488/500\n",
            "21/21 [==============================] - 0s 3ms/step - loss: 0.6649 - mae: 0.6649 - mse: 0.7123 - val_loss: 0.7159 - val_mae: 0.7159 - val_mse: 0.8277\n",
            "Epoch 489/500\n",
            "21/21 [==============================] - 0s 3ms/step - loss: 0.6726 - mae: 0.6726 - mse: 0.7280 - val_loss: 0.7380 - val_mae: 0.7380 - val_mse: 0.8398\n",
            "Epoch 490/500\n",
            "21/21 [==============================] - 0s 2ms/step - loss: 0.6709 - mae: 0.6709 - mse: 0.7253 - val_loss: 0.7197 - val_mae: 0.7197 - val_mse: 0.8258\n",
            "Epoch 491/500\n",
            "21/21 [==============================] - 0s 3ms/step - loss: 0.6706 - mae: 0.6706 - mse: 0.7221 - val_loss: 0.7155 - val_mae: 0.7155 - val_mse: 0.8285\n",
            "Epoch 492/500\n",
            "21/21 [==============================] - 0s 3ms/step - loss: 0.6757 - mae: 0.6757 - mse: 0.7255 - val_loss: 0.7198 - val_mae: 0.7198 - val_mse: 0.8485\n",
            "Epoch 493/500\n",
            "21/21 [==============================] - 0s 3ms/step - loss: 0.6759 - mae: 0.6759 - mse: 0.7342 - val_loss: 0.7158 - val_mae: 0.7158 - val_mse: 0.8277\n",
            "Epoch 494/500\n",
            "21/21 [==============================] - 0s 3ms/step - loss: 0.6664 - mae: 0.6664 - mse: 0.7152 - val_loss: 0.7240 - val_mae: 0.7240 - val_mse: 0.8278\n",
            "Epoch 495/500\n",
            "21/21 [==============================] - 0s 3ms/step - loss: 0.6665 - mae: 0.6665 - mse: 0.7160 - val_loss: 0.7228 - val_mae: 0.7228 - val_mse: 0.8271\n",
            "Epoch 496/500\n",
            "21/21 [==============================] - 0s 3ms/step - loss: 0.6690 - mae: 0.6690 - mse: 0.7195 - val_loss: 0.7153 - val_mae: 0.7153 - val_mse: 0.8308\n",
            "Epoch 497/500\n",
            "21/21 [==============================] - 0s 3ms/step - loss: 0.6671 - mae: 0.6671 - mse: 0.7168 - val_loss: 0.7292 - val_mae: 0.7292 - val_mse: 0.8308\n",
            "Epoch 498/500\n",
            "21/21 [==============================] - 0s 2ms/step - loss: 0.6730 - mae: 0.6730 - mse: 0.7288 - val_loss: 0.7716 - val_mae: 0.7716 - val_mse: 0.9066\n",
            "Epoch 499/500\n",
            "21/21 [==============================] - 0s 3ms/step - loss: 0.6857 - mae: 0.6857 - mse: 0.7589 - val_loss: 0.7172 - val_mae: 0.7172 - val_mse: 0.8262\n",
            "Epoch 500/500\n",
            "21/21 [==============================] - 0s 3ms/step - loss: 0.6681 - mae: 0.6681 - mse: 0.7167 - val_loss: 0.7156 - val_mae: 0.7156 - val_mse: 0.8286\n"
          ],
          "name": "stdout"
        }
      ]
    },
    {
      "cell_type": "code",
      "metadata": {
        "colab": {
          "base_uri": "https://localhost:8080/"
        },
        "id": "xEsjIjI_Aeji",
        "outputId": "198652b4-26d7-42b7-9865-5560c7b1b477"
      },
      "source": [
        "model.summary()"
      ],
      "execution_count": null,
      "outputs": [
        {
          "output_type": "stream",
          "text": [
            "Model: \"sequential\"\n",
            "_________________________________________________________________\n",
            "Layer (type)                 Output Shape              Param #   \n",
            "=================================================================\n",
            "dense (Dense)                (None, 1)                 2         \n",
            "=================================================================\n",
            "Total params: 2\n",
            "Trainable params: 2\n",
            "Non-trainable params: 0\n",
            "_________________________________________________________________\n"
          ],
          "name": "stdout"
        }
      ]
    },
    {
      "cell_type": "code",
      "metadata": {
        "id": "-o4WM4EkAel8",
        "colab": {
          "base_uri": "https://localhost:8080/",
          "height": 1000
        },
        "outputId": "72714c02-789c-41ec-f77b-0996a66def1d"
      },
      "source": [
        "def curvePlots(tempString):\n",
        "  plt.plot(history.history[tempString])\n",
        "  plt.plot(history.history[f'val_{tempString}'])\n",
        "  plt.xlabel('NumEpochs')\n",
        "  plt.ylabel(tempString)\n",
        "  plt.legend([tempString, f'val_{tempString}'])\n",
        "  plt.show()\n",
        "\n",
        "\n",
        "curvePlots('mse')\n",
        "curvePlots('mae')\n",
        "curvePlots('loss')"
      ],
      "execution_count": null,
      "outputs": [
        {
          "output_type": "display_data",
          "data": {
            "image/png": "[encoded data removed]",
            "text/plain": [
              "<Figure size 576x396 with 1 Axes>"
            ]
          },
          "metadata": {
            "tags": []
          }
        },
        {
          "output_type": "display_data",
          "data": {
            "image/png": "[encoded data removed]",
            "text/plain": [
              "<Figure size 576x396 with 1 Axes>"
            ]
          },
          "metadata": {
            "tags": []
          }
        },
        {
          "output_type": "display_data",
          "data": {
            "image/png": "[encoded data removed]",
            "text/plain": [
              "<Figure size 576x396 with 1 Axes>"
            ]
          },
          "metadata": {
            "tags": []
          }
        }
      ]
    }
  ]
}