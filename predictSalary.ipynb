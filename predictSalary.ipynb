{
  "nbformat": 4,
  "nbformat_minor": 0,
  "metadata": {
    "colab": {
      "name": "predictSalary.ipynb",
      "provenance": [],
      "collapsed_sections": [],
      "authorship_tag": "ABX9TyMgxxVtBEbBVW5ieAUfWLyG",
      "include_colab_link": true
    },
    "kernelspec": {
      "name": "python3",
      "display_name": "Python 3"
    },
    "language_info": {
      "name": "python"
    }
  },
  "cells": [
    {
      "cell_type": "markdown",
      "metadata": {
        "id": "view-in-github",
        "colab_type": "text"
      },
      "source": [
        "<a href=\"https://colab.research.google.com/github/vennela28/MLnow_2.0/blob/main/predictSalary.ipynb\" target=\"_parent\"><img src=\"https://colab.research.google.com/assets/colab-badge.svg\" alt=\"Open In Colab\"/></a>"
      ]
    },
    {
      "cell_type": "markdown",
      "metadata": {
        "id": "cj_-iODmQipr"
      },
      "source": [
        "**Date**: June 21, 2021\n",
        "\n",
        "**Author**: [Vennela](https://github.com/vennela28)\n",
        "\n",
        "[Dataset](https://www.kaggle.com/karthickveerakumar/salary-data-simple-linear-regression)\n",
        "\n",
        "**Agenda**: Given the years of experience `YearsExperience`, predict the salary `Salary`.\n"
      ]
    },
    {
      "cell_type": "code",
      "metadata": {
        "colab": {
          "base_uri": "https://localhost:8080/"
        },
        "id": "IojXehmnQgJg",
        "outputId": "70b4a59a-9808-4ca8-a1a7-bd7b66a467a5"
      },
      "source": [
        "from google.colab import drive\n",
        "drive.mount('/content/drive')"
      ],
      "execution_count": null,
      "outputs": [
        {
          "output_type": "stream",
          "text": [
            "Mounted at /content/drive\n"
          ],
          "name": "stdout"
        }
      ]
    },
    {
      "cell_type": "code",
      "metadata": {
        "colab": {
          "base_uri": "https://localhost:8080/"
        },
        "id": "rGGD2oDIX0YI",
        "outputId": "58367c10-ea07-42b4-e01b-0a8b52f8ed52"
      },
      "source": [
        "cd '/content/drive/MyDrive/predictSalary'"
      ],
      "execution_count": null,
      "outputs": [
        {
          "output_type": "stream",
          "text": [
            "/content/drive/MyDrive/predictSalary\n"
          ],
          "name": "stdout"
        }
      ]
    },
    {
      "cell_type": "code",
      "metadata": {
        "id": "H8buKTz1X0ac"
      },
      "source": [
        "import numpy as np\n",
        "import pandas as pd\n",
        "import seaborn as sns\n",
        "import tensorflow as tf\n",
        "from tensorflow import keras\n",
        "import os"
      ],
      "execution_count": null,
      "outputs": []
    },
    {
      "cell_type": "markdown",
      "metadata": {
        "id": "TSFj8x-SYmOV"
      },
      "source": [
        "# Loading the data"
      ]
    },
    {
      "cell_type": "code",
      "metadata": {
        "id": "Rl3IH4YDX0dE"
      },
      "source": [
        "salary = pd.read_csv('Salary_Data.csv', sep = ',')"
      ],
      "execution_count": null,
      "outputs": []
    },
    {
      "cell_type": "code",
      "metadata": {
        "colab": {
          "base_uri": "https://localhost:8080/",
          "height": 204
        },
        "id": "TRrroweZX0fq",
        "outputId": "1da10060-5057-4110-d0b3-d2b9c3d11b25"
      },
      "source": [
        "salary.head()"
      ],
      "execution_count": null,
      "outputs": [
        {
          "output_type": "execute_result",
          "data": {
            "text/html": [
              "<div>\n",
              "<style scoped>\n",
              "    .dataframe tbody tr th:only-of-type {\n",
              "        vertical-align: middle;\n",
              "    }\n",
              "\n",
              "    .dataframe tbody tr th {\n",
              "        vertical-align: top;\n",
              "    }\n",
              "\n",
              "    .dataframe thead th {\n",
              "        text-align: right;\n",
              "    }\n",
              "</style>\n",
              "<table border=\"1\" class=\"dataframe\">\n",
              "  <thead>\n",
              "    <tr style=\"text-align: right;\">\n",
              "      <th></th>\n",
              "      <th>YearsExperience</th>\n",
              "      <th>Salary</th>\n",
              "    </tr>\n",
              "  </thead>\n",
              "  <tbody>\n",
              "    <tr>\n",
              "      <th>0</th>\n",
              "      <td>1.1</td>\n",
              "      <td>39343.0</td>\n",
              "    </tr>\n",
              "    <tr>\n",
              "      <th>1</th>\n",
              "      <td>1.3</td>\n",
              "      <td>46205.0</td>\n",
              "    </tr>\n",
              "    <tr>\n",
              "      <th>2</th>\n",
              "      <td>1.5</td>\n",
              "      <td>37731.0</td>\n",
              "    </tr>\n",
              "    <tr>\n",
              "      <th>3</th>\n",
              "      <td>2.0</td>\n",
              "      <td>43525.0</td>\n",
              "    </tr>\n",
              "    <tr>\n",
              "      <th>4</th>\n",
              "      <td>2.2</td>\n",
              "      <td>39891.0</td>\n",
              "    </tr>\n",
              "  </tbody>\n",
              "</table>\n",
              "</div>"
            ],
            "text/plain": [
              "   YearsExperience   Salary\n",
              "0              1.1  39343.0\n",
              "1              1.3  46205.0\n",
              "2              1.5  37731.0\n",
              "3              2.0  43525.0\n",
              "4              2.2  39891.0"
            ]
          },
          "metadata": {
            "tags": []
          },
          "execution_count": 5
        }
      ]
    },
    {
      "cell_type": "code",
      "metadata": {
        "colab": {
          "base_uri": "https://localhost:8080/"
        },
        "id": "_WfmzgdvX0ik",
        "outputId": "2ae9df8c-cd5b-44f3-9efb-7d72f8207c0a"
      },
      "source": [
        "salary.shape"
      ],
      "execution_count": null,
      "outputs": [
        {
          "output_type": "execute_result",
          "data": {
            "text/plain": [
              "(30, 2)"
            ]
          },
          "metadata": {
            "tags": []
          },
          "execution_count": 6
        }
      ]
    },
    {
      "cell_type": "markdown",
      "metadata": {
        "id": "yd8906lwaYDy"
      },
      "source": [
        "Check for any **null** values."
      ]
    },
    {
      "cell_type": "code",
      "metadata": {
        "colab": {
          "base_uri": "https://localhost:8080/"
        },
        "id": "H235fCYVae1w",
        "outputId": "8698ccab-e8f9-4c10-93d4-a17f3eadcd16"
      },
      "source": [
        "salary.isnull().sum()"
      ],
      "execution_count": null,
      "outputs": [
        {
          "output_type": "execute_result",
          "data": {
            "text/plain": [
              "YearsExperience    0\n",
              "Salary             0\n",
              "dtype: int64"
            ]
          },
          "metadata": {
            "tags": []
          },
          "execution_count": 12
        }
      ]
    },
    {
      "cell_type": "markdown",
      "metadata": {
        "id": "kgV-i3v_Z5AV"
      },
      "source": [
        "Check if there are any **duplicated rows**"
      ]
    },
    {
      "cell_type": "code",
      "metadata": {
        "colab": {
          "base_uri": "https://localhost:8080/",
          "height": 49
        },
        "id": "_SKK9hhjX0lZ",
        "outputId": "a3d7c4dc-3df9-4e75-d8ae-374c0803b316"
      },
      "source": [
        "salary[salary.duplicated()]"
      ],
      "execution_count": null,
      "outputs": [
        {
          "output_type": "execute_result",
          "data": {
            "text/html": [
              "<div>\n",
              "<style scoped>\n",
              "    .dataframe tbody tr th:only-of-type {\n",
              "        vertical-align: middle;\n",
              "    }\n",
              "\n",
              "    .dataframe tbody tr th {\n",
              "        vertical-align: top;\n",
              "    }\n",
              "\n",
              "    .dataframe thead th {\n",
              "        text-align: right;\n",
              "    }\n",
              "</style>\n",
              "<table border=\"1\" class=\"dataframe\">\n",
              "  <thead>\n",
              "    <tr style=\"text-align: right;\">\n",
              "      <th></th>\n",
              "      <th>YearsExperience</th>\n",
              "      <th>Salary</th>\n",
              "    </tr>\n",
              "  </thead>\n",
              "  <tbody>\n",
              "  </tbody>\n",
              "</table>\n",
              "</div>"
            ],
            "text/plain": [
              "Empty DataFrame\n",
              "Columns: [YearsExperience, Salary]\n",
              "Index: []"
            ]
          },
          "metadata": {
            "tags": []
          },
          "execution_count": 7
        }
      ]
    },
    {
      "cell_type": "markdown",
      "metadata": {
        "id": "BJ-WPI4vaKsA"
      },
      "source": [
        "Aah! no duplicated and no null values."
      ]
    },
    {
      "cell_type": "markdown",
      "metadata": {
        "id": "m5lTu9VBbMeT"
      },
      "source": [
        "**Correlation** is used to describe the linear relationship between two continuous variables.\n",
        "1. **Strong** Correlation: If values range from 0.5 to 1\n",
        "2. **Weak** Correlation: If values range from 0 to 0.5\n",
        "\n",
        "Correlation values range from -1 to 1. \n",
        "\n",
        "A **positive** correlation means that if one variable gets bigger, the other variable tends to get bigger. A **negative** correlation means that if one variable gets bigger, the other variable tends to get smaller.\n",
        "\n",
        "Finding the correlation between the features in the dataset"
      ]
    },
    {
      "cell_type": "code",
      "metadata": {
        "colab": {
          "base_uri": "https://localhost:8080/",
          "height": 111
        },
        "id": "ek9MQyXJX0oQ",
        "outputId": "fd83a770-add1-44ab-c4b3-76718d43b995"
      },
      "source": [
        "salary.corr()"
      ],
      "execution_count": null,
      "outputs": [
        {
          "output_type": "execute_result",
          "data": {
            "text/html": [
              "<div>\n",
              "<style scoped>\n",
              "    .dataframe tbody tr th:only-of-type {\n",
              "        vertical-align: middle;\n",
              "    }\n",
              "\n",
              "    .dataframe tbody tr th {\n",
              "        vertical-align: top;\n",
              "    }\n",
              "\n",
              "    .dataframe thead th {\n",
              "        text-align: right;\n",
              "    }\n",
              "</style>\n",
              "<table border=\"1\" class=\"dataframe\">\n",
              "  <thead>\n",
              "    <tr style=\"text-align: right;\">\n",
              "      <th></th>\n",
              "      <th>YearsExperience</th>\n",
              "      <th>Salary</th>\n",
              "    </tr>\n",
              "  </thead>\n",
              "  <tbody>\n",
              "    <tr>\n",
              "      <th>YearsExperience</th>\n",
              "      <td>1.000000</td>\n",
              "      <td>0.978242</td>\n",
              "    </tr>\n",
              "    <tr>\n",
              "      <th>Salary</th>\n",
              "      <td>0.978242</td>\n",
              "      <td>1.000000</td>\n",
              "    </tr>\n",
              "  </tbody>\n",
              "</table>\n",
              "</div>"
            ],
            "text/plain": [
              "                 YearsExperience    Salary\n",
              "YearsExperience         1.000000  0.978242\n",
              "Salary                  0.978242  1.000000"
            ]
          },
          "metadata": {
            "tags": []
          },
          "execution_count": 13
        }
      ]
    },
    {
      "cell_type": "markdown",
      "metadata": {
        "id": "M_em7acZdC2s"
      },
      "source": [
        "# Data Visualization"
      ]
    },
    {
      "cell_type": "code",
      "metadata": {
        "colab": {
          "base_uri": "https://localhost:8080/",
          "height": 157
        },
        "id": "u4aWohiKX0rD",
        "outputId": "c9c92812-5508-48d9-d9d1-f25695b683b4"
      },
      "source": [
        "import seaborn as sns\n",
        "sns.palplot(sns.color_palette('BuPu')) #Blue to Purple colors\n",
        "pal = sns.color_palette('BuPu', 7) #print 7 color shades from Blue to Purple\n",
        "pal.as_hex() #set hex code values for colors\n",
        "\n",
        "import matplotlib.pyplot as plt\n",
        "plt.style.use(['seaborn'])\n",
        "sns_colors = ['#00008B', '#800080'] #Blue Purple hex codes\n",
        "sns.set_palette(sns_colors) #set the palette as sns_colors \n",
        "sns.palplot(sns.color_palette(sns_colors)) #plot the color codes"
      ],
      "execution_count": null,
      "outputs": [
        {
          "output_type": "display_data",
          "data": {
            "image/png": "[encoded data removed]",
            "text/plain": [
              "<Figure size 432x72 with 1 Axes>"
            ]
          },
          "metadata": {
            "tags": [],
            "needs_background": "light"
          }
        },
        {
          "output_type": "display_data",
          "data": {
            "image/png": "[encoded data removed]",
            "text/plain": [
              "<Figure size 144x72 with 1 Axes>"
            ]
          },
          "metadata": {
            "tags": []
          }
        }
      ]
    },
    {
      "cell_type": "markdown",
      "metadata": {
        "id": "2A2nrkh5dQ_d"
      },
      "source": [
        "**Scatterplot**"
      ]
    },
    {
      "cell_type": "code",
      "metadata": {
        "id": "YAGvVyueg7vc"
      },
      "source": [
        "font = {'family': 'DejaVu Sans',\n",
        "        'color': 'purple',\n",
        "        'size': 18,\n",
        "        }"
      ],
      "execution_count": null,
      "outputs": []
    },
    {
      "cell_type": "code",
      "metadata": {
        "colab": {
          "base_uri": "https://localhost:8080/",
          "height": 406
        },
        "id": "Tzw34oNjX0t4",
        "outputId": "3bab0490-0818-4567-ed08-ec3b1c40e2f3"
      },
      "source": [
        "plt.scatter(salary['YearsExperience'], salary['Salary'], color = 'maroon')\n",
        "plt.title('Experience vs Salary', fontdict = font)\n",
        "plt.xlabel('YearsExperience', fontdict = font)\n",
        "plt.ylabel('Salary', fontdict = font)\n",
        "plt.figure(figsize=(50,50))\n",
        "plt.show()"
      ],
      "execution_count": null,
      "outputs": [
        {
          "output_type": "display_data",
          "data": {
            "image/png": "[encoded data removed]",
            "text/plain": [
              "<Figure size 576x396 with 1 Axes>"
            ]
          },
          "metadata": {
            "tags": []
          }
        },
        {
          "output_type": "display_data",
          "data": {
            "text/plain": [
              "<Figure size 3600x3600 with 0 Axes>"
            ]
          },
          "metadata": {
            "tags": []
          }
        }
      ]
    },
    {
      "cell_type": "markdown",
      "metadata": {
        "id": "VDwcxUpRdyMv"
      },
      "source": [
        "**Stripplot**"
      ]
    },
    {
      "cell_type": "code",
      "metadata": {
        "colab": {
          "base_uri": "https://localhost:8080/",
          "height": 378
        },
        "id": "u5rQjHgydykS",
        "outputId": "9fe9bdd9-18e9-4acc-c43f-2b7fb82a9fdf"
      },
      "source": [
        "sns.stripplot(x='YearsExperience', y = 'Salary', data = salary)"
      ],
      "execution_count": null,
      "outputs": [
        {
          "output_type": "execute_result",
          "data": {
            "text/plain": [
              "<matplotlib.axes._subplots.AxesSubplot at 0x7f538295c150>"
            ]
          },
          "metadata": {
            "tags": []
          },
          "execution_count": 39
        },
        {
          "output_type": "display_data",
          "data": {
            "image/png": "[encoded data removed]",
            "text/plain": [
              "<Figure size 576x396 with 1 Axes>"
            ]
          },
          "metadata": {
            "tags": []
          }
        }
      ]
    },
    {
      "cell_type": "markdown",
      "metadata": {
        "id": "G5x2Dw6GiPtn"
      },
      "source": [
        "**Pairplots**"
      ]
    },
    {
      "cell_type": "code",
      "metadata": {
        "colab": {
          "base_uri": "https://localhost:8080/",
          "height": 391
        },
        "id": "GY-O_LcKX0zp",
        "outputId": "c5f16147-f1e7-4c04-a2ec-4178216fe687"
      },
      "source": [
        "sns.pairplot(x_vars=['YearsExperience', 'Salary'], y_vars=['YearsExperience', 'Salary'], data=salary, diag_kind = 'kde')"
      ],
      "execution_count": null,
      "outputs": [
        {
          "output_type": "execute_result",
          "data": {
            "text/plain": [
              "<seaborn.axisgrid.PairGrid at 0x7f5384dd9190>"
            ]
          },
          "metadata": {
            "tags": []
          },
          "execution_count": 33
        },
        {
          "output_type": "display_data",
          "data": {
            "image/png": "[encoded data removed]",
            "text/plain": [
              "<Figure size 360x360 with 6 Axes>"
            ]
          },
          "metadata": {
            "tags": []
          }
        }
      ]
    },
    {
      "cell_type": "markdown",
      "metadata": {
        "id": "pgLlGgqFtvXD"
      },
      "source": [
        "**Heatmap**"
      ]
    },
    {
      "cell_type": "code",
      "metadata": {
        "colab": {
          "base_uri": "https://localhost:8080/",
          "height": 368
        },
        "id": "LRgCt3BVtjVM",
        "outputId": "26ed3e6e-cbb6-489d-b6d4-e9b54d3b3ee9"
      },
      "source": [
        "sns.heatmap(salary.corr(),annot=True,cmap=\"PuBu\")"
      ],
      "execution_count": null,
      "outputs": [
        {
          "output_type": "execute_result",
          "data": {
            "text/plain": [
              "<matplotlib.axes._subplots.AxesSubplot at 0x7f537f460c50>"
            ]
          },
          "metadata": {
            "tags": []
          },
          "execution_count": 52
        },
        {
          "output_type": "display_data",
          "data": {
            "image/png": "[encoded data removed]",
            "text/plain": [
              "<Figure size 576x396 with 2 Axes>"
            ]
          },
          "metadata": {
            "tags": []
          }
        }
      ]
    },
    {
      "cell_type": "markdown",
      "metadata": {
        "id": "y2KKyShqlAL9"
      },
      "source": [
        "# Model Generation"
      ]
    },
    {
      "cell_type": "markdown",
      "metadata": {
        "id": "4JusKvX5lcKf"
      },
      "source": [
        "Split the Data in 70:30"
      ]
    },
    {
      "cell_type": "code",
      "metadata": {
        "colab": {
          "base_uri": "https://localhost:8080/"
        },
        "id": "XwcL_18AX02i",
        "outputId": "b23a4314-bba0-461c-8086-3370523e01f2"
      },
      "source": [
        "trainSet = salary.sample(frac=0.7, random_state=0)\n",
        "testSet = salary.drop(trainSet.index)\n",
        "\n",
        "print(trainSet.shape)\n",
        "print(testSet.shape)"
      ],
      "execution_count": null,
      "outputs": [
        {
          "output_type": "stream",
          "text": [
            "(21, 2)\n",
            "(9, 2)\n"
          ],
          "name": "stdout"
        }
      ]
    },
    {
      "cell_type": "code",
      "metadata": {
        "id": "KVFzD1xvX05c"
      },
      "source": [
        "trainFeatures = trainSet.copy()\n",
        "testFeatures = testSet.copy()"
      ],
      "execution_count": null,
      "outputs": []
    },
    {
      "cell_type": "code",
      "metadata": {
        "id": "S4aUjk_jX09l"
      },
      "source": [
        "trainLabels = trainFeatures.pop('Salary')\n",
        "testLabels = testFeatures.pop('Salary')"
      ],
      "execution_count": null,
      "outputs": []
    },
    {
      "cell_type": "markdown",
      "metadata": {
        "id": "hv5sv-aGm_D_"
      },
      "source": [
        "***Linear Regression***"
      ]
    },
    {
      "cell_type": "code",
      "metadata": {
        "colab": {
          "base_uri": "https://localhost:8080/"
        },
        "id": "i3hMw-rlX1Zr",
        "outputId": "7f9668d3-f07b-4a47-f456-c9b13fc177c4"
      },
      "source": [
        "from sklearn.linear_model import LinearRegression\n",
        "reg = LinearRegression()\n",
        "reg.fit(trainFeatures, trainLabels)"
      ],
      "execution_count": null,
      "outputs": [
        {
          "output_type": "execute_result",
          "data": {
            "text/plain": [
              "LinearRegression(copy_X=True, fit_intercept=True, n_jobs=None, normalize=False)"
            ]
          },
          "metadata": {
            "tags": []
          },
          "execution_count": 44
        }
      ]
    },
    {
      "cell_type": "code",
      "metadata": {
        "colab": {
          "base_uri": "https://localhost:8080/"
        },
        "id": "Dwh-XZxOX1bR",
        "outputId": "244d55ff-02e0-44bc-fdf4-eaab4715de3d"
      },
      "source": [
        "salaryPredicted = reg.predict(testFeatures)\n",
        "print(salaryPredicted)"
      ],
      "execution_count": null,
      "outputs": [
        {
          "output_type": "stream",
          "text": [
            "[ 36531.86970666  44991.00782359  56269.85864618  60969.37982225\n",
            "  63789.0925279   72248.23064484  82587.17723221  92926.12381958\n",
            " 110784.30428867]\n"
          ],
          "name": "stdout"
        }
      ]
    },
    {
      "cell_type": "markdown",
      "metadata": {
        "id": "2e6MUQxDrXsu"
      },
      "source": [
        "Compare **Actual** vs **Predicted** values"
      ]
    },
    {
      "cell_type": "code",
      "metadata": {
        "colab": {
          "base_uri": "https://localhost:8080/",
          "height": 328
        },
        "id": "7BhIr5LZrVOv",
        "outputId": "008e8faa-46f4-4790-d6f7-da8f44a46d5e"
      },
      "source": [
        "compare = pd.DataFrame({\"actual_Salary\": testLabels, \"predicted_Salary\": salaryPredicted})\n",
        "compare"
      ],
      "execution_count": null,
      "outputs": [
        {
          "output_type": "execute_result",
          "data": {
            "text/html": [
              "<div>\n",
              "<style scoped>\n",
              "    .dataframe tbody tr th:only-of-type {\n",
              "        vertical-align: middle;\n",
              "    }\n",
              "\n",
              "    .dataframe tbody tr th {\n",
              "        vertical-align: top;\n",
              "    }\n",
              "\n",
              "    .dataframe thead th {\n",
              "        text-align: right;\n",
              "    }\n",
              "</style>\n",
              "<table border=\"1\" class=\"dataframe\">\n",
              "  <thead>\n",
              "    <tr style=\"text-align: right;\">\n",
              "      <th></th>\n",
              "      <th>actual_Salary</th>\n",
              "      <th>predicted_Salary</th>\n",
              "    </tr>\n",
              "  </thead>\n",
              "  <tbody>\n",
              "    <tr>\n",
              "      <th>0</th>\n",
              "      <td>39343.0</td>\n",
              "      <td>36531.869707</td>\n",
              "    </tr>\n",
              "    <tr>\n",
              "      <th>3</th>\n",
              "      <td>43525.0</td>\n",
              "      <td>44991.007824</td>\n",
              "    </tr>\n",
              "    <tr>\n",
              "      <th>7</th>\n",
              "      <td>54445.0</td>\n",
              "      <td>56269.858646</td>\n",
              "    </tr>\n",
              "    <tr>\n",
              "      <th>9</th>\n",
              "      <td>57189.0</td>\n",
              "      <td>60969.379822</td>\n",
              "    </tr>\n",
              "    <tr>\n",
              "      <th>12</th>\n",
              "      <td>56957.0</td>\n",
              "      <td>63789.092528</td>\n",
              "    </tr>\n",
              "    <tr>\n",
              "      <th>15</th>\n",
              "      <td>67938.0</td>\n",
              "      <td>72248.230645</td>\n",
              "    </tr>\n",
              "    <tr>\n",
              "      <th>19</th>\n",
              "      <td>93940.0</td>\n",
              "      <td>82587.177232</td>\n",
              "    </tr>\n",
              "    <tr>\n",
              "      <th>21</th>\n",
              "      <td>98273.0</td>\n",
              "      <td>92926.123820</td>\n",
              "    </tr>\n",
              "    <tr>\n",
              "      <th>25</th>\n",
              "      <td>105582.0</td>\n",
              "      <td>110784.304289</td>\n",
              "    </tr>\n",
              "  </tbody>\n",
              "</table>\n",
              "</div>"
            ],
            "text/plain": [
              "    actual_Salary  predicted_Salary\n",
              "0         39343.0      36531.869707\n",
              "3         43525.0      44991.007824\n",
              "7         54445.0      56269.858646\n",
              "9         57189.0      60969.379822\n",
              "12        56957.0      63789.092528\n",
              "15        67938.0      72248.230645\n",
              "19        93940.0      82587.177232\n",
              "21        98273.0      92926.123820\n",
              "25       105582.0     110784.304289"
            ]
          },
          "metadata": {
            "tags": []
          },
          "execution_count": 50
        }
      ]
    },
    {
      "cell_type": "markdown",
      "metadata": {
        "id": "6QVTyWGWo--2"
      },
      "source": [
        "***Visualize the train set***"
      ]
    },
    {
      "cell_type": "code",
      "metadata": {
        "colab": {
          "base_uri": "https://localhost:8080/",
          "height": 376
        },
        "id": "mWgjPut3X1fZ",
        "outputId": "e3cf661b-1ee5-46c2-87ff-da3e6fe09533"
      },
      "source": [
        "plt.grid(False)\n",
        "plt.scatter(trainFeatures, trainLabels, color = 'purple')\n",
        "plt.plot(trainFeatures, reg.predict(trainFeatures), color = 'blue')\n",
        "plt.title('Experience vs Salary - Trainset')\n",
        "plt.xlabel('Experience')\n",
        "plt.ylabel('Salary')\n",
        "plt.show()"
      ],
      "execution_count": null,
      "outputs": [
        {
          "output_type": "display_data",
          "data": {
            "image/png": "[encoded data removed]",
            "text/plain": [
              "<Figure size 576x396 with 1 Axes>"
            ]
          },
          "metadata": {
            "tags": []
          }
        }
      ]
    },
    {
      "cell_type": "markdown",
      "metadata": {
        "id": "ujn9loLgpLbZ"
      },
      "source": [
        "***Visualize the test results***"
      ]
    },
    {
      "cell_type": "code",
      "metadata": {
        "colab": {
          "base_uri": "https://localhost:8080/",
          "height": 376
        },
        "id": "BnNf88hjoUCa",
        "outputId": "7ada780f-3636-48b2-94f6-3fc659712c43"
      },
      "source": [
        "plt.grid(True)\n",
        "plt.scatter(testFeatures, testLabels, color = 'purple')\n",
        "plt.plot(trainFeatures, reg.predict(trainFeatures), color = 'blue')\n",
        "plt.title('Experience vs Salary - Testset')\n",
        "plt.xlabel('Experience')\n",
        "plt.ylabel('Salary')\n",
        "plt.show()"
      ],
      "execution_count": null,
      "outputs": [
        {
          "output_type": "display_data",
          "data": {
            "image/png": "[encoded data removed]",
            "text/plain": [
              "<Figure size 576x396 with 1 Axes>"
            ]
          },
          "metadata": {
            "tags": []
          }
        }
      ]
    },
    {
      "cell_type": "markdown",
      "metadata": {
        "id": "4vLr1BOWrKmb"
      },
      "source": [
        "# Accuracy"
      ]
    },
    {
      "cell_type": "code",
      "metadata": {
        "colab": {
          "base_uri": "https://localhost:8080/"
        },
        "id": "gTVplcq5oUFH",
        "outputId": "d4cf15ec-f446-4759-c2c6-2d1371945d8b"
      },
      "source": [
        "train = reg.score(trainFeatures, trainLabels)\n",
        "print(\"Train Accuracy =\", train * 100)\n",
        "test = reg.score(testFeatures, testLabels)\n",
        "print(\"Test Accuracy =\", test * 100)"
      ],
      "execution_count": null,
      "outputs": [
        {
          "output_type": "stream",
          "text": [
            "Train Accuracy = 95.92613367108218\n",
            "Test Accuracy = 94.26904004416457\n"
          ],
          "name": "stdout"
        }
      ]
    },
    {
      "cell_type": "markdown",
      "metadata": {
        "id": "hBvL_KNfvzHQ"
      },
      "source": [
        "***Calculate the metrics***"
      ]
    },
    {
      "cell_type": "code",
      "metadata": {
        "colab": {
          "base_uri": "https://localhost:8080/"
        },
        "id": "sH_Ujq3EoUH9",
        "outputId": "fc51c1c9-f5a9-4975-a028-3888193bd51a"
      },
      "source": [
        "from sklearn import metrics\n",
        "print(\"Mean Squared Error:\",metrics.mean_squared_error(testLabels, salaryPredicted))\n",
        "print(\"Mean Absolute Error:\",metrics.mean_absolute_error(testLabels, salaryPredicted))\n",
        "print(\"R squared value:\", reg.score(testFeatures, testLabels))"
      ],
      "execution_count": 69,
      "outputs": [
        {
          "output_type": "stream",
          "text": [
            "Mean Squared Error: 30829803.25145799\n",
            "Mean Absolute Error: 4769.633666110542\n",
            "R squared value: 0.9426904004416458\n"
          ],
          "name": "stdout"
        }
      ]
    },
    {
      "cell_type": "code",
      "metadata": {
        "colab": {
          "base_uri": "https://localhost:8080/"
        },
        "id": "cVJKLD6N1PO6",
        "outputId": "02b7f3b3-7728-41a4-8fe9-5c68904c6d52"
      },
      "source": [
        "print(\"Intercept of the model:\", reg.intercept_)\n",
        "print(\"Slope of the line that fits the model:\", reg.coef_)"
      ],
      "execution_count": 71,
      "outputs": [
        {
          "output_type": "stream",
          "text": [
            "Intercept of the model: 26192.923119286876\n",
            "Slope of the line that fits the model: [9399.04235215]\n"
          ],
          "name": "stdout"
        }
      ]
    },
    {
      "cell_type": "markdown",
      "metadata": {
        "id": "bulrLuyn2MUl"
      },
      "source": [
        "**Linear Regression is all about finding the best hyperplane that best fits the given data.**\n",
        "\n",
        "The agenda of Linear Regression is accomplished.\n"
      ]
    },
    {
      "cell_type": "markdown",
      "metadata": {
        "id": "3IjYNdan1zhi"
      },
      "source": [
        "Hence, the best line that fits the model is ***y = 9399.04x + 26192.92***"
      ]
    }
  ]
}